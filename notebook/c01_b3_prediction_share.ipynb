{
 "cells": [
  {
   "cell_type": "markdown",
   "id": "abce84e2",
   "metadata": {
    "ExecuteTime": {
     "end_time": "2022-03-16T14:23:34.314779Z",
     "start_time": "2022-03-16T14:23:34.311226Z"
    }
   },
   "source": [
    "# 1.0 Import"
   ]
  },
  {
   "cell_type": "code",
   "execution_count": 12,
   "id": "412b5e43",
   "metadata": {
    "ExecuteTime": {
     "end_time": "2022-03-16T15:38:26.738800Z",
     "start_time": "2022-03-16T15:38:26.618494Z"
    }
   },
   "outputs": [],
   "source": [
    "#importando as bibliotecas\n",
    "import pandas as pd\n",
    "from sklearn.feature_selection import SelectKBest\n",
    "from sklearn.model_selection import GridSearchCV\n",
    "from sklearn.neural_network import MLPRegressor\n",
    "from sklearn.preprocessing import MinMaxScaler\n",
    "from sklearn import datasets, linear_model\n",
    "from sklearn.metrics import mean_squared_error, r2_score\n",
    "import matplotlib.pyplot as plt\n",
    "%matplotlib inline"
   ]
  },
  {
   "cell_type": "markdown",
   "id": "79b0c589",
   "metadata": {},
   "source": [
    "## Load DataSet"
   ]
  },
  {
   "cell_type": "code",
   "execution_count": 14,
   "id": "2dfb7345",
   "metadata": {
    "ExecuteTime": {
     "end_time": "2022-03-16T15:38:34.830928Z",
     "start_time": "2022-03-16T15:38:34.154405Z"
    }
   },
   "outputs": [],
   "source": [
    "df = pd.read_csv('../data/b3_bovespa.csv')"
   ]
  },
  {
   "cell_type": "markdown",
   "id": "fbd5f401",
   "metadata": {},
   "source": [
    "# Select only one share to predict"
   ]
  },
  {
   "cell_type": "code",
   "execution_count": 15,
   "id": "c4e8480a",
   "metadata": {
    "ExecuteTime": {
     "end_time": "2022-03-16T15:38:37.333325Z",
     "start_time": "2022-03-16T15:38:37.273122Z"
    }
   },
   "outputs": [],
   "source": [
    "# Filter share_data\n",
    "df_itau = df[df['sigla_acao']=='ITUB4']"
   ]
  },
  {
   "cell_type": "code",
   "execution_count": 16,
   "id": "c038fb4a",
   "metadata": {
    "ExecuteTime": {
     "end_time": "2022-03-16T15:38:38.416298Z",
     "start_time": "2022-03-16T15:38:38.401581Z"
    }
   },
   "outputs": [
    {
     "data": {
      "text/plain": [
       "Index(['data_pregao', 'sigla_acao', 'nome_acao', 'preco_abertura',\n",
       "       'preco_maximo', 'preco_minimo', 'preco_fechamento', 'qtd_negocios',\n",
       "       'volume_negocios'],\n",
       "      dtype='object')"
      ]
     },
     "execution_count": 16,
     "metadata": {},
     "output_type": "execute_result"
    }
   ],
   "source": [
    "df_itau.columns"
   ]
  },
  {
   "cell_type": "code",
   "execution_count": 17,
   "id": "8c89a29e",
   "metadata": {
    "ExecuteTime": {
     "end_time": "2022-03-16T15:38:49.715898Z",
     "start_time": "2022-03-16T15:38:49.686909Z"
    }
   },
   "outputs": [
    {
     "data": {
      "text/html": [
       "<div>\n",
       "<style scoped>\n",
       "    .dataframe tbody tr th:only-of-type {\n",
       "        vertical-align: middle;\n",
       "    }\n",
       "\n",
       "    .dataframe tbody tr th {\n",
       "        vertical-align: top;\n",
       "    }\n",
       "\n",
       "    .dataframe thead th {\n",
       "        text-align: right;\n",
       "    }\n",
       "</style>\n",
       "<table border=\"1\" class=\"dataframe\">\n",
       "  <thead>\n",
       "    <tr style=\"text-align: right;\">\n",
       "      <th></th>\n",
       "      <th>data_pregao</th>\n",
       "      <th>sigla_acao</th>\n",
       "      <th>nome_acao</th>\n",
       "      <th>preco_abertura</th>\n",
       "      <th>preco_maximo</th>\n",
       "      <th>preco_minimo</th>\n",
       "      <th>preco_fechamento</th>\n",
       "      <th>qtd_negocios</th>\n",
       "      <th>volume_negocios</th>\n",
       "    </tr>\n",
       "  </thead>\n",
       "  <tbody>\n",
       "    <tr>\n",
       "      <th>197</th>\n",
       "      <td>2019-01-02</td>\n",
       "      <td>ITUB4</td>\n",
       "      <td>ITAUUNIBANCO</td>\n",
       "      <td>35.44</td>\n",
       "      <td>37.14</td>\n",
       "      <td>35.35</td>\n",
       "      <td>37.00</td>\n",
       "      <td>25581700</td>\n",
       "      <td>9</td>\n",
       "    </tr>\n",
       "    <tr>\n",
       "      <th>553</th>\n",
       "      <td>2019-01-03</td>\n",
       "      <td>ITUB4</td>\n",
       "      <td>ITAUUNIBANCO</td>\n",
       "      <td>36.75</td>\n",
       "      <td>37.61</td>\n",
       "      <td>36.45</td>\n",
       "      <td>37.61</td>\n",
       "      <td>21938600</td>\n",
       "      <td>8</td>\n",
       "    </tr>\n",
       "    <tr>\n",
       "      <th>901</th>\n",
       "      <td>2019-01-04</td>\n",
       "      <td>ITUB4</td>\n",
       "      <td>ITAUUNIBANCO</td>\n",
       "      <td>37.22</td>\n",
       "      <td>37.71</td>\n",
       "      <td>36.75</td>\n",
       "      <td>36.98</td>\n",
       "      <td>24873500</td>\n",
       "      <td>9</td>\n",
       "    </tr>\n",
       "    <tr>\n",
       "      <th>1250</th>\n",
       "      <td>2019-01-07</td>\n",
       "      <td>ITUB4</td>\n",
       "      <td>ITAUUNIBANCO</td>\n",
       "      <td>36.80</td>\n",
       "      <td>37.50</td>\n",
       "      <td>36.75</td>\n",
       "      <td>37.05</td>\n",
       "      <td>16901100</td>\n",
       "      <td>6</td>\n",
       "    </tr>\n",
       "    <tr>\n",
       "      <th>1617</th>\n",
       "      <td>2019-01-08</td>\n",
       "      <td>ITUB4</td>\n",
       "      <td>ITAUUNIBANCO</td>\n",
       "      <td>37.18</td>\n",
       "      <td>37.57</td>\n",
       "      <td>36.56</td>\n",
       "      <td>37.52</td>\n",
       "      <td>19556300</td>\n",
       "      <td>7</td>\n",
       "    </tr>\n",
       "  </tbody>\n",
       "</table>\n",
       "</div>"
      ],
      "text/plain": [
       "     data_pregao sigla_acao     nome_acao  preco_abertura  preco_maximo  \\\n",
       "197   2019-01-02      ITUB4  ITAUUNIBANCO           35.44         37.14   \n",
       "553   2019-01-03      ITUB4  ITAUUNIBANCO           36.75         37.61   \n",
       "901   2019-01-04      ITUB4  ITAUUNIBANCO           37.22         37.71   \n",
       "1250  2019-01-07      ITUB4  ITAUUNIBANCO           36.80         37.50   \n",
       "1617  2019-01-08      ITUB4  ITAUUNIBANCO           37.18         37.57   \n",
       "\n",
       "      preco_minimo  preco_fechamento  qtd_negocios  volume_negocios  \n",
       "197          35.35             37.00      25581700                9  \n",
       "553          36.45             37.61      21938600                8  \n",
       "901          36.75             36.98      24873500                9  \n",
       "1250         36.75             37.05      16901100                6  \n",
       "1617         36.56             37.52      19556300                7  "
      ]
     },
     "execution_count": 17,
     "metadata": {},
     "output_type": "execute_result"
    }
   ],
   "source": [
    "df_itau.head()"
   ]
  },
  {
   "cell_type": "code",
   "execution_count": null,
   "id": "71a1c160",
   "metadata": {},
   "outputs": [],
   "source": []
  },
  {
   "cell_type": "code",
   "execution_count": null,
   "id": "b08cb8dd",
   "metadata": {},
   "outputs": [],
   "source": []
  }
 ],
 "metadata": {
  "hide_input": false,
  "kernelspec": {
   "display_name": "Python 3 (ipykernel)",
   "language": "python",
   "name": "python3"
  },
  "language_info": {
   "codemirror_mode": {
    "name": "ipython",
    "version": 3
   },
   "file_extension": ".py",
   "mimetype": "text/x-python",
   "name": "python",
   "nbconvert_exporter": "python",
   "pygments_lexer": "ipython3",
   "version": "3.8.10"
  },
  "nbTranslate": {
   "displayLangs": [
    "*"
   ],
   "hotkey": "alt-t",
   "langInMainMenu": true,
   "sourceLang": "en",
   "targetLang": "fr",
   "useGoogleTranslate": true
  }
 },
 "nbformat": 4,
 "nbformat_minor": 5
}
