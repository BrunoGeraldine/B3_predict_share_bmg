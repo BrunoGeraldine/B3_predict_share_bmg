{
 "cells": [
  {
   "cell_type": "markdown",
   "id": "abce84e2",
   "metadata": {
    "ExecuteTime": {
     "end_time": "2022-03-16T14:23:34.314779Z",
     "start_time": "2022-03-16T14:23:34.311226Z"
    }
   },
   "source": [
    "# 1.0 Import"
   ]
  },
  {
   "cell_type": "code",
   "execution_count": 1,
   "id": "412b5e43",
   "metadata": {
    "ExecuteTime": {
     "end_time": "2022-03-16T18:57:59.220539Z",
     "start_time": "2022-03-16T18:57:58.420880Z"
    }
   },
   "outputs": [],
   "source": [
    "#Load and edit dataframe\n",
    "import pandas as pd\n",
    "import warnings \n",
    "warnings.filterwarnings( 'ignore' ) \n",
    "\n",
    "# Data Visualization\n",
    "import matplotlib.pyplot as plt\n",
    "%matplotlib inline\n",
    "\n",
    "# Select Variables\n",
    "from sklearn.feature_selection import SelectKBest\n",
    "\n",
    "# ML - Algoritms\n",
    "from sklearn.model_selection   import GridSearchCV\n",
    "from sklearn.neural_network    import MLPRegressor\n",
    "from sklearn.preprocessing     import MinMaxScaler\n",
    "from sklearn                   import datasets, linear_model\n",
    "\n",
    "# Metric\n",
    "from sklearn.metrics           import mean_squared_error, r2_score\n"
   ]
  },
  {
   "cell_type": "markdown",
   "id": "9a0cbaa9",
   "metadata": {},
   "source": [
    "## Load DataSet"
   ]
  },
  {
   "cell_type": "code",
   "execution_count": 2,
   "id": "2dfb7345",
   "metadata": {
    "ExecuteTime": {
     "end_time": "2022-03-16T18:58:00.592437Z",
     "start_time": "2022-03-16T18:58:00.338709Z"
    }
   },
   "outputs": [],
   "source": [
    "df = pd.read_csv('../data/b3_bovespa.csv')"
   ]
  },
  {
   "cell_type": "code",
   "execution_count": 3,
   "id": "047ffb4a",
   "metadata": {
    "ExecuteTime": {
     "end_time": "2022-03-16T18:58:01.142679Z",
     "start_time": "2022-03-16T18:58:01.131442Z"
    }
   },
   "outputs": [],
   "source": [
    "df1 = df.copy()"
   ]
  },
  {
   "cell_type": "markdown",
   "id": "78ae7dc2",
   "metadata": {},
   "source": [
    "# Select only one share to predict"
   ]
  },
  {
   "cell_type": "code",
   "execution_count": 4,
   "id": "c4e8480a",
   "metadata": {
    "ExecuteTime": {
     "end_time": "2022-03-16T18:58:02.057567Z",
     "start_time": "2022-03-16T18:58:02.031905Z"
    }
   },
   "outputs": [],
   "source": [
    "# Filter share_data\n",
    "df_itau = df1[df1['sigla_acao']=='ITUB4']"
   ]
  },
  {
   "cell_type": "markdown",
   "id": "bd97ec11",
   "metadata": {},
   "source": [
    "# Data transformation"
   ]
  },
  {
   "cell_type": "code",
   "execution_count": 5,
   "id": "b1cb0d01",
   "metadata": {
    "ExecuteTime": {
     "end_time": "2022-03-16T18:58:03.072400Z",
     "start_time": "2022-03-16T18:58:02.987865Z"
    }
   },
   "outputs": [],
   "source": [
    "df_itau['data_pregao'] = pd.to_datetime(df_itau['data_pregao'], format='%Y-%m-%d')"
   ]
  },
  {
   "cell_type": "markdown",
   "id": "e899a6c2",
   "metadata": {},
   "source": [
    "# Feature Engirennering"
   ]
  },
  {
   "cell_type": "code",
   "execution_count": 6,
   "id": "c05cad37",
   "metadata": {
    "ExecuteTime": {
     "end_time": "2022-03-16T18:58:04.339573Z",
     "start_time": "2022-03-16T18:58:04.316363Z"
    }
   },
   "outputs": [],
   "source": [
    "# Average moving \n",
    "df_itau['avg_5d'] = df_itau['preco_fechamento'].rolling(5).mean()\n",
    "#.rolling method is used to provide rolling window calculations and math operations.\n",
    "df_itau['avg_20d'] = df_itau['preco_fechamento'].rolling(20).mean()"
   ]
  },
  {
   "cell_type": "code",
   "execution_count": 7,
   "id": "29bdfd85",
   "metadata": {
    "ExecuteTime": {
     "end_time": "2022-03-16T18:58:05.418548Z",
     "start_time": "2022-03-16T18:58:05.396567Z"
    }
   },
   "outputs": [
    {
     "data": {
      "text/html": [
       "<div>\n",
       "<style scoped>\n",
       "    .dataframe tbody tr th:only-of-type {\n",
       "        vertical-align: middle;\n",
       "    }\n",
       "\n",
       "    .dataframe tbody tr th {\n",
       "        vertical-align: top;\n",
       "    }\n",
       "\n",
       "    .dataframe thead th {\n",
       "        text-align: right;\n",
       "    }\n",
       "</style>\n",
       "<table border=\"1\" class=\"dataframe\">\n",
       "  <thead>\n",
       "    <tr style=\"text-align: right;\">\n",
       "      <th></th>\n",
       "      <th>data_pregao</th>\n",
       "      <th>codbdi</th>\n",
       "      <th>sigla_acao</th>\n",
       "      <th>nome_acao</th>\n",
       "      <th>preco_abertura</th>\n",
       "      <th>preco_maximo</th>\n",
       "      <th>preco_minimo</th>\n",
       "      <th>preco_fechamento</th>\n",
       "      <th>qtd_negocios</th>\n",
       "      <th>volume_negocios</th>\n",
       "      <th>avg_5d</th>\n",
       "      <th>avg_20d</th>\n",
       "    </tr>\n",
       "  </thead>\n",
       "  <tbody>\n",
       "    <tr>\n",
       "      <th>197</th>\n",
       "      <td>2019-01-02</td>\n",
       "      <td>2.0</td>\n",
       "      <td>ITUB4</td>\n",
       "      <td>ITAUUNIBANCO</td>\n",
       "      <td>35.44</td>\n",
       "      <td>37.14</td>\n",
       "      <td>35.35</td>\n",
       "      <td>37.00</td>\n",
       "      <td>25581700</td>\n",
       "      <td>9</td>\n",
       "      <td>NaN</td>\n",
       "      <td>NaN</td>\n",
       "    </tr>\n",
       "    <tr>\n",
       "      <th>553</th>\n",
       "      <td>2019-01-03</td>\n",
       "      <td>2.0</td>\n",
       "      <td>ITUB4</td>\n",
       "      <td>ITAUUNIBANCO</td>\n",
       "      <td>36.75</td>\n",
       "      <td>37.61</td>\n",
       "      <td>36.45</td>\n",
       "      <td>37.61</td>\n",
       "      <td>21938600</td>\n",
       "      <td>8</td>\n",
       "      <td>NaN</td>\n",
       "      <td>NaN</td>\n",
       "    </tr>\n",
       "    <tr>\n",
       "      <th>901</th>\n",
       "      <td>2019-01-04</td>\n",
       "      <td>2.0</td>\n",
       "      <td>ITUB4</td>\n",
       "      <td>ITAUUNIBANCO</td>\n",
       "      <td>37.22</td>\n",
       "      <td>37.71</td>\n",
       "      <td>36.75</td>\n",
       "      <td>36.98</td>\n",
       "      <td>24873500</td>\n",
       "      <td>9</td>\n",
       "      <td>NaN</td>\n",
       "      <td>NaN</td>\n",
       "    </tr>\n",
       "    <tr>\n",
       "      <th>1250</th>\n",
       "      <td>2019-01-07</td>\n",
       "      <td>2.0</td>\n",
       "      <td>ITUB4</td>\n",
       "      <td>ITAUUNIBANCO</td>\n",
       "      <td>36.80</td>\n",
       "      <td>37.50</td>\n",
       "      <td>36.75</td>\n",
       "      <td>37.05</td>\n",
       "      <td>16901100</td>\n",
       "      <td>6</td>\n",
       "      <td>NaN</td>\n",
       "      <td>NaN</td>\n",
       "    </tr>\n",
       "    <tr>\n",
       "      <th>1617</th>\n",
       "      <td>2019-01-08</td>\n",
       "      <td>2.0</td>\n",
       "      <td>ITUB4</td>\n",
       "      <td>ITAUUNIBANCO</td>\n",
       "      <td>37.18</td>\n",
       "      <td>37.57</td>\n",
       "      <td>36.56</td>\n",
       "      <td>37.52</td>\n",
       "      <td>19556300</td>\n",
       "      <td>7</td>\n",
       "      <td>37.232</td>\n",
       "      <td>NaN</td>\n",
       "    </tr>\n",
       "    <tr>\n",
       "      <th>...</th>\n",
       "      <td>...</td>\n",
       "      <td>...</td>\n",
       "      <td>...</td>\n",
       "      <td>...</td>\n",
       "      <td>...</td>\n",
       "      <td>...</td>\n",
       "      <td>...</td>\n",
       "      <td>...</td>\n",
       "      <td>...</td>\n",
       "      <td>...</td>\n",
       "      <td>...</td>\n",
       "      <td>...</td>\n",
       "    </tr>\n",
       "    <tr>\n",
       "      <th>360359</th>\n",
       "      <td>2021-12-23</td>\n",
       "      <td>2.0</td>\n",
       "      <td>ITUB4</td>\n",
       "      <td>ITAUUNIBANCO</td>\n",
       "      <td>21.33</td>\n",
       "      <td>21.57</td>\n",
       "      <td>21.17</td>\n",
       "      <td>21.34</td>\n",
       "      <td>22377000</td>\n",
       "      <td>4</td>\n",
       "      <td>21.258</td>\n",
       "      <td>22.1315</td>\n",
       "    </tr>\n",
       "    <tr>\n",
       "      <th>360360</th>\n",
       "      <td>2021-12-27</td>\n",
       "      <td>2.0</td>\n",
       "      <td>ITUB4</td>\n",
       "      <td>ITAUUNIBANCO</td>\n",
       "      <td>21.48</td>\n",
       "      <td>21.70</td>\n",
       "      <td>21.31</td>\n",
       "      <td>21.56</td>\n",
       "      <td>14025800</td>\n",
       "      <td>3</td>\n",
       "      <td>21.280</td>\n",
       "      <td>22.0690</td>\n",
       "    </tr>\n",
       "    <tr>\n",
       "      <th>360361</th>\n",
       "      <td>2021-12-28</td>\n",
       "      <td>2.0</td>\n",
       "      <td>ITUB4</td>\n",
       "      <td>ITAUUNIBANCO</td>\n",
       "      <td>21.63</td>\n",
       "      <td>21.70</td>\n",
       "      <td>21.40</td>\n",
       "      <td>21.48</td>\n",
       "      <td>15294200</td>\n",
       "      <td>3</td>\n",
       "      <td>21.352</td>\n",
       "      <td>22.0100</td>\n",
       "    </tr>\n",
       "    <tr>\n",
       "      <th>360362</th>\n",
       "      <td>2021-12-29</td>\n",
       "      <td>2.0</td>\n",
       "      <td>ITUB4</td>\n",
       "      <td>ITAUUNIBANCO</td>\n",
       "      <td>21.53</td>\n",
       "      <td>21.58</td>\n",
       "      <td>21.23</td>\n",
       "      <td>21.30</td>\n",
       "      <td>12856100</td>\n",
       "      <td>2</td>\n",
       "      <td>21.382</td>\n",
       "      <td>21.9560</td>\n",
       "    </tr>\n",
       "    <tr>\n",
       "      <th>360363</th>\n",
       "      <td>2021-12-30</td>\n",
       "      <td>2.0</td>\n",
       "      <td>ITUB4</td>\n",
       "      <td>ITAUUNIBANCO</td>\n",
       "      <td>21.44</td>\n",
       "      <td>21.44</td>\n",
       "      <td>20.95</td>\n",
       "      <td>20.95</td>\n",
       "      <td>39997300</td>\n",
       "      <td>8</td>\n",
       "      <td>21.326</td>\n",
       "      <td>21.8925</td>\n",
       "    </tr>\n",
       "  </tbody>\n",
       "</table>\n",
       "<p>744 rows × 12 columns</p>\n",
       "</div>"
      ],
      "text/plain": [
       "       data_pregao  codbdi sigla_acao     nome_acao  preco_abertura  \\\n",
       "197     2019-01-02     2.0      ITUB4  ITAUUNIBANCO           35.44   \n",
       "553     2019-01-03     2.0      ITUB4  ITAUUNIBANCO           36.75   \n",
       "901     2019-01-04     2.0      ITUB4  ITAUUNIBANCO           37.22   \n",
       "1250    2019-01-07     2.0      ITUB4  ITAUUNIBANCO           36.80   \n",
       "1617    2019-01-08     2.0      ITUB4  ITAUUNIBANCO           37.18   \n",
       "...            ...     ...        ...           ...             ...   \n",
       "360359  2021-12-23     2.0      ITUB4  ITAUUNIBANCO           21.33   \n",
       "360360  2021-12-27     2.0      ITUB4  ITAUUNIBANCO           21.48   \n",
       "360361  2021-12-28     2.0      ITUB4  ITAUUNIBANCO           21.63   \n",
       "360362  2021-12-29     2.0      ITUB4  ITAUUNIBANCO           21.53   \n",
       "360363  2021-12-30     2.0      ITUB4  ITAUUNIBANCO           21.44   \n",
       "\n",
       "        preco_maximo  preco_minimo  preco_fechamento  qtd_negocios  \\\n",
       "197            37.14         35.35             37.00      25581700   \n",
       "553            37.61         36.45             37.61      21938600   \n",
       "901            37.71         36.75             36.98      24873500   \n",
       "1250           37.50         36.75             37.05      16901100   \n",
       "1617           37.57         36.56             37.52      19556300   \n",
       "...              ...           ...               ...           ...   \n",
       "360359         21.57         21.17             21.34      22377000   \n",
       "360360         21.70         21.31             21.56      14025800   \n",
       "360361         21.70         21.40             21.48      15294200   \n",
       "360362         21.58         21.23             21.30      12856100   \n",
       "360363         21.44         20.95             20.95      39997300   \n",
       "\n",
       "        volume_negocios  avg_5d  avg_20d  \n",
       "197                   9     NaN      NaN  \n",
       "553                   8     NaN      NaN  \n",
       "901                   9     NaN      NaN  \n",
       "1250                  6     NaN      NaN  \n",
       "1617                  7  37.232      NaN  \n",
       "...                 ...     ...      ...  \n",
       "360359                4  21.258  22.1315  \n",
       "360360                3  21.280  22.0690  \n",
       "360361                3  21.352  22.0100  \n",
       "360362                2  21.382  21.9560  \n",
       "360363                8  21.326  21.8925  \n",
       "\n",
       "[744 rows x 12 columns]"
      ]
     },
     "execution_count": 7,
     "metadata": {},
     "output_type": "execute_result"
    }
   ],
   "source": [
    "df_itau"
   ]
  },
  {
   "cell_type": "code",
   "execution_count": 8,
   "id": "a226125c",
   "metadata": {
    "ExecuteTime": {
     "end_time": "2022-03-16T18:58:17.829331Z",
     "start_time": "2022-03-16T18:58:17.814472Z"
    }
   },
   "outputs": [
    {
     "data": {
      "text/plain": [
       "'The .shift() method is used to shift the DataFrame index by a \\nspecified number of periods with an optional time frequency.'"
      ]
     },
     "execution_count": 8,
     "metadata": {},
     "output_type": "execute_result"
    }
   ],
   "source": [
    "# Pushing action values to validate prediction \n",
    "df_itau['preco_fechamento'] = df_itau['preco_fechamento'].shift(-1)\n",
    "\"\"\"The .shift() method is used to shift the DataFrame index by a \n",
    "specified number of periods with an optional time frequency.\"\"\""
   ]
  },
  {
   "cell_type": "markdown",
   "id": "731bbd70",
   "metadata": {},
   "source": [
    "## Clean DataFrame dropna()"
   ]
  },
  {
   "cell_type": "code",
   "execution_count": 9,
   "id": "db3f6d7b",
   "metadata": {
    "ExecuteTime": {
     "end_time": "2022-03-16T18:58:24.368229Z",
     "start_time": "2022-03-16T18:58:24.352981Z"
    }
   },
   "outputs": [],
   "source": [
    "# DropNAN\n",
    "df_itau.dropna(inplace=True)"
   ]
  },
  {
   "cell_type": "code",
   "execution_count": 10,
   "id": "ef538d63",
   "metadata": {
    "ExecuteTime": {
     "end_time": "2022-03-16T18:58:35.708992Z",
     "start_time": "2022-03-16T18:58:35.693226Z"
    }
   },
   "outputs": [
    {
     "data": {
      "text/html": [
       "<div>\n",
       "<style scoped>\n",
       "    .dataframe tbody tr th:only-of-type {\n",
       "        vertical-align: middle;\n",
       "    }\n",
       "\n",
       "    .dataframe tbody tr th {\n",
       "        vertical-align: top;\n",
       "    }\n",
       "\n",
       "    .dataframe thead th {\n",
       "        text-align: right;\n",
       "    }\n",
       "</style>\n",
       "<table border=\"1\" class=\"dataframe\">\n",
       "  <thead>\n",
       "    <tr style=\"text-align: right;\">\n",
       "      <th></th>\n",
       "      <th>data_pregao</th>\n",
       "      <th>codbdi</th>\n",
       "      <th>sigla_acao</th>\n",
       "      <th>nome_acao</th>\n",
       "      <th>preco_abertura</th>\n",
       "      <th>preco_maximo</th>\n",
       "      <th>preco_minimo</th>\n",
       "      <th>preco_fechamento</th>\n",
       "      <th>qtd_negocios</th>\n",
       "      <th>volume_negocios</th>\n",
       "      <th>avg_5d</th>\n",
       "      <th>avg_20d</th>\n",
       "    </tr>\n",
       "  </thead>\n",
       "  <tbody>\n",
       "    <tr>\n",
       "      <th>6945</th>\n",
       "      <td>2019-01-30</td>\n",
       "      <td>2.0</td>\n",
       "      <td>ITUB4</td>\n",
       "      <td>ITAUUNIBANCO</td>\n",
       "      <td>38.22</td>\n",
       "      <td>38.41</td>\n",
       "      <td>37.40</td>\n",
       "      <td>38.78</td>\n",
       "      <td>19386900</td>\n",
       "      <td>7</td>\n",
       "      <td>37.838</td>\n",
       "      <td>37.5350</td>\n",
       "    </tr>\n",
       "    <tr>\n",
       "      <th>7305</th>\n",
       "      <td>2019-01-31</td>\n",
       "      <td>2.0</td>\n",
       "      <td>ITUB4</td>\n",
       "      <td>ITAUUNIBANCO</td>\n",
       "      <td>38.46</td>\n",
       "      <td>39.39</td>\n",
       "      <td>38.37</td>\n",
       "      <td>38.81</td>\n",
       "      <td>26940800</td>\n",
       "      <td>10</td>\n",
       "      <td>38.086</td>\n",
       "      <td>37.6240</td>\n",
       "    </tr>\n",
       "    <tr>\n",
       "      <th>7657</th>\n",
       "      <td>2019-02-01</td>\n",
       "      <td>2.0</td>\n",
       "      <td>ITUB4</td>\n",
       "      <td>ITAUUNIBANCO</td>\n",
       "      <td>38.60</td>\n",
       "      <td>39.10</td>\n",
       "      <td>38.34</td>\n",
       "      <td>39.69</td>\n",
       "      <td>13541300</td>\n",
       "      <td>5</td>\n",
       "      <td>38.350</td>\n",
       "      <td>37.6840</td>\n",
       "    </tr>\n",
       "    <tr>\n",
       "      <th>8032</th>\n",
       "      <td>2019-02-04</td>\n",
       "      <td>2.0</td>\n",
       "      <td>ITUB4</td>\n",
       "      <td>ITAUUNIBANCO</td>\n",
       "      <td>38.67</td>\n",
       "      <td>39.79</td>\n",
       "      <td>38.40</td>\n",
       "      <td>38.00</td>\n",
       "      <td>17686500</td>\n",
       "      <td>6</td>\n",
       "      <td>38.656</td>\n",
       "      <td>37.8195</td>\n",
       "    </tr>\n",
       "    <tr>\n",
       "      <th>8388</th>\n",
       "      <td>2019-02-05</td>\n",
       "      <td>2.0</td>\n",
       "      <td>ITUB4</td>\n",
       "      <td>ITAUUNIBANCO</td>\n",
       "      <td>38.56</td>\n",
       "      <td>38.80</td>\n",
       "      <td>37.62</td>\n",
       "      <td>36.40</td>\n",
       "      <td>71190500</td>\n",
       "      <td>27</td>\n",
       "      <td>38.680</td>\n",
       "      <td>37.8670</td>\n",
       "    </tr>\n",
       "  </tbody>\n",
       "</table>\n",
       "</div>"
      ],
      "text/plain": [
       "     data_pregao  codbdi sigla_acao     nome_acao  preco_abertura  \\\n",
       "6945  2019-01-30     2.0      ITUB4  ITAUUNIBANCO           38.22   \n",
       "7305  2019-01-31     2.0      ITUB4  ITAUUNIBANCO           38.46   \n",
       "7657  2019-02-01     2.0      ITUB4  ITAUUNIBANCO           38.60   \n",
       "8032  2019-02-04     2.0      ITUB4  ITAUUNIBANCO           38.67   \n",
       "8388  2019-02-05     2.0      ITUB4  ITAUUNIBANCO           38.56   \n",
       "\n",
       "      preco_maximo  preco_minimo  preco_fechamento  qtd_negocios  \\\n",
       "6945         38.41         37.40             38.78      19386900   \n",
       "7305         39.39         38.37             38.81      26940800   \n",
       "7657         39.10         38.34             39.69      13541300   \n",
       "8032         39.79         38.40             38.00      17686500   \n",
       "8388         38.80         37.62             36.40      71190500   \n",
       "\n",
       "      volume_negocios  avg_5d  avg_20d  \n",
       "6945                7  37.838  37.5350  \n",
       "7305               10  38.086  37.6240  \n",
       "7657                5  38.350  37.6840  \n",
       "8032                6  38.656  37.8195  \n",
       "8388               27  38.680  37.8670  "
      ]
     },
     "execution_count": 10,
     "metadata": {},
     "output_type": "execute_result"
    }
   ],
   "source": [
    "df_itau.head()"
   ]
  },
  {
   "cell_type": "markdown",
   "id": "92889fde",
   "metadata": {},
   "source": [
    "Assumption:\n",
    "At this point, I cleaned the dataframe by removing all null values, with that we lost 20 lines of the dataframe which does not offer any significant loss of the set."
   ]
  },
  {
   "cell_type": "code",
   "execution_count": 13,
   "id": "c038fb4a",
   "metadata": {
    "ExecuteTime": {
     "end_time": "2022-03-16T15:49:40.565779Z",
     "start_time": "2022-03-16T15:49:40.552614Z"
    },
    "cell_style": "split"
   },
   "outputs": [
    {
     "name": "stdout",
     "output_type": "stream",
     "text": [
      "<class 'pandas.core.frame.DataFrame'>\n",
      "Int64Index: 744 entries, 197 to 360363\n",
      "Data columns (total 9 columns):\n",
      " #   Column            Non-Null Count  Dtype         \n",
      "---  ------            --------------  -----         \n",
      " 0   data_pregao       744 non-null    datetime64[ns]\n",
      " 1   sigla_acao        744 non-null    object        \n",
      " 2   nome_acao         744 non-null    object        \n",
      " 3   preco_abertura    744 non-null    float64       \n",
      " 4   preco_maximo      744 non-null    float64       \n",
      " 5   preco_minimo      744 non-null    float64       \n",
      " 6   preco_fechamento  744 non-null    float64       \n",
      " 7   qtd_negocios      744 non-null    int64         \n",
      " 8   volume_negocios   744 non-null    int64         \n",
      "dtypes: datetime64[ns](1), float64(4), int64(2), object(2)\n",
      "memory usage: 58.1+ KB\n"
     ]
    }
   ],
   "source": [
    "# df_itau.info()\n",
    "# Original values"
   ]
  },
  {
   "cell_type": "code",
   "execution_count": 11,
   "id": "8c89a29e",
   "metadata": {
    "ExecuteTime": {
     "end_time": "2022-03-16T18:58:40.841914Z",
     "start_time": "2022-03-16T18:58:40.831166Z"
    },
    "cell_style": "split"
   },
   "outputs": [
    {
     "name": "stdout",
     "output_type": "stream",
     "text": [
      "<class 'pandas.core.frame.DataFrame'>\n",
      "Int64Index: 724 entries, 6945 to 360362\n",
      "Data columns (total 12 columns):\n",
      " #   Column            Non-Null Count  Dtype         \n",
      "---  ------            --------------  -----         \n",
      " 0   data_pregao       724 non-null    datetime64[ns]\n",
      " 1   codbdi            724 non-null    float64       \n",
      " 2   sigla_acao        724 non-null    object        \n",
      " 3   nome_acao         724 non-null    object        \n",
      " 4   preco_abertura    724 non-null    float64       \n",
      " 5   preco_maximo      724 non-null    float64       \n",
      " 6   preco_minimo      724 non-null    float64       \n",
      " 7   preco_fechamento  724 non-null    float64       \n",
      " 8   qtd_negocios      724 non-null    int64         \n",
      " 9   volume_negocios   724 non-null    int64         \n",
      " 10  avg_5d            724 non-null    float64       \n",
      " 11  avg_20d           724 non-null    float64       \n",
      "dtypes: datetime64[ns](1), float64(7), int64(2), object(2)\n",
      "memory usage: 73.5+ KB\n"
     ]
    }
   ],
   "source": [
    "df_itau.info()\n",
    "# After cleaned"
   ]
  },
  {
   "cell_type": "code",
   "execution_count": 12,
   "id": "71a1c160",
   "metadata": {
    "ExecuteTime": {
     "end_time": "2022-03-16T18:58:45.062511Z",
     "start_time": "2022-03-16T18:58:45.056489Z"
    }
   },
   "outputs": [
    {
     "data": {
      "text/plain": [
       "'Train = 0:24 - Test = 24:709 - Validation = 709:24'"
      ]
     },
     "execution_count": 12,
     "metadata": {},
     "output_type": "execute_result"
    }
   ],
   "source": [
    "qntt_rows = len(df_itau)\n",
    "r_train = qntt_rows -700 # 70% to train\n",
    "r_test = qntt_rows -15 # 15% to test\n",
    "\n",
    "r_validation = r_train - r_test  # 15% to validation\n",
    "\n",
    "info = (\n",
    "    f'Train = 0:{r_train} | '\n",
    "    f'Test = {r_train}:{r_test} | '\n",
    "    f'Validation = {r_test}:{r_train}')\n",
    "info"
   ]
  },
  {
   "cell_type": "markdown",
   "id": "016622e8",
   "metadata": {},
   "source": [
    "# Feature Selection"
   ]
  },
  {
   "cell_type": "code",
   "execution_count": 20,
   "id": "5466e73a",
   "metadata": {
    "ExecuteTime": {
     "end_time": "2022-03-16T19:08:20.001134Z",
     "start_time": "2022-03-16T19:08:19.996053Z"
    }
   },
   "outputs": [],
   "source": [
    "\n",
    "feature = df_itau.drop(['data_pregao', 'sigla_acao', 'nome_acao','preco_fechamento'], axis=1)\n",
    "target = df_itau['preco_fechamento']"
   ]
  },
  {
   "cell_type": "code",
   "execution_count": 23,
   "id": "0043c3b6",
   "metadata": {
    "ExecuteTime": {
     "end_time": "2022-03-16T19:13:26.239343Z",
     "start_time": "2022-03-16T19:13:26.201426Z"
    }
   },
   "outputs": [
    {
     "name": "stdout",
     "output_type": "stream",
     "text": [
      "\n",
      "Best features:\n",
      "{'avg_20d': 17.545461230925657, 'avg_5d': 16.37596508807449, 'volume_negocios': 15.855218975489667, 'qtd_negocios': nan}\n"
     ]
    }
   ],
   "source": [
    "#Escolhendo as melhores features com Kbest\n",
    "#https://scikit-learn.org/stable/modules/generated/sklearn.feature_selection.SelectKBest.html\n",
    "\n",
    "features_list = ('preco_abertura', 'qtd_negocios','volume_negocios','avg_5d', 'avg_20d')\n",
    "\n",
    "k_best_features = SelectKBest(k='all')\n",
    "k_best_features.fit_transform(feature, target)\n",
    "k_best_features_scores = k_best_features.scores_\n",
    "raw_pairs = zip(features_list[1:], k_best_features_scores)\n",
    "ordered_pairs = list(reversed(sorted(raw_pairs, key=lambda x: x[1])))\n",
    "\n",
    "k_best_features_final = dict(ordered_pairs[:15])\n",
    "best_features = k_best_features_final.keys()\n",
    "print ('')\n",
    "print (\"Best features:\")\n",
    "print (k_best_features_final)"
   ]
  },
  {
   "cell_type": "code",
   "execution_count": 21,
   "id": "f1471df6",
   "metadata": {
    "ExecuteTime": {
     "end_time": "2022-03-16T19:10:59.613867Z",
     "start_time": "2022-03-16T19:10:59.609143Z"
    }
   },
   "outputs": [
    {
     "data": {
      "text/plain": [
       "Index(['data_pregao', 'codbdi', 'sigla_acao', 'nome_acao', 'preco_abertura',\n",
       "       'preco_maximo', 'preco_minimo', 'preco_fechamento', 'qtd_negocios',\n",
       "       'volume_negocios', 'avg_5d', 'avg_20d'],\n",
       "      dtype='object')"
      ]
     },
     "execution_count": 21,
     "metadata": {},
     "output_type": "execute_result"
    }
   ],
   "source": [
    "df_itau.columns"
   ]
  },
  {
   "cell_type": "code",
   "execution_count": null,
   "id": "ff068dc9",
   "metadata": {},
   "outputs": [],
   "source": [
    "https://www.youtube.com/watch?v=VhjQwahg8MY\n",
    "    \n",
    "https://github.com/fabrimatt/machine_learnig/blob/master/Previs%C3%A3o%20pre%C3%A7o%20a%C3%A7%C3%B5es.ipynb"
   ]
  },
  {
   "cell_type": "code",
   "execution_count": null,
   "id": "2290b303",
   "metadata": {},
   "outputs": [],
   "source": []
  },
  {
   "cell_type": "code",
   "execution_count": null,
   "id": "f2c65148",
   "metadata": {},
   "outputs": [],
   "source": []
  },
  {
   "cell_type": "code",
   "execution_count": null,
   "id": "0d559e2a",
   "metadata": {},
   "outputs": [],
   "source": []
  }
 ],
 "metadata": {
  "hide_input": false,
  "kernelspec": {
   "display_name": "Python 3 (ipykernel)",
   "language": "python",
   "name": "python3"
  },
  "language_info": {
   "codemirror_mode": {
    "name": "ipython",
    "version": 3
   },
   "file_extension": ".py",
   "mimetype": "text/x-python",
   "name": "python",
   "nbconvert_exporter": "python",
   "pygments_lexer": "ipython3",
   "version": "3.8.10"
  },
  "nbTranslate": {
   "displayLangs": [
    "*"
   ],
   "hotkey": "alt-t",
   "langInMainMenu": true,
   "sourceLang": "en",
   "targetLang": "fr",
   "useGoogleTranslate": true
  }
 },
 "nbformat": 4,
 "nbformat_minor": 5
}
