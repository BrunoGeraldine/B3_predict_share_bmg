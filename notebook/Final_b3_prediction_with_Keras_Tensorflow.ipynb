{
 "cells": [
  {
   "cell_type": "markdown",
   "id": "abce84e2",
   "metadata": {
    "ExecuteTime": {
     "end_time": "2022-03-16T14:23:34.314779Z",
     "start_time": "2022-03-16T14:23:34.311226Z"
    },
    "heading_collapsed": true
   },
   "source": [
    "# 1.0 Import"
   ]
  },
  {
   "cell_type": "code",
   "execution_count": 50,
   "id": "412b5e43",
   "metadata": {
    "ExecuteTime": {
     "end_time": "2022-03-19T15:50:42.616121Z",
     "start_time": "2022-03-19T15:50:40.986967Z"
    },
    "hidden": true
   },
   "outputs": [],
   "source": [
    "#Load and edit dataframe\n",
    "import numpy as np\n",
    "import pandas as pd\n",
    "\n",
    "\n",
    "# Data Visualization\n",
    "import seaborn           as sns\n",
    "import matplotlib.pyplot as plt\n",
    "%matplotlib inline\n",
    "\n",
    "# Select Train and Test\n",
    "from sklearn.model_selection import train_test_split\n",
    "\n",
    "# ML - Algoritms\n",
    "from sklearn.preprocessing   import StandardScaler\n",
    "from tensorflow.keras.models import Sequential\n",
    "from tensorflow.keras.layers import Dense, LSTM, Dropout\n",
    "\n",
    "import warnings \n",
    "warnings.filterwarnings( 'ignore' ) "
   ]
  },
  {
   "cell_type": "markdown",
   "id": "9a0cbaa9",
   "metadata": {
    "hidden": true
   },
   "source": [
    "## Load DataSet"
   ]
  },
  {
   "cell_type": "code",
   "execution_count": 51,
   "id": "2dfb7345",
   "metadata": {
    "ExecuteTime": {
     "end_time": "2022-03-19T15:50:44.652000Z",
     "start_time": "2022-03-19T15:50:44.246625Z"
    },
    "hidden": true
   },
   "outputs": [],
   "source": [
    "df = pd.read_csv('../data/all_b3_bovespa.csv')"
   ]
  },
  {
   "cell_type": "code",
   "execution_count": 52,
   "id": "047ffb4a",
   "metadata": {
    "ExecuteTime": {
     "end_time": "2022-03-19T15:50:45.277658Z",
     "start_time": "2022-03-19T15:50:45.256452Z"
    },
    "hidden": true
   },
   "outputs": [],
   "source": [
    "df_petro = df.copy()"
   ]
  },
  {
   "cell_type": "markdown",
   "id": "fbf7e79a",
   "metadata": {
    "heading_collapsed": true,
    "jp-MarkdownHeadingCollapsed": true,
    "tags": []
   },
   "source": [
    "# Data Analysis\n"
   ]
  },
  {
   "cell_type": "code",
   "execution_count": 53,
   "id": "17adf42d",
   "metadata": {
    "ExecuteTime": {
     "end_time": "2022-03-19T15:50:46.400426Z",
     "start_time": "2022-03-19T15:50:46.395579Z"
    },
    "hidden": true
   },
   "outputs": [
    {
     "name": "stdout",
     "output_type": "stream",
     "text": [
      "nº of columns: 733407, nº of rows:10\n"
     ]
    }
   ],
   "source": [
    "print(f'nº of columns: {df_petro.shape[0]}, nº of rows:{df_petro.shape[1]}')"
   ]
  },
  {
   "cell_type": "code",
   "execution_count": 54,
   "id": "f877b04c-d1e8-4f5e-a080-aa62d4c1fb53",
   "metadata": {
    "ExecuteTime": {
     "end_time": "2022-03-19T15:50:46.983528Z",
     "start_time": "2022-03-19T15:50:46.974630Z"
    },
    "hidden": true
   },
   "outputs": [
    {
     "data": {
      "text/plain": [
       "data_pregao          object\n",
       "codbdi              float64\n",
       "sigla_acao           object\n",
       "nome_acao            object\n",
       "preco_abertura      float64\n",
       "preco_maximo        float64\n",
       "preco_minimo        float64\n",
       "preco_fechamento    float64\n",
       "qtd_negocios          int64\n",
       "volume_negocios       int64\n",
       "dtype: object"
      ]
     },
     "execution_count": 54,
     "metadata": {},
     "output_type": "execute_result"
    }
   ],
   "source": [
    "df_petro.dtypes"
   ]
  },
  {
   "cell_type": "code",
   "execution_count": 55,
   "id": "b68aeb10-69a2-4e4a-8983-e483661b7db5",
   "metadata": {
    "ExecuteTime": {
     "end_time": "2022-03-19T15:50:47.679679Z",
     "start_time": "2022-03-19T15:50:47.633180Z"
    },
    "hidden": true
   },
   "outputs": [
    {
     "data": {
      "text/html": [
       "<div>\n",
       "<style scoped>\n",
       "    .dataframe tbody tr th:only-of-type {\n",
       "        vertical-align: middle;\n",
       "    }\n",
       "\n",
       "    .dataframe tbody tr th {\n",
       "        vertical-align: top;\n",
       "    }\n",
       "\n",
       "    .dataframe thead th {\n",
       "        text-align: right;\n",
       "    }\n",
       "</style>\n",
       "<table border=\"1\" class=\"dataframe\">\n",
       "  <thead>\n",
       "    <tr style=\"text-align: right;\">\n",
       "      <th></th>\n",
       "      <th>data_pregao</th>\n",
       "      <th>codbdi</th>\n",
       "      <th>sigla_acao</th>\n",
       "      <th>nome_acao</th>\n",
       "      <th>preco_abertura</th>\n",
       "      <th>preco_maximo</th>\n",
       "      <th>preco_minimo</th>\n",
       "      <th>preco_fechamento</th>\n",
       "      <th>qtd_negocios</th>\n",
       "      <th>volume_negocios</th>\n",
       "    </tr>\n",
       "  </thead>\n",
       "  <tbody>\n",
       "    <tr>\n",
       "      <th>213</th>\n",
       "      <td>2015-01-02</td>\n",
       "      <td>2.0</td>\n",
       "      <td>PETR4</td>\n",
       "      <td>PETROBRAS</td>\n",
       "      <td>9.99</td>\n",
       "      <td>9.99</td>\n",
       "      <td>9.36</td>\n",
       "      <td>9.36</td>\n",
       "      <td>48837200</td>\n",
       "      <td>4</td>\n",
       "    </tr>\n",
       "    <tr>\n",
       "      <th>530</th>\n",
       "      <td>2015-01-05</td>\n",
       "      <td>2.0</td>\n",
       "      <td>PETR4</td>\n",
       "      <td>PETROBRAS</td>\n",
       "      <td>9.14</td>\n",
       "      <td>9.19</td>\n",
       "      <td>8.58</td>\n",
       "      <td>8.61</td>\n",
       "      <td>77077300</td>\n",
       "      <td>6</td>\n",
       "    </tr>\n",
       "    <tr>\n",
       "      <th>829</th>\n",
       "      <td>2015-01-06</td>\n",
       "      <td>2.0</td>\n",
       "      <td>PETR4</td>\n",
       "      <td>PETROBRAS</td>\n",
       "      <td>8.71</td>\n",
       "      <td>8.83</td>\n",
       "      <td>8.04</td>\n",
       "      <td>8.33</td>\n",
       "      <td>84023400</td>\n",
       "      <td>7</td>\n",
       "    </tr>\n",
       "    <tr>\n",
       "      <th>1138</th>\n",
       "      <td>2015-01-07</td>\n",
       "      <td>2.0</td>\n",
       "      <td>PETR4</td>\n",
       "      <td>PETROBRAS</td>\n",
       "      <td>8.56</td>\n",
       "      <td>8.73</td>\n",
       "      <td>8.36</td>\n",
       "      <td>8.67</td>\n",
       "      <td>85531000</td>\n",
       "      <td>7</td>\n",
       "    </tr>\n",
       "    <tr>\n",
       "      <th>1450</th>\n",
       "      <td>2015-01-08</td>\n",
       "      <td>2.0</td>\n",
       "      <td>PETR4</td>\n",
       "      <td>PETROBRAS</td>\n",
       "      <td>8.79</td>\n",
       "      <td>9.39</td>\n",
       "      <td>8.74</td>\n",
       "      <td>9.18</td>\n",
       "      <td>82735700</td>\n",
       "      <td>7</td>\n",
       "    </tr>\n",
       "    <tr>\n",
       "      <th>...</th>\n",
       "      <td>...</td>\n",
       "      <td>...</td>\n",
       "      <td>...</td>\n",
       "      <td>...</td>\n",
       "      <td>...</td>\n",
       "      <td>...</td>\n",
       "      <td>...</td>\n",
       "      <td>...</td>\n",
       "      <td>...</td>\n",
       "      <td>...</td>\n",
       "    </tr>\n",
       "    <tr>\n",
       "      <th>704613</th>\n",
       "      <td>2021-12-23</td>\n",
       "      <td>2.0</td>\n",
       "      <td>PETR4</td>\n",
       "      <td>PETROBRAS</td>\n",
       "      <td>28.33</td>\n",
       "      <td>28.42</td>\n",
       "      <td>28.15</td>\n",
       "      <td>28.33</td>\n",
       "      <td>28713600</td>\n",
       "      <td>8</td>\n",
       "    </tr>\n",
       "    <tr>\n",
       "      <th>704614</th>\n",
       "      <td>2021-12-27</td>\n",
       "      <td>2.0</td>\n",
       "      <td>PETR4</td>\n",
       "      <td>PETROBRAS</td>\n",
       "      <td>28.32</td>\n",
       "      <td>28.78</td>\n",
       "      <td>28.15</td>\n",
       "      <td>28.75</td>\n",
       "      <td>44227900</td>\n",
       "      <td>12</td>\n",
       "    </tr>\n",
       "    <tr>\n",
       "      <th>704615</th>\n",
       "      <td>2021-12-28</td>\n",
       "      <td>2.0</td>\n",
       "      <td>PETR4</td>\n",
       "      <td>PETROBRAS</td>\n",
       "      <td>29.01</td>\n",
       "      <td>29.28</td>\n",
       "      <td>28.70</td>\n",
       "      <td>28.78</td>\n",
       "      <td>30688100</td>\n",
       "      <td>8</td>\n",
       "    </tr>\n",
       "    <tr>\n",
       "      <th>704616</th>\n",
       "      <td>2021-12-29</td>\n",
       "      <td>2.0</td>\n",
       "      <td>PETR4</td>\n",
       "      <td>PETROBRAS</td>\n",
       "      <td>28.70</td>\n",
       "      <td>28.90</td>\n",
       "      <td>28.42</td>\n",
       "      <td>28.54</td>\n",
       "      <td>35508400</td>\n",
       "      <td>10</td>\n",
       "    </tr>\n",
       "    <tr>\n",
       "      <th>704617</th>\n",
       "      <td>2021-12-30</td>\n",
       "      <td>2.0</td>\n",
       "      <td>PETR4</td>\n",
       "      <td>PETROBRAS</td>\n",
       "      <td>28.55</td>\n",
       "      <td>28.70</td>\n",
       "      <td>28.39</td>\n",
       "      <td>28.45</td>\n",
       "      <td>43229100</td>\n",
       "      <td>12</td>\n",
       "    </tr>\n",
       "  </tbody>\n",
       "</table>\n",
       "<p>1730 rows × 10 columns</p>\n",
       "</div>"
      ],
      "text/plain": [
       "       data_pregao  codbdi sigla_acao  nome_acao  preco_abertura  \\\n",
       "213     2015-01-02     2.0      PETR4  PETROBRAS            9.99   \n",
       "530     2015-01-05     2.0      PETR4  PETROBRAS            9.14   \n",
       "829     2015-01-06     2.0      PETR4  PETROBRAS            8.71   \n",
       "1138    2015-01-07     2.0      PETR4  PETROBRAS            8.56   \n",
       "1450    2015-01-08     2.0      PETR4  PETROBRAS            8.79   \n",
       "...            ...     ...        ...        ...             ...   \n",
       "704613  2021-12-23     2.0      PETR4  PETROBRAS           28.33   \n",
       "704614  2021-12-27     2.0      PETR4  PETROBRAS           28.32   \n",
       "704615  2021-12-28     2.0      PETR4  PETROBRAS           29.01   \n",
       "704616  2021-12-29     2.0      PETR4  PETROBRAS           28.70   \n",
       "704617  2021-12-30     2.0      PETR4  PETROBRAS           28.55   \n",
       "\n",
       "        preco_maximo  preco_minimo  preco_fechamento  qtd_negocios  \\\n",
       "213             9.99          9.36              9.36      48837200   \n",
       "530             9.19          8.58              8.61      77077300   \n",
       "829             8.83          8.04              8.33      84023400   \n",
       "1138            8.73          8.36              8.67      85531000   \n",
       "1450            9.39          8.74              9.18      82735700   \n",
       "...              ...           ...               ...           ...   \n",
       "704613         28.42         28.15             28.33      28713600   \n",
       "704614         28.78         28.15             28.75      44227900   \n",
       "704615         29.28         28.70             28.78      30688100   \n",
       "704616         28.90         28.42             28.54      35508400   \n",
       "704617         28.70         28.39             28.45      43229100   \n",
       "\n",
       "        volume_negocios  \n",
       "213                   4  \n",
       "530                   6  \n",
       "829                   7  \n",
       "1138                  7  \n",
       "1450                  7  \n",
       "...                 ...  \n",
       "704613                8  \n",
       "704614               12  \n",
       "704615                8  \n",
       "704616               10  \n",
       "704617               12  \n",
       "\n",
       "[1730 rows x 10 columns]"
      ]
     },
     "execution_count": 55,
     "metadata": {},
     "output_type": "execute_result"
    }
   ],
   "source": [
    "a = df_petro[df_petro['sigla_acao']=='PETR4']\n",
    "a"
   ]
  },
  {
   "cell_type": "markdown",
   "id": "bd97ec11",
   "metadata": {
    "heading_collapsed": true,
    "jp-MarkdownHeadingCollapsed": true,
    "tags": []
   },
   "source": [
    "# Data transformation"
   ]
  },
  {
   "cell_type": "code",
   "execution_count": 56,
   "id": "b1cb0d01",
   "metadata": {
    "ExecuteTime": {
     "end_time": "2022-03-19T15:50:49.004865Z",
     "start_time": "2022-03-19T15:50:48.937512Z"
    },
    "hidden": true
   },
   "outputs": [],
   "source": [
    "df_petro['data_pregao'] = pd.to_datetime(df_petro['data_pregao'], format='%Y-%m-%d')"
   ]
  },
  {
   "cell_type": "code",
   "execution_count": 57,
   "id": "c580c4b7-4716-4fd7-86a5-41130eebb72f",
   "metadata": {
    "ExecuteTime": {
     "end_time": "2022-03-19T15:50:49.655922Z",
     "start_time": "2022-03-19T15:50:49.650040Z"
    },
    "hidden": true
   },
   "outputs": [
    {
     "data": {
      "text/plain": [
       "data_pregao         datetime64[ns]\n",
       "codbdi                     float64\n",
       "sigla_acao                  object\n",
       "nome_acao                   object\n",
       "preco_abertura             float64\n",
       "preco_maximo               float64\n",
       "preco_minimo               float64\n",
       "preco_fechamento           float64\n",
       "qtd_negocios                 int64\n",
       "volume_negocios              int64\n",
       "dtype: object"
      ]
     },
     "execution_count": 57,
     "metadata": {},
     "output_type": "execute_result"
    }
   ],
   "source": [
    "df_petro.dtypes"
   ]
  },
  {
   "cell_type": "markdown",
   "id": "78ae7dc2",
   "metadata": {
    "heading_collapsed": true,
    "jp-MarkdownHeadingCollapsed": true,
    "tags": []
   },
   "source": [
    "# Select only one share to predict"
   ]
  },
  {
   "cell_type": "code",
   "execution_count": 58,
   "id": "c4e8480a",
   "metadata": {
    "ExecuteTime": {
     "end_time": "2022-03-19T15:50:51.157637Z",
     "start_time": "2022-03-19T15:50:51.116805Z"
    },
    "hidden": true
   },
   "outputs": [
    {
     "name": "stdout",
     "output_type": "stream",
     "text": [
      "nº of rows: 1730, nº of columns:10\n"
     ]
    }
   ],
   "source": [
    "# Filter share_data\n",
    "df_petro = df[df['sigla_acao']=='PETR4']\n",
    "print(f'nº of rows: {df_petro.shape[0]}, nº of columns:{df_petro.shape[1]}')"
   ]
  },
  {
   "cell_type": "code",
   "execution_count": 59,
   "id": "c9c37b34-94a9-491f-87b9-62b62f851a80",
   "metadata": {
    "ExecuteTime": {
     "end_time": "2022-03-19T15:50:51.786217Z",
     "start_time": "2022-03-19T15:50:51.776821Z"
    },
    "hidden": true
   },
   "outputs": [
    {
     "data": {
      "text/html": [
       "<div>\n",
       "<style scoped>\n",
       "    .dataframe tbody tr th:only-of-type {\n",
       "        vertical-align: middle;\n",
       "    }\n",
       "\n",
       "    .dataframe tbody tr th {\n",
       "        vertical-align: top;\n",
       "    }\n",
       "\n",
       "    .dataframe thead th {\n",
       "        text-align: right;\n",
       "    }\n",
       "</style>\n",
       "<table border=\"1\" class=\"dataframe\">\n",
       "  <thead>\n",
       "    <tr style=\"text-align: right;\">\n",
       "      <th></th>\n",
       "      <th>data_pregao</th>\n",
       "      <th>preco_fechamento</th>\n",
       "    </tr>\n",
       "  </thead>\n",
       "  <tbody>\n",
       "    <tr>\n",
       "      <th>704613</th>\n",
       "      <td>2021-12-23</td>\n",
       "      <td>28.33</td>\n",
       "    </tr>\n",
       "    <tr>\n",
       "      <th>704614</th>\n",
       "      <td>2021-12-27</td>\n",
       "      <td>28.75</td>\n",
       "    </tr>\n",
       "    <tr>\n",
       "      <th>704615</th>\n",
       "      <td>2021-12-28</td>\n",
       "      <td>28.78</td>\n",
       "    </tr>\n",
       "    <tr>\n",
       "      <th>704616</th>\n",
       "      <td>2021-12-29</td>\n",
       "      <td>28.54</td>\n",
       "    </tr>\n",
       "    <tr>\n",
       "      <th>704617</th>\n",
       "      <td>2021-12-30</td>\n",
       "      <td>28.45</td>\n",
       "    </tr>\n",
       "  </tbody>\n",
       "</table>\n",
       "</div>"
      ],
      "text/plain": [
       "       data_pregao  preco_fechamento\n",
       "704613  2021-12-23             28.33\n",
       "704614  2021-12-27             28.75\n",
       "704615  2021-12-28             28.78\n",
       "704616  2021-12-29             28.54\n",
       "704617  2021-12-30             28.45"
      ]
     },
     "execution_count": 59,
     "metadata": {},
     "output_type": "execute_result"
    }
   ],
   "source": [
    "df_petro_cls = df_petro[['data_pregao', 'preco_fechamento']]\n",
    "df_petro_cls.tail()"
   ]
  },
  {
   "cell_type": "code",
   "execution_count": 60,
   "id": "27af186a-dc48-43b0-a640-e24504f97bcb",
   "metadata": {
    "ExecuteTime": {
     "end_time": "2022-03-19T15:50:52.478416Z",
     "start_time": "2022-03-19T15:50:52.471831Z"
    },
    "hidden": true
   },
   "outputs": [],
   "source": [
    "# set to index with date\n",
    "df_petro_cls = df_petro_cls.set_index(pd.DatetimeIndex(df_petro_cls['data_pregao'].values))"
   ]
  },
  {
   "cell_type": "code",
   "execution_count": 61,
   "id": "b45a72c3-8da4-4839-907a-44eb454d2f28",
   "metadata": {
    "ExecuteTime": {
     "end_time": "2022-03-19T15:50:53.056542Z",
     "start_time": "2022-03-19T15:50:53.043640Z"
    },
    "hidden": true
   },
   "outputs": [
    {
     "data": {
      "text/html": [
       "<div>\n",
       "<style scoped>\n",
       "    .dataframe tbody tr th:only-of-type {\n",
       "        vertical-align: middle;\n",
       "    }\n",
       "\n",
       "    .dataframe tbody tr th {\n",
       "        vertical-align: top;\n",
       "    }\n",
       "\n",
       "    .dataframe thead th {\n",
       "        text-align: right;\n",
       "    }\n",
       "</style>\n",
       "<table border=\"1\" class=\"dataframe\">\n",
       "  <thead>\n",
       "    <tr style=\"text-align: right;\">\n",
       "      <th></th>\n",
       "      <th>data_pregao</th>\n",
       "      <th>preco_fechamento</th>\n",
       "    </tr>\n",
       "  </thead>\n",
       "  <tbody>\n",
       "    <tr>\n",
       "      <th>2021-12-23</th>\n",
       "      <td>2021-12-23</td>\n",
       "      <td>28.33</td>\n",
       "    </tr>\n",
       "    <tr>\n",
       "      <th>2021-12-27</th>\n",
       "      <td>2021-12-27</td>\n",
       "      <td>28.75</td>\n",
       "    </tr>\n",
       "    <tr>\n",
       "      <th>2021-12-28</th>\n",
       "      <td>2021-12-28</td>\n",
       "      <td>28.78</td>\n",
       "    </tr>\n",
       "    <tr>\n",
       "      <th>2021-12-29</th>\n",
       "      <td>2021-12-29</td>\n",
       "      <td>28.54</td>\n",
       "    </tr>\n",
       "    <tr>\n",
       "      <th>2021-12-30</th>\n",
       "      <td>2021-12-30</td>\n",
       "      <td>28.45</td>\n",
       "    </tr>\n",
       "  </tbody>\n",
       "</table>\n",
       "</div>"
      ],
      "text/plain": [
       "           data_pregao  preco_fechamento\n",
       "2021-12-23  2021-12-23             28.33\n",
       "2021-12-27  2021-12-27             28.75\n",
       "2021-12-28  2021-12-28             28.78\n",
       "2021-12-29  2021-12-29             28.54\n",
       "2021-12-30  2021-12-30             28.45"
      ]
     },
     "execution_count": 61,
     "metadata": {},
     "output_type": "execute_result"
    }
   ],
   "source": [
    "df_petro_cls.tail()"
   ]
  },
  {
   "cell_type": "code",
   "execution_count": 62,
   "id": "35f98a10-3d90-432d-a72c-ba40c8b7e278",
   "metadata": {
    "ExecuteTime": {
     "end_time": "2022-03-19T15:50:53.507538Z",
     "start_time": "2022-03-19T15:50:53.501442Z"
    },
    "hidden": true
   },
   "outputs": [],
   "source": [
    "# drop column 'data_pregao'\n",
    "df_petro_cls.drop(['data_pregao'], axis=1, inplace=True)"
   ]
  },
  {
   "cell_type": "code",
   "execution_count": 63,
   "id": "330ff4fa-1157-40f1-8883-19d2ee707f0e",
   "metadata": {
    "ExecuteTime": {
     "end_time": "2022-03-19T15:50:54.296427Z",
     "start_time": "2022-03-19T15:50:54.120783Z"
    },
    "hidden": true
   },
   "outputs": [
    {
     "data": {
      "image/png": "[encoded data removed]",
      "text/plain": [
       "<Figure size 1152x576 with 1 Axes>"
      ]
     },
     "metadata": {
      "needs_background": "light"
     },
     "output_type": "display_data"
    }
   ],
   "source": [
    "# Plot the dataframe\n",
    "plt.figure(figsize=(16,8))\n",
    "plt.title('Price close')\n",
    "plt.plot(df_petro_cls['preco_fechamento'], color='darkslateblue' )\n",
    "plt.xlabel('date');\n"
   ]
  },
  {
   "cell_type": "markdown",
   "id": "e82df2b4",
   "metadata": {
    "heading_collapsed": true,
    "jp-MarkdownHeadingCollapsed": true,
    "tags": []
   },
   "source": [
    "# Data Train and Test"
   ]
  },
  {
   "cell_type": "code",
   "execution_count": 64,
   "id": "44ff7037-fb28-4c0c-bd60-d7e832f55b18",
   "metadata": {
    "ExecuteTime": {
     "end_time": "2022-03-19T15:50:56.191666Z",
     "start_time": "2022-03-19T15:50:56.185872Z"
    },
    "hidden": true
   },
   "outputs": [
    {
     "data": {
      "text/plain": [
       "'Train = 0:1211 | Test = 1211:1730'"
      ]
     },
     "execution_count": 64,
     "metadata": {},
     "output_type": "execute_result"
    }
   ],
   "source": [
    "# Data analysis\n",
    "qtt_rows = len(df_petro_cls)\n",
    "\n",
    "r_train = round(.70*qtt_rows)\n",
    "\n",
    "r_test = qtt_rows - r_train\n",
    "\n",
    "info = (\n",
    "    f'Train = 0:{r_train} | '\n",
    "    f'Test = {r_train}:{r_train + r_test}'\n",
    "    )\n",
    "info"
   ]
  },
  {
   "cell_type": "markdown",
   "id": "6d8dcce3-ddea-48f6-8d1c-5c934cb64a3e",
   "metadata": {
    "heading_collapsed": true,
    "jp-MarkdownHeadingCollapsed": true,
    "tags": []
   },
   "source": [
    "# Normalize and Reescale "
   ]
  },
  {
   "cell_type": "code",
   "execution_count": 65,
   "id": "63c653a3-5cf4-4e49-9b53-9620bc53eb64",
   "metadata": {
    "ExecuteTime": {
     "end_time": "2022-03-19T15:50:57.661056Z",
     "start_time": "2022-03-19T15:50:57.653561Z"
    },
    "hidden": true
   },
   "outputs": [],
   "source": [
    "# Normalizing\n",
    "std = StandardScaler()\n",
    "df_scaled = std.fit_transform(df_petro_cls)"
   ]
  },
  {
   "cell_type": "markdown",
   "id": "756bf286-d132-4f72-92a5-04531e7d2d84",
   "metadata": {
    "heading_collapsed": true,
    "tags": []
   },
   "source": [
    "# Separating into Train and Test"
   ]
  },
  {
   "cell_type": "code",
   "execution_count": 66,
   "id": "d82ad1b2-1b40-43f3-9a7f-1aefb9a123da",
   "metadata": {
    "ExecuteTime": {
     "end_time": "2022-03-19T15:50:59.212254Z",
     "start_time": "2022-03-19T15:50:59.207663Z"
    },
    "hidden": true
   },
   "outputs": [
    {
     "name": "stdout",
     "output_type": "stream",
     "text": [
      "1730 519\n"
     ]
    }
   ],
   "source": [
    "train = df_scaled[:qtt_rows]\n",
    "\n",
    "test = df_scaled[r_train: r_train+r_test]\n",
    "\n",
    "print(len(train), len(test))"
   ]
  },
  {
   "cell_type": "code",
   "execution_count": 67,
   "id": "82b02e8f-3bbf-4565-b9dc-fabf0855f910",
   "metadata": {
    "ExecuteTime": {
     "end_time": "2022-03-19T15:51:00.464568Z",
     "start_time": "2022-03-19T15:51:00.459047Z"
    },
    "hidden": true
   },
   "outputs": [],
   "source": [
    "# Convert an array of values into a df matrix\n",
    "\n",
    "def create_df(df, steps=1):\n",
    "    dataX, dataY = [], []\n",
    "    for i in range(len(df)-steps-1):\n",
    "        a = df[i:(i+steps), 0]\n",
    "        dataX.append(a)\n",
    "        dataY.append(df[i+steps,0])\n",
    "    return np.array(dataX), np.array(dataY)\n",
    "\n",
    "# dexa os valores formatados no padrão que o LSTM espera para aprender"
   ]
  },
  {
   "cell_type": "code",
   "execution_count": 68,
   "id": "b1b6a5b1-b643-4957-b478-9a0325ac14d3",
   "metadata": {
    "ExecuteTime": {
     "end_time": "2022-03-19T15:51:01.044410Z",
     "start_time": "2022-03-19T15:51:01.034808Z"
    },
    "hidden": true
   },
   "outputs": [],
   "source": [
    "# gerando os dados de treino e teste\n",
    "\n",
    "steps = 15\n",
    "X_train, Y_train = create_df(train, steps)\n",
    "X_test, Y_test = create_df(test, steps)"
   ]
  },
  {
   "cell_type": "code",
   "execution_count": 69,
   "id": "f789e0e7-83a9-49ce-a037-1c49e5e360cb",
   "metadata": {
    "ExecuteTime": {
     "end_time": "2022-03-19T15:51:01.692982Z",
     "start_time": "2022-03-19T15:51:01.688652Z"
    },
    "hidden": true
   },
   "outputs": [
    {
     "name": "stdout",
     "output_type": "stream",
     "text": [
      "(1714, 15)\n",
      "(1714,)\n",
      "(503, 15)\n",
      "(503,)\n"
     ]
    }
   ],
   "source": [
    "print(X_train.shape)\n",
    "print(Y_train.shape)\n",
    "\n",
    "print(X_test.shape)\n",
    "print(Y_test.shape)\n"
   ]
  },
  {
   "cell_type": "code",
   "execution_count": 70,
   "id": "34b30629-8ade-4101-bb29-9776e29a1ff7",
   "metadata": {
    "ExecuteTime": {
     "end_time": "2022-03-19T15:51:02.399589Z",
     "start_time": "2022-03-19T15:51:02.395374Z"
    },
    "hidden": true
   },
   "outputs": [],
   "source": [
    "# Gerando os dados no formato que o modelo espera\n",
    "X_train = X_train.reshape(X_train.shape[0], X_train.shape[1], 1)\n",
    "# X_train.shape[0] → 1714 linhas de treino | X_train.shape[1] → 15 dias de treino\n",
    "X_test = X_test.reshape(X_test.shape[0], X_test.shape[1], 1)"
   ]
  },
  {
   "cell_type": "markdown",
   "id": "bea18e14",
   "metadata": {
    "heading_collapsed": true
   },
   "source": [
    "# Model Apply"
   ]
  },
  {
   "cell_type": "code",
   "execution_count": 71,
   "id": "a89b3173-284f-4e89-99c3-c5e3cd344bf3",
   "metadata": {
    "ExecuteTime": {
     "end_time": "2022-03-19T15:51:07.615057Z",
     "start_time": "2022-03-19T15:51:07.211418Z"
    },
    "hidden": true
   },
   "outputs": [],
   "source": [
    "# Camadas da Rede Neural\n",
    "model = Sequential()\n",
    "model.add(LSTM(35, return_sequences=True, input_shape=(steps,1))) #1ª camada\n",
    "#LSTM(35) → qtt de neuronios usados | input_shape=(steps,1) → qtt de dias a ser previsto e retornado\n",
    "model.add(LSTM(35, return_sequences=True)) #2ª camada\n",
    "model.add(LSTM(35)) #3ª camada\n",
    "model.add(Dropout(0.2)) \n",
    "#Dropout evita o overfit do treinamento\n",
    "model.add(Dense(1)) #retonrnando um unico resultado\n"
   ]
  },
  {
   "cell_type": "code",
   "execution_count": 72,
   "id": "17d07abe-97eb-4f69-b0b6-089f4dbb1203",
   "metadata": {
    "ExecuteTime": {
     "end_time": "2022-03-19T15:51:08.055540Z",
     "start_time": "2022-03-19T15:51:08.043627Z"
    },
    "hidden": true
   },
   "outputs": [
    {
     "name": "stdout",
     "output_type": "stream",
     "text": [
      "Model: \"sequential_2\"\n",
      "_________________________________________________________________\n",
      " Layer (type)                Output Shape              Param #   \n",
      "=================================================================\n",
      " lstm_6 (LSTM)               (None, 15, 35)            5180      \n",
      "                                                                 \n",
      " lstm_7 (LSTM)               (None, 15, 35)            9940      \n",
      "                                                                 \n",
      " lstm_8 (LSTM)               (None, 35)                9940      \n",
      "                                                                 \n",
      " dropout_2 (Dropout)         (None, 35)                0         \n",
      "                                                                 \n",
      " dense_2 (Dense)             (None, 1)                 36        \n",
      "                                                                 \n",
      "=================================================================\n",
      "Total params: 25,096\n",
      "Trainable params: 25,096\n",
      "Non-trainable params: 0\n",
      "_________________________________________________________________\n"
     ]
    }
   ],
   "source": [
    "model.compile(optimizer='adam', loss='mse')\n",
    "model.summary()"
   ]
  },
  {
   "cell_type": "code",
   "execution_count": 113,
   "id": "a8901871-7308-4876-87a6-55221ec2bc8f",
   "metadata": {
    "ExecuteTime": {
     "end_time": "2022-03-19T15:54:46.162195Z",
     "start_time": "2022-03-19T15:51:08.644383Z"
    },
    "hidden": true,
    "scrolled": true,
    "tags": []
   },
   "outputs": [
    {
     "name": "stdout",
     "output_type": "stream",
     "text": [
      "Epoch 1/100\n",
      "115/115 - 3s - loss: 0.0139 - val_loss: 0.0140 - 3s/epoch - 25ms/step\n",
      "Epoch 2/100\n",
      "115/115 - 3s - loss: 0.0136 - val_loss: 0.0093 - 3s/epoch - 22ms/step\n",
      "Epoch 3/100\n",
      "115/115 - 3s - loss: 0.0128 - val_loss: 0.0088 - 3s/epoch - 22ms/step\n",
      "Epoch 4/100\n",
      "115/115 - 3s - loss: 0.0129 - val_loss: 0.0090 - 3s/epoch - 22ms/step\n",
      "Epoch 5/100\n",
      "115/115 - 3s - loss: 0.0134 - val_loss: 0.0079 - 3s/epoch - 22ms/step\n",
      "Epoch 6/100\n",
      "115/115 - 3s - loss: 0.0136 - val_loss: 0.0084 - 3s/epoch - 22ms/step\n",
      "Epoch 7/100\n",
      "115/115 - 2s - loss: 0.0132 - val_loss: 0.0091 - 2s/epoch - 22ms/step\n",
      "Epoch 8/100\n",
      "115/115 - 3s - loss: 0.0134 - val_loss: 0.0083 - 3s/epoch - 22ms/step\n",
      "Epoch 9/100\n",
      "115/115 - 3s - loss: 0.0133 - val_loss: 0.0089 - 3s/epoch - 22ms/step\n",
      "Epoch 10/100\n",
      "115/115 - 3s - loss: 0.0137 - val_loss: 0.0081 - 3s/epoch - 22ms/step\n",
      "Epoch 11/100\n",
      "115/115 - 3s - loss: 0.0132 - val_loss: 0.0083 - 3s/epoch - 22ms/step\n",
      "Epoch 12/100\n",
      "115/115 - 3s - loss: 0.0126 - val_loss: 0.0103 - 3s/epoch - 22ms/step\n",
      "Epoch 13/100\n",
      "115/115 - 3s - loss: 0.0135 - val_loss: 0.0099 - 3s/epoch - 22ms/step\n",
      "Epoch 14/100\n",
      "115/115 - 3s - loss: 0.0145 - val_loss: 0.0081 - 3s/epoch - 22ms/step\n",
      "Epoch 15/100\n",
      "115/115 - 3s - loss: 0.0137 - val_loss: 0.0091 - 3s/epoch - 22ms/step\n",
      "Epoch 16/100\n",
      "115/115 - 3s - loss: 0.0129 - val_loss: 0.0079 - 3s/epoch - 22ms/step\n",
      "Epoch 17/100\n",
      "115/115 - 3s - loss: 0.0137 - val_loss: 0.0075 - 3s/epoch - 22ms/step\n",
      "Epoch 18/100\n",
      "115/115 - 3s - loss: 0.0137 - val_loss: 0.0095 - 3s/epoch - 22ms/step\n",
      "Epoch 19/100\n",
      "115/115 - 3s - loss: 0.0134 - val_loss: 0.0086 - 3s/epoch - 22ms/step\n",
      "Epoch 20/100\n",
      "115/115 - 3s - loss: 0.0125 - val_loss: 0.0085 - 3s/epoch - 22ms/step\n",
      "Epoch 21/100\n",
      "115/115 - 3s - loss: 0.0137 - val_loss: 0.0086 - 3s/epoch - 22ms/step\n",
      "Epoch 22/100\n",
      "115/115 - 3s - loss: 0.0137 - val_loss: 0.0088 - 3s/epoch - 22ms/step\n",
      "Epoch 23/100\n",
      "115/115 - 2s - loss: 0.0126 - val_loss: 0.0084 - 2s/epoch - 21ms/step\n",
      "Epoch 24/100\n",
      "115/115 - 2s - loss: 0.0132 - val_loss: 0.0117 - 2s/epoch - 21ms/step\n",
      "Epoch 25/100\n",
      "115/115 - 3s - loss: 0.0141 - val_loss: 0.0078 - 3s/epoch - 22ms/step\n",
      "Epoch 26/100\n",
      "115/115 - 3s - loss: 0.0129 - val_loss: 0.0091 - 3s/epoch - 22ms/step\n",
      "Epoch 27/100\n",
      "115/115 - 3s - loss: 0.0127 - val_loss: 0.0081 - 3s/epoch - 22ms/step\n",
      "Epoch 28/100\n",
      "115/115 - 3s - loss: 0.0129 - val_loss: 0.0081 - 3s/epoch - 22ms/step\n",
      "Epoch 29/100\n",
      "115/115 - 3s - loss: 0.0126 - val_loss: 0.0080 - 3s/epoch - 22ms/step\n",
      "Epoch 30/100\n",
      "115/115 - 3s - loss: 0.0126 - val_loss: 0.0081 - 3s/epoch - 22ms/step\n",
      "Epoch 31/100\n",
      "115/115 - 3s - loss: 0.0128 - val_loss: 0.0088 - 3s/epoch - 22ms/step\n",
      "Epoch 32/100\n",
      "115/115 - 3s - loss: 0.0126 - val_loss: 0.0075 - 3s/epoch - 22ms/step\n",
      "Epoch 33/100\n",
      "115/115 - 2s - loss: 0.0125 - val_loss: 0.0081 - 2s/epoch - 22ms/step\n",
      "Epoch 34/100\n",
      "115/115 - 2s - loss: 0.0130 - val_loss: 0.0078 - 2s/epoch - 22ms/step\n",
      "Epoch 35/100\n",
      "115/115 - 2s - loss: 0.0120 - val_loss: 0.0074 - 2s/epoch - 22ms/step\n",
      "Epoch 36/100\n",
      "115/115 - 3s - loss: 0.0134 - val_loss: 0.0075 - 3s/epoch - 22ms/step\n",
      "Epoch 37/100\n",
      "115/115 - 3s - loss: 0.0140 - val_loss: 0.0089 - 3s/epoch - 22ms/step\n",
      "Epoch 38/100\n",
      "115/115 - 3s - loss: 0.0127 - val_loss: 0.0079 - 3s/epoch - 22ms/step\n",
      "Epoch 39/100\n",
      "115/115 - 3s - loss: 0.0141 - val_loss: 0.0088 - 3s/epoch - 22ms/step\n",
      "Epoch 40/100\n",
      "115/115 - 2s - loss: 0.0133 - val_loss: 0.0085 - 2s/epoch - 19ms/step\n",
      "Epoch 41/100\n",
      "115/115 - 3s - loss: 0.0137 - val_loss: 0.0085 - 3s/epoch - 22ms/step\n",
      "Epoch 42/100\n",
      "115/115 - 2s - loss: 0.0136 - val_loss: 0.0073 - 2s/epoch - 20ms/step\n",
      "Epoch 43/100\n",
      "115/115 - 2s - loss: 0.0128 - val_loss: 0.0075 - 2s/epoch - 22ms/step\n",
      "Epoch 44/100\n",
      "115/115 - 3s - loss: 0.0132 - val_loss: 0.0076 - 3s/epoch - 22ms/step\n",
      "Epoch 45/100\n",
      "115/115 - 3s - loss: 0.0125 - val_loss: 0.0098 - 3s/epoch - 22ms/step\n",
      "Epoch 46/100\n",
      "115/115 - 2s - loss: 0.0137 - val_loss: 0.0088 - 2s/epoch - 22ms/step\n",
      "Epoch 47/100\n",
      "115/115 - 3s - loss: 0.0130 - val_loss: 0.0085 - 3s/epoch - 22ms/step\n",
      "Epoch 48/100\n",
      "115/115 - 2s - loss: 0.0132 - val_loss: 0.0074 - 2s/epoch - 22ms/step\n",
      "Epoch 49/100\n",
      "115/115 - 3s - loss: 0.0121 - val_loss: 0.0093 - 3s/epoch - 22ms/step\n",
      "Epoch 50/100\n",
      "115/115 - 3s - loss: 0.0127 - val_loss: 0.0072 - 3s/epoch - 22ms/step\n",
      "Epoch 51/100\n",
      "115/115 - 3s - loss: 0.0126 - val_loss: 0.0072 - 3s/epoch - 22ms/step\n",
      "Epoch 52/100\n",
      "115/115 - 3s - loss: 0.0128 - val_loss: 0.0071 - 3s/epoch - 22ms/step\n",
      "Epoch 53/100\n",
      "115/115 - 3s - loss: 0.0128 - val_loss: 0.0069 - 3s/epoch - 22ms/step\n",
      "Epoch 54/100\n",
      "115/115 - 3s - loss: 0.0126 - val_loss: 0.0068 - 3s/epoch - 22ms/step\n",
      "Epoch 55/100\n",
      "115/115 - 3s - loss: 0.0125 - val_loss: 0.0093 - 3s/epoch - 22ms/step\n",
      "Epoch 56/100\n",
      "115/115 - 3s - loss: 0.0126 - val_loss: 0.0082 - 3s/epoch - 22ms/step\n",
      "Epoch 57/100\n",
      "115/115 - 2s - loss: 0.0131 - val_loss: 0.0072 - 2s/epoch - 22ms/step\n",
      "Epoch 58/100\n",
      "115/115 - 3s - loss: 0.0117 - val_loss: 0.0073 - 3s/epoch - 22ms/step\n",
      "Epoch 59/100\n",
      "115/115 - 2s - loss: 0.0131 - val_loss: 0.0078 - 2s/epoch - 22ms/step\n",
      "Epoch 60/100\n",
      "115/115 - 2s - loss: 0.0125 - val_loss: 0.0068 - 2s/epoch - 22ms/step\n",
      "Epoch 61/100\n",
      "115/115 - 3s - loss: 0.0132 - val_loss: 0.0090 - 3s/epoch - 22ms/step\n",
      "Epoch 62/100\n",
      "115/115 - 3s - loss: 0.0130 - val_loss: 0.0078 - 3s/epoch - 22ms/step\n",
      "Epoch 63/100\n",
      "115/115 - 3s - loss: 0.0129 - val_loss: 0.0072 - 3s/epoch - 22ms/step\n",
      "Epoch 64/100\n",
      "115/115 - 3s - loss: 0.0124 - val_loss: 0.0073 - 3s/epoch - 22ms/step\n",
      "Epoch 65/100\n",
      "115/115 - 3s - loss: 0.0119 - val_loss: 0.0067 - 3s/epoch - 22ms/step\n",
      "Epoch 66/100\n",
      "115/115 - 3s - loss: 0.0120 - val_loss: 0.0072 - 3s/epoch - 22ms/step\n",
      "Epoch 67/100\n",
      "115/115 - 3s - loss: 0.0131 - val_loss: 0.0071 - 3s/epoch - 22ms/step\n",
      "Epoch 68/100\n",
      "115/115 - 3s - loss: 0.0133 - val_loss: 0.0104 - 3s/epoch - 23ms/step\n",
      "Epoch 69/100\n",
      "115/115 - 3s - loss: 0.0139 - val_loss: 0.0071 - 3s/epoch - 22ms/step\n",
      "Epoch 70/100\n",
      "115/115 - 2s - loss: 0.0121 - val_loss: 0.0068 - 2s/epoch - 21ms/step\n",
      "Epoch 71/100\n",
      "115/115 - 2s - loss: 0.0125 - val_loss: 0.0084 - 2s/epoch - 22ms/step\n",
      "Epoch 72/100\n",
      "115/115 - 3s - loss: 0.0126 - val_loss: 0.0067 - 3s/epoch - 22ms/step\n",
      "Epoch 73/100\n",
      "115/115 - 3s - loss: 0.0116 - val_loss: 0.0066 - 3s/epoch - 22ms/step\n",
      "Epoch 74/100\n",
      "115/115 - 2s - loss: 0.0126 - val_loss: 0.0069 - 2s/epoch - 22ms/step\n",
      "Epoch 75/100\n",
      "115/115 - 3s - loss: 0.0127 - val_loss: 0.0072 - 3s/epoch - 23ms/step\n",
      "Epoch 76/100\n",
      "115/115 - 3s - loss: 0.0128 - val_loss: 0.0065 - 3s/epoch - 22ms/step\n",
      "Epoch 77/100\n",
      "115/115 - 3s - loss: 0.0127 - val_loss: 0.0071 - 3s/epoch - 22ms/step\n",
      "Epoch 78/100\n",
      "115/115 - 3s - loss: 0.0121 - val_loss: 0.0077 - 3s/epoch - 22ms/step\n",
      "Epoch 79/100\n",
      "115/115 - 3s - loss: 0.0119 - val_loss: 0.0065 - 3s/epoch - 22ms/step\n",
      "Epoch 80/100\n",
      "115/115 - 3s - loss: 0.0125 - val_loss: 0.0074 - 3s/epoch - 22ms/step\n",
      "Epoch 81/100\n",
      "115/115 - 3s - loss: 0.0127 - val_loss: 0.0072 - 3s/epoch - 22ms/step\n",
      "Epoch 82/100\n",
      "115/115 - 3s - loss: 0.0121 - val_loss: 0.0075 - 3s/epoch - 22ms/step\n",
      "Epoch 83/100\n",
      "115/115 - 3s - loss: 0.0124 - val_loss: 0.0065 - 3s/epoch - 22ms/step\n",
      "Epoch 84/100\n",
      "115/115 - 3s - loss: 0.0134 - val_loss: 0.0071 - 3s/epoch - 22ms/step\n",
      "Epoch 85/100\n",
      "115/115 - 3s - loss: 0.0116 - val_loss: 0.0065 - 3s/epoch - 22ms/step\n",
      "Epoch 86/100\n",
      "115/115 - 3s - loss: 0.0114 - val_loss: 0.0063 - 3s/epoch - 22ms/step\n",
      "Epoch 87/100\n",
      "115/115 - 3s - loss: 0.0130 - val_loss: 0.0068 - 3s/epoch - 23ms/step\n",
      "Epoch 88/100\n",
      "115/115 - 3s - loss: 0.0118 - val_loss: 0.0073 - 3s/epoch - 22ms/step\n",
      "Epoch 89/100\n",
      "115/115 - 3s - loss: 0.0124 - val_loss: 0.0065 - 3s/epoch - 23ms/step\n",
      "Epoch 90/100\n",
      "115/115 - 3s - loss: 0.0125 - val_loss: 0.0089 - 3s/epoch - 23ms/step\n",
      "Epoch 91/100\n",
      "115/115 - 3s - loss: 0.0117 - val_loss: 0.0063 - 3s/epoch - 22ms/step\n",
      "Epoch 92/100\n",
      "115/115 - 3s - loss: 0.0121 - val_loss: 0.0063 - 3s/epoch - 22ms/step\n",
      "Epoch 93/100\n",
      "115/115 - 3s - loss: 0.0134 - val_loss: 0.0071 - 3s/epoch - 22ms/step\n",
      "Epoch 94/100\n",
      "115/115 - 3s - loss: 0.0120 - val_loss: 0.0071 - 3s/epoch - 22ms/step\n",
      "Epoch 95/100\n",
      "115/115 - 3s - loss: 0.0119 - val_loss: 0.0066 - 3s/epoch - 22ms/step\n",
      "Epoch 96/100\n",
      "115/115 - 3s - loss: 0.0129 - val_loss: 0.0074 - 3s/epoch - 22ms/step\n",
      "Epoch 97/100\n",
      "115/115 - 3s - loss: 0.0126 - val_loss: 0.0078 - 3s/epoch - 22ms/step\n",
      "Epoch 98/100\n",
      "115/115 - 3s - loss: 0.0128 - val_loss: 0.0069 - 3s/epoch - 22ms/step\n",
      "Epoch 99/100\n",
      "115/115 - 3s - loss: 0.0125 - val_loss: 0.0063 - 3s/epoch - 22ms/step\n"
     ]
    },
    {
     "name": "stdout",
     "output_type": "stream",
     "text": [
      "Epoch 100/100\n",
      "115/115 - 3s - loss: 0.0119 - val_loss: 0.0067 - 3s/epoch - 22ms/step\n"
     ]
    }
   ],
   "source": [
    "# treinamento do modelo\n",
    "validation = model.fit(X_train, Y_train, validation_data=(X_test, Y_test), epochs=100, batch_size=15, verbose=2)"
   ]
  },
  {
   "cell_type": "code",
   "execution_count": 114,
   "id": "8b820885-4e80-449d-b34a-8f201ee1e24f",
   "metadata": {
    "ExecuteTime": {
     "end_time": "2022-03-19T15:55:23.340273Z",
     "start_time": "2022-03-19T15:55:23.153470Z"
    },
    "hidden": true
   },
   "outputs": [
    {
     "data": {
      "image/png": "[encoded data removed]",
      "text/plain": [
       "<Figure size 1440x576 with 1 Axes>"
      ]
     },
     "metadata": {
      "needs_background": "light"
     },
     "output_type": "display_data"
    }
   ],
   "source": [
    "plt.figure(figsize=(20,8))\n",
    "plt.plot(validation.history['loss'], label='Training loss')\n",
    "plt.plot(validation.history['val_loss'], label='Validation loss')\n",
    "plt.legend();"
   ]
  },
  {
   "cell_type": "code",
   "execution_count": 115,
   "id": "5d53ff12-13f8-4176-803c-cd4ca38a47b7",
   "metadata": {
    "ExecuteTime": {
     "end_time": "2022-03-19T15:55:33.493538Z",
     "start_time": "2022-03-19T15:55:32.694478Z"
    },
    "hidden": true,
    "scrolled": true,
    "tags": []
   },
   "outputs": [
    {
     "data": {
      "text/plain": [
       "array([[29.040892 ],\n",
       "       [29.711554 ],\n",
       "       [30.08125  ],\n",
       "       [29.935944 ],\n",
       "       [29.669004 ],\n",
       "       [29.976862 ],\n",
       "       [30.405468 ],\n",
       "       [29.777147 ],\n",
       "       [29.63111  ],\n",
       "       [30.090826 ],\n",
       "       [30.123186 ],\n",
       "       [30.271305 ],\n",
       "       [30.126476 ],\n",
       "       [29.968464 ],\n",
       "       [29.932856 ],\n",
       "       [29.820444 ],\n",
       "       [29.912773 ],\n",
       "       [29.640871 ],\n",
       "       [29.246992 ],\n",
       "       [29.361105 ],\n",
       "       [29.564507 ],\n",
       "       [29.641222 ],\n",
       "       [29.234528 ],\n",
       "       [28.95498  ],\n",
       "       [29.445164 ],\n",
       "       [29.09356  ],\n",
       "       [27.830711 ],\n",
       "       [28.751    ],\n",
       "       [28.707642 ],\n",
       "       [28.792656 ],\n",
       "       [28.258326 ],\n",
       "       [28.055931 ],\n",
       "       [28.412464 ],\n",
       "       [28.044683 ],\n",
       "       [28.774748 ],\n",
       "       [28.702208 ],\n",
       "       [28.90258  ],\n",
       "       [29.219498 ],\n",
       "       [29.621822 ],\n",
       "       [29.345976 ],\n",
       "       [28.942682 ],\n",
       "       [29.178148 ],\n",
       "       [29.5865   ],\n",
       "       [29.77744  ],\n",
       "       [29.533972 ],\n",
       "       [28.645573 ],\n",
       "       [25.415756 ],\n",
       "       [25.84739  ],\n",
       "       [26.08729  ],\n",
       "       [26.026611 ],\n",
       "       [26.400988 ],\n",
       "       [25.66781  ],\n",
       "       [23.365273 ],\n",
       "       [17.251425 ],\n",
       "       [18.567924 ],\n",
       "       [15.829867 ],\n",
       "       [13.441792 ],\n",
       "       [15.150959 ],\n",
       "       [13.227241 ],\n",
       "       [13.147679 ],\n",
       "       [11.869332 ],\n",
       "       [12.2310095],\n",
       "       [12.614489 ],\n",
       "       [12.249506 ],\n",
       "       [12.760745 ],\n",
       "       [13.937016 ],\n",
       "       [14.439933 ],\n",
       "       [14.356037 ],\n",
       "       [13.384238 ],\n",
       "       [13.380524 ],\n",
       "       [14.210347 ],\n",
       "       [14.535881 ],\n",
       "       [15.633843 ],\n",
       "       [15.493761 ],\n",
       "       [15.759989 ],\n",
       "       [16.501936 ],\n",
       "       [17.486055 ],\n",
       "       [17.01886  ],\n",
       "       [16.929651 ],\n",
       "       [16.875544 ],\n",
       "       [16.564169 ],\n",
       "       [15.916339 ],\n",
       "       [16.114481 ],\n",
       "       [16.11205  ],\n",
       "       [16.674074 ],\n",
       "       [16.9524   ],\n",
       "       [16.083414 ],\n",
       "       [16.356525 ],\n",
       "       [17.388138 ],\n",
       "       [18.310162 ],\n",
       "       [18.126396 ],\n",
       "       [17.353317 ],\n",
       "       [17.966114 ],\n",
       "       [17.610373 ],\n",
       "       [17.494253 ],\n",
       "       [18.488445 ],\n",
       "       [18.318304 ],\n",
       "       [18.083101 ],\n",
       "       [17.668707 ],\n",
       "       [17.505882 ],\n",
       "       [17.334974 ],\n",
       "       [18.574734 ],\n",
       "       [18.803188 ],\n",
       "       [19.22288  ],\n",
       "       [19.265867 ],\n",
       "       [18.815481 ],\n",
       "       [19.746681 ],\n",
       "       [19.976015 ],\n",
       "       [20.019964 ],\n",
       "       [19.843597 ],\n",
       "       [20.496733 ],\n",
       "       [20.586533 ],\n",
       "       [21.654232 ],\n",
       "       [21.682535 ],\n",
       "       [21.598331 ],\n",
       "       [22.511536 ],\n",
       "       [22.80398  ],\n",
       "       [21.818287 ],\n",
       "       [21.546764 ],\n",
       "       [20.833427 ],\n",
       "       [20.717213 ],\n",
       "       [21.309935 ],\n",
       "       [21.413298 ],\n",
       "       [21.641115 ],\n",
       "       [21.723738 ],\n",
       "       [21.091095 ],\n",
       "       [21.717396 ],\n",
       "       [21.14068  ],\n",
       "       [21.301903 ],\n",
       "       [21.107573 ],\n",
       "       [21.932648 ],\n",
       "       [21.785767 ],\n",
       "       [21.76718  ],\n",
       "       [22.21538  ],\n",
       "       [22.14502  ],\n",
       "       [22.664066 ],\n",
       "       [22.363739 ],\n",
       "       [22.825893 ],\n",
       "       [22.317234 ],\n",
       "       [22.649492 ],\n",
       "       [22.335964 ],\n",
       "       [22.963434 ],\n",
       "       [23.36404  ],\n",
       "       [22.688328 ],\n",
       "       [23.010027 ],\n",
       "       [23.020487 ],\n",
       "       [23.305838 ],\n",
       "       [22.850988 ],\n",
       "       [22.664665 ],\n",
       "       [23.131296 ],\n",
       "       [23.37823  ],\n",
       "       [22.66747  ],\n",
       "       [23.120802 ],\n",
       "       [23.036789 ],\n",
       "       [22.326246 ],\n",
       "       [21.981667 ],\n",
       "       [21.864002 ],\n",
       "       [22.870718 ],\n",
       "       [22.85928  ],\n",
       "       [22.923286 ],\n",
       "       [24.285017 ],\n",
       "       [23.447252 ],\n",
       "       [23.152922 ],\n",
       "       [22.76245  ],\n",
       "       [22.967072 ],\n",
       "       [22.987907 ],\n",
       "       [23.248629 ],\n",
       "       [22.875458 ],\n",
       "       [22.683466 ],\n",
       "       [22.655077 ],\n",
       "       [23.047323 ],\n",
       "       [22.893702 ],\n",
       "       [22.213936 ],\n",
       "       [22.474096 ],\n",
       "       [22.838842 ],\n",
       "       [22.104288 ],\n",
       "       [22.916565 ],\n",
       "       [22.897753 ],\n",
       "       [22.91221  ],\n",
       "       [23.17236  ],\n",
       "       [22.542938 ],\n",
       "       [22.9197   ],\n",
       "       [22.295654 ],\n",
       "       [21.898018 ],\n",
       "       [21.968456 ],\n",
       "       [21.888203 ],\n",
       "       [21.733599 ],\n",
       "       [22.125267 ],\n",
       "       [21.79815  ],\n",
       "       [21.036463 ],\n",
       "       [21.002403 ],\n",
       "       [20.51524  ],\n",
       "       [20.383879 ],\n",
       "       [20.244349 ],\n",
       "       [19.87011  ],\n",
       "       [19.579128 ],\n",
       "       [19.702757 ],\n",
       "       [19.926636 ],\n",
       "       [19.191866 ],\n",
       "       [19.986244 ],\n",
       "       [20.151735 ],\n",
       "       [19.892744 ],\n",
       "       [20.566221 ],\n",
       "       [20.04519  ],\n",
       "       [20.19034  ],\n",
       "       [20.153137 ],\n",
       "       [19.881847 ],\n",
       "       [19.445665 ],\n",
       "       [19.595692 ],\n",
       "       [20.30066  ],\n",
       "       [20.30476  ],\n",
       "       [20.938162 ],\n",
       "       [20.78373  ],\n",
       "       [20.395378 ],\n",
       "       [20.015219 ],\n",
       "       [18.880621 ],\n",
       "       [19.189245 ],\n",
       "       [19.21466  ],\n",
       "       [19.551153 ],\n",
       "       [19.791546 ],\n",
       "       [20.02513  ],\n",
       "       [19.946054 ],\n",
       "       [22.01789  ],\n",
       "       [23.03319  ],\n",
       "       [22.584593 ],\n",
       "       [22.102074 ],\n",
       "       [23.63538  ],\n",
       "       [23.570267 ],\n",
       "       [23.244545 ],\n",
       "       [23.558506 ],\n",
       "       [24.283577 ],\n",
       "       [23.915178 ],\n",
       "       [25.363173 ],\n",
       "       [25.734005 ],\n",
       "       [25.595106 ],\n",
       "       [26.057735 ],\n",
       "       [26.06495  ],\n",
       "       [25.059647 ],\n",
       "       [25.528534 ],\n",
       "       [25.551285 ],\n",
       "       [26.371046 ],\n",
       "       [27.310808 ],\n",
       "       [26.765223 ],\n",
       "       [26.77165  ],\n",
       "       [27.082132 ],\n",
       "       [27.326597 ],\n",
       "       [27.324022 ],\n",
       "       [27.45866  ],\n",
       "       [27.726782 ],\n",
       "       [28.164791 ],\n",
       "       [27.951149 ],\n",
       "       [27.866333 ],\n",
       "       [26.897177 ],\n",
       "       [27.255589 ],\n",
       "       [27.815802 ],\n",
       "       [27.987522 ],\n",
       "       [28.029728 ],\n",
       "       [28.060593 ],\n",
       "       [26.609758 ],\n",
       "       [28.573215 ],\n",
       "       [27.836235 ],\n",
       "       [27.982862 ],\n",
       "       [27.613909 ],\n",
       "       [28.961119 ],\n",
       "       [28.07405  ],\n",
       "       [28.378874 ],\n",
       "       [28.992418 ],\n",
       "       [29.13798  ],\n",
       "       [29.061342 ],\n",
       "       [26.901014 ],\n",
       "       [30.287294 ],\n",
       "       [27.892187 ],\n",
       "       [27.762833 ],\n",
       "       [28.888836 ],\n",
       "       [30.47179  ],\n",
       "       [21.121403 ],\n",
       "       [27.82257  ],\n",
       "       [29.095358 ],\n",
       "       [30.07058  ],\n",
       "       [23.608765 ],\n",
       "       [26.886662 ],\n",
       "       [27.881819 ],\n",
       "       [22.832277 ],\n",
       "       [30.80501  ],\n",
       "       [27.729664 ],\n",
       "       [27.69984  ],\n",
       "       [22.943844 ],\n",
       "       [29.261087 ],\n",
       "       [27.656008 ],\n",
       "       [26.978655 ],\n",
       "       [22.490698 ],\n",
       "       [29.046219 ],\n",
       "       [28.345823 ],\n",
       "       [27.234587 ],\n",
       "       [22.403221 ],\n",
       "       [22.366344 ],\n",
       "       [23.778831 ],\n",
       "       [23.370085 ],\n",
       "       [20.766449 ],\n",
       "       [24.013891 ],\n",
       "       [23.72436  ],\n",
       "       [23.211882 ],\n",
       "       [22.035017 ],\n",
       "       [23.98385  ],\n",
       "       [24.564404 ],\n",
       "       [24.08195  ],\n",
       "       [22.532694 ],\n",
       "       [24.068329 ],\n",
       "       [24.899544 ],\n",
       "       [23.432219 ],\n",
       "       [21.385958 ],\n",
       "       [23.260899 ],\n",
       "       [24.299582 ],\n",
       "       [23.39407  ],\n",
       "       [22.185886 ],\n",
       "       [23.390942 ],\n",
       "       [23.79774  ],\n",
       "       [23.548424 ],\n",
       "       [22.12858  ],\n",
       "       [23.117485 ],\n",
       "       [24.069565 ],\n",
       "       [23.861135 ],\n",
       "       [23.242332 ],\n",
       "       [23.359924 ],\n",
       "       [23.935299 ],\n",
       "       [24.44742  ],\n",
       "       [23.511372 ],\n",
       "       [22.848404 ],\n",
       "       [24.266565 ],\n",
       "       [23.585306 ],\n",
       "       [23.589918 ],\n",
       "       [23.549347 ],\n",
       "       [23.571238 ],\n",
       "       [23.25808  ],\n",
       "       [23.992083 ],\n",
       "       [24.398323 ],\n",
       "       [25.232372 ],\n",
       "       [24.371632 ],\n",
       "       [24.830652 ],\n",
       "       [26.71626  ],\n",
       "       [26.20633  ],\n",
       "       [23.98177  ],\n",
       "       [26.717798 ],\n",
       "       [28.46852  ],\n",
       "       [24.82736  ],\n",
       "       [24.226479 ],\n",
       "       [28.723854 ],\n",
       "       [26.150337 ],\n",
       "       [24.622555 ],\n",
       "       [26.046782 ],\n",
       "       [26.80027  ],\n",
       "       [28.632795 ],\n",
       "       [23.14454  ],\n",
       "       [25.950287 ],\n",
       "       [28.496412 ],\n",
       "       [25.65413  ],\n",
       "       [22.792568 ],\n",
       "       [28.5325   ],\n",
       "       [27.033834 ],\n",
       "       [26.282082 ],\n",
       "       [27.285742 ],\n",
       "       [28.793734 ],\n",
       "       [22.70562  ],\n",
       "       [25.680735 ],\n",
       "       [28.829878 ],\n",
       "       [27.93422  ],\n",
       "       [23.764996 ],\n",
       "       [28.890076 ],\n",
       "       [23.767693 ],\n",
       "       [27.55936  ],\n",
       "       [27.93035  ],\n",
       "       [27.855785 ],\n",
       "       [29.232908 ],\n",
       "       [28.312866 ],\n",
       "       [29.12702  ],\n",
       "       [29.259745 ],\n",
       "       [29.02535  ],\n",
       "       [29.141092 ],\n",
       "       [29.146654 ],\n",
       "       [29.230675 ],\n",
       "       [28.806932 ],\n",
       "       [28.910892 ],\n",
       "       [28.371424 ],\n",
       "       [27.530937 ],\n",
       "       [27.94541  ],\n",
       "       [27.582073 ],\n",
       "       [27.727404 ],\n",
       "       [27.766335 ],\n",
       "       [27.634262 ],\n",
       "       [26.902218 ],\n",
       "       [26.547182 ],\n",
       "       [26.323723 ],\n",
       "       [26.671606 ],\n",
       "       [26.85565  ],\n",
       "       [26.872519 ],\n",
       "       [26.575205 ],\n",
       "       [27.463337 ],\n",
       "       [27.112736 ],\n",
       "       [27.575687 ],\n",
       "       [27.597038 ],\n",
       "       [26.907394 ],\n",
       "       [26.447866 ],\n",
       "       [27.017698 ],\n",
       "       [26.45131  ],\n",
       "       [28.029284 ],\n",
       "       [27.70996  ],\n",
       "       [27.925158 ],\n",
       "       [28.09868  ],\n",
       "       [28.13393  ],\n",
       "       [28.563    ],\n",
       "       [28.851269 ],\n",
       "       [28.342663 ],\n",
       "       [26.588367 ],\n",
       "       [27.053152 ],\n",
       "       [26.782598 ],\n",
       "       [26.726429 ],\n",
       "       [26.790274 ],\n",
       "       [27.32916  ],\n",
       "       [27.5645   ],\n",
       "       [27.270061 ],\n",
       "       [28.119946 ],\n",
       "       [27.945505 ],\n",
       "       [27.034157 ],\n",
       "       [27.091078 ],\n",
       "       [26.665638 ],\n",
       "       [26.5004   ],\n",
       "       [26.484333 ],\n",
       "       [25.153742 ],\n",
       "       [25.192717 ],\n",
       "       [25.317017 ],\n",
       "       [25.882378 ],\n",
       "       [25.803425 ],\n",
       "       [26.232065 ],\n",
       "       [26.022917 ],\n",
       "       [24.587925 ],\n",
       "       [24.80498  ],\n",
       "       [25.338238 ],\n",
       "       [25.83303  ],\n",
       "       [26.548792 ],\n",
       "       [26.698835 ],\n",
       "       [27.063547 ],\n",
       "       [27.032585 ],\n",
       "       [27.35304  ],\n",
       "       [27.070103 ],\n",
       "       [27.815601 ],\n",
       "       [28.34413  ],\n",
       "       [28.926027 ],\n",
       "       [28.284012 ],\n",
       "       [28.408594 ],\n",
       "       [28.760622 ],\n",
       "       [28.733397 ],\n",
       "       [29.108076 ],\n",
       "       [29.239826 ],\n",
       "       [29.247343 ],\n",
       "       [29.19054  ],\n",
       "       [27.846638 ],\n",
       "       [28.286564 ],\n",
       "       [27.555723 ],\n",
       "       [27.342432 ],\n",
       "       [28.441732 ],\n",
       "       [28.23659  ],\n",
       "       [28.537071 ],\n",
       "       [28.573545 ],\n",
       "       [27.356657 ],\n",
       "       [27.844925 ],\n",
       "       [26.021738 ],\n",
       "       [26.239113 ],\n",
       "       [25.927114 ],\n",
       "       [25.906252 ],\n",
       "       [26.283783 ],\n",
       "       [26.167875 ],\n",
       "       [26.212149 ],\n",
       "       [26.57569  ],\n",
       "       [26.448608 ],\n",
       "       [26.546967 ],\n",
       "       [26.27921  ],\n",
       "       [26.20273  ],\n",
       "       [26.583763 ],\n",
       "       [27.404894 ],\n",
       "       [27.893726 ],\n",
       "       [28.973648 ],\n",
       "       [28.23648  ],\n",
       "       [29.25263  ],\n",
       "       [28.8764   ],\n",
       "       [29.090601 ],\n",
       "       [28.315897 ],\n",
       "       [28.855473 ],\n",
       "       [28.523489 ],\n",
       "       [29.179337 ],\n",
       "       [28.890451 ],\n",
       "       [28.79292  ],\n",
       "       [28.997143 ],\n",
       "       [28.996704 ],\n",
       "       [28.674074 ],\n",
       "       [29.031212 ],\n",
       "       [29.121216 ],\n",
       "       [28.883327 ],\n",
       "       [28.049051 ],\n",
       "       [28.112429 ],\n",
       "       [28.199451 ],\n",
       "       [28.189453 ],\n",
       "       [28.494505 ],\n",
       "       [28.575808 ]], dtype=float32)"
      ]
     },
     "execution_count": 115,
     "metadata": {},
     "output_type": "execute_result"
    }
   ],
   "source": [
    "# Prediction\n",
    "prev = model.predict(X_test)\n",
    "prev = std.inverse_transform(prev)\n",
    "prev"
   ]
  },
  {
   "cell_type": "code",
   "execution_count": 116,
   "id": "65a03d6d-52f5-4782-8179-0342e3a61f6d",
   "metadata": {
    "ExecuteTime": {
     "end_time": "2022-03-19T15:55:34.264566Z",
     "start_time": "2022-03-19T15:55:34.259648Z"
    },
    "hidden": true
   },
   "outputs": [
    {
     "data": {
      "text/plain": [
       "519"
      ]
     },
     "execution_count": 116,
     "metadata": {},
     "output_type": "execute_result"
    }
   ],
   "source": [
    "# Predict the next 10 days\n",
    "lenght_test = len(test)\n",
    "lenght_test"
   ]
  },
  {
   "cell_type": "code",
   "execution_count": 117,
   "id": "fad1bdda-522f-44a6-8b79-b13151cb055c",
   "metadata": {
    "ExecuteTime": {
     "end_time": "2022-03-19T15:55:35.110289Z",
     "start_time": "2022-03-19T15:55:35.105529Z"
    },
    "hidden": true
   },
   "outputs": [
    {
     "data": {
      "text/plain": [
       "504"
      ]
     },
     "execution_count": 117,
     "metadata": {},
     "output_type": "execute_result"
    }
   ],
   "source": [
    "# Get the last days to step\n",
    "days_input_steps =lenght_test - steps\n",
    "days_input_steps"
   ]
  },
  {
   "cell_type": "code",
   "execution_count": 118,
   "id": "be0170bc-40b7-4f05-a586-7471c1278956",
   "metadata": {
    "ExecuteTime": {
     "end_time": "2022-03-19T15:55:36.002352Z",
     "start_time": "2022-03-19T15:55:35.996496Z"
    },
    "hidden": true
   },
   "outputs": [
    {
     "data": {
      "text/plain": [
       "array([[1.41048896, 1.4595649 , 1.43502693, 1.3873142 , 1.41185218,\n",
       "        1.46501778, 1.36959234, 1.25644502, 1.2618979 , 1.25644502,\n",
       "        1.27961977, 1.33687504, 1.3409647 , 1.30824741, 1.29597842]])"
      ]
     },
     "execution_count": 118,
     "metadata": {},
     "output_type": "execute_result"
    }
   ],
   "source": [
    "# Transform in array\n",
    "input_steps = test[days_input_steps:]\n",
    "input_steps = np.array(input_steps).reshape(1, -1)\n",
    "input_steps"
   ]
  },
  {
   "cell_type": "code",
   "execution_count": 119,
   "id": "d64943bc-8518-4f26-ab1a-47a3b0544cd6",
   "metadata": {
    "ExecuteTime": {
     "end_time": "2022-03-19T15:55:36.842730Z",
     "start_time": "2022-03-19T15:55:36.836938Z"
    },
    "hidden": true
   },
   "outputs": [
    {
     "data": {
      "text/plain": [
       "[1.4104889554776525,\n",
       " 1.459564899170591,\n",
       " 1.4350269273241218,\n",
       " 1.3873142042893207,\n",
       " 1.4118521761357898,\n",
       " 1.46501778180314,\n",
       " 1.3695923357335371,\n",
       " 1.2564450211081513,\n",
       " 1.2618979037406999,\n",
       " 1.2564450211081513,\n",
       " 1.279619772296483,\n",
       " 1.336875039938245,\n",
       " 1.3409647019126567,\n",
       " 1.3082474061173641,\n",
       " 1.2959784201941293]"
      ]
     },
     "execution_count": 119,
     "metadata": {},
     "output_type": "execute_result"
    }
   ],
   "source": [
    "# Return in list\n",
    "list_output_steps = list(input_steps)\n",
    "list_output_steps = list_output_steps[0].tolist()\n",
    "list_output_steps"
   ]
  },
  {
   "cell_type": "code",
   "execution_count": 120,
   "id": "9cf6a4e6-6802-4ef7-9b8d-ac14c832d2b3",
   "metadata": {
    "ExecuteTime": {
     "end_time": "2022-03-19T15:55:38.295268Z",
     "start_time": "2022-03-19T15:55:37.903876Z"
    },
    "hidden": true
   },
   "outputs": [
    {
     "name": "stdout",
     "output_type": "stream",
     "text": [
      "[1.2765234]\n",
      "16\n",
      "Day 1. Value Entrance → [1.4595649  1.43502693 1.3873142  1.41185218 1.46501778 1.36959234\n",
      " 1.25644502 1.2618979  1.25644502 1.27961977 1.33687504 1.3409647\n",
      " 1.30824741 1.29597842 1.27652335]\n",
      "Day 1. Value Predict → [[1.2627566]]\n",
      "Day 2. Value Entrance → [1.43502693 1.3873142  1.41185218 1.46501778 1.36959234 1.25644502\n",
      " 1.2618979  1.25644502 1.27961977 1.33687504 1.3409647  1.30824741\n",
      " 1.29597842 1.27652335 1.26275659]\n",
      "Day 2. Value Predict → [[1.2471215]]\n",
      "Day 3. Value Entrance → [1.3873142  1.41185218 1.46501778 1.36959234 1.25644502 1.2618979\n",
      " 1.25644502 1.27961977 1.33687504 1.3409647  1.30824741 1.29597842\n",
      " 1.27652335 1.26275659 1.24712145]\n",
      "Day 3. Value Predict → [[1.2382488]]\n",
      "Day 4. Value Entrance → [1.41185218 1.46501778 1.36959234 1.25644502 1.2618979  1.25644502\n",
      " 1.27961977 1.33687504 1.3409647  1.30824741 1.29597842 1.27652335\n",
      " 1.26275659 1.24712145 1.23824883]\n",
      "Day 4. Value Predict → [[1.2371438]]\n",
      "Day 5. Value Entrance → [1.46501778 1.36959234 1.25644502 1.2618979  1.25644502 1.27961977\n",
      " 1.33687504 1.3409647  1.30824741 1.29597842 1.27652335 1.26275659\n",
      " 1.24712145 1.23824883 1.23714375]\n",
      "Day 5. Value Predict → [[1.2346741]]\n",
      "Day 6. Value Entrance → [1.36959234 1.25644502 1.2618979  1.25644502 1.27961977 1.33687504\n",
      " 1.3409647  1.30824741 1.29597842 1.27652335 1.26275659 1.24712145\n",
      " 1.23824883 1.23714375 1.2346741 ]\n",
      "Day 6. Value Predict → [[1.2294127]]\n",
      "Day 7. Value Entrance → [1.25644502 1.2618979  1.25644502 1.27961977 1.33687504 1.3409647\n",
      " 1.30824741 1.29597842 1.27652335 1.26275659 1.24712145 1.23824883\n",
      " 1.23714375 1.2346741  1.22941267]\n",
      "Day 7. Value Predict → [[1.2196072]]\n",
      "Day 8. Value Entrance → [1.2618979  1.25644502 1.27961977 1.33687504 1.3409647  1.30824741\n",
      " 1.29597842 1.27652335 1.26275659 1.24712145 1.23824883 1.23714375\n",
      " 1.2346741  1.22941267 1.21960723]\n",
      "Day 8. Value Predict → [[1.2090242]]\n",
      "Day 9. Value Entrance → [1.25644502 1.27961977 1.33687504 1.3409647  1.30824741 1.29597842\n",
      " 1.27652335 1.26275659 1.24712145 1.23824883 1.23714375 1.2346741\n",
      " 1.22941267 1.21960723 1.20902419]\n",
      "Day 9. Value Predict → [[1.1998847]]\n",
      "[[1.2765233516693115], [1.262756586074829], [1.2471214532852173], [1.2382488250732422], [1.2371437549591064], [1.234674096107483], [1.2294126749038696], [1.2196072340011597], [1.20902419090271], [1.1998846530914307]]\n"
     ]
    }
   ],
   "source": [
    "#Loop to preview the next 10 days\n",
    "pred_output = [] #→ recebe os dias a serem previstos\n",
    "i = 0\n",
    "n_future = 10\n",
    "while(i<n_future):\n",
    "    if(len(list_output_steps) > steps):\n",
    "       input_steps = np.array(list_output_steps[1:])\n",
    "       print('Day {}. Value Entrance → {}'.format(i, input_steps))\n",
    "       input_steps = input_steps.reshape(1, -1)\n",
    "       input_steps = input_steps.reshape((1, steps, 1))\n",
    "       #print(input_steps)\n",
    "       pred = model.predict(input_steps, verbose=0)\n",
    "       print('Day {}. Value Predict → {}'.format(i, pred))\n",
    "       list_output_steps.extend(pred[0].tolist())\n",
    "       list_output_steps = list_output_steps[1:]\n",
    "       #print(list_output_steps)\n",
    "       pred_output.extend(pred.tolist())\n",
    "       i = i+1\n",
    "       \n",
    "    else:\n",
    "       input_steps = input_steps.reshape((1, steps, 1))\n",
    "       pred= model.predict(input_steps, verbose=0)\n",
    "       print(pred[0])\n",
    "       list_output_steps.extend(pred[0].tolist())\n",
    "       print(len(list_output_steps))\n",
    "       pred_output.extend(pred.tolist())\n",
    "       i = i+1\n",
    "       \n",
    "print(pred_output)\n",
    "       \n",
    "       "
   ]
  },
  {
   "cell_type": "code",
   "execution_count": 121,
   "id": "e9a09e87-5461-467a-829c-3f89e35580ad",
   "metadata": {
    "ExecuteTime": {
     "end_time": "2022-03-19T15:55:38.789772Z",
     "start_time": "2022-03-19T15:55:38.782176Z"
    },
    "hidden": true
   },
   "outputs": [
    {
     "data": {
      "text/plain": [
       "[28.307285991019214,\n",
       " 28.206298924015005,\n",
       " 28.09160631943713,\n",
       " 28.02652053776992,\n",
       " 28.018414219049323,\n",
       " 28.000297864687454,\n",
       " 27.961702343322607,\n",
       " 27.889773849251007,\n",
       " 27.812141200161676,\n",
       " 27.745097484555366]"
      ]
     },
     "execution_count": 121,
     "metadata": {},
     "output_type": "execute_result"
    }
   ],
   "source": [
    "# transform exit\n",
    "prev = std.inverse_transform(pred_output)\n",
    "prev = np.array(prev).reshape(1, -1)\n",
    "list_output_prev = list(prev)\n",
    "list_output_prev = prev[0].tolist()\n",
    "list_output_prev"
   ]
  },
  {
   "cell_type": "code",
   "execution_count": 122,
   "id": "60dfd2ef-0c94-4542-8dac-8fad135df356",
   "metadata": {
    "ExecuteTime": {
     "end_time": "2022-03-19T15:55:39.519939Z",
     "start_time": "2022-03-19T15:55:39.509818Z"
    },
    "hidden": true
   },
   "outputs": [
    {
     "data": {
      "text/plain": [
       "[Timestamp('2021-12-31 00:00:00', freq='B'),\n",
       " Timestamp('2022-01-03 00:00:00', freq='B'),\n",
       " Timestamp('2022-01-04 00:00:00', freq='B'),\n",
       " Timestamp('2022-01-05 00:00:00', freq='B'),\n",
       " Timestamp('2022-01-06 00:00:00', freq='B'),\n",
       " Timestamp('2022-01-07 00:00:00', freq='B'),\n",
       " Timestamp('2022-01-10 00:00:00', freq='B'),\n",
       " Timestamp('2022-01-11 00:00:00', freq='B'),\n",
       " Timestamp('2022-01-12 00:00:00', freq='B'),\n",
       " Timestamp('2022-01-13 00:00:00', freq='B')]"
      ]
     },
     "execution_count": 122,
     "metadata": {},
     "output_type": "execute_result"
    }
   ],
   "source": [
    "# format exit (date to predict)\n",
    "dates = pd.to_datetime(df_petro['data_pregao'])\n",
    "predict_dates = pd.date_range(list(dates)[-1] + pd.DateOffset(1), periods=10, freq='b').to_list()\n",
    "predict_dates"
   ]
  },
  {
   "cell_type": "code",
   "execution_count": 123,
   "id": "adcef319-aafa-4ca0-a982-4906ce74e459",
   "metadata": {
    "ExecuteTime": {
     "end_time": "2022-03-19T15:55:40.153726Z",
     "start_time": "2022-03-19T15:55:40.146711Z"
    },
    "hidden": true
   },
   "outputs": [],
   "source": [
    "# New DataFrame \n",
    "forecast_dates = []\n",
    "for i in predict_dates:\n",
    "    forecast_dates.append(i.date())\n",
    "    \n",
    "df_forecast = pd.DataFrame({'data_pregao':np.array(forecast_dates), 'preco_fechamento':list_output_prev})\n",
    "df_forecast['data_pregao'] = pd.to_datetime(df_forecast['data_pregao'])"
   ]
  },
  {
   "cell_type": "code",
   "execution_count": 124,
   "id": "48fe5cea-2dc8-429a-b897-68a9e182ef1c",
   "metadata": {
    "ExecuteTime": {
     "end_time": "2022-03-19T15:55:40.977384Z",
     "start_time": "2022-03-19T15:55:40.967103Z"
    },
    "hidden": true
   },
   "outputs": [
    {
     "data": {
      "text/html": [
       "<div>\n",
       "<style scoped>\n",
       "    .dataframe tbody tr th:only-of-type {\n",
       "        vertical-align: middle;\n",
       "    }\n",
       "\n",
       "    .dataframe tbody tr th {\n",
       "        vertical-align: top;\n",
       "    }\n",
       "\n",
       "    .dataframe thead th {\n",
       "        text-align: right;\n",
       "    }\n",
       "</style>\n",
       "<table border=\"1\" class=\"dataframe\">\n",
       "  <thead>\n",
       "    <tr style=\"text-align: right;\">\n",
       "      <th></th>\n",
       "      <th>preco_fechamento</th>\n",
       "    </tr>\n",
       "  </thead>\n",
       "  <tbody>\n",
       "    <tr>\n",
       "      <th>2021-12-31</th>\n",
       "      <td>28.307286</td>\n",
       "    </tr>\n",
       "    <tr>\n",
       "      <th>2022-01-03</th>\n",
       "      <td>28.206299</td>\n",
       "    </tr>\n",
       "    <tr>\n",
       "      <th>2022-01-04</th>\n",
       "      <td>28.091606</td>\n",
       "    </tr>\n",
       "    <tr>\n",
       "      <th>2022-01-05</th>\n",
       "      <td>28.026521</td>\n",
       "    </tr>\n",
       "    <tr>\n",
       "      <th>2022-01-06</th>\n",
       "      <td>28.018414</td>\n",
       "    </tr>\n",
       "    <tr>\n",
       "      <th>2022-01-07</th>\n",
       "      <td>28.000298</td>\n",
       "    </tr>\n",
       "    <tr>\n",
       "      <th>2022-01-10</th>\n",
       "      <td>27.961702</td>\n",
       "    </tr>\n",
       "    <tr>\n",
       "      <th>2022-01-11</th>\n",
       "      <td>27.889774</td>\n",
       "    </tr>\n",
       "    <tr>\n",
       "      <th>2022-01-12</th>\n",
       "      <td>27.812141</td>\n",
       "    </tr>\n",
       "    <tr>\n",
       "      <th>2022-01-13</th>\n",
       "      <td>27.745097</td>\n",
       "    </tr>\n",
       "  </tbody>\n",
       "</table>\n",
       "</div>"
      ],
      "text/plain": [
       "            preco_fechamento\n",
       "2021-12-31         28.307286\n",
       "2022-01-03         28.206299\n",
       "2022-01-04         28.091606\n",
       "2022-01-05         28.026521\n",
       "2022-01-06         28.018414\n",
       "2022-01-07         28.000298\n",
       "2022-01-10         27.961702\n",
       "2022-01-11         27.889774\n",
       "2022-01-12         27.812141\n",
       "2022-01-13         27.745097"
      ]
     },
     "execution_count": 124,
     "metadata": {},
     "output_type": "execute_result"
    }
   ],
   "source": [
    "df_forecast = df_forecast.set_index(pd.DatetimeIndex(df_forecast['data_pregao'].values))\n",
    "df_forecast.drop('data_pregao', axis=1, inplace=True)\n",
    "df_forecast\n",
    "\n",
    "    "
   ]
  },
  {
   "cell_type": "code",
   "execution_count": 125,
   "id": "d79a2fd5-efae-4dd9-ad62-e63b74529a45",
   "metadata": {
    "ExecuteTime": {
     "end_time": "2022-03-19T15:55:41.927104Z",
     "start_time": "2022-03-19T15:55:41.746193Z"
    },
    "hidden": true
   },
   "outputs": [
    {
     "data": {
      "image/png": "[encoded data removed]",
      "text/plain": [
       "<Figure size 1152x576 with 1 Axes>"
      ]
     },
     "metadata": {
      "needs_background": "light"
     },
     "output_type": "display_data"
    }
   ],
   "source": [
    "plt.figure(figsize=(16,8))\n",
    "plt.title('Price Share Value')\n",
    "plt.plot(df_petro_cls['preco_fechamento'])\n",
    "plt.plot(df_forecast['preco_fechamento'])\n",
    "plt.legend(['Price Closed', 'Price Predicted'])\n",
    "plt.show();\n"
   ]
  },
  {
   "cell_type": "code",
   "execution_count": 126,
   "id": "5ba369f8",
   "metadata": {
    "ExecuteTime": {
     "end_time": "2022-03-19T15:55:55.445172Z",
     "start_time": "2022-03-19T15:55:55.084187Z"
    },
    "hidden": true
   },
   "outputs": [
    {
     "data": {
      "image/png": "[encoded data removed]",
      "text/plain": [
       "<Figure size 1296x720 with 3 Axes>"
      ]
     },
     "metadata": {
      "needs_background": "light"
     },
     "output_type": "display_data"
    }
   ],
   "source": [
    "b = df_petro[df_petro['data_pregao'] > '2020-01-01']\n",
    "fig = plt.figure(figsize=(18, 10))\n",
    "plt.subplots_adjust(bottom = 0., left = 0, top = 1., right = 1)\n",
    "\n",
    "# Create first axes, the top-left plot with green plot\n",
    "sub1 = fig.add_subplot(2,2,1) # two rows, two columns, fist cell\n",
    "plt.plot(b['preco_fechamento'], color='darkslateblue')\n",
    "# Create second axes, the top-left plot with orange plot\n",
    "sub2 = fig.add_subplot(2,2,2) # two rows, two columns, second cell\n",
    "plt.plot(df_forecast['preco_fechamento'], label='Predict Value', color='orange', marker='o');\n",
    "\n",
    "# Create third axes, a combination of third and fourth cell\n",
    "sub3 = fig.add_subplot(2,2,(3,4)) # two rows, two colums, combined third and fourth cell\n",
    "plt.plot(df_petro_cls['preco_fechamento'],color='darkslateblue')\n",
    "plt.plot(df_forecast['preco_fechamento'], color='orange');"
   ]
  },
  {
   "cell_type": "markdown",
   "id": "8722ad71",
   "metadata": {},
   "source": [
    "# Comparando os Dados Reais de 2022 e minha Previsão"
   ]
  },
  {
   "cell_type": "code",
   "execution_count": 127,
   "id": "438b003a",
   "metadata": {
    "ExecuteTime": {
     "end_time": "2022-03-19T16:11:42.510355Z",
     "start_time": "2022-03-19T16:11:42.458331Z"
    }
   },
   "outputs": [],
   "source": [
    "df_2022 = pd.read_csv('../data/b3_bovespa_2022.csv')"
   ]
  },
  {
   "cell_type": "code",
   "execution_count": 128,
   "id": "a86c6907",
   "metadata": {
    "ExecuteTime": {
     "end_time": "2022-03-19T16:11:43.101063Z",
     "start_time": "2022-03-19T16:11:43.089194Z"
    }
   },
   "outputs": [],
   "source": [
    "df_2022['data_pregao'] = pd.to_datetime(df_2022['data_pregao'], format='%Y-%m-%d')"
   ]
  },
  {
   "cell_type": "code",
   "execution_count": 129,
   "id": "b01badbe",
   "metadata": {
    "ExecuteTime": {
     "end_time": "2022-03-19T16:11:43.942163Z",
     "start_time": "2022-03-19T16:11:43.936494Z"
    }
   },
   "outputs": [],
   "source": [
    "df = df_2022.copy()"
   ]
  },
  {
   "cell_type": "code",
   "execution_count": 130,
   "id": "0312584f",
   "metadata": {
    "ExecuteTime": {
     "end_time": "2022-03-19T16:11:44.560565Z",
     "start_time": "2022-03-19T16:11:44.548311Z"
    }
   },
   "outputs": [],
   "source": [
    "df = df[df['sigla_acao'] == 'PETR4']\n",
    "df = df[df['data_pregao'] <= '2022-01-13']"
   ]
  },
  {
   "cell_type": "code",
   "execution_count": 131,
   "id": "e12e2dca",
   "metadata": {
    "ExecuteTime": {
     "end_time": "2022-03-19T16:18:21.035448Z",
     "start_time": "2022-03-19T16:18:21.017792Z"
    }
   },
   "outputs": [
    {
     "data": {
      "text/html": [
       "<div>\n",
       "<style scoped>\n",
       "    .dataframe tbody tr th:only-of-type {\n",
       "        vertical-align: middle;\n",
       "    }\n",
       "\n",
       "    .dataframe tbody tr th {\n",
       "        vertical-align: top;\n",
       "    }\n",
       "\n",
       "    .dataframe thead th {\n",
       "        text-align: right;\n",
       "    }\n",
       "</style>\n",
       "<table border=\"1\" class=\"dataframe\">\n",
       "  <thead>\n",
       "    <tr style=\"text-align: right;\">\n",
       "      <th></th>\n",
       "      <th>codbdi</th>\n",
       "      <th>sigla_acao</th>\n",
       "      <th>nome_acao</th>\n",
       "      <th>preco_abertura</th>\n",
       "      <th>preco_maximo</th>\n",
       "      <th>preco_minimo</th>\n",
       "      <th>preco_fechamento</th>\n",
       "      <th>qtd_negocios</th>\n",
       "      <th>volume_negocios</th>\n",
       "    </tr>\n",
       "  </thead>\n",
       "  <tbody>\n",
       "    <tr>\n",
       "      <th>2022-01-03</th>\n",
       "      <td>2.0</td>\n",
       "      <td>PETR4</td>\n",
       "      <td>PETROBRAS</td>\n",
       "      <td>28.54</td>\n",
       "      <td>29.22</td>\n",
       "      <td>28.53</td>\n",
       "      <td>29.09</td>\n",
       "      <td>52704700</td>\n",
       "      <td>15</td>\n",
       "    </tr>\n",
       "    <tr>\n",
       "      <th>2022-01-04</th>\n",
       "      <td>2.0</td>\n",
       "      <td>PETR4</td>\n",
       "      <td>PETROBRAS</td>\n",
       "      <td>29.16</td>\n",
       "      <td>29.40</td>\n",
       "      <td>28.91</td>\n",
       "      <td>29.20</td>\n",
       "      <td>51739200</td>\n",
       "      <td>15</td>\n",
       "    </tr>\n",
       "    <tr>\n",
       "      <th>2022-01-05</th>\n",
       "      <td>2.0</td>\n",
       "      <td>PETR4</td>\n",
       "      <td>PETROBRAS</td>\n",
       "      <td>29.19</td>\n",
       "      <td>29.27</td>\n",
       "      <td>27.94</td>\n",
       "      <td>28.07</td>\n",
       "      <td>78459800</td>\n",
       "      <td>22</td>\n",
       "    </tr>\n",
       "    <tr>\n",
       "      <th>2022-01-06</th>\n",
       "      <td>2.0</td>\n",
       "      <td>PETR4</td>\n",
       "      <td>PETROBRAS</td>\n",
       "      <td>28.29</td>\n",
       "      <td>28.65</td>\n",
       "      <td>27.84</td>\n",
       "      <td>28.05</td>\n",
       "      <td>61163100</td>\n",
       "      <td>17</td>\n",
       "    </tr>\n",
       "    <tr>\n",
       "      <th>2022-01-07</th>\n",
       "      <td>2.0</td>\n",
       "      <td>PETR4</td>\n",
       "      <td>PETROBRAS</td>\n",
       "      <td>28.11</td>\n",
       "      <td>28.29</td>\n",
       "      <td>27.82</td>\n",
       "      <td>28.18</td>\n",
       "      <td>47507600</td>\n",
       "      <td>13</td>\n",
       "    </tr>\n",
       "    <tr>\n",
       "      <th>2022-01-10</th>\n",
       "      <td>2.0</td>\n",
       "      <td>PETR4</td>\n",
       "      <td>PETROBRAS</td>\n",
       "      <td>27.99</td>\n",
       "      <td>28.24</td>\n",
       "      <td>27.72</td>\n",
       "      <td>28.01</td>\n",
       "      <td>37455200</td>\n",
       "      <td>10</td>\n",
       "    </tr>\n",
       "    <tr>\n",
       "      <th>2022-01-11</th>\n",
       "      <td>2.0</td>\n",
       "      <td>PETR4</td>\n",
       "      <td>PETROBRAS</td>\n",
       "      <td>28.10</td>\n",
       "      <td>29.07</td>\n",
       "      <td>27.85</td>\n",
       "      <td>28.84</td>\n",
       "      <td>73623800</td>\n",
       "      <td>21</td>\n",
       "    </tr>\n",
       "    <tr>\n",
       "      <th>2022-01-12</th>\n",
       "      <td>2.0</td>\n",
       "      <td>PETR4</td>\n",
       "      <td>PETROBRAS</td>\n",
       "      <td>28.95</td>\n",
       "      <td>29.91</td>\n",
       "      <td>28.95</td>\n",
       "      <td>29.72</td>\n",
       "      <td>81378200</td>\n",
       "      <td>24</td>\n",
       "    </tr>\n",
       "    <tr>\n",
       "      <th>2022-01-13</th>\n",
       "      <td>2.0</td>\n",
       "      <td>PETR4</td>\n",
       "      <td>PETROBRAS</td>\n",
       "      <td>29.53</td>\n",
       "      <td>30.63</td>\n",
       "      <td>29.50</td>\n",
       "      <td>30.32</td>\n",
       "      <td>76717500</td>\n",
       "      <td>23</td>\n",
       "    </tr>\n",
       "  </tbody>\n",
       "</table>\n",
       "</div>"
      ],
      "text/plain": [
       "            codbdi sigla_acao  nome_acao  preco_abertura  preco_maximo  \\\n",
       "2022-01-03     2.0      PETR4  PETROBRAS           28.54         29.22   \n",
       "2022-01-04     2.0      PETR4  PETROBRAS           29.16         29.40   \n",
       "2022-01-05     2.0      PETR4  PETROBRAS           29.19         29.27   \n",
       "2022-01-06     2.0      PETR4  PETROBRAS           28.29         28.65   \n",
       "2022-01-07     2.0      PETR4  PETROBRAS           28.11         28.29   \n",
       "2022-01-10     2.0      PETR4  PETROBRAS           27.99         28.24   \n",
       "2022-01-11     2.0      PETR4  PETROBRAS           28.10         29.07   \n",
       "2022-01-12     2.0      PETR4  PETROBRAS           28.95         29.91   \n",
       "2022-01-13     2.0      PETR4  PETROBRAS           29.53         30.63   \n",
       "\n",
       "            preco_minimo  preco_fechamento  qtd_negocios  volume_negocios  \n",
       "2022-01-03         28.53             29.09      52704700               15  \n",
       "2022-01-04         28.91             29.20      51739200               15  \n",
       "2022-01-05         27.94             28.07      78459800               22  \n",
       "2022-01-06         27.84             28.05      61163100               17  \n",
       "2022-01-07         27.82             28.18      47507600               13  \n",
       "2022-01-10         27.72             28.01      37455200               10  \n",
       "2022-01-11         27.85             28.84      73623800               21  \n",
       "2022-01-12         28.95             29.72      81378200               24  \n",
       "2022-01-13         29.50             30.32      76717500               23  "
      ]
     },
     "execution_count": 131,
     "metadata": {},
     "output_type": "execute_result"
    }
   ],
   "source": [
    "# set to index with date\n",
    "df = df.set_index(pd.DatetimeIndex(df['data_pregao'].values))\n",
    "df.drop('data_pregao', axis=1)"
   ]
  },
  {
   "cell_type": "code",
   "execution_count": 132,
   "id": "6d69811a",
   "metadata": {
    "ExecuteTime": {
     "end_time": "2022-03-19T16:19:54.667231Z",
     "start_time": "2022-03-19T16:19:54.372199Z"
    }
   },
   "outputs": [
    {
     "data": {
      "image/png": "[encoded data removed]",
      "text/plain": [
       "<Figure size 1152x576 with 1 Axes>"
      ]
     },
     "metadata": {
      "needs_background": "light"
     },
     "output_type": "display_data"
    }
   ],
   "source": [
    "plt.figure(figsize=(16,8))\n",
    "plt.title('Price Share Value')\n",
    "plt.plot(df['preco_fechamento'],label='Real Value', color='blue', marker='o')\n",
    "plt.plot(df_forecast['preco_fechamento'],label='Predict Value', color='orange', marker='o')\n",
    "plt.legend(['Price Closed', 'Price Predicted'])\n",
    "plt.show();\n"
   ]
  },
  {
   "cell_type": "code",
   "execution_count": null,
   "id": "3f91eb00",
   "metadata": {},
   "outputs": [],
   "source": []
  }
 ],
 "metadata": {
  "hide_input": false,
  "kernelspec": {
   "display_name": "Python 3 (ipykernel)",
   "language": "python",
   "name": "python3"
  },
  "language_info": {
   "codemirror_mode": {
    "name": "ipython",
    "version": 3
   },
   "file_extension": ".py",
   "mimetype": "text/x-python",
   "name": "python",
   "nbconvert_exporter": "python",
   "pygments_lexer": "ipython3",
   "version": "3.8.10"
  },
  "nbTranslate": {
   "displayLangs": [
    "*"
   ],
   "hotkey": "alt-t",
   "langInMainMenu": true,
   "sourceLang": "en",
   "targetLang": "fr",
   "useGoogleTranslate": true
  }
 },
 "nbformat": 4,
 "nbformat_minor": 5
}
