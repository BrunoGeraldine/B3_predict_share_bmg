{
 "cells": [
  {
   "cell_type": "markdown",
   "id": "abce84e2",
   "metadata": {
    "ExecuteTime": {
     "end_time": "2022-03-16T14:23:34.314779Z",
     "start_time": "2022-03-16T14:23:34.311226Z"
    },
    "heading_collapsed": true
   },
   "source": [
    "# 1.0 Import"
   ]
  },
  {
   "cell_type": "code",
   "execution_count": 1,
   "id": "412b5e43",
   "metadata": {
    "ExecuteTime": {
     "end_time": "2022-03-19T15:50:42.616121Z",
     "start_time": "2022-03-19T15:50:40.986967Z"
    },
    "hidden": true
   },
   "outputs": [],
   "source": [
    "#Load and edit dataframe\n",
    "import numpy as np\n",
    "import pandas as pd\n",
    "\n",
    "\n",
    "# Data Visualization\n",
    "import seaborn           as sns\n",
    "import matplotlib.pyplot as plt\n",
    "%matplotlib inline\n",
    "\n",
    "# Select Train and Test\n",
    "from sklearn.model_selection import train_test_split\n",
    "\n",
    "# ML - Algoritms\n",
    "from sklearn.preprocessing   import StandardScaler\n",
    "from tensorflow.keras.models import Sequential\n",
    "from tensorflow.keras.layers import Dense, LSTM, Dropout\n",
    "\n",
    "import warnings \n",
    "warnings.filterwarnings( 'ignore' ) "
   ]
  },
  {
   "cell_type": "markdown",
   "id": "9a0cbaa9",
   "metadata": {
    "hidden": true
   },
   "source": [
    "## Load DataSet"
   ]
  },
  {
   "cell_type": "code",
   "execution_count": 2,
   "id": "2dfb7345",
   "metadata": {
    "ExecuteTime": {
     "end_time": "2022-03-19T15:50:44.652000Z",
     "start_time": "2022-03-19T15:50:44.246625Z"
    },
    "hidden": true
   },
   "outputs": [],
   "source": [
    "df = pd.read_csv('../data/all_b3_bovespa.csv')"
   ]
  },
  {
   "cell_type": "code",
   "execution_count": 3,
   "id": "047ffb4a",
   "metadata": {
    "ExecuteTime": {
     "end_time": "2022-03-19T15:50:45.277658Z",
     "start_time": "2022-03-19T15:50:45.256452Z"
    },
    "hidden": true
   },
   "outputs": [],
   "source": [
    "df_petro = df.copy()"
   ]
  },
  {
   "cell_type": "markdown",
   "id": "fbf7e79a",
   "metadata": {
    "heading_collapsed": true,
    "jp-MarkdownHeadingCollapsed": true,
    "tags": []
   },
   "source": [
    "# Data Analysis\n"
   ]
  },
  {
   "cell_type": "code",
   "execution_count": 4,
   "id": "17adf42d",
   "metadata": {
    "ExecuteTime": {
     "end_time": "2022-03-19T15:50:46.400426Z",
     "start_time": "2022-03-19T15:50:46.395579Z"
    },
    "hidden": true
   },
   "outputs": [
    {
     "name": "stdout",
     "output_type": "stream",
     "text": [
      "nº of columns: 733407, nº of rows:10\n"
     ]
    }
   ],
   "source": [
    "print(f'nº of columns: {df_petro.shape[0]}, nº of rows:{df_petro.shape[1]}')"
   ]
  },
  {
   "cell_type": "code",
   "execution_count": 5,
   "id": "f877b04c-d1e8-4f5e-a080-aa62d4c1fb53",
   "metadata": {
    "ExecuteTime": {
     "end_time": "2022-03-19T15:50:46.983528Z",
     "start_time": "2022-03-19T15:50:46.974630Z"
    },
    "hidden": true
   },
   "outputs": [
    {
     "data": {
      "text/plain": [
       "data_pregao          object\n",
       "codbdi              float64\n",
       "sigla_acao           object\n",
       "nome_acao            object\n",
       "preco_abertura      float64\n",
       "preco_maximo        float64\n",
       "preco_minimo        float64\n",
       "preco_fechamento    float64\n",
       "qtd_negocios          int64\n",
       "volume_negocios       int64\n",
       "dtype: object"
      ]
     },
     "execution_count": 5,
     "metadata": {},
     "output_type": "execute_result"
    }
   ],
   "source": [
    "df_petro.dtypes"
   ]
  },
  {
   "cell_type": "code",
   "execution_count": 6,
   "id": "b68aeb10-69a2-4e4a-8983-e483661b7db5",
   "metadata": {
    "ExecuteTime": {
     "end_time": "2022-03-19T15:50:47.679679Z",
     "start_time": "2022-03-19T15:50:47.633180Z"
    },
    "hidden": true
   },
   "outputs": [
    {
     "data": {
      "text/html": [
       "<div>\n",
       "<style scoped>\n",
       "    .dataframe tbody tr th:only-of-type {\n",
       "        vertical-align: middle;\n",
       "    }\n",
       "\n",
       "    .dataframe tbody tr th {\n",
       "        vertical-align: top;\n",
       "    }\n",
       "\n",
       "    .dataframe thead th {\n",
       "        text-align: right;\n",
       "    }\n",
       "</style>\n",
       "<table border=\"1\" class=\"dataframe\">\n",
       "  <thead>\n",
       "    <tr style=\"text-align: right;\">\n",
       "      <th></th>\n",
       "      <th>data_pregao</th>\n",
       "      <th>codbdi</th>\n",
       "      <th>sigla_acao</th>\n",
       "      <th>nome_acao</th>\n",
       "      <th>preco_abertura</th>\n",
       "      <th>preco_maximo</th>\n",
       "      <th>preco_minimo</th>\n",
       "      <th>preco_fechamento</th>\n",
       "      <th>qtd_negocios</th>\n",
       "      <th>volume_negocios</th>\n",
       "    </tr>\n",
       "  </thead>\n",
       "  <tbody>\n",
       "    <tr>\n",
       "      <th>212</th>\n",
       "      <td>2015-01-02</td>\n",
       "      <td>2.0</td>\n",
       "      <td>PETR3</td>\n",
       "      <td>PETROBRAS</td>\n",
       "      <td>9.58</td>\n",
       "      <td>9.67</td>\n",
       "      <td>9.00</td>\n",
       "      <td>9.00</td>\n",
       "      <td>12710900</td>\n",
       "      <td>1</td>\n",
       "    </tr>\n",
       "    <tr>\n",
       "      <th>213</th>\n",
       "      <td>2015-01-02</td>\n",
       "      <td>2.0</td>\n",
       "      <td>PETR4</td>\n",
       "      <td>PETROBRAS</td>\n",
       "      <td>9.99</td>\n",
       "      <td>9.99</td>\n",
       "      <td>9.36</td>\n",
       "      <td>9.36</td>\n",
       "      <td>48837200</td>\n",
       "      <td>4</td>\n",
       "    </tr>\n",
       "    <tr>\n",
       "      <th>529</th>\n",
       "      <td>2015-01-05</td>\n",
       "      <td>2.0</td>\n",
       "      <td>PETR3</td>\n",
       "      <td>PETROBRAS</td>\n",
       "      <td>8.64</td>\n",
       "      <td>8.96</td>\n",
       "      <td>8.25</td>\n",
       "      <td>8.27</td>\n",
       "      <td>24992200</td>\n",
       "      <td>2</td>\n",
       "    </tr>\n",
       "    <tr>\n",
       "      <th>530</th>\n",
       "      <td>2015-01-05</td>\n",
       "      <td>2.0</td>\n",
       "      <td>PETR4</td>\n",
       "      <td>PETROBRAS</td>\n",
       "      <td>9.14</td>\n",
       "      <td>9.19</td>\n",
       "      <td>8.58</td>\n",
       "      <td>8.61</td>\n",
       "      <td>77077300</td>\n",
       "      <td>6</td>\n",
       "    </tr>\n",
       "    <tr>\n",
       "      <th>828</th>\n",
       "      <td>2015-01-06</td>\n",
       "      <td>2.0</td>\n",
       "      <td>PETR3</td>\n",
       "      <td>PETROBRAS</td>\n",
       "      <td>8.28</td>\n",
       "      <td>8.53</td>\n",
       "      <td>7.78</td>\n",
       "      <td>8.06</td>\n",
       "      <td>29572100</td>\n",
       "      <td>2</td>\n",
       "    </tr>\n",
       "    <tr>\n",
       "      <th>...</th>\n",
       "      <td>...</td>\n",
       "      <td>...</td>\n",
       "      <td>...</td>\n",
       "      <td>...</td>\n",
       "      <td>...</td>\n",
       "      <td>...</td>\n",
       "      <td>...</td>\n",
       "      <td>...</td>\n",
       "      <td>...</td>\n",
       "      <td>...</td>\n",
       "    </tr>\n",
       "    <tr>\n",
       "      <th>733144</th>\n",
       "      <td>2021-12-23</td>\n",
       "      <td>2.0</td>\n",
       "      <td>PETR3</td>\n",
       "      <td>PETROBRAS</td>\n",
       "      <td>30.35</td>\n",
       "      <td>30.68</td>\n",
       "      <td>30.18</td>\n",
       "      <td>30.44</td>\n",
       "      <td>6243500</td>\n",
       "      <td>1</td>\n",
       "    </tr>\n",
       "    <tr>\n",
       "      <th>733145</th>\n",
       "      <td>2021-12-27</td>\n",
       "      <td>2.0</td>\n",
       "      <td>PETR3</td>\n",
       "      <td>PETROBRAS</td>\n",
       "      <td>30.44</td>\n",
       "      <td>31.23</td>\n",
       "      <td>30.24</td>\n",
       "      <td>31.04</td>\n",
       "      <td>17868100</td>\n",
       "      <td>5</td>\n",
       "    </tr>\n",
       "    <tr>\n",
       "      <th>733146</th>\n",
       "      <td>2021-12-28</td>\n",
       "      <td>2.0</td>\n",
       "      <td>PETR3</td>\n",
       "      <td>PETROBRAS</td>\n",
       "      <td>31.26</td>\n",
       "      <td>31.47</td>\n",
       "      <td>31.00</td>\n",
       "      <td>31.06</td>\n",
       "      <td>8078000</td>\n",
       "      <td>2</td>\n",
       "    </tr>\n",
       "    <tr>\n",
       "      <th>733147</th>\n",
       "      <td>2021-12-29</td>\n",
       "      <td>2.0</td>\n",
       "      <td>PETR3</td>\n",
       "      <td>PETROBRAS</td>\n",
       "      <td>31.01</td>\n",
       "      <td>31.34</td>\n",
       "      <td>30.75</td>\n",
       "      <td>30.95</td>\n",
       "      <td>11460950</td>\n",
       "      <td>3</td>\n",
       "    </tr>\n",
       "    <tr>\n",
       "      <th>733148</th>\n",
       "      <td>2021-12-30</td>\n",
       "      <td>2.0</td>\n",
       "      <td>PETR3</td>\n",
       "      <td>PETROBRAS</td>\n",
       "      <td>30.95</td>\n",
       "      <td>31.13</td>\n",
       "      <td>30.55</td>\n",
       "      <td>30.70</td>\n",
       "      <td>34157000</td>\n",
       "      <td>10</td>\n",
       "    </tr>\n",
       "  </tbody>\n",
       "</table>\n",
       "<p>3460 rows × 10 columns</p>\n",
       "</div>"
      ],
      "text/plain": [
       "       data_pregao  codbdi sigla_acao  nome_acao  preco_abertura  \\\n",
       "212     2015-01-02     2.0      PETR3  PETROBRAS            9.58   \n",
       "213     2015-01-02     2.0      PETR4  PETROBRAS            9.99   \n",
       "529     2015-01-05     2.0      PETR3  PETROBRAS            8.64   \n",
       "530     2015-01-05     2.0      PETR4  PETROBRAS            9.14   \n",
       "828     2015-01-06     2.0      PETR3  PETROBRAS            8.28   \n",
       "...            ...     ...        ...        ...             ...   \n",
       "733144  2021-12-23     2.0      PETR3  PETROBRAS           30.35   \n",
       "733145  2021-12-27     2.0      PETR3  PETROBRAS           30.44   \n",
       "733146  2021-12-28     2.0      PETR3  PETROBRAS           31.26   \n",
       "733147  2021-12-29     2.0      PETR3  PETROBRAS           31.01   \n",
       "733148  2021-12-30     2.0      PETR3  PETROBRAS           30.95   \n",
       "\n",
       "        preco_maximo  preco_minimo  preco_fechamento  qtd_negocios  \\\n",
       "212             9.67          9.00              9.00      12710900   \n",
       "213             9.99          9.36              9.36      48837200   \n",
       "529             8.96          8.25              8.27      24992200   \n",
       "530             9.19          8.58              8.61      77077300   \n",
       "828             8.53          7.78              8.06      29572100   \n",
       "...              ...           ...               ...           ...   \n",
       "733144         30.68         30.18             30.44       6243500   \n",
       "733145         31.23         30.24             31.04      17868100   \n",
       "733146         31.47         31.00             31.06       8078000   \n",
       "733147         31.34         30.75             30.95      11460950   \n",
       "733148         31.13         30.55             30.70      34157000   \n",
       "\n",
       "        volume_negocios  \n",
       "212                   1  \n",
       "213                   4  \n",
       "529                   2  \n",
       "530                   6  \n",
       "828                   2  \n",
       "...                 ...  \n",
       "733144                1  \n",
       "733145                5  \n",
       "733146                2  \n",
       "733147                3  \n",
       "733148               10  \n",
       "\n",
       "[3460 rows x 10 columns]"
      ]
     },
     "execution_count": 6,
     "metadata": {},
     "output_type": "execute_result"
    }
   ],
   "source": [
    "a = df_petro[df_petro['nome_acao']=='PETROBRAS']\n",
    "a"
   ]
  },
  {
   "cell_type": "markdown",
   "id": "bd97ec11",
   "metadata": {
    "heading_collapsed": true,
    "jp-MarkdownHeadingCollapsed": true,
    "tags": []
   },
   "source": [
    "# Data transformation"
   ]
  },
  {
   "cell_type": "code",
   "execution_count": 7,
   "id": "b1cb0d01",
   "metadata": {
    "ExecuteTime": {
     "end_time": "2022-03-19T15:50:49.004865Z",
     "start_time": "2022-03-19T15:50:48.937512Z"
    },
    "hidden": true
   },
   "outputs": [],
   "source": [
    "df_petro['data_pregao'] = pd.to_datetime(df_petro['data_pregao'], format='%Y-%m-%d')"
   ]
  },
  {
   "cell_type": "code",
   "execution_count": 8,
   "id": "c580c4b7-4716-4fd7-86a5-41130eebb72f",
   "metadata": {
    "ExecuteTime": {
     "end_time": "2022-03-19T15:50:49.655922Z",
     "start_time": "2022-03-19T15:50:49.650040Z"
    },
    "hidden": true
   },
   "outputs": [
    {
     "data": {
      "text/plain": [
       "data_pregao         datetime64[ns]\n",
       "codbdi                     float64\n",
       "sigla_acao                  object\n",
       "nome_acao                   object\n",
       "preco_abertura             float64\n",
       "preco_maximo               float64\n",
       "preco_minimo               float64\n",
       "preco_fechamento           float64\n",
       "qtd_negocios                 int64\n",
       "volume_negocios              int64\n",
       "dtype: object"
      ]
     },
     "execution_count": 8,
     "metadata": {},
     "output_type": "execute_result"
    }
   ],
   "source": [
    "df_petro.dtypes"
   ]
  },
  {
   "cell_type": "markdown",
   "id": "78ae7dc2",
   "metadata": {
    "heading_collapsed": true,
    "jp-MarkdownHeadingCollapsed": true,
    "tags": []
   },
   "source": [
    "# Select only one share to predict"
   ]
  },
  {
   "cell_type": "code",
   "execution_count": 9,
   "id": "c4e8480a",
   "metadata": {
    "ExecuteTime": {
     "end_time": "2022-03-19T15:50:51.157637Z",
     "start_time": "2022-03-19T15:50:51.116805Z"
    },
    "hidden": true
   },
   "outputs": [
    {
     "name": "stdout",
     "output_type": "stream",
     "text": [
      "nº of rows: 1730, nº of columns:10\n"
     ]
    }
   ],
   "source": [
    "# Filter share_data\n",
    "df_petro = df[df['sigla_acao']=='PETR4']\n",
    "print(f'nº of rows: {df_petro.shape[0]}, nº of columns:{df_petro.shape[1]}')"
   ]
  },
  {
   "cell_type": "code",
   "execution_count": 10,
   "id": "c9c37b34-94a9-491f-87b9-62b62f851a80",
   "metadata": {
    "ExecuteTime": {
     "end_time": "2022-03-19T15:50:51.786217Z",
     "start_time": "2022-03-19T15:50:51.776821Z"
    },
    "hidden": true
   },
   "outputs": [
    {
     "data": {
      "text/html": [
       "<div>\n",
       "<style scoped>\n",
       "    .dataframe tbody tr th:only-of-type {\n",
       "        vertical-align: middle;\n",
       "    }\n",
       "\n",
       "    .dataframe tbody tr th {\n",
       "        vertical-align: top;\n",
       "    }\n",
       "\n",
       "    .dataframe thead th {\n",
       "        text-align: right;\n",
       "    }\n",
       "</style>\n",
       "<table border=\"1\" class=\"dataframe\">\n",
       "  <thead>\n",
       "    <tr style=\"text-align: right;\">\n",
       "      <th></th>\n",
       "      <th>data_pregao</th>\n",
       "      <th>preco_fechamento</th>\n",
       "    </tr>\n",
       "  </thead>\n",
       "  <tbody>\n",
       "    <tr>\n",
       "      <th>704613</th>\n",
       "      <td>2021-12-23</td>\n",
       "      <td>28.33</td>\n",
       "    </tr>\n",
       "    <tr>\n",
       "      <th>704614</th>\n",
       "      <td>2021-12-27</td>\n",
       "      <td>28.75</td>\n",
       "    </tr>\n",
       "    <tr>\n",
       "      <th>704615</th>\n",
       "      <td>2021-12-28</td>\n",
       "      <td>28.78</td>\n",
       "    </tr>\n",
       "    <tr>\n",
       "      <th>704616</th>\n",
       "      <td>2021-12-29</td>\n",
       "      <td>28.54</td>\n",
       "    </tr>\n",
       "    <tr>\n",
       "      <th>704617</th>\n",
       "      <td>2021-12-30</td>\n",
       "      <td>28.45</td>\n",
       "    </tr>\n",
       "  </tbody>\n",
       "</table>\n",
       "</div>"
      ],
      "text/plain": [
       "       data_pregao  preco_fechamento\n",
       "704613  2021-12-23             28.33\n",
       "704614  2021-12-27             28.75\n",
       "704615  2021-12-28             28.78\n",
       "704616  2021-12-29             28.54\n",
       "704617  2021-12-30             28.45"
      ]
     },
     "execution_count": 10,
     "metadata": {},
     "output_type": "execute_result"
    }
   ],
   "source": [
    "df_petro_cls = df_petro[['data_pregao', 'preco_fechamento']]\n",
    "df_petro_cls.tail()"
   ]
  },
  {
   "cell_type": "code",
   "execution_count": 11,
   "id": "27af186a-dc48-43b0-a640-e24504f97bcb",
   "metadata": {
    "ExecuteTime": {
     "end_time": "2022-03-19T15:50:52.478416Z",
     "start_time": "2022-03-19T15:50:52.471831Z"
    },
    "hidden": true
   },
   "outputs": [],
   "source": [
    "# set to index with date\n",
    "df_petro_cls = df_petro_cls.set_index(pd.DatetimeIndex(df_petro_cls['data_pregao'].values))"
   ]
  },
  {
   "cell_type": "code",
   "execution_count": 12,
   "id": "b45a72c3-8da4-4839-907a-44eb454d2f28",
   "metadata": {
    "ExecuteTime": {
     "end_time": "2022-03-19T15:50:53.056542Z",
     "start_time": "2022-03-19T15:50:53.043640Z"
    },
    "hidden": true
   },
   "outputs": [
    {
     "data": {
      "text/html": [
       "<div>\n",
       "<style scoped>\n",
       "    .dataframe tbody tr th:only-of-type {\n",
       "        vertical-align: middle;\n",
       "    }\n",
       "\n",
       "    .dataframe tbody tr th {\n",
       "        vertical-align: top;\n",
       "    }\n",
       "\n",
       "    .dataframe thead th {\n",
       "        text-align: right;\n",
       "    }\n",
       "</style>\n",
       "<table border=\"1\" class=\"dataframe\">\n",
       "  <thead>\n",
       "    <tr style=\"text-align: right;\">\n",
       "      <th></th>\n",
       "      <th>data_pregao</th>\n",
       "      <th>preco_fechamento</th>\n",
       "    </tr>\n",
       "  </thead>\n",
       "  <tbody>\n",
       "    <tr>\n",
       "      <th>2021-12-23</th>\n",
       "      <td>2021-12-23</td>\n",
       "      <td>28.33</td>\n",
       "    </tr>\n",
       "    <tr>\n",
       "      <th>2021-12-27</th>\n",
       "      <td>2021-12-27</td>\n",
       "      <td>28.75</td>\n",
       "    </tr>\n",
       "    <tr>\n",
       "      <th>2021-12-28</th>\n",
       "      <td>2021-12-28</td>\n",
       "      <td>28.78</td>\n",
       "    </tr>\n",
       "    <tr>\n",
       "      <th>2021-12-29</th>\n",
       "      <td>2021-12-29</td>\n",
       "      <td>28.54</td>\n",
       "    </tr>\n",
       "    <tr>\n",
       "      <th>2021-12-30</th>\n",
       "      <td>2021-12-30</td>\n",
       "      <td>28.45</td>\n",
       "    </tr>\n",
       "  </tbody>\n",
       "</table>\n",
       "</div>"
      ],
      "text/plain": [
       "           data_pregao  preco_fechamento\n",
       "2021-12-23  2021-12-23             28.33\n",
       "2021-12-27  2021-12-27             28.75\n",
       "2021-12-28  2021-12-28             28.78\n",
       "2021-12-29  2021-12-29             28.54\n",
       "2021-12-30  2021-12-30             28.45"
      ]
     },
     "execution_count": 12,
     "metadata": {},
     "output_type": "execute_result"
    }
   ],
   "source": [
    "df_petro_cls.tail()"
   ]
  },
  {
   "cell_type": "code",
   "execution_count": 13,
   "id": "35f98a10-3d90-432d-a72c-ba40c8b7e278",
   "metadata": {
    "ExecuteTime": {
     "end_time": "2022-03-19T15:50:53.507538Z",
     "start_time": "2022-03-19T15:50:53.501442Z"
    },
    "hidden": true
   },
   "outputs": [],
   "source": [
    "# drop column 'data_pregao'\n",
    "df_petro_cls.drop(['data_pregao'], axis=1, inplace=True)"
   ]
  },
  {
   "cell_type": "code",
   "execution_count": 14,
   "id": "330ff4fa-1157-40f1-8883-19d2ee707f0e",
   "metadata": {
    "ExecuteTime": {
     "end_time": "2022-03-19T15:50:54.296427Z",
     "start_time": "2022-03-19T15:50:54.120783Z"
    },
    "hidden": true
   },
   "outputs": [
    {
     "data": {
      "image/png": "[encoded data removed]",
      "text/plain": [
       "<Figure size 1152x576 with 1 Axes>"
      ]
     },
     "metadata": {
      "needs_background": "light"
     },
     "output_type": "display_data"
    }
   ],
   "source": [
    "# Plot the dataframe\n",
    "plt.figure(figsize=(16,8))\n",
    "plt.title('Price close')\n",
    "plt.plot(df_petro_cls['preco_fechamento'], color='darkslateblue' )\n",
    "plt.xlabel('date');\n"
   ]
  },
  {
   "cell_type": "markdown",
   "id": "e82df2b4",
   "metadata": {
    "heading_collapsed": true,
    "jp-MarkdownHeadingCollapsed": true,
    "tags": []
   },
   "source": [
    "# Data Train and Test"
   ]
  },
  {
   "cell_type": "code",
   "execution_count": 15,
   "id": "44ff7037-fb28-4c0c-bd60-d7e832f55b18",
   "metadata": {
    "ExecuteTime": {
     "end_time": "2022-03-19T15:50:56.191666Z",
     "start_time": "2022-03-19T15:50:56.185872Z"
    },
    "hidden": true
   },
   "outputs": [
    {
     "data": {
      "text/plain": [
       "'Train = 0:1211 | Test = 1211:1730'"
      ]
     },
     "execution_count": 15,
     "metadata": {},
     "output_type": "execute_result"
    }
   ],
   "source": [
    "# Data analysis\n",
    "qtt_rows = len(df_petro_cls)\n",
    "\n",
    "r_train = round(.70*qtt_rows)\n",
    "\n",
    "r_test = qtt_rows - r_train\n",
    "\n",
    "info = (\n",
    "    f'Train = 0:{r_train} | '\n",
    "    f'Test = {r_train}:{r_train + r_test}'\n",
    "    )\n",
    "info"
   ]
  },
  {
   "cell_type": "markdown",
   "id": "6d8dcce3-ddea-48f6-8d1c-5c934cb64a3e",
   "metadata": {
    "heading_collapsed": true,
    "jp-MarkdownHeadingCollapsed": true,
    "tags": []
   },
   "source": [
    "# Normalize and Reescale "
   ]
  },
  {
   "cell_type": "code",
   "execution_count": 16,
   "id": "63c653a3-5cf4-4e49-9b53-9620bc53eb64",
   "metadata": {
    "ExecuteTime": {
     "end_time": "2022-03-19T15:50:57.661056Z",
     "start_time": "2022-03-19T15:50:57.653561Z"
    },
    "hidden": true
   },
   "outputs": [],
   "source": [
    "# Normalizing\n",
    "std = StandardScaler()\n",
    "df_scaled = std.fit_transform(df_petro_cls)"
   ]
  },
  {
   "cell_type": "markdown",
   "id": "756bf286-d132-4f72-92a5-04531e7d2d84",
   "metadata": {
    "heading_collapsed": true,
    "tags": []
   },
   "source": [
    "# Separating into Train and Test"
   ]
  },
  {
   "cell_type": "code",
   "execution_count": 17,
   "id": "d82ad1b2-1b40-43f3-9a7f-1aefb9a123da",
   "metadata": {
    "ExecuteTime": {
     "end_time": "2022-03-19T15:50:59.212254Z",
     "start_time": "2022-03-19T15:50:59.207663Z"
    },
    "hidden": true
   },
   "outputs": [
    {
     "name": "stdout",
     "output_type": "stream",
     "text": [
      "1730 519\n"
     ]
    }
   ],
   "source": [
    "train = df_scaled[:qtt_rows]\n",
    "\n",
    "test = df_scaled[r_train: r_train+r_test]\n",
    "\n",
    "print(len(train), len(test))"
   ]
  },
  {
   "cell_type": "code",
   "execution_count": 18,
   "id": "82b02e8f-3bbf-4565-b9dc-fabf0855f910",
   "metadata": {
    "ExecuteTime": {
     "end_time": "2022-03-19T15:51:00.464568Z",
     "start_time": "2022-03-19T15:51:00.459047Z"
    },
    "hidden": true
   },
   "outputs": [],
   "source": [
    "# Convert an array of values into a df matrix\n",
    "\n",
    "def create_df(df, steps=1):\n",
    "    dataX, dataY = [], []\n",
    "    for i in range(len(df)-steps-1):\n",
    "        a = df[i:(i+steps), 0]\n",
    "        dataX.append(a)\n",
    "        dataY.append(df[i+steps,0])\n",
    "    return np.array(dataX), np.array(dataY)\n",
    "\n",
    "# dexa os valores formatados no padrão que o LSTM espera para aprender"
   ]
  },
  {
   "cell_type": "code",
   "execution_count": 19,
   "id": "b1b6a5b1-b643-4957-b478-9a0325ac14d3",
   "metadata": {
    "ExecuteTime": {
     "end_time": "2022-03-19T15:51:01.044410Z",
     "start_time": "2022-03-19T15:51:01.034808Z"
    },
    "hidden": true
   },
   "outputs": [],
   "source": [
    "# gerando os dados de treino e teste\n",
    "\n",
    "steps = 15\n",
    "X_train, Y_train = create_df(train, steps)\n",
    "X_test, Y_test = create_df(test, steps)"
   ]
  },
  {
   "cell_type": "code",
   "execution_count": 20,
   "id": "f789e0e7-83a9-49ce-a037-1c49e5e360cb",
   "metadata": {
    "ExecuteTime": {
     "end_time": "2022-03-19T15:51:01.692982Z",
     "start_time": "2022-03-19T15:51:01.688652Z"
    },
    "hidden": true
   },
   "outputs": [
    {
     "name": "stdout",
     "output_type": "stream",
     "text": [
      "(1714, 15)\n",
      "(1714,)\n",
      "(503, 15)\n",
      "(503,)\n"
     ]
    }
   ],
   "source": [
    "print(X_train.shape)\n",
    "print(Y_train.shape)\n",
    "\n",
    "print(X_test.shape)\n",
    "print(Y_test.shape)\n"
   ]
  },
  {
   "cell_type": "code",
   "execution_count": 21,
   "id": "34b30629-8ade-4101-bb29-9776e29a1ff7",
   "metadata": {
    "ExecuteTime": {
     "end_time": "2022-03-19T15:51:02.399589Z",
     "start_time": "2022-03-19T15:51:02.395374Z"
    },
    "hidden": true
   },
   "outputs": [],
   "source": [
    "# Gerando os dados no formato que o modelo espera\n",
    "X_train = X_train.reshape(X_train.shape[0], X_train.shape[1], 1)\n",
    "# X_train.shape[0] → 1714 linhas de treino | X_train.shape[1] → 15 dias de treino\n",
    "X_test = X_test.reshape(X_test.shape[0], X_test.shape[1], 1)"
   ]
  },
  {
   "cell_type": "markdown",
   "id": "bea18e14",
   "metadata": {
    "heading_collapsed": true
   },
   "source": [
    "# Model Apply"
   ]
  },
  {
   "cell_type": "code",
   "execution_count": 24,
   "id": "a89b3173-284f-4e89-99c3-c5e3cd344bf3",
   "metadata": {
    "ExecuteTime": {
     "end_time": "2022-03-19T15:51:07.615057Z",
     "start_time": "2022-03-19T15:51:07.211418Z"
    },
    "hidden": true
   },
   "outputs": [],
   "source": [
    "# Camadas da Rede Neural\n",
    "model = Sequential()\n",
    "model.add(LSTM(35, return_sequences=True, input_shape=(steps,1))) #1ª camada\n",
    "#LSTM(35) → qtt de neuronios usados | input_shape=(steps,1) → qtt de dias a ser previsto e retornado\n",
    "model.add(LSTM(35, return_sequences=True)) #2ª camada\n",
    "model.add(LSTM(35)) #3ª camada\n",
    "model.add(Dropout(0.2)) \n",
    "#Dropout evita o overfit do treinamento\n",
    "model.add(Dense(1)) #retonrnando um unico resultado\n"
   ]
  },
  {
   "cell_type": "code",
   "execution_count": 25,
   "id": "17d07abe-97eb-4f69-b0b6-089f4dbb1203",
   "metadata": {
    "ExecuteTime": {
     "end_time": "2022-03-19T15:51:08.055540Z",
     "start_time": "2022-03-19T15:51:08.043627Z"
    },
    "hidden": true
   },
   "outputs": [
    {
     "name": "stdout",
     "output_type": "stream",
     "text": [
      "Model: \"sequential_1\"\n",
      "_________________________________________________________________\n",
      " Layer (type)                Output Shape              Param #   \n",
      "=================================================================\n",
      " lstm_3 (LSTM)               (None, 15, 35)            5180      \n",
      "                                                                 \n",
      " lstm_4 (LSTM)               (None, 15, 35)            9940      \n",
      "                                                                 \n",
      " lstm_5 (LSTM)               (None, 35)                9940      \n",
      "                                                                 \n",
      " dropout_1 (Dropout)         (None, 35)                0         \n",
      "                                                                 \n",
      " dense_1 (Dense)             (None, 1)                 36        \n",
      "                                                                 \n",
      "=================================================================\n",
      "Total params: 25,096\n",
      "Trainable params: 25,096\n",
      "Non-trainable params: 0\n",
      "_________________________________________________________________\n"
     ]
    }
   ],
   "source": [
    "model.compile(optimizer='adam', loss='mse')\n",
    "model.summary()"
   ]
  },
  {
   "cell_type": "code",
   "execution_count": 26,
   "id": "a8901871-7308-4876-87a6-55221ec2bc8f",
   "metadata": {
    "ExecuteTime": {
     "end_time": "2022-03-19T15:54:46.162195Z",
     "start_time": "2022-03-19T15:51:08.644383Z"
    },
    "hidden": true,
    "scrolled": true,
    "tags": []
   },
   "outputs": [
    {
     "name": "stdout",
     "output_type": "stream",
     "text": [
      "Epoch 1/100\n",
      "115/115 - 6s - loss: 0.1238 - val_loss: 0.0888 - 6s/epoch - 49ms/step\n",
      "Epoch 2/100\n",
      "115/115 - 2s - loss: 0.0519 - val_loss: 0.0692 - 2s/epoch - 19ms/step\n",
      "Epoch 3/100\n",
      "115/115 - 2s - loss: 0.0398 - val_loss: 0.0463 - 2s/epoch - 19ms/step\n",
      "Epoch 4/100\n",
      "115/115 - 2s - loss: 0.0345 - val_loss: 0.0400 - 2s/epoch - 19ms/step\n",
      "Epoch 5/100\n",
      "115/115 - 2s - loss: 0.0333 - val_loss: 0.0391 - 2s/epoch - 19ms/step\n",
      "Epoch 6/100\n",
      "115/115 - 2s - loss: 0.0313 - val_loss: 0.0372 - 2s/epoch - 19ms/step\n",
      "Epoch 7/100\n",
      "115/115 - 2s - loss: 0.0314 - val_loss: 0.0355 - 2s/epoch - 19ms/step\n",
      "Epoch 8/100\n",
      "115/115 - 2s - loss: 0.0284 - val_loss: 0.0362 - 2s/epoch - 19ms/step\n",
      "Epoch 9/100\n",
      "115/115 - 2s - loss: 0.0273 - val_loss: 0.0359 - 2s/epoch - 18ms/step\n",
      "Epoch 10/100\n",
      "115/115 - 2s - loss: 0.0292 - val_loss: 0.0367 - 2s/epoch - 19ms/step\n",
      "Epoch 11/100\n",
      "115/115 - 2s - loss: 0.0280 - val_loss: 0.0338 - 2s/epoch - 19ms/step\n",
      "Epoch 12/100\n",
      "115/115 - 2s - loss: 0.0267 - val_loss: 0.0332 - 2s/epoch - 19ms/step\n",
      "Epoch 13/100\n",
      "115/115 - 2s - loss: 0.0252 - val_loss: 0.0322 - 2s/epoch - 18ms/step\n",
      "Epoch 14/100\n",
      "115/115 - 2s - loss: 0.0238 - val_loss: 0.0319 - 2s/epoch - 18ms/step\n",
      "Epoch 15/100\n",
      "115/115 - 2s - loss: 0.0242 - val_loss: 0.0367 - 2s/epoch - 18ms/step\n",
      "Epoch 16/100\n",
      "115/115 - 2s - loss: 0.0239 - val_loss: 0.0320 - 2s/epoch - 19ms/step\n",
      "Epoch 17/100\n",
      "115/115 - 2s - loss: 0.0233 - val_loss: 0.0380 - 2s/epoch - 19ms/step\n",
      "Epoch 18/100\n",
      "115/115 - 2s - loss: 0.0228 - val_loss: 0.0315 - 2s/epoch - 19ms/step\n",
      "Epoch 19/100\n",
      "115/115 - 2s - loss: 0.0221 - val_loss: 0.0317 - 2s/epoch - 19ms/step\n",
      "Epoch 20/100\n",
      "115/115 - 2s - loss: 0.0222 - val_loss: 0.0323 - 2s/epoch - 19ms/step\n",
      "Epoch 21/100\n",
      "115/115 - 2s - loss: 0.0234 - val_loss: 0.0379 - 2s/epoch - 19ms/step\n",
      "Epoch 22/100\n",
      "115/115 - 2s - loss: 0.0247 - val_loss: 0.0326 - 2s/epoch - 19ms/step\n",
      "Epoch 23/100\n",
      "115/115 - 2s - loss: 0.0213 - val_loss: 0.0333 - 2s/epoch - 18ms/step\n",
      "Epoch 24/100\n",
      "115/115 - 2s - loss: 0.0228 - val_loss: 0.0409 - 2s/epoch - 19ms/step\n",
      "Epoch 25/100\n",
      "115/115 - 2s - loss: 0.0221 - val_loss: 0.0309 - 2s/epoch - 19ms/step\n",
      "Epoch 26/100\n",
      "115/115 - 2s - loss: 0.0217 - val_loss: 0.0309 - 2s/epoch - 19ms/step\n",
      "Epoch 27/100\n",
      "115/115 - 2s - loss: 0.0212 - val_loss: 0.0314 - 2s/epoch - 19ms/step\n",
      "Epoch 28/100\n",
      "115/115 - 2s - loss: 0.0221 - val_loss: 0.0300 - 2s/epoch - 19ms/step\n",
      "Epoch 29/100\n",
      "115/115 - 2s - loss: 0.0218 - val_loss: 0.0311 - 2s/epoch - 19ms/step\n",
      "Epoch 30/100\n",
      "115/115 - 2s - loss: 0.0222 - val_loss: 0.0307 - 2s/epoch - 19ms/step\n",
      "Epoch 31/100\n",
      "115/115 - 2s - loss: 0.0216 - val_loss: 0.0332 - 2s/epoch - 18ms/step\n",
      "Epoch 32/100\n",
      "115/115 - 2s - loss: 0.0220 - val_loss: 0.0317 - 2s/epoch - 18ms/step\n",
      "Epoch 33/100\n",
      "115/115 - 2s - loss: 0.0214 - val_loss: 0.0303 - 2s/epoch - 19ms/step\n",
      "Epoch 34/100\n",
      "115/115 - 2s - loss: 0.0221 - val_loss: 0.0303 - 2s/epoch - 19ms/step\n",
      "Epoch 35/100\n",
      "115/115 - 2s - loss: 0.0232 - val_loss: 0.0305 - 2s/epoch - 19ms/step\n",
      "Epoch 36/100\n",
      "115/115 - 2s - loss: 0.0212 - val_loss: 0.0317 - 2s/epoch - 19ms/step\n",
      "Epoch 37/100\n",
      "115/115 - 2s - loss: 0.0203 - val_loss: 0.0297 - 2s/epoch - 19ms/step\n",
      "Epoch 38/100\n",
      "115/115 - 2s - loss: 0.0205 - val_loss: 0.0303 - 2s/epoch - 18ms/step\n",
      "Epoch 39/100\n",
      "115/115 - 2s - loss: 0.0215 - val_loss: 0.0297 - 2s/epoch - 18ms/step\n",
      "Epoch 40/100\n",
      "115/115 - 2s - loss: 0.0214 - val_loss: 0.0308 - 2s/epoch - 19ms/step\n",
      "Epoch 41/100\n",
      "115/115 - 2s - loss: 0.0200 - val_loss: 0.0295 - 2s/epoch - 19ms/step\n",
      "Epoch 42/100\n",
      "115/115 - 2s - loss: 0.0190 - val_loss: 0.0295 - 2s/epoch - 18ms/step\n",
      "Epoch 43/100\n",
      "115/115 - 2s - loss: 0.0207 - val_loss: 0.0317 - 2s/epoch - 18ms/step\n",
      "Epoch 44/100\n",
      "115/115 - 2s - loss: 0.0212 - val_loss: 0.0319 - 2s/epoch - 18ms/step\n",
      "Epoch 45/100\n",
      "115/115 - 2s - loss: 0.0214 - val_loss: 0.0304 - 2s/epoch - 19ms/step\n",
      "Epoch 46/100\n",
      "115/115 - 2s - loss: 0.0208 - val_loss: 0.0295 - 2s/epoch - 19ms/step\n",
      "Epoch 47/100\n",
      "115/115 - 2s - loss: 0.0207 - val_loss: 0.0324 - 2s/epoch - 18ms/step\n",
      "Epoch 48/100\n",
      "115/115 - 2s - loss: 0.0203 - val_loss: 0.0337 - 2s/epoch - 19ms/step\n",
      "Epoch 49/100\n",
      "115/115 - 2s - loss: 0.0225 - val_loss: 0.0292 - 2s/epoch - 19ms/step\n",
      "Epoch 50/100\n",
      "115/115 - 2s - loss: 0.0203 - val_loss: 0.0298 - 2s/epoch - 19ms/step\n",
      "Epoch 51/100\n",
      "115/115 - 2s - loss: 0.0202 - val_loss: 0.0294 - 2s/epoch - 19ms/step\n",
      "Epoch 52/100\n",
      "115/115 - 2s - loss: 0.0217 - val_loss: 0.0306 - 2s/epoch - 18ms/step\n",
      "Epoch 53/100\n",
      "115/115 - 2s - loss: 0.0199 - val_loss: 0.0292 - 2s/epoch - 19ms/step\n",
      "Epoch 54/100\n",
      "115/115 - 2s - loss: 0.0200 - val_loss: 0.0375 - 2s/epoch - 19ms/step\n",
      "Epoch 55/100\n",
      "115/115 - 2s - loss: 0.0204 - val_loss: 0.0296 - 2s/epoch - 19ms/step\n",
      "Epoch 56/100\n",
      "115/115 - 2s - loss: 0.0210 - val_loss: 0.0298 - 2s/epoch - 18ms/step\n",
      "Epoch 57/100\n",
      "115/115 - 2s - loss: 0.0209 - val_loss: 0.0297 - 2s/epoch - 19ms/step\n",
      "Epoch 58/100\n",
      "115/115 - 2s - loss: 0.0204 - val_loss: 0.0291 - 2s/epoch - 19ms/step\n",
      "Epoch 59/100\n",
      "115/115 - 2s - loss: 0.0197 - val_loss: 0.0292 - 2s/epoch - 19ms/step\n",
      "Epoch 60/100\n",
      "115/115 - 2s - loss: 0.0201 - val_loss: 0.0290 - 2s/epoch - 18ms/step\n",
      "Epoch 61/100\n",
      "115/115 - 2s - loss: 0.0221 - val_loss: 0.0291 - 2s/epoch - 19ms/step\n",
      "Epoch 62/100\n",
      "115/115 - 2s - loss: 0.0199 - val_loss: 0.0305 - 2s/epoch - 19ms/step\n",
      "Epoch 63/100\n",
      "115/115 - 2s - loss: 0.0204 - val_loss: 0.0298 - 2s/epoch - 19ms/step\n",
      "Epoch 64/100\n",
      "115/115 - 2s - loss: 0.0210 - val_loss: 0.0343 - 2s/epoch - 19ms/step\n",
      "Epoch 65/100\n",
      "115/115 - 2s - loss: 0.0214 - val_loss: 0.0291 - 2s/epoch - 18ms/step\n",
      "Epoch 66/100\n",
      "115/115 - 2s - loss: 0.0208 - val_loss: 0.0293 - 2s/epoch - 19ms/step\n",
      "Epoch 67/100\n",
      "115/115 - 2s - loss: 0.0212 - val_loss: 0.0288 - 2s/epoch - 19ms/step\n",
      "Epoch 68/100\n",
      "115/115 - 2s - loss: 0.0207 - val_loss: 0.0356 - 2s/epoch - 19ms/step\n",
      "Epoch 69/100\n",
      "115/115 - 2s - loss: 0.0211 - val_loss: 0.0341 - 2s/epoch - 19ms/step\n",
      "Epoch 70/100\n",
      "115/115 - 2s - loss: 0.0209 - val_loss: 0.0289 - 2s/epoch - 18ms/step\n",
      "Epoch 71/100\n",
      "115/115 - 2s - loss: 0.0201 - val_loss: 0.0289 - 2s/epoch - 18ms/step\n",
      "Epoch 72/100\n",
      "115/115 - 2s - loss: 0.0202 - val_loss: 0.0295 - 2s/epoch - 19ms/step\n",
      "Epoch 73/100\n",
      "115/115 - 2s - loss: 0.0209 - val_loss: 0.0298 - 2s/epoch - 19ms/step\n",
      "Epoch 74/100\n",
      "115/115 - 2s - loss: 0.0204 - val_loss: 0.0293 - 2s/epoch - 19ms/step\n",
      "Epoch 75/100\n",
      "115/115 - 2s - loss: 0.0202 - val_loss: 0.0291 - 2s/epoch - 19ms/step\n",
      "Epoch 76/100\n",
      "115/115 - 2s - loss: 0.0192 - val_loss: 0.0288 - 2s/epoch - 19ms/step\n",
      "Epoch 77/100\n",
      "115/115 - 2s - loss: 0.0201 - val_loss: 0.0288 - 2s/epoch - 19ms/step\n",
      "Epoch 78/100\n",
      "115/115 - 2s - loss: 0.0209 - val_loss: 0.0295 - 2s/epoch - 19ms/step\n",
      "Epoch 79/100\n",
      "115/115 - 2s - loss: 0.0204 - val_loss: 0.0313 - 2s/epoch - 19ms/step\n",
      "Epoch 80/100\n",
      "115/115 - 2s - loss: 0.0197 - val_loss: 0.0332 - 2s/epoch - 19ms/step\n",
      "Epoch 81/100\n",
      "115/115 - 2s - loss: 0.0210 - val_loss: 0.0309 - 2s/epoch - 19ms/step\n",
      "Epoch 82/100\n",
      "115/115 - 2s - loss: 0.0204 - val_loss: 0.0311 - 2s/epoch - 19ms/step\n",
      "Epoch 83/100\n",
      "115/115 - 2s - loss: 0.0206 - val_loss: 0.0290 - 2s/epoch - 19ms/step\n",
      "Epoch 84/100\n",
      "115/115 - 2s - loss: 0.0208 - val_loss: 0.0287 - 2s/epoch - 19ms/step\n",
      "Epoch 85/100\n",
      "115/115 - 2s - loss: 0.0206 - val_loss: 0.0321 - 2s/epoch - 19ms/step\n",
      "Epoch 86/100\n",
      "115/115 - 2s - loss: 0.0207 - val_loss: 0.0319 - 2s/epoch - 19ms/step\n",
      "Epoch 87/100\n",
      "115/115 - 2s - loss: 0.0224 - val_loss: 0.0290 - 2s/epoch - 19ms/step\n",
      "Epoch 88/100\n",
      "115/115 - 2s - loss: 0.0212 - val_loss: 0.0286 - 2s/epoch - 18ms/step\n",
      "Epoch 89/100\n",
      "115/115 - 2s - loss: 0.0206 - val_loss: 0.0298 - 2s/epoch - 19ms/step\n",
      "Epoch 90/100\n",
      "115/115 - 2s - loss: 0.0195 - val_loss: 0.0286 - 2s/epoch - 18ms/step\n",
      "Epoch 91/100\n",
      "115/115 - 2s - loss: 0.0199 - val_loss: 0.0293 - 2s/epoch - 18ms/step\n",
      "Epoch 92/100\n",
      "115/115 - 2s - loss: 0.0204 - val_loss: 0.0290 - 2s/epoch - 19ms/step\n",
      "Epoch 93/100\n",
      "115/115 - 2s - loss: 0.0188 - val_loss: 0.0290 - 2s/epoch - 19ms/step\n",
      "Epoch 94/100\n",
      "115/115 - 2s - loss: 0.0211 - val_loss: 0.0288 - 2s/epoch - 19ms/step\n",
      "Epoch 95/100\n",
      "115/115 - 2s - loss: 0.0204 - val_loss: 0.0314 - 2s/epoch - 19ms/step\n",
      "Epoch 96/100\n",
      "115/115 - 2s - loss: 0.0205 - val_loss: 0.0285 - 2s/epoch - 19ms/step\n",
      "Epoch 97/100\n",
      "115/115 - 2s - loss: 0.0198 - val_loss: 0.0290 - 2s/epoch - 18ms/step\n",
      "Epoch 98/100\n",
      "115/115 - 2s - loss: 0.0196 - val_loss: 0.0302 - 2s/epoch - 19ms/step\n",
      "Epoch 99/100\n",
      "115/115 - 2s - loss: 0.0196 - val_loss: 0.0285 - 2s/epoch - 19ms/step\n"
     ]
    },
    {
     "name": "stdout",
     "output_type": "stream",
     "text": [
      "Epoch 100/100\n",
      "115/115 - 2s - loss: 0.0201 - val_loss: 0.0295 - 2s/epoch - 19ms/step\n"
     ]
    }
   ],
   "source": [
    "# treinamento do modelo\n",
    "validation = model.fit(X_train, Y_train, validation_data=(X_test, Y_test), epochs=100, batch_size=15, verbose=2)"
   ]
  },
  {
   "cell_type": "code",
   "execution_count": 29,
   "id": "8b820885-4e80-449d-b34a-8f201ee1e24f",
   "metadata": {
    "ExecuteTime": {
     "end_time": "2022-03-19T15:55:23.340273Z",
     "start_time": "2022-03-19T15:55:23.153470Z"
    },
    "hidden": true
   },
   "outputs": [
    {
     "data": {
      "image/png": "[encoded data removed]",
      "text/plain": [
       "<Figure size 1440x576 with 1 Axes>"
      ]
     },
     "metadata": {
      "needs_background": "light"
     },
     "output_type": "display_data"
    }
   ],
   "source": [
    "plt.figure(figsize=(20,8))\n",
    "plt.plot(validation.history['loss'], label='Training loss')\n",
    "plt.plot(validation.history['val_loss'], label='Validation loss')\n",
    "plt.legend();"
   ]
  },
  {
   "cell_type": "code",
   "execution_count": 30,
   "id": "5d53ff12-13f8-4176-803c-cd4ca38a47b7",
   "metadata": {
    "ExecuteTime": {
     "end_time": "2022-03-19T15:55:33.493538Z",
     "start_time": "2022-03-19T15:55:32.694478Z"
    },
    "hidden": true,
    "scrolled": true,
    "tags": []
   },
   "outputs": [
    {
     "data": {
      "text/plain": [
       "array([[30.062109 ],\n",
       "       [30.019844 ],\n",
       "       [30.143902 ],\n",
       "       [30.230225 ],\n",
       "       [30.215912 ],\n",
       "       [30.281557 ],\n",
       "       [30.42176  ],\n",
       "       [30.420736 ],\n",
       "       [30.348577 ],\n",
       "       [30.429743 ],\n",
       "       [30.40417  ],\n",
       "       [30.482723 ],\n",
       "       [30.504728 ],\n",
       "       [30.473217 ],\n",
       "       [30.429062 ],\n",
       "       [30.360939 ],\n",
       "       [30.328617 ],\n",
       "       [30.214931 ],\n",
       "       [30.013279 ],\n",
       "       [29.864845 ],\n",
       "       [29.850113 ],\n",
       "       [29.871284 ],\n",
       "       [29.782814 ],\n",
       "       [29.643929 ],\n",
       "       [29.647034 ],\n",
       "       [29.541346 ],\n",
       "       [29.06305  ],\n",
       "       [29.047808 ],\n",
       "       [28.97565  ],\n",
       "       [28.986849 ],\n",
       "       [28.825068 ],\n",
       "       [28.647112 ],\n",
       "       [28.703121 ],\n",
       "       [28.619791 ],\n",
       "       [28.893578 ],\n",
       "       [28.933346 ],\n",
       "       [29.072876 ],\n",
       "       [29.262342 ],\n",
       "       [29.58094  ],\n",
       "       [29.651829 ],\n",
       "       [29.635162 ],\n",
       "       [29.603632 ],\n",
       "       [29.689463 ],\n",
       "       [29.955294 ],\n",
       "       [29.937103 ],\n",
       "       [29.729979 ],\n",
       "       [28.55376  ],\n",
       "       [27.243235 ],\n",
       "       [26.31627  ],\n",
       "       [26.39975  ],\n",
       "       [26.099571 ],\n",
       "       [26.50998  ],\n",
       "       [25.882818 ],\n",
       "       [24.179094 ],\n",
       "       [18.52298  ],\n",
       "       [16.665754 ],\n",
       "       [15.026027 ],\n",
       "       [12.179237 ],\n",
       "       [13.902717 ],\n",
       "       [13.148423 ],\n",
       "       [12.533538 ],\n",
       "       [11.287644 ],\n",
       "       [11.830685 ],\n",
       "       [11.972651 ],\n",
       "       [11.516608 ],\n",
       "       [13.123292 ],\n",
       "       [14.323736 ],\n",
       "       [14.501036 ],\n",
       "       [13.480517 ],\n",
       "       [13.398513 ],\n",
       "       [13.991898 ],\n",
       "       [14.322682 ],\n",
       "       [15.540252 ],\n",
       "       [15.467525 ],\n",
       "       [15.8870735],\n",
       "       [16.519327 ],\n",
       "       [17.455984 ],\n",
       "       [17.088018 ],\n",
       "       [17.161835 ],\n",
       "       [16.933256 ],\n",
       "       [16.552313 ],\n",
       "       [15.848961 ],\n",
       "       [16.14213  ],\n",
       "       [15.997069 ],\n",
       "       [16.757814 ],\n",
       "       [17.038074 ],\n",
       "       [16.195337 ],\n",
       "       [16.541533 ],\n",
       "       [17.311356 ],\n",
       "       [18.284576 ],\n",
       "       [18.302023 ],\n",
       "       [17.7294   ],\n",
       "       [18.14881  ],\n",
       "       [17.540691 ],\n",
       "       [17.602615 ],\n",
       "       [18.538616 ],\n",
       "       [18.360147 ],\n",
       "       [18.368368 ],\n",
       "       [17.85094  ],\n",
       "       [17.585396 ],\n",
       "       [17.289986 ],\n",
       "       [18.547731 ],\n",
       "       [18.804535 ],\n",
       "       [19.470469 ],\n",
       "       [19.47875  ],\n",
       "       [19.059654 ],\n",
       "       [19.70134  ],\n",
       "       [19.89135  ],\n",
       "       [20.189554 ],\n",
       "       [20.09534  ],\n",
       "       [20.578712 ],\n",
       "       [20.613806 ],\n",
       "       [21.547686 ],\n",
       "       [21.73063  ],\n",
       "       [21.831448 ],\n",
       "       [22.371197 ],\n",
       "       [22.777782 ],\n",
       "       [22.303034 ],\n",
       "       [21.956905 ],\n",
       "       [21.128912 ],\n",
       "       [20.984081 ],\n",
       "       [21.423437 ],\n",
       "       [21.564018 ],\n",
       "       [21.7835   ],\n",
       "       [21.752972 ],\n",
       "       [21.362724 ],\n",
       "       [21.838596 ],\n",
       "       [21.378271 ],\n",
       "       [21.708286 ],\n",
       "       [21.216967 ],\n",
       "       [21.813885 ],\n",
       "       [21.779795 ],\n",
       "       [21.9733   ],\n",
       "       [22.273764 ],\n",
       "       [22.298855 ],\n",
       "       [22.738811 ],\n",
       "       [22.612942 ],\n",
       "       [22.947044 ],\n",
       "       [22.601923 ],\n",
       "       [22.834597 ],\n",
       "       [22.556173 ],\n",
       "       [23.078737 ],\n",
       "       [23.455536 ],\n",
       "       [23.183407 ],\n",
       "       [23.166252 ],\n",
       "       [23.1019   ],\n",
       "       [23.538464 ],\n",
       "       [23.401068 ],\n",
       "       [23.076157 ],\n",
       "       [23.076916 ],\n",
       "       [23.36865  ],\n",
       "       [23.158905 ],\n",
       "       [23.41514  ],\n",
       "       [23.192955 ],\n",
       "       [22.71362  ],\n",
       "       [22.243757 ],\n",
       "       [22.056103 ],\n",
       "       [23.045353 ],\n",
       "       [23.277319 ],\n",
       "       [23.18146  ],\n",
       "       [23.647732 ],\n",
       "       [23.478428 ],\n",
       "       [23.780037 ],\n",
       "       [23.361958 ],\n",
       "       [23.157116 ],\n",
       "       [22.973516 ],\n",
       "       [23.211859 ],\n",
       "       [23.152714 ],\n",
       "       [23.061436 ],\n",
       "       [22.906319 ],\n",
       "       [23.163727 ],\n",
       "       [23.140827 ],\n",
       "       [22.700281 ],\n",
       "       [22.522255 ],\n",
       "       [22.721722 ],\n",
       "       [22.271458 ],\n",
       "       [22.942644 ],\n",
       "       [22.982676 ],\n",
       "       [23.152958 ],\n",
       "       [23.223421 ],\n",
       "       [22.779772 ],\n",
       "       [23.019321 ],\n",
       "       [22.551903 ],\n",
       "       [22.280935 ],\n",
       "       [21.998442 ],\n",
       "       [21.903736 ],\n",
       "       [21.913393 ],\n",
       "       [22.250908 ],\n",
       "       [21.969278 ],\n",
       "       [21.35496  ],\n",
       "       [21.09698  ],\n",
       "       [20.523657 ],\n",
       "       [20.538046 ],\n",
       "       [20.29452  ],\n",
       "       [19.851547 ],\n",
       "       [19.48957  ],\n",
       "       [19.675442 ],\n",
       "       [19.923353 ],\n",
       "       [19.319496 ],\n",
       "       [20.102232 ],\n",
       "       [20.115038 ],\n",
       "       [20.072971 ],\n",
       "       [20.61069  ],\n",
       "       [20.169056 ],\n",
       "       [20.401974 ],\n",
       "       [20.251253 ],\n",
       "       [20.053078 ],\n",
       "       [19.632505 ],\n",
       "       [19.704536 ],\n",
       "       [20.258768 ],\n",
       "       [20.352442 ],\n",
       "       [20.989399 ],\n",
       "       [20.887136 ],\n",
       "       [20.657751 ],\n",
       "       [20.268255 ],\n",
       "       [19.113    ],\n",
       "       [19.410889 ],\n",
       "       [19.075645 ],\n",
       "       [19.680326 ],\n",
       "       [19.834084 ],\n",
       "       [20.070667 ],\n",
       "       [20.016024 ],\n",
       "       [21.58789  ],\n",
       "       [22.891241 ],\n",
       "       [23.193796 ],\n",
       "       [22.702585 ],\n",
       "       [23.114134 ],\n",
       "       [23.535286 ],\n",
       "       [23.94029  ],\n",
       "       [23.972265 ],\n",
       "       [24.20106  ],\n",
       "       [24.10948  ],\n",
       "       [25.06712  ],\n",
       "       [25.893389 ],\n",
       "       [26.299417 ],\n",
       "       [26.32828  ],\n",
       "       [26.189808 ],\n",
       "       [25.746737 ],\n",
       "       [25.959482 ],\n",
       "       [26.08338  ],\n",
       "       [26.562506 ],\n",
       "       [27.17216  ],\n",
       "       [27.225285 ],\n",
       "       [27.180952 ],\n",
       "       [27.276106 ],\n",
       "       [27.690903 ],\n",
       "       [27.746193 ],\n",
       "       [27.865568 ],\n",
       "       [28.002094 ],\n",
       "       [28.20675  ],\n",
       "       [28.326775 ],\n",
       "       [28.350626 ],\n",
       "       [27.91698  ],\n",
       "       [27.817568 ],\n",
       "       [27.970964 ],\n",
       "       [28.122135 ],\n",
       "       [28.262999 ],\n",
       "       [28.382113 ],\n",
       "       [27.77572  ],\n",
       "       [28.27117  ],\n",
       "       [28.514208 ],\n",
       "       [28.435621 ],\n",
       "       [28.198278 ],\n",
       "       [28.868189 ],\n",
       "       [29.243303 ],\n",
       "       [28.911264 ],\n",
       "       [29.191586 ],\n",
       "       [29.028833 ],\n",
       "       [29.465725 ],\n",
       "       [29.215977 ],\n",
       "       [28.63154  ],\n",
       "       [29.58432  ],\n",
       "       [29.264462 ],\n",
       "       [28.989975 ],\n",
       "       [28.997343 ],\n",
       "       [29.680676 ],\n",
       "       [26.913364 ],\n",
       "       [27.717558 ],\n",
       "       [27.912634 ],\n",
       "       [28.820356 ],\n",
       "       [27.281694 ],\n",
       "       [27.35585  ],\n",
       "       [27.584517 ],\n",
       "       [26.214401 ],\n",
       "       [28.26374  ],\n",
       "       [27.77232  ],\n",
       "       [27.809315 ],\n",
       "       [25.83429  ],\n",
       "       [27.700262 ],\n",
       "       [27.415907 ],\n",
       "       [27.650599 ],\n",
       "       [25.291363 ],\n",
       "       [27.654673 ],\n",
       "       [27.49395  ],\n",
       "       [27.795963 ],\n",
       "       [25.39035  ],\n",
       "       [23.373344 ],\n",
       "       [23.381699 ],\n",
       "       [23.1946   ],\n",
       "       [21.71294  ],\n",
       "       [23.13112  ],\n",
       "       [23.467863 ],\n",
       "       [23.45948  ],\n",
       "       [22.791418 ],\n",
       "       [23.826588 ],\n",
       "       [23.932535 ],\n",
       "       [24.295732 ],\n",
       "       [23.266806 ],\n",
       "       [24.20888  ],\n",
       "       [24.383186 ],\n",
       "       [23.874954 ],\n",
       "       [22.160408 ],\n",
       "       [23.759245 ],\n",
       "       [23.271893 ],\n",
       "       [24.013626 ],\n",
       "       [22.517126 ],\n",
       "       [23.138924 ],\n",
       "       [23.819664 ],\n",
       "       [23.78233  ],\n",
       "       [23.047846 ],\n",
       "       [23.14287  ],\n",
       "       [23.921297 ],\n",
       "       [24.308283 ],\n",
       "       [23.890875 ],\n",
       "       [23.458605 ],\n",
       "       [24.097815 ],\n",
       "       [24.060814 ],\n",
       "       [23.709929 ],\n",
       "       [23.964254 ],\n",
       "       [23.618559 ],\n",
       "       [23.978476 ],\n",
       "       [23.966864 ],\n",
       "       [23.983105 ],\n",
       "       [23.59838  ],\n",
       "       [23.91056  ],\n",
       "       [24.39232  ],\n",
       "       [25.521454 ],\n",
       "       [25.208908 ],\n",
       "       [24.78728  ],\n",
       "       [25.820694 ],\n",
       "       [27.25027  ],\n",
       "       [26.379007 ],\n",
       "       [25.234419 ],\n",
       "       [26.290306 ],\n",
       "       [27.236055 ],\n",
       "       [26.684414 ],\n",
       "       [25.978054 ],\n",
       "       [27.596685 ],\n",
       "       [26.863354 ],\n",
       "       [26.189632 ],\n",
       "       [26.448921 ],\n",
       "       [26.218412 ],\n",
       "       [27.555483 ],\n",
       "       [25.772612 ],\n",
       "       [26.866674 ],\n",
       "       [27.561508 ],\n",
       "       [27.247162 ],\n",
       "       [25.528727 ],\n",
       "       [27.48325  ],\n",
       "       [27.04541  ],\n",
       "       [26.913954 ],\n",
       "       [27.217758 ],\n",
       "       [27.94013  ],\n",
       "       [25.79307  ],\n",
       "       [26.437904 ],\n",
       "       [27.521023 ],\n",
       "       [27.732069 ],\n",
       "       [26.121063 ],\n",
       "       [27.93095  ],\n",
       "       [25.971819 ],\n",
       "       [27.395771 ],\n",
       "       [27.576975 ],\n",
       "       [28.167044 ],\n",
       "       [28.555738 ],\n",
       "       [28.896276 ],\n",
       "       [29.231565 ],\n",
       "       [29.286034 ],\n",
       "       [29.307093 ],\n",
       "       [29.346651 ],\n",
       "       [29.44247  ],\n",
       "       [29.369593 ],\n",
       "       [29.36052  ],\n",
       "       [29.230467 ],\n",
       "       [28.707855 ],\n",
       "       [28.555206 ],\n",
       "       [28.154219 ],\n",
       "       [28.054064 ],\n",
       "       [28.025442 ],\n",
       "       [27.924135 ],\n",
       "       [27.635256 ],\n",
       "       [27.301168 ],\n",
       "       [26.887123 ],\n",
       "       [26.848324 ],\n",
       "       [26.970802 ],\n",
       "       [27.012905 ],\n",
       "       [26.994207 ],\n",
       "       [27.354036 ],\n",
       "       [27.348007 ],\n",
       "       [27.672516 ],\n",
       "       [27.836786 ],\n",
       "       [27.567535 ],\n",
       "       [27.217314 ],\n",
       "       [27.215105 ],\n",
       "       [26.852333 ],\n",
       "       [27.728249 ],\n",
       "       [27.986162 ],\n",
       "       [28.19012  ],\n",
       "       [28.352499 ],\n",
       "       [28.594248 ],\n",
       "       [28.874142 ],\n",
       "       [29.122377 ],\n",
       "       [29.036789 ],\n",
       "       [28.398682 ],\n",
       "       [27.89334  ],\n",
       "       [27.419893 ],\n",
       "       [27.100111 ],\n",
       "       [27.116344 ],\n",
       "       [27.362516 ],\n",
       "       [27.572603 ],\n",
       "       [27.625952 ],\n",
       "       [28.117016 ],\n",
       "       [28.259218 ],\n",
       "       [27.958506 ],\n",
       "       [27.746555 ],\n",
       "       [27.358673 ],\n",
       "       [27.005018 ],\n",
       "       [26.847136 ],\n",
       "       [25.922812 ],\n",
       "       [25.840872 ],\n",
       "       [25.574183 ],\n",
       "       [26.027414 ],\n",
       "       [25.99155  ],\n",
       "       [26.324934 ],\n",
       "       [26.329254 ],\n",
       "       [25.751959 ],\n",
       "       [25.338314 ],\n",
       "       [25.431437 ],\n",
       "       [25.781548 ],\n",
       "       [26.464867 ],\n",
       "       [26.79234  ],\n",
       "       [27.147724 ],\n",
       "       [27.234703 ],\n",
       "       [27.516607 ],\n",
       "       [27.543058 ],\n",
       "       [27.9377   ],\n",
       "       [28.391172 ],\n",
       "       [28.86714  ],\n",
       "       [28.875608 ],\n",
       "       [28.922636 ],\n",
       "       [29.095737 ],\n",
       "       [29.233858 ],\n",
       "       [29.42463  ],\n",
       "       [29.550714 ],\n",
       "       [29.612785 ],\n",
       "       [29.607658 ],\n",
       "       [29.12278  ],\n",
       "       [28.976822 ],\n",
       "       [28.417988 ],\n",
       "       [27.9896   ],\n",
       "       [28.484133 ],\n",
       "       [28.539806 ],\n",
       "       [28.652157 ],\n",
       "       [28.823648 ],\n",
       "       [28.295845 ],\n",
       "       [28.341412 ],\n",
       "       [27.76398  ],\n",
       "       [27.07536  ],\n",
       "       [26.561794 ],\n",
       "       [26.393751 ],\n",
       "       [26.550415 ],\n",
       "       [26.523268 ],\n",
       "       [26.58248  ],\n",
       "       [26.892483 ],\n",
       "       [27.178606 ],\n",
       "       [27.03351  ],\n",
       "       [26.993315 ],\n",
       "       [26.709291 ],\n",
       "       [26.715242 ],\n",
       "       [27.377737 ],\n",
       "       [27.859999 ],\n",
       "       [28.648046 ],\n",
       "       [28.656097 ],\n",
       "       [29.124117 ],\n",
       "       [29.289091 ],\n",
       "       [29.485842 ],\n",
       "       [29.185413 ],\n",
       "       [29.170818 ],\n",
       "       [29.121368 ],\n",
       "       [29.249802 ],\n",
       "       [29.301317 ],\n",
       "       [29.332096 ],\n",
       "       [29.47127  ],\n",
       "       [29.494436 ],\n",
       "       [29.417177 ],\n",
       "       [29.43486  ],\n",
       "       [29.54499  ],\n",
       "       [29.387934 ],\n",
       "       [29.026752 ],\n",
       "       [28.804768 ],\n",
       "       [28.59984  ],\n",
       "       [28.538723 ],\n",
       "       [28.651716 ],\n",
       "       [28.727324 ]], dtype=float32)"
      ]
     },
     "execution_count": 30,
     "metadata": {},
     "output_type": "execute_result"
    }
   ],
   "source": [
    "# Prediction\n",
    "prev = model.predict(X_test)\n",
    "prev = std.inverse_transform(prev)\n",
    "prev"
   ]
  },
  {
   "cell_type": "code",
   "execution_count": 31,
   "id": "65a03d6d-52f5-4782-8179-0342e3a61f6d",
   "metadata": {
    "ExecuteTime": {
     "end_time": "2022-03-19T15:55:34.264566Z",
     "start_time": "2022-03-19T15:55:34.259648Z"
    },
    "hidden": true
   },
   "outputs": [
    {
     "data": {
      "text/plain": [
       "519"
      ]
     },
     "execution_count": 31,
     "metadata": {},
     "output_type": "execute_result"
    }
   ],
   "source": [
    "# Predict the next 10 days\n",
    "lenght_test = len(test)\n",
    "lenght_test"
   ]
  },
  {
   "cell_type": "code",
   "execution_count": 32,
   "id": "fad1bdda-522f-44a6-8b79-b13151cb055c",
   "metadata": {
    "ExecuteTime": {
     "end_time": "2022-03-19T15:55:35.110289Z",
     "start_time": "2022-03-19T15:55:35.105529Z"
    },
    "hidden": true
   },
   "outputs": [
    {
     "data": {
      "text/plain": [
       "504"
      ]
     },
     "execution_count": 32,
     "metadata": {},
     "output_type": "execute_result"
    }
   ],
   "source": [
    "# Get the last days to step\n",
    "days_input_steps =lenght_test - steps\n",
    "days_input_steps"
   ]
  },
  {
   "cell_type": "code",
   "execution_count": 33,
   "id": "be0170bc-40b7-4f05-a586-7471c1278956",
   "metadata": {
    "ExecuteTime": {
     "end_time": "2022-03-19T15:55:36.002352Z",
     "start_time": "2022-03-19T15:55:35.996496Z"
    },
    "hidden": true
   },
   "outputs": [
    {
     "data": {
      "text/plain": [
       "array([[1.41048896, 1.4595649 , 1.43502693, 1.3873142 , 1.41185218,\n",
       "        1.46501778, 1.36959234, 1.25644502, 1.2618979 , 1.25644502,\n",
       "        1.27961977, 1.33687504, 1.3409647 , 1.30824741, 1.29597842]])"
      ]
     },
     "execution_count": 33,
     "metadata": {},
     "output_type": "execute_result"
    }
   ],
   "source": [
    "# Transform in array\n",
    "input_steps = test[days_input_steps:]\n",
    "input_steps = np.array(input_steps).reshape(1, -1)\n",
    "input_steps"
   ]
  },
  {
   "cell_type": "code",
   "execution_count": 34,
   "id": "d64943bc-8518-4f26-ab1a-47a3b0544cd6",
   "metadata": {
    "ExecuteTime": {
     "end_time": "2022-03-19T15:55:36.842730Z",
     "start_time": "2022-03-19T15:55:36.836938Z"
    },
    "hidden": true
   },
   "outputs": [
    {
     "data": {
      "text/plain": [
       "[1.4104889554776525,\n",
       " 1.459564899170591,\n",
       " 1.4350269273241218,\n",
       " 1.3873142042893207,\n",
       " 1.4118521761357898,\n",
       " 1.46501778180314,\n",
       " 1.3695923357335371,\n",
       " 1.2564450211081513,\n",
       " 1.2618979037406999,\n",
       " 1.2564450211081513,\n",
       " 1.279619772296483,\n",
       " 1.336875039938245,\n",
       " 1.3409647019126567,\n",
       " 1.3082474061173641,\n",
       " 1.2959784201941293]"
      ]
     },
     "execution_count": 34,
     "metadata": {},
     "output_type": "execute_result"
    }
   ],
   "source": [
    "# Return in list\n",
    "list_output_steps = list(input_steps)\n",
    "list_output_steps = list_output_steps[0].tolist()\n",
    "list_output_steps"
   ]
  },
  {
   "cell_type": "code",
   "execution_count": 35,
   "id": "9cf6a4e6-6802-4ef7-9b8d-ac14c832d2b3",
   "metadata": {
    "ExecuteTime": {
     "end_time": "2022-03-19T15:55:38.295268Z",
     "start_time": "2022-03-19T15:55:37.903876Z"
    },
    "hidden": true
   },
   "outputs": [
    {
     "name": "stdout",
     "output_type": "stream",
     "text": [
      "[1.3283871]\n",
      "16\n",
      "Day 1. Value Entrance → [1.4595649  1.43502693 1.3873142  1.41185218 1.46501778 1.36959234\n",
      " 1.25644502 1.2618979  1.25644502 1.27961977 1.33687504 1.3409647\n",
      " 1.30824741 1.29597842 1.32838714]\n",
      "Day 1. Value Predict → [[1.3386408]]\n",
      "Day 2. Value Entrance → [1.43502693 1.3873142  1.41185218 1.46501778 1.36959234 1.25644502\n",
      " 1.2618979  1.25644502 1.27961977 1.33687504 1.3409647  1.30824741\n",
      " 1.29597842 1.32838714 1.33864081]\n",
      "Day 2. Value Predict → [[1.3469809]]\n",
      "Day 3. Value Entrance → [1.3873142  1.41185218 1.46501778 1.36959234 1.25644502 1.2618979\n",
      " 1.25644502 1.27961977 1.33687504 1.3409647  1.30824741 1.29597842\n",
      " 1.32838714 1.33864081 1.34698093]\n",
      "Day 3. Value Predict → [[1.3560175]]\n",
      "Day 4. Value Entrance → [1.41185218 1.46501778 1.36959234 1.25644502 1.2618979  1.25644502\n",
      " 1.27961977 1.33687504 1.3409647  1.30824741 1.29597842 1.32838714\n",
      " 1.33864081 1.34698093 1.35601747]\n",
      "Day 4. Value Predict → [[1.3650308]]\n",
      "Day 5. Value Entrance → [1.46501778 1.36959234 1.25644502 1.2618979  1.25644502 1.27961977\n",
      " 1.33687504 1.3409647  1.30824741 1.29597842 1.32838714 1.33864081\n",
      " 1.34698093 1.35601747 1.36503077]\n",
      "Day 5. Value Predict → [[1.3740591]]\n",
      "Day 6. Value Entrance → [1.36959234 1.25644502 1.2618979  1.25644502 1.27961977 1.33687504\n",
      " 1.3409647  1.30824741 1.29597842 1.32838714 1.33864081 1.34698093\n",
      " 1.35601747 1.36503077 1.37405908]\n",
      "Day 6. Value Predict → [[1.3824791]]\n",
      "Day 7. Value Entrance → [1.25644502 1.2618979  1.25644502 1.27961977 1.33687504 1.3409647\n",
      " 1.30824741 1.29597842 1.32838714 1.33864081 1.34698093 1.35601747\n",
      " 1.36503077 1.37405908 1.38247907]\n",
      "Day 7. Value Predict → [[1.3901564]]\n",
      "Day 8. Value Entrance → [1.2618979  1.25644502 1.27961977 1.33687504 1.3409647  1.30824741\n",
      " 1.29597842 1.32838714 1.33864081 1.34698093 1.35601747 1.36503077\n",
      " 1.37405908 1.38247907 1.39015639]\n",
      "Day 8. Value Predict → [[1.3975137]]\n",
      "Day 9. Value Entrance → [1.25644502 1.27961977 1.33687504 1.3409647  1.30824741 1.29597842\n",
      " 1.32838714 1.33864081 1.34698093 1.35601747 1.36503077 1.37405908\n",
      " 1.38247907 1.39015639 1.39751375]\n",
      "Day 9. Value Predict → [[1.4044822]]\n",
      "[[1.3283871412277222], [1.338640809059143], [1.3469809293746948], [1.3560174703598022], [1.3650307655334473], [1.3740590810775757], [1.3824790716171265], [1.3901563882827759], [1.397513747215271], [1.4044822454452515]]\n"
     ]
    }
   ],
   "source": [
    "#Loop to preview the next 10 days\n",
    "pred_output = [] #→ recebe os dias a serem previstos\n",
    "i = 0\n",
    "n_future = 10\n",
    "while(i<n_future):\n",
    "    if(len(list_output_steps) > steps):\n",
    "       input_steps = np.array(list_output_steps[1:])\n",
    "       print('Day {}. Value Entrance → {}'.format(i, input_steps))\n",
    "       input_steps = input_steps.reshape(1, -1)\n",
    "       input_steps = input_steps.reshape((1, steps, 1))\n",
    "       #print(input_steps)\n",
    "       pred = model.predict(input_steps, verbose=0)\n",
    "       print('Day {}. Value Predict → {}'.format(i, pred))\n",
    "       list_output_steps.extend(pred[0].tolist())\n",
    "       list_output_steps = list_output_steps[1:]\n",
    "       #print(list_output_steps)\n",
    "       pred_output.extend(pred.tolist())\n",
    "       i = i+1\n",
    "       \n",
    "    else:\n",
    "       input_steps = input_steps.reshape((1, steps, 1))\n",
    "       pred= model.predict(input_steps, verbose=0)\n",
    "       print(pred[0])\n",
    "       list_output_steps.extend(pred[0].tolist())\n",
    "       print(len(list_output_steps))\n",
    "       pred_output.extend(pred.tolist())\n",
    "       i = i+1\n",
    "       \n",
    "print(pred_output)\n",
    "       \n",
    "       "
   ]
  },
  {
   "cell_type": "code",
   "execution_count": 36,
   "id": "e9a09e87-5461-467a-829c-3f89e35580ad",
   "metadata": {
    "ExecuteTime": {
     "end_time": "2022-03-19T15:55:38.789772Z",
     "start_time": "2022-03-19T15:55:38.782176Z"
    },
    "hidden": true
   },
   "outputs": [
    {
     "data": {
      "text/plain": [
       "[28.687736428362804,\n",
       " 28.762952922260663,\n",
       " 28.824132455198114,\n",
       " 28.890420630418816,\n",
       " 28.956538284371927,\n",
       " 29.02276612129794,\n",
       " 29.084531547821456,\n",
       " 29.14084903846263,\n",
       " 29.194819456887398,\n",
       " 29.24593736056928]"
      ]
     },
     "execution_count": 36,
     "metadata": {},
     "output_type": "execute_result"
    }
   ],
   "source": [
    "# transform exit\n",
    "prev = std.inverse_transform(pred_output)\n",
    "prev = np.array(prev).reshape(1, -1)\n",
    "list_output_prev = list(prev)\n",
    "list_output_prev = prev[0].tolist()\n",
    "list_output_prev"
   ]
  },
  {
   "cell_type": "code",
   "execution_count": 37,
   "id": "60dfd2ef-0c94-4542-8dac-8fad135df356",
   "metadata": {
    "ExecuteTime": {
     "end_time": "2022-03-19T15:55:39.519939Z",
     "start_time": "2022-03-19T15:55:39.509818Z"
    },
    "hidden": true
   },
   "outputs": [
    {
     "data": {
      "text/plain": [
       "[Timestamp('2021-12-31 00:00:00', freq='B'),\n",
       " Timestamp('2022-01-03 00:00:00', freq='B'),\n",
       " Timestamp('2022-01-04 00:00:00', freq='B'),\n",
       " Timestamp('2022-01-05 00:00:00', freq='B'),\n",
       " Timestamp('2022-01-06 00:00:00', freq='B'),\n",
       " Timestamp('2022-01-07 00:00:00', freq='B'),\n",
       " Timestamp('2022-01-10 00:00:00', freq='B'),\n",
       " Timestamp('2022-01-11 00:00:00', freq='B'),\n",
       " Timestamp('2022-01-12 00:00:00', freq='B'),\n",
       " Timestamp('2022-01-13 00:00:00', freq='B')]"
      ]
     },
     "execution_count": 37,
     "metadata": {},
     "output_type": "execute_result"
    }
   ],
   "source": [
    "# format exit (date to predict)\n",
    "dates = pd.to_datetime(df_petro['data_pregao'])\n",
    "predict_dates = pd.date_range(list(dates)[-1] + pd.DateOffset(1), periods=10, freq='b').to_list()\n",
    "predict_dates"
   ]
  },
  {
   "cell_type": "code",
   "execution_count": 38,
   "id": "adcef319-aafa-4ca0-a982-4906ce74e459",
   "metadata": {
    "ExecuteTime": {
     "end_time": "2022-03-19T15:55:40.153726Z",
     "start_time": "2022-03-19T15:55:40.146711Z"
    },
    "hidden": true
   },
   "outputs": [],
   "source": [
    "# New DataFrame \n",
    "forecast_dates = []\n",
    "for i in predict_dates:\n",
    "    forecast_dates.append(i.date())\n",
    "    \n",
    "df_forecast = pd.DataFrame({'data_pregao':np.array(forecast_dates), 'preco_fechamento':list_output_prev})\n",
    "df_forecast['data_pregao'] = pd.to_datetime(df_forecast['data_pregao'])"
   ]
  },
  {
   "cell_type": "code",
   "execution_count": 39,
   "id": "48fe5cea-2dc8-429a-b897-68a9e182ef1c",
   "metadata": {
    "ExecuteTime": {
     "end_time": "2022-03-19T15:55:40.977384Z",
     "start_time": "2022-03-19T15:55:40.967103Z"
    },
    "hidden": true
   },
   "outputs": [
    {
     "data": {
      "text/html": [
       "<div>\n",
       "<style scoped>\n",
       "    .dataframe tbody tr th:only-of-type {\n",
       "        vertical-align: middle;\n",
       "    }\n",
       "\n",
       "    .dataframe tbody tr th {\n",
       "        vertical-align: top;\n",
       "    }\n",
       "\n",
       "    .dataframe thead th {\n",
       "        text-align: right;\n",
       "    }\n",
       "</style>\n",
       "<table border=\"1\" class=\"dataframe\">\n",
       "  <thead>\n",
       "    <tr style=\"text-align: right;\">\n",
       "      <th></th>\n",
       "      <th>preco_fechamento</th>\n",
       "    </tr>\n",
       "  </thead>\n",
       "  <tbody>\n",
       "    <tr>\n",
       "      <th>2021-12-31</th>\n",
       "      <td>28.687736</td>\n",
       "    </tr>\n",
       "    <tr>\n",
       "      <th>2022-01-03</th>\n",
       "      <td>28.762953</td>\n",
       "    </tr>\n",
       "    <tr>\n",
       "      <th>2022-01-04</th>\n",
       "      <td>28.824132</td>\n",
       "    </tr>\n",
       "    <tr>\n",
       "      <th>2022-01-05</th>\n",
       "      <td>28.890421</td>\n",
       "    </tr>\n",
       "    <tr>\n",
       "      <th>2022-01-06</th>\n",
       "      <td>28.956538</td>\n",
       "    </tr>\n",
       "    <tr>\n",
       "      <th>2022-01-07</th>\n",
       "      <td>29.022766</td>\n",
       "    </tr>\n",
       "    <tr>\n",
       "      <th>2022-01-10</th>\n",
       "      <td>29.084532</td>\n",
       "    </tr>\n",
       "    <tr>\n",
       "      <th>2022-01-11</th>\n",
       "      <td>29.140849</td>\n",
       "    </tr>\n",
       "    <tr>\n",
       "      <th>2022-01-12</th>\n",
       "      <td>29.194819</td>\n",
       "    </tr>\n",
       "    <tr>\n",
       "      <th>2022-01-13</th>\n",
       "      <td>29.245937</td>\n",
       "    </tr>\n",
       "  </tbody>\n",
       "</table>\n",
       "</div>"
      ],
      "text/plain": [
       "            preco_fechamento\n",
       "2021-12-31         28.687736\n",
       "2022-01-03         28.762953\n",
       "2022-01-04         28.824132\n",
       "2022-01-05         28.890421\n",
       "2022-01-06         28.956538\n",
       "2022-01-07         29.022766\n",
       "2022-01-10         29.084532\n",
       "2022-01-11         29.140849\n",
       "2022-01-12         29.194819\n",
       "2022-01-13         29.245937"
      ]
     },
     "execution_count": 39,
     "metadata": {},
     "output_type": "execute_result"
    }
   ],
   "source": [
    "df_forecast = df_forecast.set_index(pd.DatetimeIndex(df_forecast['data_pregao'].values))\n",
    "df_forecast.drop('data_pregao', axis=1, inplace=True)\n",
    "df_forecast\n",
    "\n",
    "    "
   ]
  },
  {
   "cell_type": "code",
   "execution_count": 40,
   "id": "d79a2fd5-efae-4dd9-ad62-e63b74529a45",
   "metadata": {
    "ExecuteTime": {
     "end_time": "2022-03-19T15:55:41.927104Z",
     "start_time": "2022-03-19T15:55:41.746193Z"
    },
    "hidden": true
   },
   "outputs": [
    {
     "data": {
      "image/png": "[encoded data removed]",
      "text/plain": [
       "<Figure size 1152x576 with 1 Axes>"
      ]
     },
     "metadata": {
      "needs_background": "light"
     },
     "output_type": "display_data"
    }
   ],
   "source": [
    "plt.figure(figsize=(16,8))\n",
    "plt.title('Price Share Value')\n",
    "plt.plot(df_petro_cls['preco_fechamento'])\n",
    "plt.plot(df_forecast['preco_fechamento'])\n",
    "plt.legend(['Price Closed', 'Price Predicted'])\n",
    "plt.show();\n"
   ]
  },
  {
   "cell_type": "code",
   "execution_count": 42,
   "id": "5ba369f8",
   "metadata": {
    "ExecuteTime": {
     "end_time": "2022-03-19T15:55:55.445172Z",
     "start_time": "2022-03-19T15:55:55.084187Z"
    },
    "hidden": true
   },
   "outputs": [
    {
     "data": {
      "image/png": "[encoded data removed]",
      "text/plain": [
       "<Figure size 1296x720 with 3 Axes>"
      ]
     },
     "metadata": {
      "needs_background": "light"
     },
     "output_type": "display_data"
    }
   ],
   "source": [
    "b = df_petro[df_petro['data_pregao'] > '2020-01-01']\n",
    "fig = plt.figure(figsize=(18, 10))\n",
    "plt.subplots_adjust(bottom = 0., left = 0, top = 1., right = 1)\n",
    "\n",
    "# Create first axes, the top-left plot with green plot\n",
    "sub1 = fig.add_subplot(2,2,1) # two rows, two columns, fist cell\n",
    "plt.plot(b['preco_fechamento'], color='darkslateblue')\n",
    "# Create second axes, the top-left plot with orange plot\n",
    "sub2 = fig.add_subplot(2,2,2) # two rows, two columns, second cell\n",
    "plt.plot(df_forecast['preco_fechamento'], label='Predict Value', color='orange', marker='o');\n",
    "\n",
    "# Create third axes, a combination of third and fourth cell\n",
    "sub3 = fig.add_subplot(2,2,(3,4)) # two rows, two colums, combined third and fourth cell\n",
    "plt.plot(df_petro_cls['preco_fechamento'],color='darkslateblue')\n",
    "plt.plot(df_forecast['preco_fechamento'], color='orange');"
   ]
  },
  {
   "cell_type": "markdown",
   "id": "8722ad71",
   "metadata": {},
   "source": [
    "# Comparando os Dados Reais de 2022 e minha Previsão"
   ]
  },
  {
   "cell_type": "code",
   "execution_count": 72,
   "id": "438b003a",
   "metadata": {
    "ExecuteTime": {
     "end_time": "2022-03-19T16:11:42.510355Z",
     "start_time": "2022-03-19T16:11:42.458331Z"
    }
   },
   "outputs": [],
   "source": [
    "df_2022 = pd.read_csv('../data/b3_bovespa_2022.csv')"
   ]
  },
  {
   "cell_type": "code",
   "execution_count": 73,
   "id": "a86c6907",
   "metadata": {
    "ExecuteTime": {
     "end_time": "2022-03-19T16:11:43.101063Z",
     "start_time": "2022-03-19T16:11:43.089194Z"
    }
   },
   "outputs": [],
   "source": [
    "df_2022['data_pregao'] = pd.to_datetime(df_2022['data_pregao'], format='%Y-%m-%d')"
   ]
  },
  {
   "cell_type": "code",
   "execution_count": 74,
   "id": "b01badbe",
   "metadata": {
    "ExecuteTime": {
     "end_time": "2022-03-19T16:11:43.942163Z",
     "start_time": "2022-03-19T16:11:43.936494Z"
    }
   },
   "outputs": [],
   "source": [
    "df = df_2022.copy()"
   ]
  },
  {
   "cell_type": "code",
   "execution_count": 75,
   "id": "0312584f",
   "metadata": {
    "ExecuteTime": {
     "end_time": "2022-03-19T16:11:44.560565Z",
     "start_time": "2022-03-19T16:11:44.548311Z"
    }
   },
   "outputs": [],
   "source": [
    "df = df[df['sigla_acao'] == 'PETR4']\n",
    "df = df[df['data_pregao'] <= '2022-01-13']"
   ]
  },
  {
   "cell_type": "code",
   "execution_count": 85,
   "id": "e12e2dca",
   "metadata": {
    "ExecuteTime": {
     "end_time": "2022-03-19T16:18:21.035448Z",
     "start_time": "2022-03-19T16:18:21.017792Z"
    }
   },
   "outputs": [
    {
     "data": {
      "text/html": [
       "<div>\n",
       "<style scoped>\n",
       "    .dataframe tbody tr th:only-of-type {\n",
       "        vertical-align: middle;\n",
       "    }\n",
       "\n",
       "    .dataframe tbody tr th {\n",
       "        vertical-align: top;\n",
       "    }\n",
       "\n",
       "    .dataframe thead th {\n",
       "        text-align: right;\n",
       "    }\n",
       "</style>\n",
       "<table border=\"1\" class=\"dataframe\">\n",
       "  <thead>\n",
       "    <tr style=\"text-align: right;\">\n",
       "      <th></th>\n",
       "      <th>codbdi</th>\n",
       "      <th>sigla_acao</th>\n",
       "      <th>nome_acao</th>\n",
       "      <th>preco_abertura</th>\n",
       "      <th>preco_maximo</th>\n",
       "      <th>preco_minimo</th>\n",
       "      <th>preco_fechamento</th>\n",
       "      <th>qtd_negocios</th>\n",
       "      <th>volume_negocios</th>\n",
       "    </tr>\n",
       "  </thead>\n",
       "  <tbody>\n",
       "    <tr>\n",
       "      <th>2022-01-03</th>\n",
       "      <td>2.0</td>\n",
       "      <td>PETR4</td>\n",
       "      <td>PETROBRAS</td>\n",
       "      <td>28.54</td>\n",
       "      <td>29.22</td>\n",
       "      <td>28.53</td>\n",
       "      <td>29.09</td>\n",
       "      <td>52704700</td>\n",
       "      <td>15</td>\n",
       "    </tr>\n",
       "    <tr>\n",
       "      <th>2022-01-04</th>\n",
       "      <td>2.0</td>\n",
       "      <td>PETR4</td>\n",
       "      <td>PETROBRAS</td>\n",
       "      <td>29.16</td>\n",
       "      <td>29.40</td>\n",
       "      <td>28.91</td>\n",
       "      <td>29.20</td>\n",
       "      <td>51739200</td>\n",
       "      <td>15</td>\n",
       "    </tr>\n",
       "    <tr>\n",
       "      <th>2022-01-05</th>\n",
       "      <td>2.0</td>\n",
       "      <td>PETR4</td>\n",
       "      <td>PETROBRAS</td>\n",
       "      <td>29.19</td>\n",
       "      <td>29.27</td>\n",
       "      <td>27.94</td>\n",
       "      <td>28.07</td>\n",
       "      <td>78459800</td>\n",
       "      <td>22</td>\n",
       "    </tr>\n",
       "    <tr>\n",
       "      <th>2022-01-06</th>\n",
       "      <td>2.0</td>\n",
       "      <td>PETR4</td>\n",
       "      <td>PETROBRAS</td>\n",
       "      <td>28.29</td>\n",
       "      <td>28.65</td>\n",
       "      <td>27.84</td>\n",
       "      <td>28.05</td>\n",
       "      <td>61163100</td>\n",
       "      <td>17</td>\n",
       "    </tr>\n",
       "    <tr>\n",
       "      <th>2022-01-07</th>\n",
       "      <td>2.0</td>\n",
       "      <td>PETR4</td>\n",
       "      <td>PETROBRAS</td>\n",
       "      <td>28.11</td>\n",
       "      <td>28.29</td>\n",
       "      <td>27.82</td>\n",
       "      <td>28.18</td>\n",
       "      <td>47507600</td>\n",
       "      <td>13</td>\n",
       "    </tr>\n",
       "    <tr>\n",
       "      <th>2022-01-10</th>\n",
       "      <td>2.0</td>\n",
       "      <td>PETR4</td>\n",
       "      <td>PETROBRAS</td>\n",
       "      <td>27.99</td>\n",
       "      <td>28.24</td>\n",
       "      <td>27.72</td>\n",
       "      <td>28.01</td>\n",
       "      <td>37455200</td>\n",
       "      <td>10</td>\n",
       "    </tr>\n",
       "    <tr>\n",
       "      <th>2022-01-11</th>\n",
       "      <td>2.0</td>\n",
       "      <td>PETR4</td>\n",
       "      <td>PETROBRAS</td>\n",
       "      <td>28.10</td>\n",
       "      <td>29.07</td>\n",
       "      <td>27.85</td>\n",
       "      <td>28.84</td>\n",
       "      <td>73623800</td>\n",
       "      <td>21</td>\n",
       "    </tr>\n",
       "    <tr>\n",
       "      <th>2022-01-12</th>\n",
       "      <td>2.0</td>\n",
       "      <td>PETR4</td>\n",
       "      <td>PETROBRAS</td>\n",
       "      <td>28.95</td>\n",
       "      <td>29.91</td>\n",
       "      <td>28.95</td>\n",
       "      <td>29.72</td>\n",
       "      <td>81378200</td>\n",
       "      <td>24</td>\n",
       "    </tr>\n",
       "    <tr>\n",
       "      <th>2022-01-13</th>\n",
       "      <td>2.0</td>\n",
       "      <td>PETR4</td>\n",
       "      <td>PETROBRAS</td>\n",
       "      <td>29.53</td>\n",
       "      <td>30.63</td>\n",
       "      <td>29.50</td>\n",
       "      <td>30.32</td>\n",
       "      <td>76717500</td>\n",
       "      <td>23</td>\n",
       "    </tr>\n",
       "  </tbody>\n",
       "</table>\n",
       "</div>"
      ],
      "text/plain": [
       "            codbdi sigla_acao  nome_acao  preco_abertura  preco_maximo  \\\n",
       "2022-01-03     2.0      PETR4  PETROBRAS           28.54         29.22   \n",
       "2022-01-04     2.0      PETR4  PETROBRAS           29.16         29.40   \n",
       "2022-01-05     2.0      PETR4  PETROBRAS           29.19         29.27   \n",
       "2022-01-06     2.0      PETR4  PETROBRAS           28.29         28.65   \n",
       "2022-01-07     2.0      PETR4  PETROBRAS           28.11         28.29   \n",
       "2022-01-10     2.0      PETR4  PETROBRAS           27.99         28.24   \n",
       "2022-01-11     2.0      PETR4  PETROBRAS           28.10         29.07   \n",
       "2022-01-12     2.0      PETR4  PETROBRAS           28.95         29.91   \n",
       "2022-01-13     2.0      PETR4  PETROBRAS           29.53         30.63   \n",
       "\n",
       "            preco_minimo  preco_fechamento  qtd_negocios  volume_negocios  \n",
       "2022-01-03         28.53             29.09      52704700               15  \n",
       "2022-01-04         28.91             29.20      51739200               15  \n",
       "2022-01-05         27.94             28.07      78459800               22  \n",
       "2022-01-06         27.84             28.05      61163100               17  \n",
       "2022-01-07         27.82             28.18      47507600               13  \n",
       "2022-01-10         27.72             28.01      37455200               10  \n",
       "2022-01-11         27.85             28.84      73623800               21  \n",
       "2022-01-12         28.95             29.72      81378200               24  \n",
       "2022-01-13         29.50             30.32      76717500               23  "
      ]
     },
     "execution_count": 85,
     "metadata": {},
     "output_type": "execute_result"
    }
   ],
   "source": [
    "# set to index with date\n",
    "df = df.set_index(pd.DatetimeIndex(df['data_pregao'].values))\n",
    "df.drop('data_pregao', axis=1)"
   ]
  },
  {
   "cell_type": "code",
   "execution_count": 87,
   "id": "6d69811a",
   "metadata": {
    "ExecuteTime": {
     "end_time": "2022-03-19T16:19:54.667231Z",
     "start_time": "2022-03-19T16:19:54.372199Z"
    }
   },
   "outputs": [
    {
     "data": {
      "image/png": "[encoded data removed]",
      "text/plain": [
       "<Figure size 1152x576 with 1 Axes>"
      ]
     },
     "metadata": {
      "needs_background": "light"
     },
     "output_type": "display_data"
    }
   ],
   "source": [
    "plt.figure(figsize=(16,8))\n",
    "plt.title('Price Share Value')\n",
    "plt.plot(df['preco_fechamento'],label='Real Value', color='blue', marker='o')\n",
    "plt.plot(df_forecast['preco_fechamento'],label='Predict Value', color='orange', marker='o')\n",
    "plt.legend(['Price Closed', 'Price Predicted'])\n",
    "plt.show();\n"
   ]
  },
  {
   "cell_type": "code",
   "execution_count": null,
   "id": "3e77c847",
   "metadata": {},
   "outputs": [],
   "source": [
    "Hte next path: create app"
   ]
  },
  {
   "cell_type": "code",
   "execution_count": null,
   "id": "3f91eb00",
   "metadata": {},
   "outputs": [],
   "source": []
  }
 ],
 "metadata": {
  "hide_input": false,
  "kernelspec": {
   "display_name": "Python 3 (ipykernel)",
   "language": "python",
   "name": "python3"
  },
  "language_info": {
   "codemirror_mode": {
    "name": "ipython",
    "version": 3
   },
   "file_extension": ".py",
   "mimetype": "text/x-python",
   "name": "python",
   "nbconvert_exporter": "python",
   "pygments_lexer": "ipython3",
   "version": "3.8.10"
  },
  "nbTranslate": {
   "displayLangs": [
    "*"
   ],
   "hotkey": "alt-t",
   "langInMainMenu": true,
   "sourceLang": "en",
   "targetLang": "fr",
   "useGoogleTranslate": true
  }
 },
 "nbformat": 4,
 "nbformat_minor": 5
}
