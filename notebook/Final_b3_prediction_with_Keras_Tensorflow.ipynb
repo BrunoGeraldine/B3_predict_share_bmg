{
 "cells": [
  {
   "cell_type": "markdown",
   "id": "abce84e2",
   "metadata": {
    "ExecuteTime": {
     "end_time": "2022-03-16T14:23:34.314779Z",
     "start_time": "2022-03-16T14:23:34.311226Z"
    },
    "heading_collapsed": true
   },
   "source": [
    "# 1.0 Import"
   ]
  },
  {
   "cell_type": "code",
   "execution_count": 3,
   "id": "412b5e43",
   "metadata": {
    "ExecuteTime": {
     "end_time": "2022-03-19T15:50:42.616121Z",
     "start_time": "2022-03-19T15:50:40.986967Z"
    },
    "hidden": true
   },
   "outputs": [],
   "source": [
    "#Load and edit dataframe\n",
    "import numpy as np\n",
    "import pandas as pd\n",
    "\n",
    "\n",
    "# Data Visualization\n",
    "import seaborn           as sns\n",
    "import matplotlib.pyplot as plt\n",
    "%matplotlib inline\n",
    "\n",
    "# Select Train and Test\n",
    "from sklearn.model_selection import train_test_split\n",
    "\n",
    "# ML - Algoritms\n",
    "from sklearn.preprocessing   import StandardScaler\n",
    "from tensorflow.keras.models import Sequential\n",
    "from tensorflow.keras.layers import Dense, LSTM, Dropout\n",
    "\n",
    "import warnings \n",
    "warnings.filterwarnings( 'ignore' ) "
   ]
  },
  {
   "cell_type": "markdown",
   "id": "9a0cbaa9",
   "metadata": {
    "hidden": true
   },
   "source": [
    "## Load DataSet"
   ]
  },
  {
   "cell_type": "code",
   "execution_count": 4,
   "id": "2dfb7345",
   "metadata": {
    "ExecuteTime": {
     "end_time": "2022-03-19T15:50:44.652000Z",
     "start_time": "2022-03-19T15:50:44.246625Z"
    },
    "hidden": true
   },
   "outputs": [],
   "source": [
    "df = pd.read_csv('../data/all_b3_bovespa.csv')"
   ]
  },
  {
   "cell_type": "code",
   "execution_count": 5,
   "id": "047ffb4a",
   "metadata": {
    "ExecuteTime": {
     "end_time": "2022-03-19T15:50:45.277658Z",
     "start_time": "2022-03-19T15:50:45.256452Z"
    },
    "hidden": true
   },
   "outputs": [],
   "source": [
    "df_petro = df.copy()"
   ]
  },
  {
   "cell_type": "markdown",
   "id": "fbf7e79a",
   "metadata": {
    "heading_collapsed": true,
    "tags": []
   },
   "source": [
    "# Data Analysis\n"
   ]
  },
  {
   "cell_type": "code",
   "execution_count": 6,
   "id": "17adf42d",
   "metadata": {
    "ExecuteTime": {
     "end_time": "2022-03-19T15:50:46.400426Z",
     "start_time": "2022-03-19T15:50:46.395579Z"
    },
    "hidden": true
   },
   "outputs": [
    {
     "name": "stdout",
     "output_type": "stream",
     "text": [
      "nº of columns: 733407, nº of rows:10\n"
     ]
    }
   ],
   "source": [
    "print(f'nº of columns: {df_petro.shape[0]}, nº of rows:{df_petro.shape[1]}')"
   ]
  },
  {
   "cell_type": "code",
   "execution_count": 7,
   "id": "f877b04c-d1e8-4f5e-a080-aa62d4c1fb53",
   "metadata": {
    "ExecuteTime": {
     "end_time": "2022-03-19T15:50:46.983528Z",
     "start_time": "2022-03-19T15:50:46.974630Z"
    },
    "hidden": true
   },
   "outputs": [
    {
     "data": {
      "text/plain": [
       "data_pregao          object\n",
       "codbdi              float64\n",
       "sigla_acao           object\n",
       "nome_acao            object\n",
       "preco_abertura      float64\n",
       "preco_maximo        float64\n",
       "preco_minimo        float64\n",
       "preco_fechamento    float64\n",
       "qtd_negocios          int64\n",
       "volume_negocios       int64\n",
       "dtype: object"
      ]
     },
     "execution_count": 7,
     "metadata": {},
     "output_type": "execute_result"
    }
   ],
   "source": [
    "df_petro.dtypes"
   ]
  },
  {
   "cell_type": "code",
   "execution_count": 8,
   "id": "b68aeb10-69a2-4e4a-8983-e483661b7db5",
   "metadata": {
    "ExecuteTime": {
     "end_time": "2022-03-19T15:50:47.679679Z",
     "start_time": "2022-03-19T15:50:47.633180Z"
    },
    "hidden": true
   },
   "outputs": [
    {
     "data": {
      "text/html": [
       "<div>\n",
       "<style scoped>\n",
       "    .dataframe tbody tr th:only-of-type {\n",
       "        vertical-align: middle;\n",
       "    }\n",
       "\n",
       "    .dataframe tbody tr th {\n",
       "        vertical-align: top;\n",
       "    }\n",
       "\n",
       "    .dataframe thead th {\n",
       "        text-align: right;\n",
       "    }\n",
       "</style>\n",
       "<table border=\"1\" class=\"dataframe\">\n",
       "  <thead>\n",
       "    <tr style=\"text-align: right;\">\n",
       "      <th></th>\n",
       "      <th>data_pregao</th>\n",
       "      <th>codbdi</th>\n",
       "      <th>sigla_acao</th>\n",
       "      <th>nome_acao</th>\n",
       "      <th>preco_abertura</th>\n",
       "      <th>preco_maximo</th>\n",
       "      <th>preco_minimo</th>\n",
       "      <th>preco_fechamento</th>\n",
       "      <th>qtd_negocios</th>\n",
       "      <th>volume_negocios</th>\n",
       "    </tr>\n",
       "  </thead>\n",
       "  <tbody>\n",
       "    <tr>\n",
       "      <th>213</th>\n",
       "      <td>2015-01-02</td>\n",
       "      <td>2.0</td>\n",
       "      <td>PETR4</td>\n",
       "      <td>PETROBRAS</td>\n",
       "      <td>9.99</td>\n",
       "      <td>9.99</td>\n",
       "      <td>9.36</td>\n",
       "      <td>9.36</td>\n",
       "      <td>48837200</td>\n",
       "      <td>4</td>\n",
       "    </tr>\n",
       "    <tr>\n",
       "      <th>530</th>\n",
       "      <td>2015-01-05</td>\n",
       "      <td>2.0</td>\n",
       "      <td>PETR4</td>\n",
       "      <td>PETROBRAS</td>\n",
       "      <td>9.14</td>\n",
       "      <td>9.19</td>\n",
       "      <td>8.58</td>\n",
       "      <td>8.61</td>\n",
       "      <td>77077300</td>\n",
       "      <td>6</td>\n",
       "    </tr>\n",
       "    <tr>\n",
       "      <th>829</th>\n",
       "      <td>2015-01-06</td>\n",
       "      <td>2.0</td>\n",
       "      <td>PETR4</td>\n",
       "      <td>PETROBRAS</td>\n",
       "      <td>8.71</td>\n",
       "      <td>8.83</td>\n",
       "      <td>8.04</td>\n",
       "      <td>8.33</td>\n",
       "      <td>84023400</td>\n",
       "      <td>7</td>\n",
       "    </tr>\n",
       "    <tr>\n",
       "      <th>1138</th>\n",
       "      <td>2015-01-07</td>\n",
       "      <td>2.0</td>\n",
       "      <td>PETR4</td>\n",
       "      <td>PETROBRAS</td>\n",
       "      <td>8.56</td>\n",
       "      <td>8.73</td>\n",
       "      <td>8.36</td>\n",
       "      <td>8.67</td>\n",
       "      <td>85531000</td>\n",
       "      <td>7</td>\n",
       "    </tr>\n",
       "    <tr>\n",
       "      <th>1450</th>\n",
       "      <td>2015-01-08</td>\n",
       "      <td>2.0</td>\n",
       "      <td>PETR4</td>\n",
       "      <td>PETROBRAS</td>\n",
       "      <td>8.79</td>\n",
       "      <td>9.39</td>\n",
       "      <td>8.74</td>\n",
       "      <td>9.18</td>\n",
       "      <td>82735700</td>\n",
       "      <td>7</td>\n",
       "    </tr>\n",
       "    <tr>\n",
       "      <th>...</th>\n",
       "      <td>...</td>\n",
       "      <td>...</td>\n",
       "      <td>...</td>\n",
       "      <td>...</td>\n",
       "      <td>...</td>\n",
       "      <td>...</td>\n",
       "      <td>...</td>\n",
       "      <td>...</td>\n",
       "      <td>...</td>\n",
       "      <td>...</td>\n",
       "    </tr>\n",
       "    <tr>\n",
       "      <th>704613</th>\n",
       "      <td>2021-12-23</td>\n",
       "      <td>2.0</td>\n",
       "      <td>PETR4</td>\n",
       "      <td>PETROBRAS</td>\n",
       "      <td>28.33</td>\n",
       "      <td>28.42</td>\n",
       "      <td>28.15</td>\n",
       "      <td>28.33</td>\n",
       "      <td>28713600</td>\n",
       "      <td>8</td>\n",
       "    </tr>\n",
       "    <tr>\n",
       "      <th>704614</th>\n",
       "      <td>2021-12-27</td>\n",
       "      <td>2.0</td>\n",
       "      <td>PETR4</td>\n",
       "      <td>PETROBRAS</td>\n",
       "      <td>28.32</td>\n",
       "      <td>28.78</td>\n",
       "      <td>28.15</td>\n",
       "      <td>28.75</td>\n",
       "      <td>44227900</td>\n",
       "      <td>12</td>\n",
       "    </tr>\n",
       "    <tr>\n",
       "      <th>704615</th>\n",
       "      <td>2021-12-28</td>\n",
       "      <td>2.0</td>\n",
       "      <td>PETR4</td>\n",
       "      <td>PETROBRAS</td>\n",
       "      <td>29.01</td>\n",
       "      <td>29.28</td>\n",
       "      <td>28.70</td>\n",
       "      <td>28.78</td>\n",
       "      <td>30688100</td>\n",
       "      <td>8</td>\n",
       "    </tr>\n",
       "    <tr>\n",
       "      <th>704616</th>\n",
       "      <td>2021-12-29</td>\n",
       "      <td>2.0</td>\n",
       "      <td>PETR4</td>\n",
       "      <td>PETROBRAS</td>\n",
       "      <td>28.70</td>\n",
       "      <td>28.90</td>\n",
       "      <td>28.42</td>\n",
       "      <td>28.54</td>\n",
       "      <td>35508400</td>\n",
       "      <td>10</td>\n",
       "    </tr>\n",
       "    <tr>\n",
       "      <th>704617</th>\n",
       "      <td>2021-12-30</td>\n",
       "      <td>2.0</td>\n",
       "      <td>PETR4</td>\n",
       "      <td>PETROBRAS</td>\n",
       "      <td>28.55</td>\n",
       "      <td>28.70</td>\n",
       "      <td>28.39</td>\n",
       "      <td>28.45</td>\n",
       "      <td>43229100</td>\n",
       "      <td>12</td>\n",
       "    </tr>\n",
       "  </tbody>\n",
       "</table>\n",
       "<p>1730 rows × 10 columns</p>\n",
       "</div>"
      ],
      "text/plain": [
       "       data_pregao  codbdi sigla_acao  nome_acao  preco_abertura  \\\n",
       "213     2015-01-02     2.0      PETR4  PETROBRAS            9.99   \n",
       "530     2015-01-05     2.0      PETR4  PETROBRAS            9.14   \n",
       "829     2015-01-06     2.0      PETR4  PETROBRAS            8.71   \n",
       "1138    2015-01-07     2.0      PETR4  PETROBRAS            8.56   \n",
       "1450    2015-01-08     2.0      PETR4  PETROBRAS            8.79   \n",
       "...            ...     ...        ...        ...             ...   \n",
       "704613  2021-12-23     2.0      PETR4  PETROBRAS           28.33   \n",
       "704614  2021-12-27     2.0      PETR4  PETROBRAS           28.32   \n",
       "704615  2021-12-28     2.0      PETR4  PETROBRAS           29.01   \n",
       "704616  2021-12-29     2.0      PETR4  PETROBRAS           28.70   \n",
       "704617  2021-12-30     2.0      PETR4  PETROBRAS           28.55   \n",
       "\n",
       "        preco_maximo  preco_minimo  preco_fechamento  qtd_negocios  \\\n",
       "213             9.99          9.36              9.36      48837200   \n",
       "530             9.19          8.58              8.61      77077300   \n",
       "829             8.83          8.04              8.33      84023400   \n",
       "1138            8.73          8.36              8.67      85531000   \n",
       "1450            9.39          8.74              9.18      82735700   \n",
       "...              ...           ...               ...           ...   \n",
       "704613         28.42         28.15             28.33      28713600   \n",
       "704614         28.78         28.15             28.75      44227900   \n",
       "704615         29.28         28.70             28.78      30688100   \n",
       "704616         28.90         28.42             28.54      35508400   \n",
       "704617         28.70         28.39             28.45      43229100   \n",
       "\n",
       "        volume_negocios  \n",
       "213                   4  \n",
       "530                   6  \n",
       "829                   7  \n",
       "1138                  7  \n",
       "1450                  7  \n",
       "...                 ...  \n",
       "704613                8  \n",
       "704614               12  \n",
       "704615                8  \n",
       "704616               10  \n",
       "704617               12  \n",
       "\n",
       "[1730 rows x 10 columns]"
      ]
     },
     "execution_count": 8,
     "metadata": {},
     "output_type": "execute_result"
    }
   ],
   "source": [
    "a = df_petro[df_petro['sigla_acao']=='PETR4']\n",
    "a"
   ]
  },
  {
   "cell_type": "markdown",
   "id": "bd97ec11",
   "metadata": {
    "heading_collapsed": true,
    "tags": []
   },
   "source": [
    "# Data transformation"
   ]
  },
  {
   "cell_type": "code",
   "execution_count": 9,
   "id": "b1cb0d01",
   "metadata": {
    "ExecuteTime": {
     "end_time": "2022-03-19T15:50:49.004865Z",
     "start_time": "2022-03-19T15:50:48.937512Z"
    },
    "hidden": true
   },
   "outputs": [],
   "source": [
    "df_petro['data_pregao'] = pd.to_datetime(df_petro['data_pregao'], format='%Y-%m-%d')"
   ]
  },
  {
   "cell_type": "code",
   "execution_count": 10,
   "id": "c580c4b7-4716-4fd7-86a5-41130eebb72f",
   "metadata": {
    "ExecuteTime": {
     "end_time": "2022-03-19T15:50:49.655922Z",
     "start_time": "2022-03-19T15:50:49.650040Z"
    },
    "hidden": true
   },
   "outputs": [
    {
     "data": {
      "text/plain": [
       "data_pregao         datetime64[ns]\n",
       "codbdi                     float64\n",
       "sigla_acao                  object\n",
       "nome_acao                   object\n",
       "preco_abertura             float64\n",
       "preco_maximo               float64\n",
       "preco_minimo               float64\n",
       "preco_fechamento           float64\n",
       "qtd_negocios                 int64\n",
       "volume_negocios              int64\n",
       "dtype: object"
      ]
     },
     "execution_count": 10,
     "metadata": {},
     "output_type": "execute_result"
    }
   ],
   "source": [
    "df_petro.dtypes"
   ]
  },
  {
   "cell_type": "markdown",
   "id": "78ae7dc2",
   "metadata": {
    "heading_collapsed": true,
    "tags": []
   },
   "source": [
    "# Select only one share to predict"
   ]
  },
  {
   "cell_type": "code",
   "execution_count": 11,
   "id": "c4e8480a",
   "metadata": {
    "ExecuteTime": {
     "end_time": "2022-03-19T15:50:51.157637Z",
     "start_time": "2022-03-19T15:50:51.116805Z"
    },
    "hidden": true
   },
   "outputs": [
    {
     "name": "stdout",
     "output_type": "stream",
     "text": [
      "nº of rows: 1730, nº of columns:10\n"
     ]
    }
   ],
   "source": [
    "# Filter share_data\n",
    "df_petro = df[df['sigla_acao']=='PETR4']\n",
    "print(f'nº of rows: {df_petro.shape[0]}, nº of columns:{df_petro.shape[1]}')"
   ]
  },
  {
   "cell_type": "code",
   "execution_count": 12,
   "id": "c9c37b34-94a9-491f-87b9-62b62f851a80",
   "metadata": {
    "ExecuteTime": {
     "end_time": "2022-03-19T15:50:51.786217Z",
     "start_time": "2022-03-19T15:50:51.776821Z"
    },
    "hidden": true
   },
   "outputs": [
    {
     "data": {
      "text/html": [
       "<div>\n",
       "<style scoped>\n",
       "    .dataframe tbody tr th:only-of-type {\n",
       "        vertical-align: middle;\n",
       "    }\n",
       "\n",
       "    .dataframe tbody tr th {\n",
       "        vertical-align: top;\n",
       "    }\n",
       "\n",
       "    .dataframe thead th {\n",
       "        text-align: right;\n",
       "    }\n",
       "</style>\n",
       "<table border=\"1\" class=\"dataframe\">\n",
       "  <thead>\n",
       "    <tr style=\"text-align: right;\">\n",
       "      <th></th>\n",
       "      <th>data_pregao</th>\n",
       "      <th>preco_fechamento</th>\n",
       "    </tr>\n",
       "  </thead>\n",
       "  <tbody>\n",
       "    <tr>\n",
       "      <th>704613</th>\n",
       "      <td>2021-12-23</td>\n",
       "      <td>28.33</td>\n",
       "    </tr>\n",
       "    <tr>\n",
       "      <th>704614</th>\n",
       "      <td>2021-12-27</td>\n",
       "      <td>28.75</td>\n",
       "    </tr>\n",
       "    <tr>\n",
       "      <th>704615</th>\n",
       "      <td>2021-12-28</td>\n",
       "      <td>28.78</td>\n",
       "    </tr>\n",
       "    <tr>\n",
       "      <th>704616</th>\n",
       "      <td>2021-12-29</td>\n",
       "      <td>28.54</td>\n",
       "    </tr>\n",
       "    <tr>\n",
       "      <th>704617</th>\n",
       "      <td>2021-12-30</td>\n",
       "      <td>28.45</td>\n",
       "    </tr>\n",
       "  </tbody>\n",
       "</table>\n",
       "</div>"
      ],
      "text/plain": [
       "       data_pregao  preco_fechamento\n",
       "704613  2021-12-23             28.33\n",
       "704614  2021-12-27             28.75\n",
       "704615  2021-12-28             28.78\n",
       "704616  2021-12-29             28.54\n",
       "704617  2021-12-30             28.45"
      ]
     },
     "execution_count": 12,
     "metadata": {},
     "output_type": "execute_result"
    }
   ],
   "source": [
    "df_petro_cls = df_petro[['data_pregao', 'preco_fechamento']]\n",
    "df_petro_cls.tail()"
   ]
  },
  {
   "cell_type": "code",
   "execution_count": 13,
   "id": "27af186a-dc48-43b0-a640-e24504f97bcb",
   "metadata": {
    "ExecuteTime": {
     "end_time": "2022-03-19T15:50:52.478416Z",
     "start_time": "2022-03-19T15:50:52.471831Z"
    },
    "hidden": true
   },
   "outputs": [],
   "source": [
    "# set to index with date\n",
    "df_petro_cls = df_petro_cls.set_index(pd.DatetimeIndex(df_petro_cls['data_pregao'].values))"
   ]
  },
  {
   "cell_type": "code",
   "execution_count": 14,
   "id": "b45a72c3-8da4-4839-907a-44eb454d2f28",
   "metadata": {
    "ExecuteTime": {
     "end_time": "2022-03-19T15:50:53.056542Z",
     "start_time": "2022-03-19T15:50:53.043640Z"
    },
    "hidden": true
   },
   "outputs": [
    {
     "data": {
      "text/html": [
       "<div>\n",
       "<style scoped>\n",
       "    .dataframe tbody tr th:only-of-type {\n",
       "        vertical-align: middle;\n",
       "    }\n",
       "\n",
       "    .dataframe tbody tr th {\n",
       "        vertical-align: top;\n",
       "    }\n",
       "\n",
       "    .dataframe thead th {\n",
       "        text-align: right;\n",
       "    }\n",
       "</style>\n",
       "<table border=\"1\" class=\"dataframe\">\n",
       "  <thead>\n",
       "    <tr style=\"text-align: right;\">\n",
       "      <th></th>\n",
       "      <th>data_pregao</th>\n",
       "      <th>preco_fechamento</th>\n",
       "    </tr>\n",
       "  </thead>\n",
       "  <tbody>\n",
       "    <tr>\n",
       "      <th>2021-12-23</th>\n",
       "      <td>2021-12-23</td>\n",
       "      <td>28.33</td>\n",
       "    </tr>\n",
       "    <tr>\n",
       "      <th>2021-12-27</th>\n",
       "      <td>2021-12-27</td>\n",
       "      <td>28.75</td>\n",
       "    </tr>\n",
       "    <tr>\n",
       "      <th>2021-12-28</th>\n",
       "      <td>2021-12-28</td>\n",
       "      <td>28.78</td>\n",
       "    </tr>\n",
       "    <tr>\n",
       "      <th>2021-12-29</th>\n",
       "      <td>2021-12-29</td>\n",
       "      <td>28.54</td>\n",
       "    </tr>\n",
       "    <tr>\n",
       "      <th>2021-12-30</th>\n",
       "      <td>2021-12-30</td>\n",
       "      <td>28.45</td>\n",
       "    </tr>\n",
       "  </tbody>\n",
       "</table>\n",
       "</div>"
      ],
      "text/plain": [
       "           data_pregao  preco_fechamento\n",
       "2021-12-23  2021-12-23             28.33\n",
       "2021-12-27  2021-12-27             28.75\n",
       "2021-12-28  2021-12-28             28.78\n",
       "2021-12-29  2021-12-29             28.54\n",
       "2021-12-30  2021-12-30             28.45"
      ]
     },
     "execution_count": 14,
     "metadata": {},
     "output_type": "execute_result"
    }
   ],
   "source": [
    "df_petro_cls.tail()"
   ]
  },
  {
   "cell_type": "code",
   "execution_count": 15,
   "id": "35f98a10-3d90-432d-a72c-ba40c8b7e278",
   "metadata": {
    "ExecuteTime": {
     "end_time": "2022-03-19T15:50:53.507538Z",
     "start_time": "2022-03-19T15:50:53.501442Z"
    },
    "hidden": true
   },
   "outputs": [],
   "source": [
    "# drop column 'data_pregao'\n",
    "df_petro_cls.drop(['data_pregao'], axis=1, inplace=True)"
   ]
  },
  {
   "cell_type": "code",
   "execution_count": 16,
   "id": "330ff4fa-1157-40f1-8883-19d2ee707f0e",
   "metadata": {
    "ExecuteTime": {
     "end_time": "2022-03-19T15:50:54.296427Z",
     "start_time": "2022-03-19T15:50:54.120783Z"
    },
    "hidden": true
   },
   "outputs": [
    {
     "data": {
      "image/png": "[encoded data removed]",
      "text/plain": [
       "<Figure size 1152x576 with 1 Axes>"
      ]
     },
     "metadata": {
      "needs_background": "light"
     },
     "output_type": "display_data"
    }
   ],
   "source": [
    "# Plot the dataframe\n",
    "plt.figure(figsize=(16,8))\n",
    "plt.title('Price close')\n",
    "plt.plot(df_petro_cls['preco_fechamento'], color='darkslateblue' )\n",
    "plt.xlabel('date');\n"
   ]
  },
  {
   "cell_type": "markdown",
   "id": "e82df2b4",
   "metadata": {
    "heading_collapsed": true,
    "tags": []
   },
   "source": [
    "# Data Train and Test"
   ]
  },
  {
   "cell_type": "code",
   "execution_count": 17,
   "id": "44ff7037-fb28-4c0c-bd60-d7e832f55b18",
   "metadata": {
    "ExecuteTime": {
     "end_time": "2022-03-19T15:50:56.191666Z",
     "start_time": "2022-03-19T15:50:56.185872Z"
    },
    "hidden": true
   },
   "outputs": [
    {
     "data": {
      "text/plain": [
       "'Train = 0:1211 | Test = 1211:1730'"
      ]
     },
     "execution_count": 17,
     "metadata": {},
     "output_type": "execute_result"
    }
   ],
   "source": [
    "# Data analysis\n",
    "qtt_rows = len(df_petro_cls)\n",
    "\n",
    "r_train = round(.70*qtt_rows)\n",
    "\n",
    "r_test = qtt_rows - r_train\n",
    "\n",
    "info = (\n",
    "    f'Train = 0:{r_train} | '\n",
    "    f'Test = {r_train}:{r_train + r_test}'\n",
    "    )\n",
    "info"
   ]
  },
  {
   "cell_type": "markdown",
   "id": "6d8dcce3-ddea-48f6-8d1c-5c934cb64a3e",
   "metadata": {
    "heading_collapsed": true,
    "tags": []
   },
   "source": [
    "# Normalize and Reescale "
   ]
  },
  {
   "cell_type": "code",
   "execution_count": 18,
   "id": "63c653a3-5cf4-4e49-9b53-9620bc53eb64",
   "metadata": {
    "ExecuteTime": {
     "end_time": "2022-03-19T15:50:57.661056Z",
     "start_time": "2022-03-19T15:50:57.653561Z"
    },
    "hidden": true
   },
   "outputs": [],
   "source": [
    "# Normalizing\n",
    "std = StandardScaler()\n",
    "df_scaled = std.fit_transform(df_petro_cls)"
   ]
  },
  {
   "cell_type": "markdown",
   "id": "756bf286-d132-4f72-92a5-04531e7d2d84",
   "metadata": {
    "heading_collapsed": true,
    "tags": []
   },
   "source": [
    "# Separating into Train and Test"
   ]
  },
  {
   "cell_type": "code",
   "execution_count": 19,
   "id": "d82ad1b2-1b40-43f3-9a7f-1aefb9a123da",
   "metadata": {
    "ExecuteTime": {
     "end_time": "2022-03-19T15:50:59.212254Z",
     "start_time": "2022-03-19T15:50:59.207663Z"
    },
    "hidden": true
   },
   "outputs": [
    {
     "name": "stdout",
     "output_type": "stream",
     "text": [
      "1730 519\n"
     ]
    }
   ],
   "source": [
    "train = df_scaled[:qtt_rows]\n",
    "\n",
    "test = df_scaled[r_train: r_train+r_test]\n",
    "\n",
    "print(len(train), len(test))"
   ]
  },
  {
   "cell_type": "code",
   "execution_count": 20,
   "id": "82b02e8f-3bbf-4565-b9dc-fabf0855f910",
   "metadata": {
    "ExecuteTime": {
     "end_time": "2022-03-19T15:51:00.464568Z",
     "start_time": "2022-03-19T15:51:00.459047Z"
    },
    "hidden": true
   },
   "outputs": [],
   "source": [
    "# Convert an array of values into a df matrix\n",
    "\n",
    "def create_df(df, steps=1):\n",
    "    dataX, dataY = [], []\n",
    "    for i in range(len(df)-steps-1):\n",
    "        a = df[i:(i+steps), 0]\n",
    "        dataX.append(a)\n",
    "        dataY.append(df[i+steps,0])\n",
    "    return np.array(dataX), np.array(dataY)\n",
    "\n",
    "# dexa os valores formatados no padrão que o LSTM espera para aprender"
   ]
  },
  {
   "cell_type": "code",
   "execution_count": 21,
   "id": "b1b6a5b1-b643-4957-b478-9a0325ac14d3",
   "metadata": {
    "ExecuteTime": {
     "end_time": "2022-03-19T15:51:01.044410Z",
     "start_time": "2022-03-19T15:51:01.034808Z"
    },
    "hidden": true
   },
   "outputs": [],
   "source": [
    "# gerando os dados de treino e teste\n",
    "\n",
    "steps = 15\n",
    "X_train, Y_train = create_df(train, steps)\n",
    "X_test, Y_test = create_df(test, steps)"
   ]
  },
  {
   "cell_type": "code",
   "execution_count": 22,
   "id": "f789e0e7-83a9-49ce-a037-1c49e5e360cb",
   "metadata": {
    "ExecuteTime": {
     "end_time": "2022-03-19T15:51:01.692982Z",
     "start_time": "2022-03-19T15:51:01.688652Z"
    },
    "hidden": true
   },
   "outputs": [
    {
     "name": "stdout",
     "output_type": "stream",
     "text": [
      "(1714, 15)\n",
      "(1714,)\n",
      "(503, 15)\n",
      "(503,)\n"
     ]
    }
   ],
   "source": [
    "print(X_train.shape)\n",
    "print(Y_train.shape)\n",
    "\n",
    "print(X_test.shape)\n",
    "print(Y_test.shape)\n"
   ]
  },
  {
   "cell_type": "code",
   "execution_count": 23,
   "id": "34b30629-8ade-4101-bb29-9776e29a1ff7",
   "metadata": {
    "ExecuteTime": {
     "end_time": "2022-03-19T15:51:02.399589Z",
     "start_time": "2022-03-19T15:51:02.395374Z"
    },
    "hidden": true
   },
   "outputs": [],
   "source": [
    "# Gerando os dados no formato que o modelo espera\n",
    "X_train = X_train.reshape(X_train.shape[0], X_train.shape[1], 1)\n",
    "# X_train.shape[0] → 1714 linhas de treino | X_train.shape[1] → 15 dias de treino\n",
    "X_test = X_test.reshape(X_test.shape[0], X_test.shape[1], 1)"
   ]
  },
  {
   "cell_type": "markdown",
   "id": "bea18e14",
   "metadata": {
    "heading_collapsed": true
   },
   "source": [
    "# Model Apply"
   ]
  },
  {
   "cell_type": "code",
   "execution_count": 24,
   "id": "a89b3173-284f-4e89-99c3-c5e3cd344bf3",
   "metadata": {
    "ExecuteTime": {
     "end_time": "2022-03-19T15:51:07.615057Z",
     "start_time": "2022-03-19T15:51:07.211418Z"
    },
    "hidden": true
   },
   "outputs": [
    {
     "name": "stderr",
     "output_type": "stream",
     "text": [
      "2022-04-06 13:30:55.226383: W tensorflow/stream_executor/platform/default/dso_loader.cc:64] Could not load dynamic library 'libcuda.so.1'; dlerror: libcuda.so.1: cannot open shared object file: No such file or directory\n",
      "2022-04-06 13:30:55.226425: W tensorflow/stream_executor/cuda/cuda_driver.cc:269] failed call to cuInit: UNKNOWN ERROR (303)\n",
      "2022-04-06 13:30:55.226456: I tensorflow/stream_executor/cuda/cuda_diagnostics.cc:156] kernel driver does not appear to be running on this host (default): /proc/driver/nvidia/version does not exist\n",
      "2022-04-06 13:30:55.229299: I tensorflow/core/platform/cpu_feature_guard.cc:151] This TensorFlow binary is optimized with oneAPI Deep Neural Network Library (oneDNN) to use the following CPU instructions in performance-critical operations:  AVX2 AVX512F FMA\n",
      "To enable them in other operations, rebuild TensorFlow with the appropriate compiler flags.\n"
     ]
    }
   ],
   "source": [
    "# Camadas da Rede Neural\n",
    "model = Sequential()\n",
    "model.add(LSTM(35, return_sequences=True, input_shape=(steps,1))) #1ª camada\n",
    "#LSTM(35) → qtt de neuronios usados | input_shape=(steps,1) → qtt de dias a ser previsto e retornado\n",
    "model.add(LSTM(35, return_sequences=True)) #2ª camada\n",
    "model.add(LSTM(35)) #3ª camada\n",
    "model.add(Dropout(0.2)) \n",
    "#Dropout evita o overfit do treinamento\n",
    "model.add(Dense(1)) #retonrnando um unico resultado\n"
   ]
  },
  {
   "cell_type": "code",
   "execution_count": 25,
   "id": "17d07abe-97eb-4f69-b0b6-089f4dbb1203",
   "metadata": {
    "ExecuteTime": {
     "end_time": "2022-03-19T15:51:08.055540Z",
     "start_time": "2022-03-19T15:51:08.043627Z"
    },
    "hidden": true
   },
   "outputs": [
    {
     "name": "stdout",
     "output_type": "stream",
     "text": [
      "Model: \"sequential\"\n",
      "_________________________________________________________________\n",
      " Layer (type)                Output Shape              Param #   \n",
      "=================================================================\n",
      " lstm (LSTM)                 (None, 15, 35)            5180      \n",
      "                                                                 \n",
      " lstm_1 (LSTM)               (None, 15, 35)            9940      \n",
      "                                                                 \n",
      " lstm_2 (LSTM)               (None, 35)                9940      \n",
      "                                                                 \n",
      " dropout (Dropout)           (None, 35)                0         \n",
      "                                                                 \n",
      " dense (Dense)               (None, 1)                 36        \n",
      "                                                                 \n",
      "=================================================================\n",
      "Total params: 25,096\n",
      "Trainable params: 25,096\n",
      "Non-trainable params: 0\n",
      "_________________________________________________________________\n"
     ]
    }
   ],
   "source": [
    "model.compile(optimizer='adam', loss='mse')\n",
    "model.summary()"
   ]
  },
  {
   "cell_type": "code",
   "execution_count": 26,
   "id": "a8901871-7308-4876-87a6-55221ec2bc8f",
   "metadata": {
    "ExecuteTime": {
     "end_time": "2022-03-19T15:54:46.162195Z",
     "start_time": "2022-03-19T15:51:08.644383Z"
    },
    "hidden": true,
    "scrolled": true,
    "tags": []
   },
   "outputs": [
    {
     "name": "stdout",
     "output_type": "stream",
     "text": [
      "Epoch 1/100\n",
      "115/115 - 8s - loss: 0.1310 - val_loss: 0.0837 - 8s/epoch - 74ms/step\n",
      "Epoch 2/100\n",
      "115/115 - 3s - loss: 0.0510 - val_loss: 0.0825 - 3s/epoch - 24ms/step\n",
      "Epoch 3/100\n",
      "115/115 - 3s - loss: 0.0431 - val_loss: 0.0522 - 3s/epoch - 23ms/step\n",
      "Epoch 4/100\n",
      "115/115 - 3s - loss: 0.0346 - val_loss: 0.0404 - 3s/epoch - 23ms/step\n",
      "Epoch 5/100\n",
      "115/115 - 3s - loss: 0.0319 - val_loss: 0.0490 - 3s/epoch - 23ms/step\n",
      "Epoch 6/100\n",
      "115/115 - 3s - loss: 0.0308 - val_loss: 0.0393 - 3s/epoch - 23ms/step\n",
      "Epoch 7/100\n",
      "115/115 - 3s - loss: 0.0306 - val_loss: 0.0432 - 3s/epoch - 23ms/step\n",
      "Epoch 8/100\n",
      "115/115 - 3s - loss: 0.0287 - val_loss: 0.0335 - 3s/epoch - 23ms/step\n",
      "Epoch 9/100\n",
      "115/115 - 3s - loss: 0.0282 - val_loss: 0.0369 - 3s/epoch - 23ms/step\n",
      "Epoch 10/100\n",
      "115/115 - 3s - loss: 0.0261 - val_loss: 0.0355 - 3s/epoch - 23ms/step\n",
      "Epoch 11/100\n",
      "115/115 - 3s - loss: 0.0258 - val_loss: 0.0332 - 3s/epoch - 23ms/step\n",
      "Epoch 12/100\n",
      "115/115 - 3s - loss: 0.0262 - val_loss: 0.0336 - 3s/epoch - 23ms/step\n",
      "Epoch 13/100\n",
      "115/115 - 3s - loss: 0.0251 - val_loss: 0.0344 - 3s/epoch - 22ms/step\n",
      "Epoch 14/100\n",
      "115/115 - 3s - loss: 0.0239 - val_loss: 0.0376 - 3s/epoch - 23ms/step\n",
      "Epoch 15/100\n",
      "115/115 - 3s - loss: 0.0228 - val_loss: 0.0379 - 3s/epoch - 23ms/step\n",
      "Epoch 16/100\n",
      "115/115 - 3s - loss: 0.0252 - val_loss: 0.0596 - 3s/epoch - 23ms/step\n",
      "Epoch 17/100\n",
      "115/115 - 3s - loss: 0.0255 - val_loss: 0.0338 - 3s/epoch - 23ms/step\n",
      "Epoch 18/100\n",
      "115/115 - 3s - loss: 0.0234 - val_loss: 0.0329 - 3s/epoch - 23ms/step\n",
      "Epoch 19/100\n",
      "115/115 - 3s - loss: 0.0219 - val_loss: 0.0318 - 3s/epoch - 23ms/step\n",
      "Epoch 20/100\n",
      "115/115 - 3s - loss: 0.0231 - val_loss: 0.0307 - 3s/epoch - 23ms/step\n",
      "Epoch 21/100\n",
      "115/115 - 3s - loss: 0.0239 - val_loss: 0.0315 - 3s/epoch - 23ms/step\n",
      "Epoch 22/100\n",
      "115/115 - 3s - loss: 0.0228 - val_loss: 0.0312 - 3s/epoch - 23ms/step\n",
      "Epoch 23/100\n",
      "115/115 - 3s - loss: 0.0242 - val_loss: 0.0303 - 3s/epoch - 23ms/step\n",
      "Epoch 24/100\n",
      "115/115 - 3s - loss: 0.0209 - val_loss: 0.0307 - 3s/epoch - 23ms/step\n",
      "Epoch 25/100\n",
      "115/115 - 3s - loss: 0.0227 - val_loss: 0.0300 - 3s/epoch - 23ms/step\n",
      "Epoch 26/100\n",
      "115/115 - 3s - loss: 0.0232 - val_loss: 0.0341 - 3s/epoch - 23ms/step\n",
      "Epoch 27/100\n",
      "115/115 - 3s - loss: 0.0206 - val_loss: 0.0300 - 3s/epoch - 23ms/step\n",
      "Epoch 28/100\n",
      "115/115 - 3s - loss: 0.0223 - val_loss: 0.0305 - 3s/epoch - 24ms/step\n",
      "Epoch 29/100\n",
      "115/115 - 3s - loss: 0.0216 - val_loss: 0.0347 - 3s/epoch - 23ms/step\n",
      "Epoch 30/100\n",
      "115/115 - 3s - loss: 0.0220 - val_loss: 0.0300 - 3s/epoch - 23ms/step\n",
      "Epoch 31/100\n",
      "115/115 - 3s - loss: 0.0216 - val_loss: 0.0298 - 3s/epoch - 23ms/step\n",
      "Epoch 32/100\n",
      "115/115 - 3s - loss: 0.0211 - val_loss: 0.0303 - 3s/epoch - 23ms/step\n",
      "Epoch 33/100\n",
      "115/115 - 3s - loss: 0.0217 - val_loss: 0.0297 - 3s/epoch - 23ms/step\n",
      "Epoch 34/100\n",
      "115/115 - 3s - loss: 0.0224 - val_loss: 0.0316 - 3s/epoch - 23ms/step\n",
      "Epoch 35/100\n",
      "115/115 - 3s - loss: 0.0212 - val_loss: 0.0295 - 3s/epoch - 23ms/step\n",
      "Epoch 36/100\n",
      "115/115 - 3s - loss: 0.0207 - val_loss: 0.0303 - 3s/epoch - 23ms/step\n",
      "Epoch 37/100\n",
      "115/115 - 3s - loss: 0.0198 - val_loss: 0.0295 - 3s/epoch - 23ms/step\n",
      "Epoch 38/100\n",
      "115/115 - 3s - loss: 0.0227 - val_loss: 0.0305 - 3s/epoch - 23ms/step\n",
      "Epoch 39/100\n",
      "115/115 - 3s - loss: 0.0204 - val_loss: 0.0301 - 3s/epoch - 23ms/step\n",
      "Epoch 40/100\n",
      "115/115 - 3s - loss: 0.0206 - val_loss: 0.0293 - 3s/epoch - 23ms/step\n",
      "Epoch 41/100\n",
      "115/115 - 3s - loss: 0.0209 - val_loss: 0.0323 - 3s/epoch - 23ms/step\n",
      "Epoch 42/100\n",
      "115/115 - 3s - loss: 0.0209 - val_loss: 0.0293 - 3s/epoch - 23ms/step\n",
      "Epoch 43/100\n",
      "115/115 - 3s - loss: 0.0204 - val_loss: 0.0316 - 3s/epoch - 23ms/step\n",
      "Epoch 44/100\n",
      "115/115 - 3s - loss: 0.0214 - val_loss: 0.0293 - 3s/epoch - 23ms/step\n",
      "Epoch 45/100\n",
      "115/115 - 3s - loss: 0.0199 - val_loss: 0.0301 - 3s/epoch - 23ms/step\n",
      "Epoch 46/100\n",
      "115/115 - 3s - loss: 0.0208 - val_loss: 0.0298 - 3s/epoch - 23ms/step\n",
      "Epoch 47/100\n",
      "115/115 - 3s - loss: 0.0214 - val_loss: 0.0291 - 3s/epoch - 23ms/step\n",
      "Epoch 48/100\n",
      "115/115 - 3s - loss: 0.0202 - val_loss: 0.0310 - 3s/epoch - 23ms/step\n",
      "Epoch 49/100\n",
      "115/115 - 3s - loss: 0.0205 - val_loss: 0.0446 - 3s/epoch - 23ms/step\n",
      "Epoch 50/100\n",
      "115/115 - 3s - loss: 0.0213 - val_loss: 0.0316 - 3s/epoch - 23ms/step\n",
      "Epoch 51/100\n",
      "115/115 - 3s - loss: 0.0218 - val_loss: 0.0291 - 3s/epoch - 23ms/step\n",
      "Epoch 52/100\n",
      "115/115 - 3s - loss: 0.0195 - val_loss: 0.0396 - 3s/epoch - 23ms/step\n",
      "Epoch 53/100\n",
      "115/115 - 3s - loss: 0.0215 - val_loss: 0.0292 - 3s/epoch - 23ms/step\n",
      "Epoch 54/100\n",
      "115/115 - 3s - loss: 0.0210 - val_loss: 0.0326 - 3s/epoch - 24ms/step\n",
      "Epoch 55/100\n",
      "115/115 - 3s - loss: 0.0217 - val_loss: 0.0292 - 3s/epoch - 23ms/step\n",
      "Epoch 56/100\n",
      "115/115 - 3s - loss: 0.0201 - val_loss: 0.0292 - 3s/epoch - 23ms/step\n",
      "Epoch 57/100\n",
      "115/115 - 3s - loss: 0.0219 - val_loss: 0.0321 - 3s/epoch - 23ms/step\n",
      "Epoch 58/100\n",
      "115/115 - 3s - loss: 0.0226 - val_loss: 0.0296 - 3s/epoch - 23ms/step\n",
      "Epoch 59/100\n",
      "115/115 - 3s - loss: 0.0215 - val_loss: 0.0291 - 3s/epoch - 23ms/step\n",
      "Epoch 60/100\n",
      "115/115 - 3s - loss: 0.0208 - val_loss: 0.0300 - 3s/epoch - 23ms/step\n",
      "Epoch 61/100\n",
      "115/115 - 3s - loss: 0.0216 - val_loss: 0.0304 - 3s/epoch - 23ms/step\n",
      "Epoch 62/100\n",
      "115/115 - 3s - loss: 0.0194 - val_loss: 0.0319 - 3s/epoch - 23ms/step\n",
      "Epoch 63/100\n",
      "115/115 - 3s - loss: 0.0210 - val_loss: 0.0293 - 3s/epoch - 23ms/step\n",
      "Epoch 64/100\n",
      "115/115 - 3s - loss: 0.0215 - val_loss: 0.0325 - 3s/epoch - 23ms/step\n",
      "Epoch 65/100\n",
      "115/115 - 3s - loss: 0.0209 - val_loss: 0.0297 - 3s/epoch - 23ms/step\n",
      "Epoch 66/100\n",
      "115/115 - 3s - loss: 0.0201 - val_loss: 0.0295 - 3s/epoch - 23ms/step\n",
      "Epoch 67/100\n",
      "115/115 - 3s - loss: 0.0205 - val_loss: 0.0289 - 3s/epoch - 23ms/step\n",
      "Epoch 68/100\n",
      "115/115 - 3s - loss: 0.0208 - val_loss: 0.0292 - 3s/epoch - 23ms/step\n",
      "Epoch 69/100\n",
      "115/115 - 3s - loss: 0.0212 - val_loss: 0.0291 - 3s/epoch - 23ms/step\n",
      "Epoch 70/100\n",
      "115/115 - 3s - loss: 0.0203 - val_loss: 0.0289 - 3s/epoch - 23ms/step\n",
      "Epoch 71/100\n",
      "115/115 - 3s - loss: 0.0202 - val_loss: 0.0299 - 3s/epoch - 23ms/step\n",
      "Epoch 72/100\n",
      "115/115 - 3s - loss: 0.0209 - val_loss: 0.0303 - 3s/epoch - 23ms/step\n",
      "Epoch 73/100\n",
      "115/115 - 3s - loss: 0.0220 - val_loss: 0.0290 - 3s/epoch - 23ms/step\n",
      "Epoch 74/100\n",
      "115/115 - 3s - loss: 0.0210 - val_loss: 0.0342 - 3s/epoch - 23ms/step\n",
      "Epoch 75/100\n",
      "115/115 - 3s - loss: 0.0208 - val_loss: 0.0290 - 3s/epoch - 23ms/step\n",
      "Epoch 76/100\n",
      "115/115 - 3s - loss: 0.0196 - val_loss: 0.0294 - 3s/epoch - 23ms/step\n",
      "Epoch 77/100\n",
      "115/115 - 3s - loss: 0.0193 - val_loss: 0.0289 - 3s/epoch - 23ms/step\n",
      "Epoch 78/100\n",
      "115/115 - 3s - loss: 0.0215 - val_loss: 0.0288 - 3s/epoch - 22ms/step\n",
      "Epoch 79/100\n",
      "115/115 - 3s - loss: 0.0198 - val_loss: 0.0297 - 3s/epoch - 22ms/step\n",
      "Epoch 80/100\n",
      "115/115 - 3s - loss: 0.0217 - val_loss: 0.0334 - 3s/epoch - 23ms/step\n",
      "Epoch 81/100\n",
      "115/115 - 3s - loss: 0.0205 - val_loss: 0.0289 - 3s/epoch - 23ms/step\n",
      "Epoch 82/100\n",
      "115/115 - 3s - loss: 0.0196 - val_loss: 0.0293 - 3s/epoch - 23ms/step\n",
      "Epoch 83/100\n",
      "115/115 - 3s - loss: 0.0216 - val_loss: 0.0292 - 3s/epoch - 23ms/step\n",
      "Epoch 84/100\n",
      "115/115 - 3s - loss: 0.0210 - val_loss: 0.0298 - 3s/epoch - 23ms/step\n",
      "Epoch 85/100\n",
      "115/115 - 3s - loss: 0.0199 - val_loss: 0.0291 - 3s/epoch - 23ms/step\n",
      "Epoch 86/100\n",
      "115/115 - 3s - loss: 0.0192 - val_loss: 0.0289 - 3s/epoch - 23ms/step\n",
      "Epoch 87/100\n",
      "115/115 - 3s - loss: 0.0208 - val_loss: 0.0315 - 3s/epoch - 23ms/step\n",
      "Epoch 88/100\n",
      "115/115 - 3s - loss: 0.0207 - val_loss: 0.0305 - 3s/epoch - 23ms/step\n",
      "Epoch 89/100\n",
      "115/115 - 3s - loss: 0.0187 - val_loss: 0.0289 - 3s/epoch - 23ms/step\n",
      "Epoch 90/100\n",
      "115/115 - 3s - loss: 0.0199 - val_loss: 0.0298 - 3s/epoch - 23ms/step\n",
      "Epoch 91/100\n",
      "115/115 - 3s - loss: 0.0193 - val_loss: 0.0327 - 3s/epoch - 24ms/step\n",
      "Epoch 92/100\n",
      "115/115 - 3s - loss: 0.0206 - val_loss: 0.0289 - 3s/epoch - 23ms/step\n",
      "Epoch 93/100\n",
      "115/115 - 3s - loss: 0.0199 - val_loss: 0.0286 - 3s/epoch - 23ms/step\n",
      "Epoch 94/100\n",
      "115/115 - 3s - loss: 0.0209 - val_loss: 0.0291 - 3s/epoch - 23ms/step\n",
      "Epoch 95/100\n",
      "115/115 - 3s - loss: 0.0202 - val_loss: 0.0289 - 3s/epoch - 23ms/step\n",
      "Epoch 96/100\n",
      "115/115 - 3s - loss: 0.0216 - val_loss: 0.0291 - 3s/epoch - 24ms/step\n",
      "Epoch 97/100\n",
      "115/115 - 3s - loss: 0.0209 - val_loss: 0.0288 - 3s/epoch - 23ms/step\n",
      "Epoch 98/100\n",
      "115/115 - 3s - loss: 0.0208 - val_loss: 0.0290 - 3s/epoch - 23ms/step\n",
      "Epoch 99/100\n",
      "115/115 - 3s - loss: 0.0207 - val_loss: 0.0320 - 3s/epoch - 23ms/step\n",
      "Epoch 100/100\n",
      "115/115 - 3s - loss: 0.0206 - val_loss: 0.0289 - 3s/epoch - 24ms/step\n"
     ]
    }
   ],
   "source": [
    "# treinamento do modelo\n",
    "validation = model.fit(X_train, Y_train, validation_data=(X_test, Y_test), epochs=100, batch_size=15, verbose=2)"
   ]
  },
  {
   "cell_type": "code",
   "execution_count": 27,
   "id": "8b820885-4e80-449d-b34a-8f201ee1e24f",
   "metadata": {
    "ExecuteTime": {
     "end_time": "2022-03-19T15:55:23.340273Z",
     "start_time": "2022-03-19T15:55:23.153470Z"
    },
    "hidden": true
   },
   "outputs": [
    {
     "data": {
      "image/png": "[encoded data removed]",
      "text/plain": [
       "<Figure size 1440x576 with 1 Axes>"
      ]
     },
     "metadata": {
      "needs_background": "light"
     },
     "output_type": "display_data"
    }
   ],
   "source": [
    "plt.figure(figsize=(20,8))\n",
    "plt.plot(validation.history['loss'], label='Training loss')\n",
    "plt.plot(validation.history['val_loss'], label='Validation loss')\n",
    "plt.legend();"
   ]
  },
  {
   "cell_type": "code",
   "execution_count": 28,
   "id": "5d53ff12-13f8-4176-803c-cd4ca38a47b7",
   "metadata": {
    "ExecuteTime": {
     "end_time": "2022-03-19T15:55:33.493538Z",
     "start_time": "2022-03-19T15:55:32.694478Z"
    },
    "hidden": true,
    "scrolled": true,
    "tags": []
   },
   "outputs": [
    {
     "data": {
      "text/plain": [
       "array([[30.161652],\n",
       "       [30.119635],\n",
       "       [30.230124],\n",
       "       [30.278034],\n",
       "       [30.242933],\n",
       "       [30.317665],\n",
       "       [30.475368],\n",
       "       [30.474974],\n",
       "       [30.42133 ],\n",
       "       [30.529978],\n",
       "       [30.489063],\n",
       "       [30.583231],\n",
       "       [30.590162],\n",
       "       [30.552658],\n",
       "       [30.501175],\n",
       "       [30.428251],\n",
       "       [30.39684 ],\n",
       "       [30.264778],\n",
       "       [30.042564],\n",
       "       [29.879082],\n",
       "       [29.85286 ],\n",
       "       [29.8542  ],\n",
       "       [29.745914],\n",
       "       [29.608065],\n",
       "       [29.618942],\n",
       "       [29.510433],\n",
       "       [29.024958],\n",
       "       [29.002169],\n",
       "       [28.910963],\n",
       "       [28.901262],\n",
       "       [28.731651],\n",
       "       [28.551441],\n",
       "       [28.609047],\n",
       "       [28.532078],\n",
       "       [28.814487],\n",
       "       [28.867437],\n",
       "       [29.02552 ],\n",
       "       [29.23638 ],\n",
       "       [29.584204],\n",
       "       [29.670427],\n",
       "       [29.673935],\n",
       "       [29.662207],\n",
       "       [29.757847],\n",
       "       [30.030169],\n",
       "       [29.980068],\n",
       "       [29.76629 ],\n",
       "       [28.572447],\n",
       "       [27.151957],\n",
       "       [26.157614],\n",
       "       [26.151768],\n",
       "       [25.813787],\n",
       "       [26.127163],\n",
       "       [25.639528],\n",
       "       [24.10011 ],\n",
       "       [18.639791],\n",
       "       [16.337215],\n",
       "       [14.827496],\n",
       "       [11.998834],\n",
       "       [13.627497],\n",
       "       [12.882967],\n",
       "       [12.269431],\n",
       "       [11.064129],\n",
       "       [11.675087],\n",
       "       [11.923485],\n",
       "       [11.48041 ],\n",
       "       [13.105333],\n",
       "       [14.324303],\n",
       "       [14.464325],\n",
       "       [13.398242],\n",
       "       [13.311546],\n",
       "       [13.968118],\n",
       "       [14.290942],\n",
       "       [15.463383],\n",
       "       [15.412627],\n",
       "       [15.788872],\n",
       "       [16.439058],\n",
       "       [17.361946],\n",
       "       [17.016851],\n",
       "       [17.048027],\n",
       "       [16.837753],\n",
       "       [16.448338],\n",
       "       [15.741681],\n",
       "       [16.030823],\n",
       "       [15.902674],\n",
       "       [16.630621],\n",
       "       [16.924503],\n",
       "       [16.084455],\n",
       "       [16.401413],\n",
       "       [17.201553],\n",
       "       [18.154997],\n",
       "       [18.191885],\n",
       "       [17.608866],\n",
       "       [18.01442 ],\n",
       "       [17.44166 ],\n",
       "       [17.469738],\n",
       "       [18.406534],\n",
       "       [18.248896],\n",
       "       [18.22457 ],\n",
       "       [17.723944],\n",
       "       [17.448893],\n",
       "       [17.165384],\n",
       "       [18.399673],\n",
       "       [18.679691],\n",
       "       [19.31    ],\n",
       "       [19.350698],\n",
       "       [18.933712],\n",
       "       [19.560429],\n",
       "       [19.774403],\n",
       "       [20.053919],\n",
       "       [19.970255],\n",
       "       [20.431807],\n",
       "       [20.487408],\n",
       "       [21.38664 ],\n",
       "       [21.604872],\n",
       "       [21.700191],\n",
       "       [22.237984],\n",
       "       [22.656815],\n",
       "       [22.21072 ],\n",
       "       [21.838701],\n",
       "       [21.022232],\n",
       "       [20.845846],\n",
       "       [21.268639],\n",
       "       [21.40303 ],\n",
       "       [21.608461],\n",
       "       [21.59905 ],\n",
       "       [21.231989],\n",
       "       [21.684998],\n",
       "       [21.274603],\n",
       "       [21.559193],\n",
       "       [21.109655],\n",
       "       [21.652061],\n",
       "       [21.64899 ],\n",
       "       [21.821165],\n",
       "       [22.126822],\n",
       "       [22.170824],\n",
       "       [22.599459],\n",
       "       [22.506483],\n",
       "       [22.817356],\n",
       "       [22.506887],\n",
       "       [22.703693],\n",
       "       [22.452635],\n",
       "       [22.929295],\n",
       "       [23.316923],\n",
       "       [23.070835],\n",
       "       [23.040018],\n",
       "       [22.98928 ],\n",
       "       [23.404728],\n",
       "       [23.295288],\n",
       "       [22.967293],\n",
       "       [22.954136],\n",
       "       [23.234747],\n",
       "       [23.045618],\n",
       "       [23.269321],\n",
       "       [23.080873],\n",
       "       [22.606056],\n",
       "       [22.13241 ],\n",
       "       [21.930645],\n",
       "       [22.862556],\n",
       "       [23.119825],\n",
       "       [23.040554],\n",
       "       [23.495064],\n",
       "       [23.378218],\n",
       "       [23.658375],\n",
       "       [23.287249],\n",
       "       [23.057467],\n",
       "       [22.87109 ],\n",
       "       [23.080315],\n",
       "       [23.024658],\n",
       "       [22.922916],\n",
       "       [22.773424],\n",
       "       [23.016077],\n",
       "       [23.017454],\n",
       "       [22.595251],\n",
       "       [22.39816 ],\n",
       "       [22.58817 ],\n",
       "       [22.163433],\n",
       "       [22.771091],\n",
       "       [22.846601],\n",
       "       [23.004309],\n",
       "       [23.094273],\n",
       "       [22.683775],\n",
       "       [22.89127 ],\n",
       "       [22.461988],\n",
       "       [22.161016],\n",
       "       [21.877535],\n",
       "       [21.764782],\n",
       "       [21.762903],\n",
       "       [22.081617],\n",
       "       [21.836603],\n",
       "       [21.231087],\n",
       "       [20.960838],\n",
       "       [20.404392],\n",
       "       [20.389175],\n",
       "       [20.154984],\n",
       "       [19.70607 ],\n",
       "       [19.33653 ],\n",
       "       [19.508068],\n",
       "       [19.75993 ],\n",
       "       [19.188025],\n",
       "       [19.921597],\n",
       "       [19.979973],\n",
       "       [19.931097],\n",
       "       [20.457912],\n",
       "       [20.05623 ],\n",
       "       [20.254473],\n",
       "       [20.128164],\n",
       "       [19.921164],\n",
       "       [19.502249],\n",
       "       [19.557491],\n",
       "       [20.102444],\n",
       "       [20.207977],\n",
       "       [20.819595],\n",
       "       [20.756958],\n",
       "       [20.526506],\n",
       "       [20.144987],\n",
       "       [18.997478],\n",
       "       [19.260086],\n",
       "       [18.948746],\n",
       "       [19.503326],\n",
       "       [19.673973],\n",
       "       [19.901453],\n",
       "       [19.868603],\n",
       "       [21.399958],\n",
       "       [22.714458],\n",
       "       [23.07363 ],\n",
       "       [22.624441],\n",
       "       [23.014849],\n",
       "       [23.4544  ],\n",
       "       [23.838085],\n",
       "       [23.87201 ],\n",
       "       [24.087742],\n",
       "       [24.011858],\n",
       "       [24.936825],\n",
       "       [25.770039],\n",
       "       [26.200006],\n",
       "       [26.273016],\n",
       "       [26.16563 ],\n",
       "       [25.737854],\n",
       "       [25.916372],\n",
       "       [26.02008 ],\n",
       "       [26.457033],\n",
       "       [27.05569 ],\n",
       "       [27.139395],\n",
       "       [27.119974],\n",
       "       [27.238564],\n",
       "       [27.661417],\n",
       "       [27.730463],\n",
       "       [27.849913],\n",
       "       [27.9872  ],\n",
       "       [28.185024],\n",
       "       [28.304098],\n",
       "       [28.32863 ],\n",
       "       [27.910162],\n",
       "       [27.789186],\n",
       "       [27.929974],\n",
       "       [28.056564],\n",
       "       [28.180338],\n",
       "       [28.30172 ],\n",
       "       [27.736965],\n",
       "       [28.21294 ],\n",
       "       [28.46042 ],\n",
       "       [28.384594],\n",
       "       [28.160385],\n",
       "       [28.848806],\n",
       "       [29.211893],\n",
       "       [28.905483],\n",
       "       [29.210264],\n",
       "       [29.04775 ],\n",
       "       [29.514212],\n",
       "       [29.233707],\n",
       "       [28.64162 ],\n",
       "       [29.67452 ],\n",
       "       [29.235788],\n",
       "       [28.964146],\n",
       "       [28.968365],\n",
       "       [29.687065],\n",
       "       [27.056387],\n",
       "       [27.474243],\n",
       "       [27.72864 ],\n",
       "       [28.530218],\n",
       "       [27.131788],\n",
       "       [27.085842],\n",
       "       [27.413122],\n",
       "       [26.155209],\n",
       "       [28.218931],\n",
       "       [27.69934 ],\n",
       "       [27.735855],\n",
       "       [25.825182],\n",
       "       [27.67525 ],\n",
       "       [27.327097],\n",
       "       [27.490019],\n",
       "       [25.297735],\n",
       "       [27.617785],\n",
       "       [27.374357],\n",
       "       [27.645767],\n",
       "       [25.38293 ],\n",
       "       [23.158869],\n",
       "       [23.237528],\n",
       "       [23.052551],\n",
       "       [21.603546],\n",
       "       [22.824118],\n",
       "       [23.202147],\n",
       "       [23.280779],\n",
       "       [22.701899],\n",
       "       [23.688765],\n",
       "       [23.844017],\n",
       "       [24.215591],\n",
       "       [23.25716 ],\n",
       "       [24.099604],\n",
       "       [24.275675],\n",
       "       [23.787342],\n",
       "       [22.11116 ],\n",
       "       [23.586973],\n",
       "       [23.170063],\n",
       "       [23.805548],\n",
       "       [22.46285 ],\n",
       "       [22.936922],\n",
       "       [23.654621],\n",
       "       [23.653467],\n",
       "       [22.963228],\n",
       "       [23.020046],\n",
       "       [23.78542 ],\n",
       "       [24.18278 ],\n",
       "       [23.810081],\n",
       "       [23.36588 ],\n",
       "       [23.97174 ],\n",
       "       [23.969906],\n",
       "       [23.612934],\n",
       "       [23.837996],\n",
       "       [23.51928 ],\n",
       "       [23.837261],\n",
       "       [23.853567],\n",
       "       [23.858826],\n",
       "       [23.49833 ],\n",
       "       [23.776918],\n",
       "       [24.26024 ],\n",
       "       [25.353012],\n",
       "       [25.130804],\n",
       "       [24.711811],\n",
       "       [25.729969],\n",
       "       [27.148935],\n",
       "       [26.388365],\n",
       "       [25.196539],\n",
       "       [26.238127],\n",
       "       [27.144861],\n",
       "       [26.62852 ],\n",
       "       [25.898779],\n",
       "       [27.525007],\n",
       "       [26.841206],\n",
       "       [26.119804],\n",
       "       [26.364668],\n",
       "       [26.137321],\n",
       "       [27.416687],\n",
       "       [25.83568 ],\n",
       "       [26.714117],\n",
       "       [27.433693],\n",
       "       [27.144022],\n",
       "       [25.540663],\n",
       "       [27.436802],\n",
       "       [26.98291 ],\n",
       "       [26.797848],\n",
       "       [27.12638 ],\n",
       "       [27.847687],\n",
       "       [25.892843],\n",
       "       [26.303688],\n",
       "       [27.437857],\n",
       "       [27.604342],\n",
       "       [26.11501 ],\n",
       "       [27.857794],\n",
       "       [26.02859 ],\n",
       "       [27.249983],\n",
       "       [27.412882],\n",
       "       [28.02362 ],\n",
       "       [28.460936],\n",
       "       [28.88325 ],\n",
       "       [29.29784 ],\n",
       "       [29.41166 ],\n",
       "       [29.448727],\n",
       "       [29.507175],\n",
       "       [29.596827],\n",
       "       [29.477064],\n",
       "       [29.407372],\n",
       "       [29.256311],\n",
       "       [28.668917],\n",
       "       [28.500237],\n",
       "       [28.077158],\n",
       "       [27.936148],\n",
       "       [27.8872  ],\n",
       "       [27.77464 ],\n",
       "       [27.498878],\n",
       "       [27.170929],\n",
       "       [26.769749],\n",
       "       [26.710224],\n",
       "       [26.825487],\n",
       "       [26.865953],\n",
       "       [26.857876],\n",
       "       [27.214178],\n",
       "       [27.242352],\n",
       "       [27.576773],\n",
       "       [27.77212 ],\n",
       "       [27.540955],\n",
       "       [27.196804],\n",
       "       [27.1738  ],\n",
       "       [26.801226],\n",
       "       [27.613348],\n",
       "       [27.865267],\n",
       "       [28.082598],\n",
       "       [28.285704],\n",
       "       [28.566135],\n",
       "       [28.878593],\n",
       "       [29.156723],\n",
       "       [29.084251],\n",
       "       [28.453382],\n",
       "       [27.905617],\n",
       "       [27.382555],\n",
       "       [26.991667],\n",
       "       [26.946917],\n",
       "       [27.145252],\n",
       "       [27.363062],\n",
       "       [27.453333],\n",
       "       [27.971066],\n",
       "       [28.175632],\n",
       "       [27.941223],\n",
       "       [27.74691 ],\n",
       "       [27.361141],\n",
       "       [26.966654],\n",
       "       [26.753492],\n",
       "       [25.83828 ],\n",
       "       [25.656105],\n",
       "       [25.40355 ],\n",
       "       [25.79219 ],\n",
       "       [25.808712],\n",
       "       [26.135592],\n",
       "       [26.20149 ],\n",
       "       [25.701145],\n",
       "       [25.27898 ],\n",
       "       [25.343187],\n",
       "       [25.662046],\n",
       "       [26.30502 ],\n",
       "       [26.650734],\n",
       "       [27.033075],\n",
       "       [27.16619 ],\n",
       "       [27.47973 ],\n",
       "       [27.53846 ],\n",
       "       [27.939503],\n",
       "       [28.395542],\n",
       "       [28.876057],\n",
       "       [28.895464],\n",
       "       [28.959145],\n",
       "       [29.150414],\n",
       "       [29.290064],\n",
       "       [29.482914],\n",
       "       [29.607365],\n",
       "       [29.666769],\n",
       "       [29.660131],\n",
       "       [29.154703],\n",
       "       [28.993153],\n",
       "       [28.395464],\n",
       "       [27.909168],\n",
       "       [28.371468],\n",
       "       [28.391502],\n",
       "       [28.493906],\n",
       "       [28.69272 ],\n",
       "       [28.231709],\n",
       "       [28.283894],\n",
       "       [27.741022],\n",
       "       [27.023611],\n",
       "       [26.46506 ],\n",
       "       [26.243017],\n",
       "       [26.33733 ],\n",
       "       [26.31081 ],\n",
       "       [26.370932],\n",
       "       [26.695915],\n",
       "       [27.034445],\n",
       "       [26.957296],\n",
       "       [26.93648 ],\n",
       "       [26.684074],\n",
       "       [26.655178],\n",
       "       [27.291924],\n",
       "       [27.754066],\n",
       "       [28.549183],\n",
       "       [28.608881],\n",
       "       [29.140863],\n",
       "       [29.345804],\n",
       "       [29.581224],\n",
       "       [29.281342],\n",
       "       [29.271845],\n",
       "       [29.193153],\n",
       "       [29.282206],\n",
       "       [29.29539 ],\n",
       "       [29.306046],\n",
       "       [29.447958],\n",
       "       [29.481405],\n",
       "       [29.416296],\n",
       "       [29.45572 ],\n",
       "       [29.564384],\n",
       "       [29.398623],\n",
       "       [29.023792],\n",
       "       [28.782547],\n",
       "       [28.541372],\n",
       "       [28.449091],\n",
       "       [28.539032],\n",
       "       [28.609322]], dtype=float32)"
      ]
     },
     "execution_count": 28,
     "metadata": {},
     "output_type": "execute_result"
    }
   ],
   "source": [
    "# Prediction\n",
    "prev = model.predict(X_test)\n",
    "prev = std.inverse_transform(prev)\n",
    "prev"
   ]
  },
  {
   "cell_type": "code",
   "execution_count": 29,
   "id": "65a03d6d-52f5-4782-8179-0342e3a61f6d",
   "metadata": {
    "ExecuteTime": {
     "end_time": "2022-03-19T15:55:34.264566Z",
     "start_time": "2022-03-19T15:55:34.259648Z"
    },
    "hidden": true
   },
   "outputs": [
    {
     "data": {
      "text/plain": [
       "519"
      ]
     },
     "execution_count": 29,
     "metadata": {},
     "output_type": "execute_result"
    }
   ],
   "source": [
    "# Predict the next 10 days\n",
    "lenght_test = len(test)\n",
    "lenght_test"
   ]
  },
  {
   "cell_type": "code",
   "execution_count": 30,
   "id": "fad1bdda-522f-44a6-8b79-b13151cb055c",
   "metadata": {
    "ExecuteTime": {
     "end_time": "2022-03-19T15:55:35.110289Z",
     "start_time": "2022-03-19T15:55:35.105529Z"
    },
    "hidden": true
   },
   "outputs": [
    {
     "data": {
      "text/plain": [
       "504"
      ]
     },
     "execution_count": 30,
     "metadata": {},
     "output_type": "execute_result"
    }
   ],
   "source": [
    "# Get the last days to step\n",
    "days_input_steps =lenght_test - steps\n",
    "days_input_steps"
   ]
  },
  {
   "cell_type": "code",
   "execution_count": 31,
   "id": "be0170bc-40b7-4f05-a586-7471c1278956",
   "metadata": {
    "ExecuteTime": {
     "end_time": "2022-03-19T15:55:36.002352Z",
     "start_time": "2022-03-19T15:55:35.996496Z"
    },
    "hidden": true
   },
   "outputs": [
    {
     "data": {
      "text/plain": [
       "array([[1.41048896, 1.4595649 , 1.43502693, 1.3873142 , 1.41185218,\n",
       "        1.46501778, 1.36959234, 1.25644502, 1.2618979 , 1.25644502,\n",
       "        1.27961977, 1.33687504, 1.3409647 , 1.30824741, 1.29597842]])"
      ]
     },
     "execution_count": 31,
     "metadata": {},
     "output_type": "execute_result"
    }
   ],
   "source": [
    "# Transform in array\n",
    "input_steps = test[days_input_steps:]\n",
    "input_steps = np.array(input_steps).reshape(1, -1)\n",
    "input_steps"
   ]
  },
  {
   "cell_type": "code",
   "execution_count": 32,
   "id": "d64943bc-8518-4f26-ab1a-47a3b0544cd6",
   "metadata": {
    "ExecuteTime": {
     "end_time": "2022-03-19T15:55:36.842730Z",
     "start_time": "2022-03-19T15:55:36.836938Z"
    },
    "hidden": true
   },
   "outputs": [
    {
     "data": {
      "text/plain": [
       "[1.4104889554776525,\n",
       " 1.459564899170591,\n",
       " 1.4350269273241218,\n",
       " 1.3873142042893207,\n",
       " 1.4118521761357898,\n",
       " 1.46501778180314,\n",
       " 1.3695923357335371,\n",
       " 1.2564450211081513,\n",
       " 1.2618979037406999,\n",
       " 1.2564450211081513,\n",
       " 1.279619772296483,\n",
       " 1.336875039938245,\n",
       " 1.3409647019126567,\n",
       " 1.3082474061173641,\n",
       " 1.2959784201941293]"
      ]
     },
     "execution_count": 32,
     "metadata": {},
     "output_type": "execute_result"
    }
   ],
   "source": [
    "# Return in list\n",
    "list_output_steps = list(input_steps)\n",
    "list_output_steps = list_output_steps[0].tolist()\n",
    "list_output_steps"
   ]
  },
  {
   "cell_type": "code",
   "execution_count": 33,
   "id": "9cf6a4e6-6802-4ef7-9b8d-ac14c832d2b3",
   "metadata": {
    "ExecuteTime": {
     "end_time": "2022-03-19T15:55:38.295268Z",
     "start_time": "2022-03-19T15:55:37.903876Z"
    },
    "hidden": true
   },
   "outputs": [
    {
     "name": "stdout",
     "output_type": "stream",
     "text": [
      "[1.3167088]\n",
      "16\n",
      "Day 1. Value Entrance → [1.4595649  1.43502693 1.3873142  1.41185218 1.46501778 1.36959234\n",
      " 1.25644502 1.2618979  1.25644502 1.27961977 1.33687504 1.3409647\n",
      " 1.30824741 1.29597842 1.3167088 ]\n",
      "Day 1. Value Predict → [[1.3258919]]\n",
      "Day 2. Value Entrance → [1.43502693 1.3873142  1.41185218 1.46501778 1.36959234 1.25644502\n",
      " 1.2618979  1.25644502 1.27961977 1.33687504 1.3409647  1.30824741\n",
      " 1.29597842 1.3167088  1.32589185]\n",
      "Day 2. Value Predict → [[1.3340989]]\n",
      "Day 3. Value Entrance → [1.3873142  1.41185218 1.46501778 1.36959234 1.25644502 1.2618979\n",
      " 1.25644502 1.27961977 1.33687504 1.3409647  1.30824741 1.29597842\n",
      " 1.3167088  1.32589185 1.33409894]\n",
      "Day 3. Value Predict → [[1.3424929]]\n",
      "Day 4. Value Entrance → [1.41185218 1.46501778 1.36959234 1.25644502 1.2618979  1.25644502\n",
      " 1.27961977 1.33687504 1.3409647  1.30824741 1.29597842 1.3167088\n",
      " 1.32589185 1.33409894 1.34249294]\n",
      "Day 4. Value Predict → [[1.3510069]]\n",
      "Day 5. Value Entrance → [1.46501778 1.36959234 1.25644502 1.2618979  1.25644502 1.27961977\n",
      " 1.33687504 1.3409647  1.30824741 1.29597842 1.3167088  1.32589185\n",
      " 1.33409894 1.34249294 1.35100687]\n",
      "Day 5. Value Predict → [[1.3598169]]\n",
      "Day 6. Value Entrance → [1.36959234 1.25644502 1.2618979  1.25644502 1.27961977 1.33687504\n",
      " 1.3409647  1.30824741 1.29597842 1.3167088  1.32589185 1.33409894\n",
      " 1.34249294 1.35100687 1.35981691]\n",
      "Day 6. Value Predict → [[1.3675154]]\n",
      "Day 7. Value Entrance → [1.25644502 1.2618979  1.25644502 1.27961977 1.33687504 1.3409647\n",
      " 1.30824741 1.29597842 1.3167088  1.32589185 1.33409894 1.34249294\n",
      " 1.35100687 1.35981691 1.36751544]\n",
      "Day 7. Value Predict → [[1.374333]]\n",
      "Day 8. Value Entrance → [1.2618979  1.25644502 1.27961977 1.33687504 1.3409647  1.30824741\n",
      " 1.29597842 1.3167088  1.32589185 1.33409894 1.34249294 1.35100687\n",
      " 1.35981691 1.36751544 1.37433302]\n",
      "Day 8. Value Predict → [[1.3817197]]\n",
      "Day 9. Value Entrance → [1.25644502 1.27961977 1.33687504 1.3409647  1.30824741 1.29597842\n",
      " 1.3167088  1.32589185 1.33409894 1.34249294 1.35100687 1.35981691\n",
      " 1.36751544 1.37433302 1.38171971]\n",
      "Day 9. Value Predict → [[1.3890877]]\n",
      "[[1.3167088031768799], [1.3258918523788452], [1.3340989351272583], [1.342492938041687], [1.3510068655014038], [1.3598169088363647], [1.3675154447555542], [1.3743330240249634], [1.381719708442688], [1.3890876770019531]]\n"
     ]
    }
   ],
   "source": [
    "#Loop to preview the next 10 days\n",
    "pred_output = [] #→ recebe os dias a serem previstos\n",
    "i = 0\n",
    "n_future = 10\n",
    "while(i<n_future):\n",
    "    if(len(list_output_steps) > steps):\n",
    "       input_steps = np.array(list_output_steps[1:])\n",
    "       print('Day {}. Value Entrance → {}'.format(i, input_steps))\n",
    "       input_steps = input_steps.reshape(1, -1)\n",
    "       input_steps = input_steps.reshape((1, steps, 1))\n",
    "       #print(input_steps)\n",
    "       pred = model.predict(input_steps, verbose=0)\n",
    "       print('Day {}. Value Predict → {}'.format(i, pred))\n",
    "       list_output_steps.extend(pred[0].tolist())\n",
    "       list_output_steps = list_output_steps[1:]\n",
    "       #print(list_output_steps)\n",
    "       pred_output.extend(pred.tolist())\n",
    "       i = i+1\n",
    "       \n",
    "    else:\n",
    "       input_steps = input_steps.reshape((1, steps, 1))\n",
    "       pred= model.predict(input_steps, verbose=0)\n",
    "       print(pred[0])\n",
    "       list_output_steps.extend(pred[0].tolist())\n",
    "       print(len(list_output_steps))\n",
    "       pred_output.extend(pred.tolist())\n",
    "       i = i+1\n",
    "       \n",
    "print(pred_output)\n",
    "       \n",
    "       "
   ]
  },
  {
   "cell_type": "code",
   "execution_count": 34,
   "id": "e9a09e87-5461-467a-829c-3f89e35580ad",
   "metadata": {
    "ExecuteTime": {
     "end_time": "2022-03-19T15:55:38.789772Z",
     "start_time": "2022-03-19T15:55:38.782176Z"
    },
    "hidden": true
   },
   "outputs": [
    {
     "data": {
      "text/plain": [
       "[28.60206916693207,\n",
       " 28.66943206337257,\n",
       " 28.72963568997861,\n",
       " 28.791210482469644,\n",
       " 28.85366498980781,\n",
       " 28.918291675754602,\n",
       " 28.9747648217067,\n",
       " 29.02477564885133,\n",
       " 29.07896118641367,\n",
       " 29.1330094324939]"
      ]
     },
     "execution_count": 34,
     "metadata": {},
     "output_type": "execute_result"
    }
   ],
   "source": [
    "# transform exit\n",
    "prev = std.inverse_transform(pred_output)\n",
    "prev = np.array(prev).reshape(1, -1)\n",
    "list_output_prev = list(prev)\n",
    "list_output_prev = prev[0].tolist()\n",
    "list_output_prev"
   ]
  },
  {
   "cell_type": "code",
   "execution_count": 35,
   "id": "60dfd2ef-0c94-4542-8dac-8fad135df356",
   "metadata": {
    "ExecuteTime": {
     "end_time": "2022-03-19T15:55:39.519939Z",
     "start_time": "2022-03-19T15:55:39.509818Z"
    },
    "hidden": true
   },
   "outputs": [
    {
     "data": {
      "text/plain": [
       "[Timestamp('2021-12-31 00:00:00', freq='B'),\n",
       " Timestamp('2022-01-03 00:00:00', freq='B'),\n",
       " Timestamp('2022-01-04 00:00:00', freq='B'),\n",
       " Timestamp('2022-01-05 00:00:00', freq='B'),\n",
       " Timestamp('2022-01-06 00:00:00', freq='B'),\n",
       " Timestamp('2022-01-07 00:00:00', freq='B'),\n",
       " Timestamp('2022-01-10 00:00:00', freq='B'),\n",
       " Timestamp('2022-01-11 00:00:00', freq='B'),\n",
       " Timestamp('2022-01-12 00:00:00', freq='B'),\n",
       " Timestamp('2022-01-13 00:00:00', freq='B')]"
      ]
     },
     "execution_count": 35,
     "metadata": {},
     "output_type": "execute_result"
    }
   ],
   "source": [
    "# format exit (date to predict)\n",
    "dates = pd.to_datetime(df_petro['data_pregao'])\n",
    "predict_dates = pd.date_range(list(dates)[-1] + pd.DateOffset(1), periods=10, freq='b').to_list()\n",
    "predict_dates"
   ]
  },
  {
   "cell_type": "code",
   "execution_count": 36,
   "id": "adcef319-aafa-4ca0-a982-4906ce74e459",
   "metadata": {
    "ExecuteTime": {
     "end_time": "2022-03-19T15:55:40.153726Z",
     "start_time": "2022-03-19T15:55:40.146711Z"
    },
    "hidden": true
   },
   "outputs": [],
   "source": [
    "# New DataFrame \n",
    "forecast_dates = []\n",
    "for i in predict_dates:\n",
    "    forecast_dates.append(i.date())\n",
    "    \n",
    "df_forecast = pd.DataFrame({'data_pregao':np.array(forecast_dates), 'preco_fechamento':list_output_prev})\n",
    "df_forecast['data_pregao'] = pd.to_datetime(df_forecast['data_pregao'])"
   ]
  },
  {
   "cell_type": "code",
   "execution_count": 37,
   "id": "48fe5cea-2dc8-429a-b897-68a9e182ef1c",
   "metadata": {
    "ExecuteTime": {
     "end_time": "2022-03-19T15:55:40.977384Z",
     "start_time": "2022-03-19T15:55:40.967103Z"
    },
    "hidden": true
   },
   "outputs": [
    {
     "data": {
      "text/html": [
       "<div>\n",
       "<style scoped>\n",
       "    .dataframe tbody tr th:only-of-type {\n",
       "        vertical-align: middle;\n",
       "    }\n",
       "\n",
       "    .dataframe tbody tr th {\n",
       "        vertical-align: top;\n",
       "    }\n",
       "\n",
       "    .dataframe thead th {\n",
       "        text-align: right;\n",
       "    }\n",
       "</style>\n",
       "<table border=\"1\" class=\"dataframe\">\n",
       "  <thead>\n",
       "    <tr style=\"text-align: right;\">\n",
       "      <th></th>\n",
       "      <th>preco_fechamento</th>\n",
       "    </tr>\n",
       "  </thead>\n",
       "  <tbody>\n",
       "    <tr>\n",
       "      <th>2021-12-31</th>\n",
       "      <td>28.602069</td>\n",
       "    </tr>\n",
       "    <tr>\n",
       "      <th>2022-01-03</th>\n",
       "      <td>28.669432</td>\n",
       "    </tr>\n",
       "    <tr>\n",
       "      <th>2022-01-04</th>\n",
       "      <td>28.729636</td>\n",
       "    </tr>\n",
       "    <tr>\n",
       "      <th>2022-01-05</th>\n",
       "      <td>28.791210</td>\n",
       "    </tr>\n",
       "    <tr>\n",
       "      <th>2022-01-06</th>\n",
       "      <td>28.853665</td>\n",
       "    </tr>\n",
       "    <tr>\n",
       "      <th>2022-01-07</th>\n",
       "      <td>28.918292</td>\n",
       "    </tr>\n",
       "    <tr>\n",
       "      <th>2022-01-10</th>\n",
       "      <td>28.974765</td>\n",
       "    </tr>\n",
       "    <tr>\n",
       "      <th>2022-01-11</th>\n",
       "      <td>29.024776</td>\n",
       "    </tr>\n",
       "    <tr>\n",
       "      <th>2022-01-12</th>\n",
       "      <td>29.078961</td>\n",
       "    </tr>\n",
       "    <tr>\n",
       "      <th>2022-01-13</th>\n",
       "      <td>29.133009</td>\n",
       "    </tr>\n",
       "  </tbody>\n",
       "</table>\n",
       "</div>"
      ],
      "text/plain": [
       "            preco_fechamento\n",
       "2021-12-31         28.602069\n",
       "2022-01-03         28.669432\n",
       "2022-01-04         28.729636\n",
       "2022-01-05         28.791210\n",
       "2022-01-06         28.853665\n",
       "2022-01-07         28.918292\n",
       "2022-01-10         28.974765\n",
       "2022-01-11         29.024776\n",
       "2022-01-12         29.078961\n",
       "2022-01-13         29.133009"
      ]
     },
     "execution_count": 37,
     "metadata": {},
     "output_type": "execute_result"
    }
   ],
   "source": [
    "df_forecast = df_forecast.set_index(pd.DatetimeIndex(df_forecast['data_pregao'].values))\n",
    "df_forecast.drop('data_pregao', axis=1, inplace=True)\n",
    "df_forecast\n",
    "\n",
    "    "
   ]
  },
  {
   "cell_type": "code",
   "execution_count": 38,
   "id": "d79a2fd5-efae-4dd9-ad62-e63b74529a45",
   "metadata": {
    "ExecuteTime": {
     "end_time": "2022-03-19T15:55:41.927104Z",
     "start_time": "2022-03-19T15:55:41.746193Z"
    },
    "hidden": true
   },
   "outputs": [
    {
     "data": {
      "image/png": "[encoded data removed]",
      "text/plain": [
       "<Figure size 1152x576 with 1 Axes>"
      ]
     },
     "metadata": {
      "needs_background": "light"
     },
     "output_type": "display_data"
    }
   ],
   "source": [
    "plt.figure(figsize=(16,8))\n",
    "plt.title('Price Share Value')\n",
    "plt.plot(df_petro_cls['preco_fechamento'])\n",
    "plt.plot(df_forecast['preco_fechamento'])\n",
    "plt.legend(['Price Closed', 'Price Predicted'])\n",
    "plt.show();\n"
   ]
  },
  {
   "cell_type": "code",
   "execution_count": 40,
   "id": "5ba369f8",
   "metadata": {
    "ExecuteTime": {
     "end_time": "2022-03-19T15:55:55.445172Z",
     "start_time": "2022-03-19T15:55:55.084187Z"
    },
    "hidden": true
   },
   "outputs": [
    {
     "data": {
      "image/png": "[encoded data removed]",
      "text/plain": [
       "<Figure size 1296x720 with 3 Axes>"
      ]
     },
     "metadata": {
      "needs_background": "light"
     },
     "output_type": "display_data"
    }
   ],
   "source": [
    "b = df_petro[df_petro['data_pregao'] > '2020-01-01']\n",
    "fig = plt.figure(figsize=(18, 10))\n",
    "plt.subplots_adjust(bottom = 0., left = 0, top = 1., right = 1)\n",
    "\n",
    "# Create first axes, the top-left plot with green plot\n",
    "sub1 = fig.add_subplot(2,2,1) # two rows, two columns, fist cell\n",
    "plt.plot(b['preco_fechamento'], color='darkslateblue')\n",
    "# Create second axes, the top-left plot with orange plot\n",
    "sub2 = fig.add_subplot(2,2,2) # two rows, two columns, second cell\n",
    "plt.plot(df_forecast['preco_fechamento'], label='Predict Value', color='orange', marker='o');\n",
    "\n",
    "# Create third axes, a combination of third and fourth cell\n",
    "sub3 = fig.add_subplot(2,2,(3,4)) # two rows, two colums, combined third and fourth cell\n",
    "plt.plot(df_petro_cls['preco_fechamento'],color='darkslateblue')\n",
    "plt.plot(df_forecast['preco_fechamento'], color='orange');"
   ]
  },
  {
   "cell_type": "markdown",
   "id": "8722ad71",
   "metadata": {},
   "source": [
    "# Comparando os Dados Reais de 2022 e minha Previsão"
   ]
  },
  {
   "cell_type": "code",
   "execution_count": 42,
   "id": "438b003a",
   "metadata": {
    "ExecuteTime": {
     "end_time": "2022-03-19T16:11:42.510355Z",
     "start_time": "2022-03-19T16:11:42.458331Z"
    }
   },
   "outputs": [],
   "source": [
    "df_2022 = pd.read_csv('../data/b3_bovespa_2022.csv')"
   ]
  },
  {
   "cell_type": "code",
   "execution_count": 43,
   "id": "a86c6907",
   "metadata": {
    "ExecuteTime": {
     "end_time": "2022-03-19T16:11:43.101063Z",
     "start_time": "2022-03-19T16:11:43.089194Z"
    }
   },
   "outputs": [],
   "source": [
    "df_2022['data_pregao'] = pd.to_datetime(df_2022['data_pregao'], format='%Y-%m-%d')"
   ]
  },
  {
   "cell_type": "code",
   "execution_count": 44,
   "id": "b01badbe",
   "metadata": {
    "ExecuteTime": {
     "end_time": "2022-03-19T16:11:43.942163Z",
     "start_time": "2022-03-19T16:11:43.936494Z"
    }
   },
   "outputs": [],
   "source": [
    "df = df_2022.copy()"
   ]
  },
  {
   "cell_type": "code",
   "execution_count": 45,
   "id": "0312584f",
   "metadata": {
    "ExecuteTime": {
     "end_time": "2022-03-19T16:11:44.560565Z",
     "start_time": "2022-03-19T16:11:44.548311Z"
    }
   },
   "outputs": [],
   "source": [
    "df = df[df['sigla_acao'] == 'PETR4']\n",
    "df = df[df['data_pregao'] <= '2022-01-13']"
   ]
  },
  {
   "cell_type": "code",
   "execution_count": 46,
   "id": "e12e2dca",
   "metadata": {
    "ExecuteTime": {
     "end_time": "2022-03-19T16:18:21.035448Z",
     "start_time": "2022-03-19T16:18:21.017792Z"
    }
   },
   "outputs": [
    {
     "data": {
      "text/html": [
       "<div>\n",
       "<style scoped>\n",
       "    .dataframe tbody tr th:only-of-type {\n",
       "        vertical-align: middle;\n",
       "    }\n",
       "\n",
       "    .dataframe tbody tr th {\n",
       "        vertical-align: top;\n",
       "    }\n",
       "\n",
       "    .dataframe thead th {\n",
       "        text-align: right;\n",
       "    }\n",
       "</style>\n",
       "<table border=\"1\" class=\"dataframe\">\n",
       "  <thead>\n",
       "    <tr style=\"text-align: right;\">\n",
       "      <th></th>\n",
       "      <th>codbdi</th>\n",
       "      <th>sigla_acao</th>\n",
       "      <th>nome_acao</th>\n",
       "      <th>preco_abertura</th>\n",
       "      <th>preco_maximo</th>\n",
       "      <th>preco_minimo</th>\n",
       "      <th>preco_fechamento</th>\n",
       "      <th>qtd_negocios</th>\n",
       "      <th>volume_negocios</th>\n",
       "    </tr>\n",
       "  </thead>\n",
       "  <tbody>\n",
       "    <tr>\n",
       "      <th>2022-01-03</th>\n",
       "      <td>2</td>\n",
       "      <td>PETR4</td>\n",
       "      <td>PETROBRAS</td>\n",
       "      <td>28.54</td>\n",
       "      <td>29.22</td>\n",
       "      <td>28.53</td>\n",
       "      <td>29.09</td>\n",
       "      <td>52704700</td>\n",
       "      <td>15</td>\n",
       "    </tr>\n",
       "    <tr>\n",
       "      <th>2022-01-04</th>\n",
       "      <td>2</td>\n",
       "      <td>PETR4</td>\n",
       "      <td>PETROBRAS</td>\n",
       "      <td>29.16</td>\n",
       "      <td>29.40</td>\n",
       "      <td>28.91</td>\n",
       "      <td>29.20</td>\n",
       "      <td>51739200</td>\n",
       "      <td>15</td>\n",
       "    </tr>\n",
       "    <tr>\n",
       "      <th>2022-01-05</th>\n",
       "      <td>2</td>\n",
       "      <td>PETR4</td>\n",
       "      <td>PETROBRAS</td>\n",
       "      <td>29.19</td>\n",
       "      <td>29.27</td>\n",
       "      <td>27.94</td>\n",
       "      <td>28.07</td>\n",
       "      <td>78459800</td>\n",
       "      <td>22</td>\n",
       "    </tr>\n",
       "    <tr>\n",
       "      <th>2022-01-06</th>\n",
       "      <td>2</td>\n",
       "      <td>PETR4</td>\n",
       "      <td>PETROBRAS</td>\n",
       "      <td>28.29</td>\n",
       "      <td>28.65</td>\n",
       "      <td>27.84</td>\n",
       "      <td>28.05</td>\n",
       "      <td>61163100</td>\n",
       "      <td>17</td>\n",
       "    </tr>\n",
       "    <tr>\n",
       "      <th>2022-01-07</th>\n",
       "      <td>2</td>\n",
       "      <td>PETR4</td>\n",
       "      <td>PETROBRAS</td>\n",
       "      <td>28.11</td>\n",
       "      <td>28.29</td>\n",
       "      <td>27.82</td>\n",
       "      <td>28.18</td>\n",
       "      <td>47507600</td>\n",
       "      <td>13</td>\n",
       "    </tr>\n",
       "    <tr>\n",
       "      <th>2022-01-10</th>\n",
       "      <td>2</td>\n",
       "      <td>PETR4</td>\n",
       "      <td>PETROBRAS</td>\n",
       "      <td>27.99</td>\n",
       "      <td>28.24</td>\n",
       "      <td>27.72</td>\n",
       "      <td>28.01</td>\n",
       "      <td>37455200</td>\n",
       "      <td>10</td>\n",
       "    </tr>\n",
       "    <tr>\n",
       "      <th>2022-01-11</th>\n",
       "      <td>2</td>\n",
       "      <td>PETR4</td>\n",
       "      <td>PETROBRAS</td>\n",
       "      <td>28.10</td>\n",
       "      <td>29.07</td>\n",
       "      <td>27.85</td>\n",
       "      <td>28.84</td>\n",
       "      <td>73623800</td>\n",
       "      <td>21</td>\n",
       "    </tr>\n",
       "    <tr>\n",
       "      <th>2022-01-12</th>\n",
       "      <td>2</td>\n",
       "      <td>PETR4</td>\n",
       "      <td>PETROBRAS</td>\n",
       "      <td>28.95</td>\n",
       "      <td>29.91</td>\n",
       "      <td>28.95</td>\n",
       "      <td>29.72</td>\n",
       "      <td>81378200</td>\n",
       "      <td>24</td>\n",
       "    </tr>\n",
       "    <tr>\n",
       "      <th>2022-01-13</th>\n",
       "      <td>2</td>\n",
       "      <td>PETR4</td>\n",
       "      <td>PETROBRAS</td>\n",
       "      <td>29.53</td>\n",
       "      <td>30.63</td>\n",
       "      <td>29.50</td>\n",
       "      <td>30.32</td>\n",
       "      <td>76717500</td>\n",
       "      <td>23</td>\n",
       "    </tr>\n",
       "  </tbody>\n",
       "</table>\n",
       "</div>"
      ],
      "text/plain": [
       "            codbdi sigla_acao  nome_acao  preco_abertura  preco_maximo  \\\n",
       "2022-01-03       2      PETR4  PETROBRAS           28.54         29.22   \n",
       "2022-01-04       2      PETR4  PETROBRAS           29.16         29.40   \n",
       "2022-01-05       2      PETR4  PETROBRAS           29.19         29.27   \n",
       "2022-01-06       2      PETR4  PETROBRAS           28.29         28.65   \n",
       "2022-01-07       2      PETR4  PETROBRAS           28.11         28.29   \n",
       "2022-01-10       2      PETR4  PETROBRAS           27.99         28.24   \n",
       "2022-01-11       2      PETR4  PETROBRAS           28.10         29.07   \n",
       "2022-01-12       2      PETR4  PETROBRAS           28.95         29.91   \n",
       "2022-01-13       2      PETR4  PETROBRAS           29.53         30.63   \n",
       "\n",
       "            preco_minimo  preco_fechamento  qtd_negocios  volume_negocios  \n",
       "2022-01-03         28.53             29.09      52704700               15  \n",
       "2022-01-04         28.91             29.20      51739200               15  \n",
       "2022-01-05         27.94             28.07      78459800               22  \n",
       "2022-01-06         27.84             28.05      61163100               17  \n",
       "2022-01-07         27.82             28.18      47507600               13  \n",
       "2022-01-10         27.72             28.01      37455200               10  \n",
       "2022-01-11         27.85             28.84      73623800               21  \n",
       "2022-01-12         28.95             29.72      81378200               24  \n",
       "2022-01-13         29.50             30.32      76717500               23  "
      ]
     },
     "execution_count": 46,
     "metadata": {},
     "output_type": "execute_result"
    }
   ],
   "source": [
    "# set to index with date\n",
    "df = df.set_index(pd.DatetimeIndex(df['data_pregao'].values))\n",
    "df.drop('data_pregao', axis=1)"
   ]
  },
  {
   "cell_type": "code",
   "execution_count": 47,
   "id": "6d69811a",
   "metadata": {
    "ExecuteTime": {
     "end_time": "2022-03-19T16:19:54.667231Z",
     "start_time": "2022-03-19T16:19:54.372199Z"
    }
   },
   "outputs": [
    {
     "data": {
      "image/png": "[encoded data removed]",
      "text/plain": [
       "<Figure size 1152x576 with 1 Axes>"
      ]
     },
     "metadata": {
      "needs_background": "light"
     },
     "output_type": "display_data"
    }
   ],
   "source": [
    "plt.figure(figsize=(16,8))\n",
    "plt.title('Price Share Value')\n",
    "plt.plot(df['preco_fechamento'],label='Real Value', color='blue', marker='o')\n",
    "plt.plot(df_forecast['preco_fechamento'],label='Predict Value', color='orange', marker='o')\n",
    "plt.legend(['Price Closed', 'Price Predicted'])\n",
    "plt.show();\n"
   ]
  },
  {
   "cell_type": "code",
   "execution_count": null,
   "id": "3f91eb00",
   "metadata": {},
   "outputs": [],
   "source": []
  }
 ],
 "metadata": {
  "hide_input": false,
  "kernelspec": {
   "display_name": "default:Python",
   "language": "python",
   "name": "conda-env-default-py"
  },
  "language_info": {
   "codemirror_mode": {
    "name": "ipython",
    "version": 3
   },
   "file_extension": ".py",
   "mimetype": "text/x-python",
   "name": "python",
   "nbconvert_exporter": "python",
   "pygments_lexer": "ipython3",
   "version": "3.9.7"
  },
  "nbTranslate": {
   "displayLangs": [
    "*"
   ],
   "hotkey": "alt-t",
   "langInMainMenu": true,
   "sourceLang": "en",
   "targetLang": "fr",
   "useGoogleTranslate": true
  }
 },
 "nbformat": 4,
 "nbformat_minor": 5
}
