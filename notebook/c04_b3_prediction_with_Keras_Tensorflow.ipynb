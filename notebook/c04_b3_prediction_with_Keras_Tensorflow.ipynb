{
 "cells": [
  {
   "cell_type": "markdown",
   "id": "abce84e2",
   "metadata": {
    "ExecuteTime": {
     "end_time": "2022-03-16T14:23:34.314779Z",
     "start_time": "2022-03-16T14:23:34.311226Z"
    }
   },
   "source": [
    "# 1.0 Import"
   ]
  },
  {
   "cell_type": "code",
   "execution_count": 1,
   "id": "412b5e43",
   "metadata": {
    "ExecuteTime": {
     "end_time": "2022-03-19T11:43:49.310886Z",
     "start_time": "2022-03-19T11:43:45.775695Z"
    }
   },
   "outputs": [],
   "source": [
    "#Load and edit dataframe\n",
    "import numpy as np\n",
    "import pandas as pd\n",
    "\n",
    "\n",
    "# Data Visualization\n",
    "import seaborn           as sns\n",
    "import matplotlib.pyplot as plt\n",
    "%matplotlib inline\n",
    "\n",
    "# Select Train and Test\n",
    "from sklearn.model_selection import train_test_split\n",
    "\n",
    "# ML - Algoritms\n",
    "from sklearn.preprocessing   import StandardScaler\n",
    "from tensorflow.keras.models import Sequential\n",
    "from tensorflow.keras.layers import Dense, LSTM, Dropout\n",
    "\n",
    "import warnings \n",
    "warnings.filterwarnings( 'ignore' ) "
   ]
  },
  {
   "cell_type": "markdown",
   "id": "9a0cbaa9",
   "metadata": {},
   "source": [
    "## Load DataSet"
   ]
  },
  {
   "cell_type": "code",
   "execution_count": 2,
   "id": "2dfb7345",
   "metadata": {
    "ExecuteTime": {
     "end_time": "2022-03-19T11:43:53.926639Z",
     "start_time": "2022-03-19T11:43:53.199151Z"
    }
   },
   "outputs": [],
   "source": [
    "df = pd.read_csv('../data/all_b3_bovespa.csv')"
   ]
  },
  {
   "cell_type": "markdown",
   "id": "fbf7e79a",
   "metadata": {
    "jp-MarkdownHeadingCollapsed": true,
    "tags": []
   },
   "source": [
    "# Data Analysis\n"
   ]
  },
  {
   "cell_type": "code",
   "execution_count": 3,
   "id": "17adf42d",
   "metadata": {
    "ExecuteTime": {
     "end_time": "2022-03-19T11:43:56.064184Z",
     "start_time": "2022-03-19T11:43:56.059560Z"
    }
   },
   "outputs": [
    {
     "name": "stdout",
     "output_type": "stream",
     "text": [
      "nº of columns: 733407, nº of rows:10\n"
     ]
    }
   ],
   "source": [
    "print(f'nº of columns: {df.shape[0]}, nº of rows:{df.shape[1]}')"
   ]
  },
  {
   "cell_type": "code",
   "execution_count": 4,
   "id": "f877b04c-d1e8-4f5e-a080-aa62d4c1fb53",
   "metadata": {
    "ExecuteTime": {
     "end_time": "2022-03-19T11:43:58.393656Z",
     "start_time": "2022-03-19T11:43:58.384717Z"
    }
   },
   "outputs": [
    {
     "data": {
      "text/plain": [
       "data_pregao          object\n",
       "codbdi              float64\n",
       "sigla_acao           object\n",
       "nome_acao            object\n",
       "preco_abertura      float64\n",
       "preco_maximo        float64\n",
       "preco_minimo        float64\n",
       "preco_fechamento    float64\n",
       "qtd_negocios          int64\n",
       "volume_negocios       int64\n",
       "dtype: object"
      ]
     },
     "execution_count": 4,
     "metadata": {},
     "output_type": "execute_result"
    }
   ],
   "source": [
    "df.dtypes"
   ]
  },
  {
   "cell_type": "code",
   "execution_count": 5,
   "id": "b68aeb10-69a2-4e4a-8983-e483661b7db5",
   "metadata": {
    "ExecuteTime": {
     "end_time": "2022-03-19T11:43:59.934504Z",
     "start_time": "2022-03-19T11:43:59.862174Z"
    }
   },
   "outputs": [
    {
     "data": {
      "text/html": [
       "<div>\n",
       "<style scoped>\n",
       "    .dataframe tbody tr th:only-of-type {\n",
       "        vertical-align: middle;\n",
       "    }\n",
       "\n",
       "    .dataframe tbody tr th {\n",
       "        vertical-align: top;\n",
       "    }\n",
       "\n",
       "    .dataframe thead th {\n",
       "        text-align: right;\n",
       "    }\n",
       "</style>\n",
       "<table border=\"1\" class=\"dataframe\">\n",
       "  <thead>\n",
       "    <tr style=\"text-align: right;\">\n",
       "      <th></th>\n",
       "      <th>data_pregao</th>\n",
       "      <th>codbdi</th>\n",
       "      <th>sigla_acao</th>\n",
       "      <th>nome_acao</th>\n",
       "      <th>preco_abertura</th>\n",
       "      <th>preco_maximo</th>\n",
       "      <th>preco_minimo</th>\n",
       "      <th>preco_fechamento</th>\n",
       "      <th>qtd_negocios</th>\n",
       "      <th>volume_negocios</th>\n",
       "    </tr>\n",
       "  </thead>\n",
       "  <tbody>\n",
       "    <tr>\n",
       "      <th>212</th>\n",
       "      <td>2015-01-02</td>\n",
       "      <td>2.0</td>\n",
       "      <td>PETR3</td>\n",
       "      <td>PETROBRAS</td>\n",
       "      <td>9.58</td>\n",
       "      <td>9.67</td>\n",
       "      <td>9.00</td>\n",
       "      <td>9.00</td>\n",
       "      <td>12710900</td>\n",
       "      <td>1</td>\n",
       "    </tr>\n",
       "    <tr>\n",
       "      <th>213</th>\n",
       "      <td>2015-01-02</td>\n",
       "      <td>2.0</td>\n",
       "      <td>PETR4</td>\n",
       "      <td>PETROBRAS</td>\n",
       "      <td>9.99</td>\n",
       "      <td>9.99</td>\n",
       "      <td>9.36</td>\n",
       "      <td>9.36</td>\n",
       "      <td>48837200</td>\n",
       "      <td>4</td>\n",
       "    </tr>\n",
       "    <tr>\n",
       "      <th>529</th>\n",
       "      <td>2015-01-05</td>\n",
       "      <td>2.0</td>\n",
       "      <td>PETR3</td>\n",
       "      <td>PETROBRAS</td>\n",
       "      <td>8.64</td>\n",
       "      <td>8.96</td>\n",
       "      <td>8.25</td>\n",
       "      <td>8.27</td>\n",
       "      <td>24992200</td>\n",
       "      <td>2</td>\n",
       "    </tr>\n",
       "    <tr>\n",
       "      <th>530</th>\n",
       "      <td>2015-01-05</td>\n",
       "      <td>2.0</td>\n",
       "      <td>PETR4</td>\n",
       "      <td>PETROBRAS</td>\n",
       "      <td>9.14</td>\n",
       "      <td>9.19</td>\n",
       "      <td>8.58</td>\n",
       "      <td>8.61</td>\n",
       "      <td>77077300</td>\n",
       "      <td>6</td>\n",
       "    </tr>\n",
       "    <tr>\n",
       "      <th>828</th>\n",
       "      <td>2015-01-06</td>\n",
       "      <td>2.0</td>\n",
       "      <td>PETR3</td>\n",
       "      <td>PETROBRAS</td>\n",
       "      <td>8.28</td>\n",
       "      <td>8.53</td>\n",
       "      <td>7.78</td>\n",
       "      <td>8.06</td>\n",
       "      <td>29572100</td>\n",
       "      <td>2</td>\n",
       "    </tr>\n",
       "    <tr>\n",
       "      <th>...</th>\n",
       "      <td>...</td>\n",
       "      <td>...</td>\n",
       "      <td>...</td>\n",
       "      <td>...</td>\n",
       "      <td>...</td>\n",
       "      <td>...</td>\n",
       "      <td>...</td>\n",
       "      <td>...</td>\n",
       "      <td>...</td>\n",
       "      <td>...</td>\n",
       "    </tr>\n",
       "    <tr>\n",
       "      <th>733144</th>\n",
       "      <td>2021-12-23</td>\n",
       "      <td>2.0</td>\n",
       "      <td>PETR3</td>\n",
       "      <td>PETROBRAS</td>\n",
       "      <td>30.35</td>\n",
       "      <td>30.68</td>\n",
       "      <td>30.18</td>\n",
       "      <td>30.44</td>\n",
       "      <td>6243500</td>\n",
       "      <td>1</td>\n",
       "    </tr>\n",
       "    <tr>\n",
       "      <th>733145</th>\n",
       "      <td>2021-12-27</td>\n",
       "      <td>2.0</td>\n",
       "      <td>PETR3</td>\n",
       "      <td>PETROBRAS</td>\n",
       "      <td>30.44</td>\n",
       "      <td>31.23</td>\n",
       "      <td>30.24</td>\n",
       "      <td>31.04</td>\n",
       "      <td>17868100</td>\n",
       "      <td>5</td>\n",
       "    </tr>\n",
       "    <tr>\n",
       "      <th>733146</th>\n",
       "      <td>2021-12-28</td>\n",
       "      <td>2.0</td>\n",
       "      <td>PETR3</td>\n",
       "      <td>PETROBRAS</td>\n",
       "      <td>31.26</td>\n",
       "      <td>31.47</td>\n",
       "      <td>31.00</td>\n",
       "      <td>31.06</td>\n",
       "      <td>8078000</td>\n",
       "      <td>2</td>\n",
       "    </tr>\n",
       "    <tr>\n",
       "      <th>733147</th>\n",
       "      <td>2021-12-29</td>\n",
       "      <td>2.0</td>\n",
       "      <td>PETR3</td>\n",
       "      <td>PETROBRAS</td>\n",
       "      <td>31.01</td>\n",
       "      <td>31.34</td>\n",
       "      <td>30.75</td>\n",
       "      <td>30.95</td>\n",
       "      <td>11460950</td>\n",
       "      <td>3</td>\n",
       "    </tr>\n",
       "    <tr>\n",
       "      <th>733148</th>\n",
       "      <td>2021-12-30</td>\n",
       "      <td>2.0</td>\n",
       "      <td>PETR3</td>\n",
       "      <td>PETROBRAS</td>\n",
       "      <td>30.95</td>\n",
       "      <td>31.13</td>\n",
       "      <td>30.55</td>\n",
       "      <td>30.70</td>\n",
       "      <td>34157000</td>\n",
       "      <td>10</td>\n",
       "    </tr>\n",
       "  </tbody>\n",
       "</table>\n",
       "<p>3460 rows × 10 columns</p>\n",
       "</div>"
      ],
      "text/plain": [
       "       data_pregao  codbdi sigla_acao  nome_acao  preco_abertura  \\\n",
       "212     2015-01-02     2.0      PETR3  PETROBRAS            9.58   \n",
       "213     2015-01-02     2.0      PETR4  PETROBRAS            9.99   \n",
       "529     2015-01-05     2.0      PETR3  PETROBRAS            8.64   \n",
       "530     2015-01-05     2.0      PETR4  PETROBRAS            9.14   \n",
       "828     2015-01-06     2.0      PETR3  PETROBRAS            8.28   \n",
       "...            ...     ...        ...        ...             ...   \n",
       "733144  2021-12-23     2.0      PETR3  PETROBRAS           30.35   \n",
       "733145  2021-12-27     2.0      PETR3  PETROBRAS           30.44   \n",
       "733146  2021-12-28     2.0      PETR3  PETROBRAS           31.26   \n",
       "733147  2021-12-29     2.0      PETR3  PETROBRAS           31.01   \n",
       "733148  2021-12-30     2.0      PETR3  PETROBRAS           30.95   \n",
       "\n",
       "        preco_maximo  preco_minimo  preco_fechamento  qtd_negocios  \\\n",
       "212             9.67          9.00              9.00      12710900   \n",
       "213             9.99          9.36              9.36      48837200   \n",
       "529             8.96          8.25              8.27      24992200   \n",
       "530             9.19          8.58              8.61      77077300   \n",
       "828             8.53          7.78              8.06      29572100   \n",
       "...              ...           ...               ...           ...   \n",
       "733144         30.68         30.18             30.44       6243500   \n",
       "733145         31.23         30.24             31.04      17868100   \n",
       "733146         31.47         31.00             31.06       8078000   \n",
       "733147         31.34         30.75             30.95      11460950   \n",
       "733148         31.13         30.55             30.70      34157000   \n",
       "\n",
       "        volume_negocios  \n",
       "212                   1  \n",
       "213                   4  \n",
       "529                   2  \n",
       "530                   6  \n",
       "828                   2  \n",
       "...                 ...  \n",
       "733144                1  \n",
       "733145                5  \n",
       "733146                2  \n",
       "733147                3  \n",
       "733148               10  \n",
       "\n",
       "[3460 rows x 10 columns]"
      ]
     },
     "execution_count": 5,
     "metadata": {},
     "output_type": "execute_result"
    }
   ],
   "source": [
    "a = df[df['nome_acao']=='PETROBRAS']\n",
    "a"
   ]
  },
  {
   "cell_type": "markdown",
   "id": "bd97ec11",
   "metadata": {
    "jp-MarkdownHeadingCollapsed": true,
    "tags": []
   },
   "source": [
    "# Data transformation"
   ]
  },
  {
   "cell_type": "code",
   "execution_count": 44,
   "id": "6bf1cca4",
   "metadata": {
    "ExecuteTime": {
     "end_time": "2022-03-19T11:54:15.351267Z",
     "start_time": "2022-03-19T11:54:15.319138Z"
    }
   },
   "outputs": [],
   "source": [
    "df_petro = df.copy()"
   ]
  },
  {
   "cell_type": "code",
   "execution_count": 45,
   "id": "b1cb0d01",
   "metadata": {
    "ExecuteTime": {
     "end_time": "2022-03-19T11:54:15.904340Z",
     "start_time": "2022-03-19T11:54:15.801396Z"
    }
   },
   "outputs": [],
   "source": [
    "df_petro['data_pregao'] = pd.to_datetime(df_petro['data_pregao'], format='%Y-%m-%d')"
   ]
  },
  {
   "cell_type": "code",
   "execution_count": 46,
   "id": "ebbc331f",
   "metadata": {
    "ExecuteTime": {
     "end_time": "2022-03-19T11:54:16.858456Z",
     "start_time": "2022-03-19T11:54:16.815978Z"
    }
   },
   "outputs": [],
   "source": [
    "#df['ANO'] = df['DT_INGRESSO'].dt.year\n",
    "df_petro['ano'] = df_petro['data_pregao'].dt.year "
   ]
  },
  {
   "cell_type": "code",
   "execution_count": 47,
   "id": "c580c4b7-4716-4fd7-86a5-41130eebb72f",
   "metadata": {
    "ExecuteTime": {
     "end_time": "2022-03-19T11:54:17.789024Z",
     "start_time": "2022-03-19T11:54:17.782328Z"
    }
   },
   "outputs": [
    {
     "data": {
      "text/plain": [
       "data_pregao         datetime64[ns]\n",
       "codbdi                     float64\n",
       "sigla_acao                  object\n",
       "nome_acao                   object\n",
       "preco_abertura             float64\n",
       "preco_maximo               float64\n",
       "preco_minimo               float64\n",
       "preco_fechamento           float64\n",
       "qtd_negocios                 int64\n",
       "volume_negocios              int64\n",
       "ano                          int64\n",
       "dtype: object"
      ]
     },
     "execution_count": 47,
     "metadata": {},
     "output_type": "execute_result"
    }
   ],
   "source": [
    "df_petro.dtypes"
   ]
  },
  {
   "cell_type": "code",
   "execution_count": 48,
   "id": "b3378fbe",
   "metadata": {
    "ExecuteTime": {
     "end_time": "2022-03-19T11:54:26.502910Z",
     "start_time": "2022-03-19T11:54:26.480982Z"
    }
   },
   "outputs": [
    {
     "data": {
      "text/html": [
       "<div>\n",
       "<style scoped>\n",
       "    .dataframe tbody tr th:only-of-type {\n",
       "        vertical-align: middle;\n",
       "    }\n",
       "\n",
       "    .dataframe tbody tr th {\n",
       "        vertical-align: top;\n",
       "    }\n",
       "\n",
       "    .dataframe thead th {\n",
       "        text-align: right;\n",
       "    }\n",
       "</style>\n",
       "<table border=\"1\" class=\"dataframe\">\n",
       "  <thead>\n",
       "    <tr style=\"text-align: right;\">\n",
       "      <th></th>\n",
       "      <th>data_pregao</th>\n",
       "      <th>codbdi</th>\n",
       "      <th>sigla_acao</th>\n",
       "      <th>nome_acao</th>\n",
       "      <th>preco_abertura</th>\n",
       "      <th>preco_maximo</th>\n",
       "      <th>preco_minimo</th>\n",
       "      <th>preco_fechamento</th>\n",
       "      <th>qtd_negocios</th>\n",
       "      <th>volume_negocios</th>\n",
       "      <th>ano</th>\n",
       "    </tr>\n",
       "  </thead>\n",
       "  <tbody>\n",
       "    <tr>\n",
       "      <th>0</th>\n",
       "      <td>2015-01-02</td>\n",
       "      <td>2.0</td>\n",
       "      <td>AAPL34</td>\n",
       "      <td>APPLE</td>\n",
       "      <td>29.65</td>\n",
       "      <td>29.65</td>\n",
       "      <td>29.45</td>\n",
       "      <td>29.45</td>\n",
       "      <td>32300</td>\n",
       "      <td>0</td>\n",
       "      <td>2015</td>\n",
       "    </tr>\n",
       "    <tr>\n",
       "      <th>1</th>\n",
       "      <td>2015-01-02</td>\n",
       "      <td>2.0</td>\n",
       "      <td>ABCB4</td>\n",
       "      <td>ABC BRASIL</td>\n",
       "      <td>12.85</td>\n",
       "      <td>12.85</td>\n",
       "      <td>12.35</td>\n",
       "      <td>12.55</td>\n",
       "      <td>117100</td>\n",
       "      <td>0</td>\n",
       "      <td>2015</td>\n",
       "    </tr>\n",
       "    <tr>\n",
       "      <th>2</th>\n",
       "      <td>2015-01-02</td>\n",
       "      <td>2.0</td>\n",
       "      <td>ABEV3</td>\n",
       "      <td>AMBEV S/A</td>\n",
       "      <td>16.14</td>\n",
       "      <td>16.56</td>\n",
       "      <td>15.77</td>\n",
       "      <td>16.01</td>\n",
       "      <td>19110800</td>\n",
       "      <td>3</td>\n",
       "      <td>2015</td>\n",
       "    </tr>\n",
       "    <tr>\n",
       "      <th>3</th>\n",
       "      <td>2015-01-02</td>\n",
       "      <td>2.0</td>\n",
       "      <td>ABRE3</td>\n",
       "      <td>ABRIL EDUCA</td>\n",
       "      <td>11.18</td>\n",
       "      <td>11.38</td>\n",
       "      <td>10.66</td>\n",
       "      <td>10.91</td>\n",
       "      <td>255000</td>\n",
       "      <td>0</td>\n",
       "      <td>2015</td>\n",
       "    </tr>\n",
       "    <tr>\n",
       "      <th>4</th>\n",
       "      <td>2015-01-02</td>\n",
       "      <td>2.0</td>\n",
       "      <td>AELP3</td>\n",
       "      <td>AES ELPA</td>\n",
       "      <td>9.10</td>\n",
       "      <td>9.10</td>\n",
       "      <td>8.89</td>\n",
       "      <td>8.89</td>\n",
       "      <td>29100</td>\n",
       "      <td>0</td>\n",
       "      <td>2015</td>\n",
       "    </tr>\n",
       "    <tr>\n",
       "      <th>...</th>\n",
       "      <td>...</td>\n",
       "      <td>...</td>\n",
       "      <td>...</td>\n",
       "      <td>...</td>\n",
       "      <td>...</td>\n",
       "      <td>...</td>\n",
       "      <td>...</td>\n",
       "      <td>...</td>\n",
       "      <td>...</td>\n",
       "      <td>...</td>\n",
       "      <td>...</td>\n",
       "    </tr>\n",
       "    <tr>\n",
       "      <th>733402</th>\n",
       "      <td>2021-12-27</td>\n",
       "      <td>2.0</td>\n",
       "      <td>V1TA34</td>\n",
       "      <td>VENTAS INC</td>\n",
       "      <td>139.02</td>\n",
       "      <td>139.72</td>\n",
       "      <td>139.02</td>\n",
       "      <td>139.72</td>\n",
       "      <td>60</td>\n",
       "      <td>0</td>\n",
       "      <td>2021</td>\n",
       "    </tr>\n",
       "    <tr>\n",
       "      <th>733403</th>\n",
       "      <td>2021-12-28</td>\n",
       "      <td>2.0</td>\n",
       "      <td>V1TA34</td>\n",
       "      <td>VENTAS INC</td>\n",
       "      <td>140.86</td>\n",
       "      <td>140.86</td>\n",
       "      <td>140.68</td>\n",
       "      <td>140.68</td>\n",
       "      <td>0</td>\n",
       "      <td>0</td>\n",
       "      <td>2021</td>\n",
       "    </tr>\n",
       "    <tr>\n",
       "      <th>733404</th>\n",
       "      <td>2021-12-28</td>\n",
       "      <td>2.0</td>\n",
       "      <td>MYPK3</td>\n",
       "      <td>IOCHP-MAXION</td>\n",
       "      <td>15.02</td>\n",
       "      <td>15.32</td>\n",
       "      <td>14.91</td>\n",
       "      <td>15.22</td>\n",
       "      <td>836300</td>\n",
       "      <td>0</td>\n",
       "      <td>2021</td>\n",
       "    </tr>\n",
       "    <tr>\n",
       "      <th>733405</th>\n",
       "      <td>2021-12-29</td>\n",
       "      <td>2.0</td>\n",
       "      <td>MYPK3</td>\n",
       "      <td>IOCHP-MAXION</td>\n",
       "      <td>15.21</td>\n",
       "      <td>15.48</td>\n",
       "      <td>14.90</td>\n",
       "      <td>14.90</td>\n",
       "      <td>776000</td>\n",
       "      <td>0</td>\n",
       "      <td>2021</td>\n",
       "    </tr>\n",
       "    <tr>\n",
       "      <th>733406</th>\n",
       "      <td>2021-12-30</td>\n",
       "      <td>2.0</td>\n",
       "      <td>MYPK3</td>\n",
       "      <td>IOCHP-MAXION</td>\n",
       "      <td>14.91</td>\n",
       "      <td>15.44</td>\n",
       "      <td>14.83</td>\n",
       "      <td>15.35</td>\n",
       "      <td>2335800</td>\n",
       "      <td>0</td>\n",
       "      <td>2021</td>\n",
       "    </tr>\n",
       "  </tbody>\n",
       "</table>\n",
       "<p>733407 rows × 11 columns</p>\n",
       "</div>"
      ],
      "text/plain": [
       "       data_pregao  codbdi sigla_acao     nome_acao  preco_abertura  \\\n",
       "0       2015-01-02     2.0     AAPL34         APPLE           29.65   \n",
       "1       2015-01-02     2.0      ABCB4    ABC BRASIL           12.85   \n",
       "2       2015-01-02     2.0      ABEV3     AMBEV S/A           16.14   \n",
       "3       2015-01-02     2.0      ABRE3   ABRIL EDUCA           11.18   \n",
       "4       2015-01-02     2.0      AELP3      AES ELPA            9.10   \n",
       "...            ...     ...        ...           ...             ...   \n",
       "733402  2021-12-27     2.0     V1TA34    VENTAS INC          139.02   \n",
       "733403  2021-12-28     2.0     V1TA34    VENTAS INC          140.86   \n",
       "733404  2021-12-28     2.0      MYPK3  IOCHP-MAXION           15.02   \n",
       "733405  2021-12-29     2.0      MYPK3  IOCHP-MAXION           15.21   \n",
       "733406  2021-12-30     2.0      MYPK3  IOCHP-MAXION           14.91   \n",
       "\n",
       "        preco_maximo  preco_minimo  preco_fechamento  qtd_negocios  \\\n",
       "0              29.65         29.45             29.45         32300   \n",
       "1              12.85         12.35             12.55        117100   \n",
       "2              16.56         15.77             16.01      19110800   \n",
       "3              11.38         10.66             10.91        255000   \n",
       "4               9.10          8.89              8.89         29100   \n",
       "...              ...           ...               ...           ...   \n",
       "733402        139.72        139.02            139.72            60   \n",
       "733403        140.86        140.68            140.68             0   \n",
       "733404         15.32         14.91             15.22        836300   \n",
       "733405         15.48         14.90             14.90        776000   \n",
       "733406         15.44         14.83             15.35       2335800   \n",
       "\n",
       "        volume_negocios   ano  \n",
       "0                     0  2015  \n",
       "1                     0  2015  \n",
       "2                     3  2015  \n",
       "3                     0  2015  \n",
       "4                     0  2015  \n",
       "...                 ...   ...  \n",
       "733402                0  2021  \n",
       "733403                0  2021  \n",
       "733404                0  2021  \n",
       "733405                0  2021  \n",
       "733406                0  2021  \n",
       "\n",
       "[733407 rows x 11 columns]"
      ]
     },
     "execution_count": 48,
     "metadata": {},
     "output_type": "execute_result"
    }
   ],
   "source": [
    "df_petro"
   ]
  },
  {
   "cell_type": "code",
   "execution_count": null,
   "id": "1fbb5dde",
   "metadata": {},
   "outputs": [],
   "source": []
  },
  {
   "cell_type": "markdown",
   "id": "78ae7dc2",
   "metadata": {
    "jp-MarkdownHeadingCollapsed": true,
    "tags": []
   },
   "source": [
    "# Select only one share to predict"
   ]
  },
  {
   "cell_type": "code",
   "execution_count": 49,
   "id": "c4e8480a",
   "metadata": {
    "ExecuteTime": {
     "end_time": "2022-03-19T11:54:30.528485Z",
     "start_time": "2022-03-19T11:54:30.449610Z"
    }
   },
   "outputs": [
    {
     "name": "stdout",
     "output_type": "stream",
     "text": [
      "nº of rows: 1730, nº of columns:11\n"
     ]
    }
   ],
   "source": [
    "# Filter share_data\n",
    "df_petro = df_petro[df_petro['sigla_acao']=='PETR4']\n",
    "print(f'nº of rows: {df_petro.shape[0]}, nº of columns:{df_petro.shape[1]}')"
   ]
  },
  {
   "cell_type": "code",
   "execution_count": 50,
   "id": "c9c37b34-94a9-491f-87b9-62b62f851a80",
   "metadata": {
    "ExecuteTime": {
     "end_time": "2022-03-19T11:54:31.703326Z",
     "start_time": "2022-03-19T11:54:31.694948Z"
    }
   },
   "outputs": [
    {
     "data": {
      "text/plain": [
       "data_pregao         datetime64[ns]\n",
       "preco_fechamento           float64\n",
       "ano                          int64\n",
       "dtype: object"
      ]
     },
     "execution_count": 50,
     "metadata": {},
     "output_type": "execute_result"
    }
   ],
   "source": [
    "df_petro_cls = df_petro[['data_pregao', 'preco_fechamento', 'ano']]\n",
    "df_petro_cls.dtypes"
   ]
  },
  {
   "cell_type": "code",
   "execution_count": 55,
   "id": "27af186a-dc48-43b0-a640-e24504f97bcb",
   "metadata": {
    "ExecuteTime": {
     "end_time": "2022-03-19T11:55:32.028117Z",
     "start_time": "2022-03-19T11:55:32.023294Z"
    }
   },
   "outputs": [],
   "source": [
    "# set to index with date\n",
    "df_petro_cls = df_petro_cls.set_index(pd.DatetimeIndex(df_petro_cls['data_pregao'].values))"
   ]
  },
  {
   "cell_type": "code",
   "execution_count": 56,
   "id": "b45a72c3-8da4-4839-907a-44eb454d2f28",
   "metadata": {
    "ExecuteTime": {
     "end_time": "2022-03-19T11:55:34.031008Z",
     "start_time": "2022-03-19T11:55:34.019432Z"
    }
   },
   "outputs": [
    {
     "data": {
      "text/html": [
       "<div>\n",
       "<style scoped>\n",
       "    .dataframe tbody tr th:only-of-type {\n",
       "        vertical-align: middle;\n",
       "    }\n",
       "\n",
       "    .dataframe tbody tr th {\n",
       "        vertical-align: top;\n",
       "    }\n",
       "\n",
       "    .dataframe thead th {\n",
       "        text-align: right;\n",
       "    }\n",
       "</style>\n",
       "<table border=\"1\" class=\"dataframe\">\n",
       "  <thead>\n",
       "    <tr style=\"text-align: right;\">\n",
       "      <th></th>\n",
       "      <th>data_pregao</th>\n",
       "      <th>preco_fechamento</th>\n",
       "      <th>ano</th>\n",
       "    </tr>\n",
       "  </thead>\n",
       "  <tbody>\n",
       "    <tr>\n",
       "      <th>2021-12-23</th>\n",
       "      <td>2021-12-23</td>\n",
       "      <td>28.33</td>\n",
       "      <td>2021</td>\n",
       "    </tr>\n",
       "    <tr>\n",
       "      <th>2021-12-27</th>\n",
       "      <td>2021-12-27</td>\n",
       "      <td>28.75</td>\n",
       "      <td>2021</td>\n",
       "    </tr>\n",
       "    <tr>\n",
       "      <th>2021-12-28</th>\n",
       "      <td>2021-12-28</td>\n",
       "      <td>28.78</td>\n",
       "      <td>2021</td>\n",
       "    </tr>\n",
       "    <tr>\n",
       "      <th>2021-12-29</th>\n",
       "      <td>2021-12-29</td>\n",
       "      <td>28.54</td>\n",
       "      <td>2021</td>\n",
       "    </tr>\n",
       "    <tr>\n",
       "      <th>2021-12-30</th>\n",
       "      <td>2021-12-30</td>\n",
       "      <td>28.45</td>\n",
       "      <td>2021</td>\n",
       "    </tr>\n",
       "  </tbody>\n",
       "</table>\n",
       "</div>"
      ],
      "text/plain": [
       "           data_pregao  preco_fechamento   ano\n",
       "2021-12-23  2021-12-23             28.33  2021\n",
       "2021-12-27  2021-12-27             28.75  2021\n",
       "2021-12-28  2021-12-28             28.78  2021\n",
       "2021-12-29  2021-12-29             28.54  2021\n",
       "2021-12-30  2021-12-30             28.45  2021"
      ]
     },
     "execution_count": 56,
     "metadata": {},
     "output_type": "execute_result"
    }
   ],
   "source": [
    "df_petro_cls.tail()"
   ]
  },
  {
   "cell_type": "code",
   "execution_count": 57,
   "id": "35f98a10-3d90-432d-a72c-ba40c8b7e278",
   "metadata": {
    "ExecuteTime": {
     "end_time": "2022-03-19T11:55:51.287747Z",
     "start_time": "2022-03-19T11:55:51.282237Z"
    }
   },
   "outputs": [],
   "source": [
    "# drop column 'data_pregao'\n",
    "df_petro_cls.drop(['data_pregao'], axis=1, inplace=True)"
   ]
  },
  {
   "cell_type": "code",
   "execution_count": 58,
   "id": "d2120903-3aa5-4387-b98b-3a5fd31f829d",
   "metadata": {
    "ExecuteTime": {
     "end_time": "2022-03-19T11:55:54.671524Z",
     "start_time": "2022-03-19T11:55:54.657230Z"
    }
   },
   "outputs": [
    {
     "data": {
      "text/html": [
       "<div>\n",
       "<style scoped>\n",
       "    .dataframe tbody tr th:only-of-type {\n",
       "        vertical-align: middle;\n",
       "    }\n",
       "\n",
       "    .dataframe tbody tr th {\n",
       "        vertical-align: top;\n",
       "    }\n",
       "\n",
       "    .dataframe thead th {\n",
       "        text-align: right;\n",
       "    }\n",
       "</style>\n",
       "<table border=\"1\" class=\"dataframe\">\n",
       "  <thead>\n",
       "    <tr style=\"text-align: right;\">\n",
       "      <th></th>\n",
       "      <th>index</th>\n",
       "      <th>preco_fechamento</th>\n",
       "      <th>ano</th>\n",
       "    </tr>\n",
       "  </thead>\n",
       "  <tbody>\n",
       "    <tr>\n",
       "      <th>0</th>\n",
       "      <td>2021-12-23</td>\n",
       "      <td>28.33</td>\n",
       "      <td>2021</td>\n",
       "    </tr>\n",
       "    <tr>\n",
       "      <th>1</th>\n",
       "      <td>2021-12-27</td>\n",
       "      <td>28.75</td>\n",
       "      <td>2021</td>\n",
       "    </tr>\n",
       "    <tr>\n",
       "      <th>2</th>\n",
       "      <td>2021-12-28</td>\n",
       "      <td>28.78</td>\n",
       "      <td>2021</td>\n",
       "    </tr>\n",
       "    <tr>\n",
       "      <th>3</th>\n",
       "      <td>2021-12-29</td>\n",
       "      <td>28.54</td>\n",
       "      <td>2021</td>\n",
       "    </tr>\n",
       "    <tr>\n",
       "      <th>4</th>\n",
       "      <td>2021-12-30</td>\n",
       "      <td>28.45</td>\n",
       "      <td>2021</td>\n",
       "    </tr>\n",
       "  </tbody>\n",
       "</table>\n",
       "</div>"
      ],
      "text/plain": [
       "       index  preco_fechamento   ano\n",
       "0 2021-12-23             28.33  2021\n",
       "1 2021-12-27             28.75  2021\n",
       "2 2021-12-28             28.78  2021\n",
       "3 2021-12-29             28.54  2021\n",
       "4 2021-12-30             28.45  2021"
      ]
     },
     "execution_count": 58,
     "metadata": {},
     "output_type": "execute_result"
    }
   ],
   "source": [
    "df_petro_cls.tail().reset_index()"
   ]
  },
  {
   "cell_type": "code",
   "execution_count": 105,
   "id": "b0b047bf",
   "metadata": {
    "ExecuteTime": {
     "end_time": "2022-03-19T12:20:56.097822Z",
     "start_time": "2022-03-19T12:20:56.090939Z"
    }
   },
   "outputs": [
    {
     "data": {
      "text/plain": [
       "preco_fechamento    float64\n",
       "ano                   int64\n",
       "dtype: object"
      ]
     },
     "execution_count": 105,
     "metadata": {},
     "output_type": "execute_result"
    }
   ],
   "source": [
    "df_petro_cls.dtypes"
   ]
  },
  {
   "cell_type": "code",
   "execution_count": 77,
   "id": "330ff4fa-1157-40f1-8883-19d2ee707f0e",
   "metadata": {
    "ExecuteTime": {
     "end_time": "2022-03-19T12:04:27.963443Z",
     "start_time": "2022-03-19T12:04:27.494997Z"
    }
   },
   "outputs": [
    {
     "data": {
      "image/png": "[encoded data removed]",
      "text/plain": [
       "<Figure size 1152x576 with 1 Axes>"
      ]
     },
     "metadata": {
      "needs_background": "light"
     },
     "output_type": "display_data"
    }
   ],
   "source": [
    "# Plot the dataframe\n",
    "palette = sns.color_palette(\"mako_r\", 6)\n",
    "plt.figure(figsize=(16,8))\n",
    "plt.title('Price close')\n",
    "#plt.plot(df_petro_cls['preco_fechamento'])\n",
    "sns.lineplot(data=df_petro_cls, x=\"ano\", y=\"preco_fechamento\", palette=palette);\n",
    "plt.xlabel('date');"
   ]
  },
  {
   "cell_type": "code",
   "execution_count": 107,
   "id": "1e04b486",
   "metadata": {
    "ExecuteTime": {
     "end_time": "2022-03-19T12:21:46.030867Z",
     "start_time": "2022-03-19T12:21:46.016529Z"
    }
   },
   "outputs": [
    {
     "data": {
      "text/html": [
       "<div>\n",
       "<style scoped>\n",
       "    .dataframe tbody tr th:only-of-type {\n",
       "        vertical-align: middle;\n",
       "    }\n",
       "\n",
       "    .dataframe tbody tr th {\n",
       "        vertical-align: top;\n",
       "    }\n",
       "\n",
       "    .dataframe thead th {\n",
       "        text-align: right;\n",
       "    }\n",
       "</style>\n",
       "<table border=\"1\" class=\"dataframe\">\n",
       "  <thead>\n",
       "    <tr style=\"text-align: right;\">\n",
       "      <th></th>\n",
       "      <th>index</th>\n",
       "      <th>preco_fechamento</th>\n",
       "    </tr>\n",
       "  </thead>\n",
       "  <tbody>\n",
       "    <tr>\n",
       "      <th>0</th>\n",
       "      <td>2015-01-02</td>\n",
       "      <td>9.36</td>\n",
       "    </tr>\n",
       "    <tr>\n",
       "      <th>1</th>\n",
       "      <td>2015-01-05</td>\n",
       "      <td>8.61</td>\n",
       "    </tr>\n",
       "    <tr>\n",
       "      <th>2</th>\n",
       "      <td>2015-01-06</td>\n",
       "      <td>8.33</td>\n",
       "    </tr>\n",
       "    <tr>\n",
       "      <th>3</th>\n",
       "      <td>2015-01-07</td>\n",
       "      <td>8.67</td>\n",
       "    </tr>\n",
       "    <tr>\n",
       "      <th>4</th>\n",
       "      <td>2015-01-08</td>\n",
       "      <td>9.18</td>\n",
       "    </tr>\n",
       "    <tr>\n",
       "      <th>...</th>\n",
       "      <td>...</td>\n",
       "      <td>...</td>\n",
       "    </tr>\n",
       "    <tr>\n",
       "      <th>1725</th>\n",
       "      <td>2021-12-23</td>\n",
       "      <td>28.33</td>\n",
       "    </tr>\n",
       "    <tr>\n",
       "      <th>1726</th>\n",
       "      <td>2021-12-27</td>\n",
       "      <td>28.75</td>\n",
       "    </tr>\n",
       "    <tr>\n",
       "      <th>1727</th>\n",
       "      <td>2021-12-28</td>\n",
       "      <td>28.78</td>\n",
       "    </tr>\n",
       "    <tr>\n",
       "      <th>1728</th>\n",
       "      <td>2021-12-29</td>\n",
       "      <td>28.54</td>\n",
       "    </tr>\n",
       "    <tr>\n",
       "      <th>1729</th>\n",
       "      <td>2021-12-30</td>\n",
       "      <td>28.45</td>\n",
       "    </tr>\n",
       "  </tbody>\n",
       "</table>\n",
       "<p>1730 rows × 2 columns</p>\n",
       "</div>"
      ],
      "text/plain": [
       "          index  preco_fechamento\n",
       "0    2015-01-02              9.36\n",
       "1    2015-01-05              8.61\n",
       "2    2015-01-06              8.33\n",
       "3    2015-01-07              8.67\n",
       "4    2015-01-08              9.18\n",
       "...         ...               ...\n",
       "1725 2021-12-23             28.33\n",
       "1726 2021-12-27             28.75\n",
       "1727 2021-12-28             28.78\n",
       "1728 2021-12-29             28.54\n",
       "1729 2021-12-30             28.45\n",
       "\n",
       "[1730 rows x 2 columns]"
      ]
     },
     "execution_count": 107,
     "metadata": {},
     "output_type": "execute_result"
    }
   ],
   "source": [
    "df_petro_cls.drop('ano', axis=1).reset_index()"
   ]
  },
  {
   "cell_type": "markdown",
   "id": "e82df2b4",
   "metadata": {
    "jp-MarkdownHeadingCollapsed": true,
    "tags": []
   },
   "source": [
    "# Data Train and Test"
   ]
  },
  {
   "cell_type": "code",
   "execution_count": 108,
   "id": "44ff7037-fb28-4c0c-bd60-d7e832f55b18",
   "metadata": {
    "ExecuteTime": {
     "end_time": "2022-03-19T12:21:50.489808Z",
     "start_time": "2022-03-19T12:21:50.483578Z"
    }
   },
   "outputs": [
    {
     "data": {
      "text/plain": [
       "'Train = 0:1211 | Test = 1211:1730'"
      ]
     },
     "execution_count": 108,
     "metadata": {},
     "output_type": "execute_result"
    }
   ],
   "source": [
    "# Data analysis\n",
    "qtt_rows = len(df_petro_cls)\n",
    "\n",
    "r_train = round(.70*qtt_rows)\n",
    "\n",
    "r_test = qtt_rows - r_train\n",
    "\n",
    "info = (\n",
    "    f'Train = 0:{r_train} | '\n",
    "    f'Test = {r_train}:{r_train + r_test}'\n",
    "    )\n",
    "info"
   ]
  },
  {
   "cell_type": "markdown",
   "id": "6d8dcce3-ddea-48f6-8d1c-5c934cb64a3e",
   "metadata": {
    "jp-MarkdownHeadingCollapsed": true,
    "tags": []
   },
   "source": [
    "# Normalize and Reescale "
   ]
  },
  {
   "cell_type": "code",
   "execution_count": 109,
   "id": "63c653a3-5cf4-4e49-9b53-9620bc53eb64",
   "metadata": {
    "ExecuteTime": {
     "end_time": "2022-03-19T12:21:52.690434Z",
     "start_time": "2022-03-19T12:21:52.680812Z"
    }
   },
   "outputs": [],
   "source": [
    "# Normalizing\n",
    "std = StandardScaler()\n",
    "df_scaled = std.fit_transform(df_petro_cls)"
   ]
  },
  {
   "cell_type": "markdown",
   "id": "756bf286-d132-4f72-92a5-04531e7d2d84",
   "metadata": {
    "tags": []
   },
   "source": [
    "# Separating into Train and Test"
   ]
  },
  {
   "cell_type": "code",
   "execution_count": 110,
   "id": "d82ad1b2-1b40-43f3-9a7f-1aefb9a123da",
   "metadata": {
    "ExecuteTime": {
     "end_time": "2022-03-19T12:21:55.420876Z",
     "start_time": "2022-03-19T12:21:55.415910Z"
    }
   },
   "outputs": [
    {
     "name": "stdout",
     "output_type": "stream",
     "text": [
      "1730 519\n"
     ]
    }
   ],
   "source": [
    "train = df_scaled[:qtt_rows]\n",
    "\n",
    "test = df_scaled[r_train: r_train+r_test]\n",
    "\n",
    "print(len(train), len(test))"
   ]
  },
  {
   "cell_type": "code",
   "execution_count": 111,
   "id": "82b02e8f-3bbf-4565-b9dc-fabf0855f910",
   "metadata": {
    "ExecuteTime": {
     "end_time": "2022-03-19T12:21:56.310896Z",
     "start_time": "2022-03-19T12:21:56.304949Z"
    }
   },
   "outputs": [],
   "source": [
    "# Convert an array of values into a df matrix\n",
    "\n",
    "def create_df(df, steps=1):\n",
    "    dataX, dataY = [], []\n",
    "    for i in range(len(df)-steps-1):\n",
    "        a = df[i:(i+steps), 0]\n",
    "        dataX.append(a)\n",
    "        dataY.append(df[i+steps,0])\n",
    "    return np.array(dataX), np.array(dataY)\n",
    "\n",
    "# dexa os valores formatados no padrão que o LSTM espera para aprender"
   ]
  },
  {
   "cell_type": "code",
   "execution_count": 113,
   "id": "b1b6a5b1-b643-4957-b478-9a0325ac14d3",
   "metadata": {
    "ExecuteTime": {
     "end_time": "2022-03-19T12:23:54.462360Z",
     "start_time": "2022-03-19T12:23:54.449842Z"
    }
   },
   "outputs": [],
   "source": [
    "# gerando os dados de treino e teste\n",
    "\n",
    "steps = 15\n",
    "X_train, Y_train = create_df(train, steps)\n",
    "X_test, Y_test = create_df(test, steps)"
   ]
  },
  {
   "cell_type": "code",
   "execution_count": 114,
   "id": "f789e0e7-83a9-49ce-a037-1c49e5e360cb",
   "metadata": {
    "ExecuteTime": {
     "end_time": "2022-03-19T12:23:55.495484Z",
     "start_time": "2022-03-19T12:23:55.489802Z"
    }
   },
   "outputs": [
    {
     "name": "stdout",
     "output_type": "stream",
     "text": [
      "(1714, 15)\n",
      "(1714,)\n",
      "(503, 15)\n",
      "(503,)\n"
     ]
    }
   ],
   "source": [
    "print(X_train.shape)\n",
    "print(Y_train.shape)\n",
    "\n",
    "print(X_test.shape)\n",
    "print(Y_test.shape)\n"
   ]
  },
  {
   "cell_type": "code",
   "execution_count": 115,
   "id": "34b30629-8ade-4101-bb29-9776e29a1ff7",
   "metadata": {
    "ExecuteTime": {
     "end_time": "2022-03-19T12:23:56.618668Z",
     "start_time": "2022-03-19T12:23:56.613844Z"
    }
   },
   "outputs": [],
   "source": [
    "# Gerando os dados no formato que o modelo espera\n",
    "X_train = X_train.reshape(X_train.shape[0], X_train.shape[1], 1)\n",
    "# X_train.shape[0] → 1714 linhas de treino | X_train.shape[1] → 15 dias de treino\n",
    "X_test = X_test.reshape(X_test.shape[0], X_test.shape[1], 1)"
   ]
  },
  {
   "cell_type": "code",
   "execution_count": 116,
   "id": "a89b3173-284f-4e89-99c3-c5e3cd344bf3",
   "metadata": {
    "ExecuteTime": {
     "end_time": "2022-03-19T12:23:59.498616Z",
     "start_time": "2022-03-19T12:23:57.972202Z"
    }
   },
   "outputs": [],
   "source": [
    "# Camadas da Rede Neural\n",
    "model = Sequential()\n",
    "model.add(LSTM(35, return_sequences=True, input_shape=(steps,1))) #1ª camada\n",
    "#LSTM(35) → qtt de neuronios usados | input_shape=(steps,1) → qtt de dias a ser previsto e retornado\n",
    "model.add(LSTM(35, return_sequences=True)) #2ª camada\n",
    "model.add(LSTM(35)) #3ª camada\n",
    "model.add(Dropout(0.2)) \n",
    "#Dropout evita o overfit do treinamento\n",
    "model.add(Dense(1)) #retonrnando um unico resultado\n"
   ]
  },
  {
   "cell_type": "code",
   "execution_count": 117,
   "id": "17d07abe-97eb-4f69-b0b6-089f4dbb1203",
   "metadata": {
    "ExecuteTime": {
     "end_time": "2022-03-19T12:23:59.514651Z",
     "start_time": "2022-03-19T12:23:59.501008Z"
    }
   },
   "outputs": [
    {
     "name": "stdout",
     "output_type": "stream",
     "text": [
      "Model: \"sequential_3\"\n",
      "_________________________________________________________________\n",
      " Layer (type)                Output Shape              Param #   \n",
      "=================================================================\n",
      " lstm_9 (LSTM)               (None, 15, 35)            5180      \n",
      "                                                                 \n",
      " lstm_10 (LSTM)              (None, 15, 35)            9940      \n",
      "                                                                 \n",
      " lstm_11 (LSTM)              (None, 35)                9940      \n",
      "                                                                 \n",
      " dropout_3 (Dropout)         (None, 35)                0         \n",
      "                                                                 \n",
      " dense_3 (Dense)             (None, 1)                 36        \n",
      "                                                                 \n",
      "=================================================================\n",
      "Total params: 25,096\n",
      "Trainable params: 25,096\n",
      "Non-trainable params: 0\n",
      "_________________________________________________________________\n"
     ]
    }
   ],
   "source": [
    "model.compile(optimizer='adam', loss='mse')\n",
    "model.summary()"
   ]
  },
  {
   "cell_type": "code",
   "execution_count": 118,
   "id": "a8901871-7308-4876-87a6-55221ec2bc8f",
   "metadata": {
    "ExecuteTime": {
     "end_time": "2022-03-19T12:27:57.415734Z",
     "start_time": "2022-03-19T12:24:00.409819Z"
    },
    "scrolled": true,
    "tags": []
   },
   "outputs": [
    {
     "name": "stdout",
     "output_type": "stream",
     "text": [
      "Epoch 1/100\n",
      "115/115 - 8s - loss: 0.1277 - val_loss: 0.0805 - 8s/epoch - 68ms/step\n",
      "Epoch 2/100\n",
      "115/115 - 2s - loss: 0.0530 - val_loss: 0.0604 - 2s/epoch - 20ms/step\n",
      "Epoch 3/100\n",
      "115/115 - 2s - loss: 0.0458 - val_loss: 0.0496 - 2s/epoch - 20ms/step\n",
      "Epoch 4/100\n",
      "115/115 - 2s - loss: 0.0370 - val_loss: 0.0489 - 2s/epoch - 19ms/step\n",
      "Epoch 5/100\n",
      "115/115 - 2s - loss: 0.0341 - val_loss: 0.0465 - 2s/epoch - 20ms/step\n",
      "Epoch 6/100\n",
      "115/115 - 2s - loss: 0.0341 - val_loss: 0.0365 - 2s/epoch - 20ms/step\n",
      "Epoch 7/100\n",
      "115/115 - 2s - loss: 0.0311 - val_loss: 0.0387 - 2s/epoch - 20ms/step\n",
      "Epoch 8/100\n",
      "115/115 - 2s - loss: 0.0308 - val_loss: 0.0350 - 2s/epoch - 20ms/step\n",
      "Epoch 9/100\n",
      "115/115 - 2s - loss: 0.0307 - val_loss: 0.0369 - 2s/epoch - 19ms/step\n",
      "Epoch 10/100\n",
      "115/115 - 2s - loss: 0.0288 - val_loss: 0.0343 - 2s/epoch - 20ms/step\n",
      "Epoch 11/100\n",
      "115/115 - 2s - loss: 0.0270 - val_loss: 0.0332 - 2s/epoch - 22ms/step\n",
      "Epoch 12/100\n",
      "115/115 - 2s - loss: 0.0260 - val_loss: 0.0331 - 2s/epoch - 20ms/step\n",
      "Epoch 13/100\n",
      "115/115 - 2s - loss: 0.0239 - val_loss: 0.0330 - 2s/epoch - 20ms/step\n",
      "Epoch 14/100\n",
      "115/115 - 2s - loss: 0.0257 - val_loss: 0.0334 - 2s/epoch - 20ms/step\n",
      "Epoch 15/100\n",
      "115/115 - 2s - loss: 0.0242 - val_loss: 0.0383 - 2s/epoch - 20ms/step\n",
      "Epoch 16/100\n",
      "115/115 - 2s - loss: 0.0245 - val_loss: 0.0318 - 2s/epoch - 21ms/step\n",
      "Epoch 17/100\n",
      "115/115 - 2s - loss: 0.0250 - val_loss: 0.0307 - 2s/epoch - 20ms/step\n",
      "Epoch 18/100\n",
      "115/115 - 2s - loss: 0.0227 - val_loss: 0.0352 - 2s/epoch - 20ms/step\n",
      "Epoch 19/100\n",
      "115/115 - 2s - loss: 0.0227 - val_loss: 0.0326 - 2s/epoch - 20ms/step\n",
      "Epoch 20/100\n",
      "115/115 - 2s - loss: 0.0233 - val_loss: 0.0347 - 2s/epoch - 20ms/step\n",
      "Epoch 21/100\n",
      "115/115 - 2s - loss: 0.0237 - val_loss: 0.0321 - 2s/epoch - 21ms/step\n",
      "Epoch 22/100\n",
      "115/115 - 2s - loss: 0.0225 - val_loss: 0.0323 - 2s/epoch - 21ms/step\n",
      "Epoch 23/100\n",
      "115/115 - 2s - loss: 0.0221 - val_loss: 0.0301 - 2s/epoch - 20ms/step\n",
      "Epoch 24/100\n",
      "115/115 - 2s - loss: 0.0236 - val_loss: 0.0329 - 2s/epoch - 20ms/step\n",
      "Epoch 25/100\n",
      "115/115 - 2s - loss: 0.0221 - val_loss: 0.0307 - 2s/epoch - 20ms/step\n",
      "Epoch 26/100\n",
      "115/115 - 2s - loss: 0.0230 - val_loss: 0.0300 - 2s/epoch - 20ms/step\n",
      "Epoch 27/100\n",
      "115/115 - 2s - loss: 0.0219 - val_loss: 0.0328 - 2s/epoch - 19ms/step\n",
      "Epoch 28/100\n",
      "115/115 - 2s - loss: 0.0209 - val_loss: 0.0304 - 2s/epoch - 20ms/step\n",
      "Epoch 29/100\n",
      "115/115 - 2s - loss: 0.0210 - val_loss: 0.0300 - 2s/epoch - 20ms/step\n",
      "Epoch 30/100\n",
      "115/115 - 2s - loss: 0.0217 - val_loss: 0.0298 - 2s/epoch - 20ms/step\n",
      "Epoch 31/100\n",
      "115/115 - 2s - loss: 0.0224 - val_loss: 0.0304 - 2s/epoch - 20ms/step\n",
      "Epoch 32/100\n",
      "115/115 - 2s - loss: 0.0229 - val_loss: 0.0299 - 2s/epoch - 20ms/step\n",
      "Epoch 33/100\n",
      "115/115 - 2s - loss: 0.0210 - val_loss: 0.0295 - 2s/epoch - 20ms/step\n",
      "Epoch 34/100\n",
      "115/115 - 2s - loss: 0.0209 - val_loss: 0.0296 - 2s/epoch - 20ms/step\n",
      "Epoch 35/100\n",
      "115/115 - 2s - loss: 0.0220 - val_loss: 0.0306 - 2s/epoch - 20ms/step\n",
      "Epoch 36/100\n",
      "115/115 - 2s - loss: 0.0222 - val_loss: 0.0356 - 2s/epoch - 20ms/step\n",
      "Epoch 37/100\n",
      "115/115 - 2s - loss: 0.0209 - val_loss: 0.0318 - 2s/epoch - 20ms/step\n",
      "Epoch 38/100\n",
      "115/115 - 2s - loss: 0.0221 - val_loss: 0.0296 - 2s/epoch - 20ms/step\n",
      "Epoch 39/100\n",
      "115/115 - 2s - loss: 0.0215 - val_loss: 0.0322 - 2s/epoch - 20ms/step\n",
      "Epoch 40/100\n",
      "115/115 - 2s - loss: 0.0224 - val_loss: 0.0295 - 2s/epoch - 20ms/step\n",
      "Epoch 41/100\n",
      "115/115 - 2s - loss: 0.0203 - val_loss: 0.0327 - 2s/epoch - 20ms/step\n",
      "Epoch 42/100\n",
      "115/115 - 2s - loss: 0.0210 - val_loss: 0.0314 - 2s/epoch - 20ms/step\n",
      "Epoch 43/100\n",
      "115/115 - 2s - loss: 0.0214 - val_loss: 0.0296 - 2s/epoch - 20ms/step\n",
      "Epoch 44/100\n",
      "115/115 - 2s - loss: 0.0230 - val_loss: 0.0316 - 2s/epoch - 20ms/step\n",
      "Epoch 45/100\n",
      "115/115 - 2s - loss: 0.0201 - val_loss: 0.0293 - 2s/epoch - 20ms/step\n",
      "Epoch 46/100\n",
      "115/115 - 2s - loss: 0.0219 - val_loss: 0.0292 - 2s/epoch - 20ms/step\n",
      "Epoch 47/100\n",
      "115/115 - 2s - loss: 0.0203 - val_loss: 0.0297 - 2s/epoch - 20ms/step\n",
      "Epoch 48/100\n",
      "115/115 - 2s - loss: 0.0204 - val_loss: 0.0296 - 2s/epoch - 20ms/step\n",
      "Epoch 49/100\n",
      "115/115 - 2s - loss: 0.0208 - val_loss: 0.0328 - 2s/epoch - 20ms/step\n",
      "Epoch 50/100\n",
      "115/115 - 2s - loss: 0.0207 - val_loss: 0.0297 - 2s/epoch - 20ms/step\n",
      "Epoch 51/100\n",
      "115/115 - 2s - loss: 0.0207 - val_loss: 0.0300 - 2s/epoch - 20ms/step\n",
      "Epoch 52/100\n",
      "115/115 - 2s - loss: 0.0201 - val_loss: 0.0295 - 2s/epoch - 20ms/step\n",
      "Epoch 53/100\n",
      "115/115 - 2s - loss: 0.0195 - val_loss: 0.0333 - 2s/epoch - 20ms/step\n",
      "Epoch 54/100\n",
      "115/115 - 2s - loss: 0.0208 - val_loss: 0.0334 - 2s/epoch - 20ms/step\n",
      "Epoch 55/100\n",
      "115/115 - 2s - loss: 0.0214 - val_loss: 0.0299 - 2s/epoch - 20ms/step\n",
      "Epoch 56/100\n",
      "115/115 - 2s - loss: 0.0220 - val_loss: 0.0291 - 2s/epoch - 20ms/step\n",
      "Epoch 57/100\n",
      "115/115 - 2s - loss: 0.0195 - val_loss: 0.0290 - 2s/epoch - 20ms/step\n",
      "Epoch 58/100\n",
      "115/115 - 2s - loss: 0.0208 - val_loss: 0.0351 - 2s/epoch - 20ms/step\n",
      "Epoch 59/100\n",
      "115/115 - 2s - loss: 0.0222 - val_loss: 0.0290 - 2s/epoch - 20ms/step\n",
      "Epoch 60/100\n",
      "115/115 - 2s - loss: 0.0211 - val_loss: 0.0290 - 2s/epoch - 20ms/step\n",
      "Epoch 61/100\n",
      "115/115 - 2s - loss: 0.0203 - val_loss: 0.0314 - 2s/epoch - 20ms/step\n",
      "Epoch 62/100\n",
      "115/115 - 2s - loss: 0.0213 - val_loss: 0.0307 - 2s/epoch - 20ms/step\n",
      "Epoch 63/100\n",
      "115/115 - 2s - loss: 0.0205 - val_loss: 0.0288 - 2s/epoch - 20ms/step\n",
      "Epoch 64/100\n",
      "115/115 - 2s - loss: 0.0216 - val_loss: 0.0295 - 2s/epoch - 20ms/step\n",
      "Epoch 65/100\n",
      "115/115 - 2s - loss: 0.0204 - val_loss: 0.0291 - 2s/epoch - 20ms/step\n",
      "Epoch 66/100\n",
      "115/115 - 2s - loss: 0.0200 - val_loss: 0.0298 - 2s/epoch - 20ms/step\n",
      "Epoch 67/100\n",
      "115/115 - 2s - loss: 0.0205 - val_loss: 0.0297 - 2s/epoch - 20ms/step\n",
      "Epoch 68/100\n",
      "115/115 - 2s - loss: 0.0199 - val_loss: 0.0345 - 2s/epoch - 20ms/step\n",
      "Epoch 69/100\n",
      "115/115 - 2s - loss: 0.0200 - val_loss: 0.0301 - 2s/epoch - 20ms/step\n",
      "Epoch 70/100\n",
      "115/115 - 2s - loss: 0.0192 - val_loss: 0.0299 - 2s/epoch - 20ms/step\n",
      "Epoch 71/100\n",
      "115/115 - 2s - loss: 0.0194 - val_loss: 0.0288 - 2s/epoch - 20ms/step\n",
      "Epoch 72/100\n",
      "115/115 - 2s - loss: 0.0207 - val_loss: 0.0324 - 2s/epoch - 20ms/step\n",
      "Epoch 73/100\n",
      "115/115 - 2s - loss: 0.0207 - val_loss: 0.0294 - 2s/epoch - 20ms/step\n",
      "Epoch 74/100\n",
      "115/115 - 2s - loss: 0.0195 - val_loss: 0.0296 - 2s/epoch - 20ms/step\n",
      "Epoch 75/100\n",
      "115/115 - 2s - loss: 0.0221 - val_loss: 0.0321 - 2s/epoch - 20ms/step\n",
      "Epoch 76/100\n",
      "115/115 - 2s - loss: 0.0209 - val_loss: 0.0298 - 2s/epoch - 20ms/step\n",
      "Epoch 77/100\n",
      "115/115 - 2s - loss: 0.0203 - val_loss: 0.0290 - 2s/epoch - 20ms/step\n",
      "Epoch 78/100\n",
      "115/115 - 2s - loss: 0.0205 - val_loss: 0.0306 - 2s/epoch - 20ms/step\n",
      "Epoch 79/100\n",
      "115/115 - 2s - loss: 0.0204 - val_loss: 0.0287 - 2s/epoch - 20ms/step\n",
      "Epoch 80/100\n",
      "115/115 - 2s - loss: 0.0205 - val_loss: 0.0293 - 2s/epoch - 20ms/step\n",
      "Epoch 81/100\n",
      "115/115 - 2s - loss: 0.0197 - val_loss: 0.0288 - 2s/epoch - 20ms/step\n",
      "Epoch 82/100\n",
      "115/115 - 2s - loss: 0.0199 - val_loss: 0.0293 - 2s/epoch - 20ms/step\n",
      "Epoch 83/100\n",
      "115/115 - 2s - loss: 0.0201 - val_loss: 0.0293 - 2s/epoch - 20ms/step\n",
      "Epoch 84/100\n",
      "115/115 - 2s - loss: 0.0199 - val_loss: 0.0291 - 2s/epoch - 20ms/step\n",
      "Epoch 85/100\n",
      "115/115 - 2s - loss: 0.0217 - val_loss: 0.0312 - 2s/epoch - 20ms/step\n",
      "Epoch 86/100\n",
      "115/115 - 2s - loss: 0.0200 - val_loss: 0.0288 - 2s/epoch - 20ms/step\n",
      "Epoch 87/100\n",
      "115/115 - 2s - loss: 0.0205 - val_loss: 0.0287 - 2s/epoch - 20ms/step\n",
      "Epoch 88/100\n",
      "115/115 - 2s - loss: 0.0190 - val_loss: 0.0288 - 2s/epoch - 20ms/step\n",
      "Epoch 89/100\n",
      "115/115 - 2s - loss: 0.0200 - val_loss: 0.0286 - 2s/epoch - 21ms/step\n",
      "Epoch 90/100\n",
      "115/115 - 2s - loss: 0.0206 - val_loss: 0.0295 - 2s/epoch - 21ms/step\n",
      "Epoch 91/100\n",
      "115/115 - 2s - loss: 0.0195 - val_loss: 0.0308 - 2s/epoch - 21ms/step\n",
      "Epoch 92/100\n",
      "115/115 - 2s - loss: 0.0197 - val_loss: 0.0293 - 2s/epoch - 21ms/step\n",
      "Epoch 93/100\n",
      "115/115 - 2s - loss: 0.0209 - val_loss: 0.0291 - 2s/epoch - 21ms/step\n",
      "Epoch 94/100\n",
      "115/115 - 2s - loss: 0.0189 - val_loss: 0.0309 - 2s/epoch - 21ms/step\n",
      "Epoch 95/100\n",
      "115/115 - 2s - loss: 0.0210 - val_loss: 0.0293 - 2s/epoch - 20ms/step\n",
      "Epoch 96/100\n",
      "115/115 - 2s - loss: 0.0199 - val_loss: 0.0302 - 2s/epoch - 21ms/step\n",
      "Epoch 97/100\n",
      "115/115 - 2s - loss: 0.0210 - val_loss: 0.0287 - 2s/epoch - 21ms/step\n",
      "Epoch 98/100\n",
      "115/115 - 2s - loss: 0.0193 - val_loss: 0.0301 - 2s/epoch - 21ms/step\n",
      "Epoch 99/100\n",
      "115/115 - 2s - loss: 0.0186 - val_loss: 0.0318 - 2s/epoch - 21ms/step\n"
     ]
    },
    {
     "name": "stdout",
     "output_type": "stream",
     "text": [
      "Epoch 100/100\n",
      "115/115 - 2s - loss: 0.0214 - val_loss: 0.0332 - 2s/epoch - 21ms/step\n"
     ]
    }
   ],
   "source": [
    "# treinamento do modelo\n",
    "validation = model.fit(X_train, Y_train, validation_data=(X_test, Y_test), epochs=100, batch_size=15, verbose=2)"
   ]
  },
  {
   "cell_type": "code",
   "execution_count": 119,
   "id": "8b820885-4e80-449d-b34a-8f201ee1e24f",
   "metadata": {
    "ExecuteTime": {
     "end_time": "2022-03-19T14:15:39.370234Z",
     "start_time": "2022-03-19T14:15:39.263846Z"
    }
   },
   "outputs": [
    {
     "data": {
      "image/png": "[encoded data removed]",
      "text/plain": [
       "<Figure size 432x288 with 1 Axes>"
      ]
     },
     "metadata": {
      "needs_background": "light"
     },
     "output_type": "display_data"
    }
   ],
   "source": [
    "plt.plot(validation.history['loss'], label='Training loss')\n",
    "plt.plot(validation.history['val_loss'], label='Validation loss')\n",
    "plt.legend();"
   ]
  },
  {
   "cell_type": "code",
   "execution_count": 120,
   "id": "6f48bbd7",
   "metadata": {
    "ExecuteTime": {
     "end_time": "2022-03-19T14:15:42.177079Z",
     "start_time": "2022-03-19T14:15:41.396961Z"
    }
   },
   "outputs": [
    {
     "ename": "ValueError",
     "evalue": "non-broadcastable output operand with shape (503,1) doesn't match the broadcast shape (503,2)",
     "output_type": "error",
     "traceback": [
      "\u001b[0;31m---------------------------------------------------------------------------\u001b[0m",
      "\u001b[0;31mValueError\u001b[0m                                Traceback (most recent call last)",
      "Input \u001b[0;32mIn [120]\u001b[0m, in \u001b[0;36m<module>\u001b[0;34m\u001b[0m\n\u001b[1;32m      1\u001b[0m \u001b[38;5;66m# Prediction\u001b[39m\n\u001b[1;32m      2\u001b[0m prev \u001b[38;5;241m=\u001b[39m model\u001b[38;5;241m.\u001b[39mpredict(X_test)\n\u001b[0;32m----> 3\u001b[0m prev \u001b[38;5;241m=\u001b[39m \u001b[43mstd\u001b[49m\u001b[38;5;241;43m.\u001b[39;49m\u001b[43minverse_transform\u001b[49m\u001b[43m(\u001b[49m\u001b[43mprev\u001b[49m\u001b[43m)\u001b[49m\n\u001b[1;32m      4\u001b[0m prev\n",
      "File \u001b[0;32m~/.local/lib/python3.8/site-packages/sklearn/preprocessing/_data.py:1035\u001b[0m, in \u001b[0;36mStandardScaler.inverse_transform\u001b[0;34m(self, X, copy)\u001b[0m\n\u001b[1;32m   1033\u001b[0m \u001b[38;5;28;01melse\u001b[39;00m:\n\u001b[1;32m   1034\u001b[0m     \u001b[38;5;28;01mif\u001b[39;00m \u001b[38;5;28mself\u001b[39m\u001b[38;5;241m.\u001b[39mwith_std:\n\u001b[0;32m-> 1035\u001b[0m         X \u001b[38;5;241m*\u001b[39m\u001b[38;5;241m=\u001b[39m \u001b[38;5;28mself\u001b[39m\u001b[38;5;241m.\u001b[39mscale_\n\u001b[1;32m   1036\u001b[0m     \u001b[38;5;28;01mif\u001b[39;00m \u001b[38;5;28mself\u001b[39m\u001b[38;5;241m.\u001b[39mwith_mean:\n\u001b[1;32m   1037\u001b[0m         X \u001b[38;5;241m+\u001b[39m\u001b[38;5;241m=\u001b[39m \u001b[38;5;28mself\u001b[39m\u001b[38;5;241m.\u001b[39mmean_\n",
      "\u001b[0;31mValueError\u001b[0m: non-broadcastable output operand with shape (503,1) doesn't match the broadcast shape (503,2)"
     ]
    }
   ],
   "source": [
    "# Prediction\n",
    "prev = model.predict(X_test)\n",
    "prev = std.inverse_transform(prev)\n",
    "prev"
   ]
  },
  {
   "cell_type": "code",
   "execution_count": 83,
   "id": "65a03d6d-52f5-4782-8179-0342e3a61f6d",
   "metadata": {
    "ExecuteTime": {
     "end_time": "2022-03-19T12:05:39.749481Z",
     "start_time": "2022-03-19T12:05:39.744175Z"
    }
   },
   "outputs": [
    {
     "data": {
      "text/plain": [
       "519"
      ]
     },
     "execution_count": 83,
     "metadata": {},
     "output_type": "execute_result"
    }
   ],
   "source": [
    "# Predict the next 10 days\n",
    "lenght_test = len(test)\n",
    "lenght_test"
   ]
  },
  {
   "cell_type": "code",
   "execution_count": 84,
   "id": "fad1bdda-522f-44a6-8b79-b13151cb055c",
   "metadata": {
    "ExecuteTime": {
     "end_time": "2022-03-19T12:05:43.232054Z",
     "start_time": "2022-03-19T12:05:43.226723Z"
    }
   },
   "outputs": [
    {
     "data": {
      "text/plain": [
       "504"
      ]
     },
     "execution_count": 84,
     "metadata": {},
     "output_type": "execute_result"
    }
   ],
   "source": [
    "# Get the last days to step\n",
    "days_input_steps =lenght_test - steps\n",
    "days_input_steps"
   ]
  },
  {
   "cell_type": "code",
   "execution_count": 86,
   "id": "be0170bc-40b7-4f05-a586-7471c1278956",
   "metadata": {
    "ExecuteTime": {
     "end_time": "2022-03-19T12:06:04.418641Z",
     "start_time": "2022-03-19T12:06:04.411719Z"
    }
   },
   "outputs": [
    {
     "data": {
      "text/plain": [
       "array([[1.41048896, 1.49823175, 1.4595649 , 1.49823175, 1.43502693,\n",
       "        1.49823175, 1.3873142 , 1.49823175, 1.41185218, 1.49823175,\n",
       "        1.46501778, 1.49823175, 1.36959234, 1.49823175, 1.25644502,\n",
       "        1.49823175, 1.2618979 , 1.49823175, 1.25644502, 1.49823175,\n",
       "        1.27961977, 1.49823175, 1.33687504, 1.49823175, 1.3409647 ,\n",
       "        1.49823175, 1.30824741, 1.49823175, 1.29597842, 1.49823175]])"
      ]
     },
     "execution_count": 86,
     "metadata": {},
     "output_type": "execute_result"
    }
   ],
   "source": [
    "# Transform in array\n",
    "input_steps = test[days_input_steps:]\n",
    "input_steps = np.array(input_steps).reshape(1, -1)\n",
    "input_steps"
   ]
  },
  {
   "cell_type": "code",
   "execution_count": 87,
   "id": "d64943bc-8518-4f26-ab1a-47a3b0544cd6",
   "metadata": {
    "ExecuteTime": {
     "end_time": "2022-03-19T12:06:06.695808Z",
     "start_time": "2022-03-19T12:06:06.687340Z"
    }
   },
   "outputs": [
    {
     "data": {
      "text/plain": [
       "[1.4104889554776525,\n",
       " 1.4982317512897516,\n",
       " 1.459564899170591,\n",
       " 1.4982317512897516,\n",
       " 1.4350269273241218,\n",
       " 1.4982317512897516,\n",
       " 1.3873142042893207,\n",
       " 1.4982317512897516,\n",
       " 1.4118521761357898,\n",
       " 1.4982317512897516,\n",
       " 1.46501778180314,\n",
       " 1.4982317512897516,\n",
       " 1.3695923357335371,\n",
       " 1.4982317512897516,\n",
       " 1.2564450211081513,\n",
       " 1.4982317512897516,\n",
       " 1.2618979037406999,\n",
       " 1.4982317512897516,\n",
       " 1.2564450211081513,\n",
       " 1.4982317512897516,\n",
       " 1.279619772296483,\n",
       " 1.4982317512897516,\n",
       " 1.336875039938245,\n",
       " 1.4982317512897516,\n",
       " 1.3409647019126567,\n",
       " 1.4982317512897516,\n",
       " 1.3082474061173641,\n",
       " 1.4982317512897516,\n",
       " 1.2959784201941293,\n",
       " 1.4982317512897516]"
      ]
     },
     "execution_count": 87,
     "metadata": {},
     "output_type": "execute_result"
    }
   ],
   "source": [
    "# Return in list\n",
    "list_output_steps = list(input_steps)\n",
    "list_output_steps = list_output_steps[0].tolist()\n",
    "list_output_steps"
   ]
  },
  {
   "cell_type": "code",
   "execution_count": 88,
   "id": "9cf6a4e6-6802-4ef7-9b8d-ac14c832d2b3",
   "metadata": {
    "ExecuteTime": {
     "end_time": "2022-03-19T12:06:09.051889Z",
     "start_time": "2022-03-19T12:06:09.015260Z"
    }
   },
   "outputs": [
    {
     "name": "stdout",
     "output_type": "stream",
     "text": [
      "Day 0. Value Entrance → [1.49823175 1.4595649  1.49823175 1.43502693 1.49823175 1.3873142\n",
      " 1.49823175 1.41185218 1.49823175 1.46501778 1.49823175 1.36959234\n",
      " 1.49823175 1.25644502 1.49823175 1.2618979  1.49823175 1.25644502\n",
      " 1.49823175 1.27961977 1.49823175 1.33687504 1.49823175 1.3409647\n",
      " 1.49823175 1.30824741 1.49823175 1.29597842 1.49823175]\n"
     ]
    },
    {
     "ename": "ValueError",
     "evalue": "cannot reshape array of size 29 into shape (1,15,1)",
     "output_type": "error",
     "traceback": [
      "\u001b[0;31m---------------------------------------------------------------------------\u001b[0m",
      "\u001b[0;31mValueError\u001b[0m                                Traceback (most recent call last)",
      "Input \u001b[0;32mIn [88]\u001b[0m, in \u001b[0;36m<module>\u001b[0;34m\u001b[0m\n\u001b[1;32m      8\u001b[0m \u001b[38;5;28mprint\u001b[39m(\u001b[38;5;124m'\u001b[39m\u001b[38;5;124mDay \u001b[39m\u001b[38;5;132;01m{}\u001b[39;00m\u001b[38;5;124m. Value Entrance → \u001b[39m\u001b[38;5;132;01m{}\u001b[39;00m\u001b[38;5;124m'\u001b[39m\u001b[38;5;241m.\u001b[39mformat(i, input_steps))\n\u001b[1;32m      9\u001b[0m input_steps \u001b[38;5;241m=\u001b[39m input_steps\u001b[38;5;241m.\u001b[39mreshape(\u001b[38;5;241m1\u001b[39m, \u001b[38;5;241m-\u001b[39m\u001b[38;5;241m1\u001b[39m)\n\u001b[0;32m---> 10\u001b[0m input_steps \u001b[38;5;241m=\u001b[39m \u001b[43minput_steps\u001b[49m\u001b[38;5;241;43m.\u001b[39;49m\u001b[43mreshape\u001b[49m\u001b[43m(\u001b[49m\u001b[43m(\u001b[49m\u001b[38;5;241;43m1\u001b[39;49m\u001b[43m,\u001b[49m\u001b[43m \u001b[49m\u001b[43msteps\u001b[49m\u001b[43m,\u001b[49m\u001b[43m \u001b[49m\u001b[38;5;241;43m1\u001b[39;49m\u001b[43m)\u001b[49m\u001b[43m)\u001b[49m\n\u001b[1;32m     11\u001b[0m \u001b[38;5;66m#print(input_steps)\u001b[39m\n\u001b[1;32m     12\u001b[0m pred \u001b[38;5;241m=\u001b[39m model\u001b[38;5;241m.\u001b[39mpredict(input_steps, verbose\u001b[38;5;241m=\u001b[39m\u001b[38;5;241m0\u001b[39m)\n",
      "\u001b[0;31mValueError\u001b[0m: cannot reshape array of size 29 into shape (1,15,1)"
     ]
    }
   ],
   "source": [
    "#Loop to preview the next 10 days\n",
    "pred_output = [] #→ recebe os dias a serem previstos\n",
    "i = 0\n",
    "n_future = 10\n",
    "while(i<n_future):\n",
    "    if(len(list_output_steps) > steps):\n",
    "       input_steps = np.array(list_output_steps[1:])\n",
    "       print('Day {}. Value Entrance → {}'.format(i, input_steps))\n",
    "       input_steps = input_steps.reshape(1, -1)\n",
    "       input_steps = input_steps.reshape((1, steps, 1))\n",
    "       #print(input_steps)\n",
    "       pred = model.predict(input_steps, verbose=0)\n",
    "       print('Day {}. Value Predict → {}'.format(i, pred))\n",
    "       list_output_steps.extend(pred[0].tolist())\n",
    "       list_output_steps = list_output_steps[1:]\n",
    "       #print(list_output_steps)\n",
    "       pred_output.extend(pred.tolist())\n",
    "       i = i+1\n",
    "       \n",
    "    else:\n",
    "       input_steps = input_steps.reshape((1, steps, 1))\n",
    "       pred= model.predict(input_steps, verbose=0)\n",
    "       print(pred[0])\n",
    "       list_output_steps.extend(pred[0].tolist())\n",
    "       print(len(list_output_steps))\n",
    "       pred_output.extend(pred.tolist())\n",
    "       i = i+1\n",
    "       \n",
    "print(pred_output)\n",
    "       \n",
    "       "
   ]
  },
  {
   "cell_type": "code",
   "execution_count": 89,
   "id": "e9a09e87-5461-467a-829c-3f89e35580ad",
   "metadata": {
    "ExecuteTime": {
     "end_time": "2022-03-19T12:06:19.082533Z",
     "start_time": "2022-03-19T12:06:18.854322Z"
    }
   },
   "outputs": [
    {
     "ename": "ValueError",
     "evalue": "Expected 2D array, got 1D array instead:\narray=[].\nReshape your data either using array.reshape(-1, 1) if your data has a single feature or array.reshape(1, -1) if it contains a single sample.",
     "output_type": "error",
     "traceback": [
      "\u001b[0;31m---------------------------------------------------------------------------\u001b[0m",
      "\u001b[0;31mValueError\u001b[0m                                Traceback (most recent call last)",
      "Input \u001b[0;32mIn [89]\u001b[0m, in \u001b[0;36m<module>\u001b[0;34m\u001b[0m\n\u001b[1;32m      1\u001b[0m \u001b[38;5;66m# transform exit\u001b[39m\n\u001b[0;32m----> 2\u001b[0m prev \u001b[38;5;241m=\u001b[39m \u001b[43mstd\u001b[49m\u001b[38;5;241;43m.\u001b[39;49m\u001b[43minverse_transform\u001b[49m\u001b[43m(\u001b[49m\u001b[43mpred_output\u001b[49m\u001b[43m)\u001b[49m\n\u001b[1;32m      3\u001b[0m prev \u001b[38;5;241m=\u001b[39m np\u001b[38;5;241m.\u001b[39marray(prev)\u001b[38;5;241m.\u001b[39mreshape(\u001b[38;5;241m1\u001b[39m, \u001b[38;5;241m-\u001b[39m\u001b[38;5;241m1\u001b[39m)\n\u001b[1;32m      4\u001b[0m list_output_prev \u001b[38;5;241m=\u001b[39m \u001b[38;5;28mlist\u001b[39m(prev)\n",
      "File \u001b[0;32m~/.local/lib/python3.8/site-packages/sklearn/preprocessing/_data.py:1016\u001b[0m, in \u001b[0;36mStandardScaler.inverse_transform\u001b[0;34m(self, X, copy)\u001b[0m\n\u001b[1;32m   1013\u001b[0m check_is_fitted(\u001b[38;5;28mself\u001b[39m)\n\u001b[1;32m   1015\u001b[0m copy \u001b[38;5;241m=\u001b[39m copy \u001b[38;5;28;01mif\u001b[39;00m copy \u001b[38;5;129;01mis\u001b[39;00m \u001b[38;5;129;01mnot\u001b[39;00m \u001b[38;5;28;01mNone\u001b[39;00m \u001b[38;5;28;01melse\u001b[39;00m \u001b[38;5;28mself\u001b[39m\u001b[38;5;241m.\u001b[39mcopy\n\u001b[0;32m-> 1016\u001b[0m X \u001b[38;5;241m=\u001b[39m \u001b[43mcheck_array\u001b[49m\u001b[43m(\u001b[49m\n\u001b[1;32m   1017\u001b[0m \u001b[43m    \u001b[49m\u001b[43mX\u001b[49m\u001b[43m,\u001b[49m\n\u001b[1;32m   1018\u001b[0m \u001b[43m    \u001b[49m\u001b[43maccept_sparse\u001b[49m\u001b[38;5;241;43m=\u001b[39;49m\u001b[38;5;124;43m\"\u001b[39;49m\u001b[38;5;124;43mcsr\u001b[39;49m\u001b[38;5;124;43m\"\u001b[39;49m\u001b[43m,\u001b[49m\n\u001b[1;32m   1019\u001b[0m \u001b[43m    \u001b[49m\u001b[43mcopy\u001b[49m\u001b[38;5;241;43m=\u001b[39;49m\u001b[43mcopy\u001b[49m\u001b[43m,\u001b[49m\n\u001b[1;32m   1020\u001b[0m \u001b[43m    \u001b[49m\u001b[43mestimator\u001b[49m\u001b[38;5;241;43m=\u001b[39;49m\u001b[38;5;28;43mself\u001b[39;49m\u001b[43m,\u001b[49m\n\u001b[1;32m   1021\u001b[0m \u001b[43m    \u001b[49m\u001b[43mdtype\u001b[49m\u001b[38;5;241;43m=\u001b[39;49m\u001b[43mFLOAT_DTYPES\u001b[49m\u001b[43m,\u001b[49m\n\u001b[1;32m   1022\u001b[0m \u001b[43m    \u001b[49m\u001b[43mforce_all_finite\u001b[49m\u001b[38;5;241;43m=\u001b[39;49m\u001b[38;5;124;43m\"\u001b[39;49m\u001b[38;5;124;43mallow-nan\u001b[39;49m\u001b[38;5;124;43m\"\u001b[39;49m\u001b[43m,\u001b[49m\n\u001b[1;32m   1023\u001b[0m \u001b[43m\u001b[49m\u001b[43m)\u001b[49m\n\u001b[1;32m   1025\u001b[0m \u001b[38;5;28;01mif\u001b[39;00m sparse\u001b[38;5;241m.\u001b[39missparse(X):\n\u001b[1;32m   1026\u001b[0m     \u001b[38;5;28;01mif\u001b[39;00m \u001b[38;5;28mself\u001b[39m\u001b[38;5;241m.\u001b[39mwith_mean:\n",
      "File \u001b[0;32m~/.local/lib/python3.8/site-packages/sklearn/utils/validation.py:761\u001b[0m, in \u001b[0;36mcheck_array\u001b[0;34m(array, accept_sparse, accept_large_sparse, dtype, order, copy, force_all_finite, ensure_2d, allow_nd, ensure_min_samples, ensure_min_features, estimator)\u001b[0m\n\u001b[1;32m    759\u001b[0m     \u001b[38;5;66m# If input is 1D raise error\u001b[39m\n\u001b[1;32m    760\u001b[0m     \u001b[38;5;28;01mif\u001b[39;00m array\u001b[38;5;241m.\u001b[39mndim \u001b[38;5;241m==\u001b[39m \u001b[38;5;241m1\u001b[39m:\n\u001b[0;32m--> 761\u001b[0m         \u001b[38;5;28;01mraise\u001b[39;00m \u001b[38;5;167;01mValueError\u001b[39;00m(\n\u001b[1;32m    762\u001b[0m             \u001b[38;5;124m\"\u001b[39m\u001b[38;5;124mExpected 2D array, got 1D array instead:\u001b[39m\u001b[38;5;130;01m\\n\u001b[39;00m\u001b[38;5;124marray=\u001b[39m\u001b[38;5;132;01m{}\u001b[39;00m\u001b[38;5;124m.\u001b[39m\u001b[38;5;130;01m\\n\u001b[39;00m\u001b[38;5;124m\"\u001b[39m\n\u001b[1;32m    763\u001b[0m             \u001b[38;5;124m\"\u001b[39m\u001b[38;5;124mReshape your data either using array.reshape(-1, 1) if \u001b[39m\u001b[38;5;124m\"\u001b[39m\n\u001b[1;32m    764\u001b[0m             \u001b[38;5;124m\"\u001b[39m\u001b[38;5;124myour data has a single feature or array.reshape(1, -1) \u001b[39m\u001b[38;5;124m\"\u001b[39m\n\u001b[1;32m    765\u001b[0m             \u001b[38;5;124m\"\u001b[39m\u001b[38;5;124mif it contains a single sample.\u001b[39m\u001b[38;5;124m\"\u001b[39m\u001b[38;5;241m.\u001b[39mformat(array)\n\u001b[1;32m    766\u001b[0m         )\n\u001b[1;32m    768\u001b[0m \u001b[38;5;66m# make sure we actually converted to numeric:\u001b[39m\n\u001b[1;32m    769\u001b[0m \u001b[38;5;28;01mif\u001b[39;00m dtype_numeric \u001b[38;5;129;01mand\u001b[39;00m array\u001b[38;5;241m.\u001b[39mdtype\u001b[38;5;241m.\u001b[39mkind \u001b[38;5;129;01min\u001b[39;00m \u001b[38;5;124m\"\u001b[39m\u001b[38;5;124mOUSV\u001b[39m\u001b[38;5;124m\"\u001b[39m:\n",
      "\u001b[0;31mValueError\u001b[0m: Expected 2D array, got 1D array instead:\narray=[].\nReshape your data either using array.reshape(-1, 1) if your data has a single feature or array.reshape(1, -1) if it contains a single sample."
     ]
    }
   ],
   "source": [
    "# transform exit\n",
    "prev = std.inverse_transform(pred_output)\n",
    "prev = np.array(prev).reshape(1, -1)\n",
    "list_output_prev = list(prev)\n",
    "list_output_prev = prev[0].tolist()\n",
    "list_output_prev"
   ]
  },
  {
   "cell_type": "code",
   "execution_count": 232,
   "id": "60dfd2ef-0c94-4542-8dac-8fad135df356",
   "metadata": {
    "ExecuteTime": {
     "end_time": "2022-03-19T11:42:00.634197Z",
     "start_time": "2022-03-19T11:42:00.612976Z"
    }
   },
   "outputs": [
    {
     "ename": "IndexError",
     "evalue": "list index out of range",
     "output_type": "error",
     "traceback": [
      "\u001b[0;31m---------------------------------------------------------------------------\u001b[0m",
      "\u001b[0;31mIndexError\u001b[0m                                Traceback (most recent call last)",
      "Input \u001b[0;32mIn [232]\u001b[0m, in \u001b[0;36m<module>\u001b[0;34m\u001b[0m\n\u001b[1;32m      1\u001b[0m \u001b[38;5;66m# format exit (date to predict)\u001b[39m\n\u001b[1;32m      2\u001b[0m dates \u001b[38;5;241m=\u001b[39m pd\u001b[38;5;241m.\u001b[39mto_datetime(df_petro[\u001b[38;5;124m'\u001b[39m\u001b[38;5;124mdata_pregao\u001b[39m\u001b[38;5;124m'\u001b[39m])\n\u001b[0;32m----> 3\u001b[0m predict_dates \u001b[38;5;241m=\u001b[39m pd\u001b[38;5;241m.\u001b[39mdate_range(\u001b[38;5;28;43mlist\u001b[39;49m\u001b[43m(\u001b[49m\u001b[43mdates\u001b[49m\u001b[43m)\u001b[49m\u001b[43m[\u001b[49m\u001b[38;5;241;43m-\u001b[39;49m\u001b[38;5;241;43m1\u001b[39;49m\u001b[43m]\u001b[49m \u001b[38;5;241m+\u001b[39m pd\u001b[38;5;241m.\u001b[39mDateOffset(\u001b[38;5;241m1\u001b[39m), periods\u001b[38;5;241m=\u001b[39m\u001b[38;5;241m10\u001b[39m, freq\u001b[38;5;241m=\u001b[39m\u001b[38;5;124m'\u001b[39m\u001b[38;5;124mb\u001b[39m\u001b[38;5;124m'\u001b[39m)\u001b[38;5;241m.\u001b[39mto_list()\n\u001b[1;32m      4\u001b[0m predict_dates\n",
      "\u001b[0;31mIndexError\u001b[0m: list index out of range"
     ]
    }
   ],
   "source": [
    "# format exit (date to predict)\n",
    "dates = pd.to_datetime(df_petro['data_pregao'])\n",
    "predict_dates = pd.date_range(list(dates)[-1] + pd.DateOffset(1), periods=10, freq='b').to_list()\n",
    "predict_dates"
   ]
  },
  {
   "cell_type": "code",
   "execution_count": 233,
   "id": "adcef319-aafa-4ca0-a982-4906ce74e459",
   "metadata": {
    "ExecuteTime": {
     "end_time": "2022-03-19T11:42:04.816773Z",
     "start_time": "2022-03-19T11:42:04.809867Z"
    }
   },
   "outputs": [],
   "source": [
    "# New DataFrame \n",
    "forecast_dates = []\n",
    "for i in predict_dates:\n",
    "    forecast_dates.append(i.date())\n",
    "    \n",
    "df_forecast = pd.DataFrame({'data_pregao':np.array(forecast_dates), 'preco_fechamento':list_output_prev})\n",
    "df_forecast['data_pregao'] = pd.to_datetime(df_forecast['data_pregao'])"
   ]
  },
  {
   "cell_type": "code",
   "execution_count": 234,
   "id": "48fe5cea-2dc8-429a-b897-68a9e182ef1c",
   "metadata": {
    "ExecuteTime": {
     "end_time": "2022-03-19T11:42:06.898819Z",
     "start_time": "2022-03-19T11:42:06.885301Z"
    }
   },
   "outputs": [
    {
     "data": {
      "text/html": [
       "<div>\n",
       "<style scoped>\n",
       "    .dataframe tbody tr th:only-of-type {\n",
       "        vertical-align: middle;\n",
       "    }\n",
       "\n",
       "    .dataframe tbody tr th {\n",
       "        vertical-align: top;\n",
       "    }\n",
       "\n",
       "    .dataframe thead th {\n",
       "        text-align: right;\n",
       "    }\n",
       "</style>\n",
       "<table border=\"1\" class=\"dataframe\">\n",
       "  <thead>\n",
       "    <tr style=\"text-align: right;\">\n",
       "      <th></th>\n",
       "      <th>data_pregao</th>\n",
       "      <th>preco_fechamento</th>\n",
       "    </tr>\n",
       "  </thead>\n",
       "  <tbody>\n",
       "    <tr>\n",
       "      <th>2021-12-31</th>\n",
       "      <td>2021-12-31</td>\n",
       "      <td>28.811203</td>\n",
       "    </tr>\n",
       "    <tr>\n",
       "      <th>2022-01-03</th>\n",
       "      <td>2022-01-03</td>\n",
       "      <td>28.922941</td>\n",
       "    </tr>\n",
       "    <tr>\n",
       "      <th>2022-01-04</th>\n",
       "      <td>2022-01-04</td>\n",
       "      <td>29.023116</td>\n",
       "    </tr>\n",
       "    <tr>\n",
       "      <th>2022-01-05</th>\n",
       "      <td>2022-01-05</td>\n",
       "      <td>29.131538</td>\n",
       "    </tr>\n",
       "    <tr>\n",
       "      <th>2022-01-06</th>\n",
       "      <td>2022-01-06</td>\n",
       "      <td>29.240475</td>\n",
       "    </tr>\n",
       "    <tr>\n",
       "      <th>2022-01-07</th>\n",
       "      <td>2022-01-07</td>\n",
       "      <td>29.348559</td>\n",
       "    </tr>\n",
       "    <tr>\n",
       "      <th>2022-01-10</th>\n",
       "      <td>2022-01-10</td>\n",
       "      <td>29.452273</td>\n",
       "    </tr>\n",
       "    <tr>\n",
       "      <th>2022-01-11</th>\n",
       "      <td>2022-01-11</td>\n",
       "      <td>29.549883</td>\n",
       "    </tr>\n",
       "    <tr>\n",
       "      <th>2022-01-12</th>\n",
       "      <td>2022-01-12</td>\n",
       "      <td>29.642956</td>\n",
       "    </tr>\n",
       "    <tr>\n",
       "      <th>2022-01-13</th>\n",
       "      <td>2022-01-13</td>\n",
       "      <td>29.731405</td>\n",
       "    </tr>\n",
       "  </tbody>\n",
       "</table>\n",
       "</div>"
      ],
      "text/plain": [
       "           data_pregao  preco_fechamento\n",
       "2021-12-31  2021-12-31         28.811203\n",
       "2022-01-03  2022-01-03         28.922941\n",
       "2022-01-04  2022-01-04         29.023116\n",
       "2022-01-05  2022-01-05         29.131538\n",
       "2022-01-06  2022-01-06         29.240475\n",
       "2022-01-07  2022-01-07         29.348559\n",
       "2022-01-10  2022-01-10         29.452273\n",
       "2022-01-11  2022-01-11         29.549883\n",
       "2022-01-12  2022-01-12         29.642956\n",
       "2022-01-13  2022-01-13         29.731405"
      ]
     },
     "execution_count": 234,
     "metadata": {},
     "output_type": "execute_result"
    }
   ],
   "source": [
    "df_forecast = df_forecast[df_forecast['data_pregao'] > '2020-01-01']\n",
    "df_forecast = df_forecast.set_index(pd.DatetimeIndex(df_forecast['data_pregao'].values))\n",
    "#df_forecast.drop('data_pregao', axis=1, inplace=True)\n",
    "df_forecast    "
   ]
  },
  {
   "cell_type": "code",
   "execution_count": 223,
   "id": "2222c250",
   "metadata": {
    "ExecuteTime": {
     "end_time": "2022-03-19T11:39:23.752064Z",
     "start_time": "2022-03-19T11:39:23.746526Z"
    }
   },
   "outputs": [],
   "source": [
    "df_forecast = df_forecast[df_forecast['data_pregao'] > '2021']"
   ]
  },
  {
   "cell_type": "code",
   "execution_count": null,
   "id": "bb5bd7d6",
   "metadata": {},
   "outputs": [],
   "source": []
  },
  {
   "cell_type": "code",
   "execution_count": null,
   "id": "cb9e5546",
   "metadata": {},
   "outputs": [],
   "source": []
  },
  {
   "cell_type": "code",
   "execution_count": null,
   "id": "489dbf11",
   "metadata": {},
   "outputs": [],
   "source": []
  },
  {
   "cell_type": "code",
   "execution_count": 226,
   "id": "d79a2fd5-efae-4dd9-ad62-e63b74529a45",
   "metadata": {
    "ExecuteTime": {
     "end_time": "2022-03-19T11:40:14.858673Z",
     "start_time": "2022-03-19T11:40:14.361852Z"
    }
   },
   "outputs": [
    {
     "ename": "TypeError",
     "evalue": "float() argument must be a string or a number, not 'Timestamp'",
     "output_type": "error",
     "traceback": [
      "\u001b[0;31m---------------------------------------------------------------------------\u001b[0m",
      "\u001b[0;31mTypeError\u001b[0m                                 Traceback (most recent call last)",
      "Input \u001b[0;32mIn [226]\u001b[0m, in \u001b[0;36m<module>\u001b[0;34m\u001b[0m\n\u001b[1;32m      3\u001b[0m plt\u001b[38;5;241m.\u001b[39mplot(df_petro_cls[\u001b[38;5;124m'\u001b[39m\u001b[38;5;124mpreco_fechamento\u001b[39m\u001b[38;5;124m'\u001b[39m])\n\u001b[1;32m      4\u001b[0m \u001b[38;5;66m#plt.plot(df_petro['data_pregao'])\u001b[39m\n\u001b[0;32m----> 5\u001b[0m \u001b[43mplt\u001b[49m\u001b[38;5;241;43m.\u001b[39;49m\u001b[43mplot\u001b[49m\u001b[43m(\u001b[49m\u001b[43mdf_forecast\u001b[49m\u001b[43m[\u001b[49m\u001b[43m[\u001b[49m\u001b[38;5;124;43m'\u001b[39;49m\u001b[38;5;124;43mdata_pregao\u001b[39;49m\u001b[38;5;124;43m'\u001b[39;49m\u001b[43m,\u001b[49m\u001b[38;5;124;43m'\u001b[39;49m\u001b[38;5;124;43mpreco_fechamento\u001b[39;49m\u001b[38;5;124;43m'\u001b[39;49m\u001b[43m]\u001b[49m\u001b[43m]\u001b[49m\u001b[43m)\u001b[49m\n\u001b[1;32m      6\u001b[0m plt\u001b[38;5;241m.\u001b[39mlegend([\u001b[38;5;124m'\u001b[39m\u001b[38;5;124mPrice Closed\u001b[39m\u001b[38;5;124m'\u001b[39m, \u001b[38;5;124m'\u001b[39m\u001b[38;5;124mPrice Predicted\u001b[39m\u001b[38;5;124m'\u001b[39m])\n\u001b[1;32m      7\u001b[0m plt\u001b[38;5;241m.\u001b[39mshow()\n",
      "File \u001b[0;32m~/.local/lib/python3.8/site-packages/matplotlib/pyplot.py:2787\u001b[0m, in \u001b[0;36mplot\u001b[0;34m(scalex, scaley, data, *args, **kwargs)\u001b[0m\n\u001b[1;32m   2785\u001b[0m \u001b[38;5;129m@docstring\u001b[39m\u001b[38;5;241m.\u001b[39mcopy(Axes\u001b[38;5;241m.\u001b[39mplot)\n\u001b[1;32m   2786\u001b[0m \u001b[38;5;28;01mdef\u001b[39;00m \u001b[38;5;21mplot\u001b[39m(\u001b[38;5;241m*\u001b[39margs, scalex\u001b[38;5;241m=\u001b[39m\u001b[38;5;28;01mTrue\u001b[39;00m, scaley\u001b[38;5;241m=\u001b[39m\u001b[38;5;28;01mTrue\u001b[39;00m, data\u001b[38;5;241m=\u001b[39m\u001b[38;5;28;01mNone\u001b[39;00m, \u001b[38;5;241m*\u001b[39m\u001b[38;5;241m*\u001b[39mkwargs):\n\u001b[0;32m-> 2787\u001b[0m     \u001b[38;5;28;01mreturn\u001b[39;00m \u001b[43mgca\u001b[49m\u001b[43m(\u001b[49m\u001b[43m)\u001b[49m\u001b[38;5;241;43m.\u001b[39;49m\u001b[43mplot\u001b[49m\u001b[43m(\u001b[49m\n\u001b[1;32m   2788\u001b[0m \u001b[43m        \u001b[49m\u001b[38;5;241;43m*\u001b[39;49m\u001b[43margs\u001b[49m\u001b[43m,\u001b[49m\u001b[43m \u001b[49m\u001b[43mscalex\u001b[49m\u001b[38;5;241;43m=\u001b[39;49m\u001b[43mscalex\u001b[49m\u001b[43m,\u001b[49m\u001b[43m \u001b[49m\u001b[43mscaley\u001b[49m\u001b[38;5;241;43m=\u001b[39;49m\u001b[43mscaley\u001b[49m\u001b[43m,\u001b[49m\u001b[43m \u001b[49m\u001b[38;5;241;43m*\u001b[39;49m\u001b[38;5;241;43m*\u001b[39;49m\u001b[43m(\u001b[49m\u001b[43m{\u001b[49m\u001b[38;5;124;43m\"\u001b[39;49m\u001b[38;5;124;43mdata\u001b[39;49m\u001b[38;5;124;43m\"\u001b[39;49m\u001b[43m:\u001b[49m\u001b[43m \u001b[49m\u001b[43mdata\u001b[49m\u001b[43m}\u001b[49m\u001b[43m \u001b[49m\u001b[38;5;28;43;01mif\u001b[39;49;00m\u001b[43m \u001b[49m\u001b[43mdata\u001b[49m\n\u001b[1;32m   2789\u001b[0m \u001b[43m        \u001b[49m\u001b[38;5;129;43;01mis\u001b[39;49;00m\u001b[43m \u001b[49m\u001b[38;5;129;43;01mnot\u001b[39;49;00m\u001b[43m \u001b[49m\u001b[38;5;28;43;01mNone\u001b[39;49;00m\u001b[43m \u001b[49m\u001b[38;5;28;43;01melse\u001b[39;49;00m\u001b[43m \u001b[49m\u001b[43m{\u001b[49m\u001b[43m}\u001b[49m\u001b[43m)\u001b[49m\u001b[43m,\u001b[49m\u001b[43m \u001b[49m\u001b[38;5;241;43m*\u001b[39;49m\u001b[38;5;241;43m*\u001b[39;49m\u001b[43mkwargs\u001b[49m\u001b[43m)\u001b[49m\n",
      "File \u001b[0;32m~/.local/lib/python3.8/site-packages/matplotlib/axes/_axes.py:1667\u001b[0m, in \u001b[0;36mAxes.plot\u001b[0;34m(self, scalex, scaley, data, *args, **kwargs)\u001b[0m\n\u001b[1;32m   1665\u001b[0m lines \u001b[38;5;241m=\u001b[39m [\u001b[38;5;241m*\u001b[39m\u001b[38;5;28mself\u001b[39m\u001b[38;5;241m.\u001b[39m_get_lines(\u001b[38;5;241m*\u001b[39margs, data\u001b[38;5;241m=\u001b[39mdata, \u001b[38;5;241m*\u001b[39m\u001b[38;5;241m*\u001b[39mkwargs)]\n\u001b[1;32m   1666\u001b[0m \u001b[38;5;28;01mfor\u001b[39;00m line \u001b[38;5;129;01min\u001b[39;00m lines:\n\u001b[0;32m-> 1667\u001b[0m     \u001b[38;5;28;43mself\u001b[39;49m\u001b[38;5;241;43m.\u001b[39;49m\u001b[43madd_line\u001b[49m\u001b[43m(\u001b[49m\u001b[43mline\u001b[49m\u001b[43m)\u001b[49m\n\u001b[1;32m   1668\u001b[0m \u001b[38;5;28mself\u001b[39m\u001b[38;5;241m.\u001b[39mautoscale_view(scalex\u001b[38;5;241m=\u001b[39mscalex, scaley\u001b[38;5;241m=\u001b[39mscaley)\n\u001b[1;32m   1669\u001b[0m \u001b[38;5;28;01mreturn\u001b[39;00m lines\n",
      "File \u001b[0;32m~/.local/lib/python3.8/site-packages/matplotlib/axes/_base.py:1902\u001b[0m, in \u001b[0;36m_AxesBase.add_line\u001b[0;34m(self, line)\u001b[0m\n\u001b[1;32m   1899\u001b[0m \u001b[38;5;28;01mif\u001b[39;00m line\u001b[38;5;241m.\u001b[39mget_clip_path() \u001b[38;5;129;01mis\u001b[39;00m \u001b[38;5;28;01mNone\u001b[39;00m:\n\u001b[1;32m   1900\u001b[0m     line\u001b[38;5;241m.\u001b[39mset_clip_path(\u001b[38;5;28mself\u001b[39m\u001b[38;5;241m.\u001b[39mpatch)\n\u001b[0;32m-> 1902\u001b[0m \u001b[38;5;28;43mself\u001b[39;49m\u001b[38;5;241;43m.\u001b[39;49m\u001b[43m_update_line_limits\u001b[49m\u001b[43m(\u001b[49m\u001b[43mline\u001b[49m\u001b[43m)\u001b[49m\n\u001b[1;32m   1903\u001b[0m \u001b[38;5;28;01mif\u001b[39;00m \u001b[38;5;129;01mnot\u001b[39;00m line\u001b[38;5;241m.\u001b[39mget_label():\n\u001b[1;32m   1904\u001b[0m     line\u001b[38;5;241m.\u001b[39mset_label(\u001b[38;5;124m'\u001b[39m\u001b[38;5;124m_line\u001b[39m\u001b[38;5;132;01m%d\u001b[39;00m\u001b[38;5;124m'\u001b[39m \u001b[38;5;241m%\u001b[39m \u001b[38;5;28mlen\u001b[39m(\u001b[38;5;28mself\u001b[39m\u001b[38;5;241m.\u001b[39mlines))\n",
      "File \u001b[0;32m~/.local/lib/python3.8/site-packages/matplotlib/axes/_base.py:1924\u001b[0m, in \u001b[0;36m_AxesBase._update_line_limits\u001b[0;34m(self, line)\u001b[0m\n\u001b[1;32m   1920\u001b[0m \u001b[38;5;28;01mdef\u001b[39;00m \u001b[38;5;21m_update_line_limits\u001b[39m(\u001b[38;5;28mself\u001b[39m, line):\n\u001b[1;32m   1921\u001b[0m     \u001b[38;5;124m\"\"\"\u001b[39m\n\u001b[1;32m   1922\u001b[0m \u001b[38;5;124m    Figures out the data limit of the given line, updating self.dataLim.\u001b[39m\n\u001b[1;32m   1923\u001b[0m \u001b[38;5;124m    \"\"\"\u001b[39m\n\u001b[0;32m-> 1924\u001b[0m     path \u001b[38;5;241m=\u001b[39m \u001b[43mline\u001b[49m\u001b[38;5;241;43m.\u001b[39;49m\u001b[43mget_path\u001b[49m\u001b[43m(\u001b[49m\u001b[43m)\u001b[49m\n\u001b[1;32m   1925\u001b[0m     \u001b[38;5;28;01mif\u001b[39;00m path\u001b[38;5;241m.\u001b[39mvertices\u001b[38;5;241m.\u001b[39msize \u001b[38;5;241m==\u001b[39m \u001b[38;5;241m0\u001b[39m:\n\u001b[1;32m   1926\u001b[0m         \u001b[38;5;28;01mreturn\u001b[39;00m\n",
      "File \u001b[0;32m~/.local/lib/python3.8/site-packages/matplotlib/lines.py:1027\u001b[0m, in \u001b[0;36mLine2D.get_path\u001b[0;34m(self)\u001b[0m\n\u001b[1;32m   1022\u001b[0m \u001b[38;5;124m\"\"\"\u001b[39m\n\u001b[1;32m   1023\u001b[0m \u001b[38;5;124mReturn the :class:`~matplotlib.path.Path` object associated\u001b[39m\n\u001b[1;32m   1024\u001b[0m \u001b[38;5;124mwith this line.\u001b[39m\n\u001b[1;32m   1025\u001b[0m \u001b[38;5;124m\"\"\"\u001b[39m\n\u001b[1;32m   1026\u001b[0m \u001b[38;5;28;01mif\u001b[39;00m \u001b[38;5;28mself\u001b[39m\u001b[38;5;241m.\u001b[39m_invalidy \u001b[38;5;129;01mor\u001b[39;00m \u001b[38;5;28mself\u001b[39m\u001b[38;5;241m.\u001b[39m_invalidx:\n\u001b[0;32m-> 1027\u001b[0m     \u001b[38;5;28;43mself\u001b[39;49m\u001b[38;5;241;43m.\u001b[39;49m\u001b[43mrecache\u001b[49m\u001b[43m(\u001b[49m\u001b[43m)\u001b[49m\n\u001b[1;32m   1028\u001b[0m \u001b[38;5;28;01mreturn\u001b[39;00m \u001b[38;5;28mself\u001b[39m\u001b[38;5;241m.\u001b[39m_path\n",
      "File \u001b[0;32m~/.local/lib/python3.8/site-packages/matplotlib/lines.py:675\u001b[0m, in \u001b[0;36mLine2D.recache\u001b[0;34m(self, always)\u001b[0m\n\u001b[1;32m    673\u001b[0m \u001b[38;5;28;01mif\u001b[39;00m always \u001b[38;5;129;01mor\u001b[39;00m \u001b[38;5;28mself\u001b[39m\u001b[38;5;241m.\u001b[39m_invalidy:\n\u001b[1;32m    674\u001b[0m     yconv \u001b[38;5;241m=\u001b[39m \u001b[38;5;28mself\u001b[39m\u001b[38;5;241m.\u001b[39mconvert_yunits(\u001b[38;5;28mself\u001b[39m\u001b[38;5;241m.\u001b[39m_yorig)\n\u001b[0;32m--> 675\u001b[0m     y \u001b[38;5;241m=\u001b[39m \u001b[43m_to_unmasked_float_array\u001b[49m\u001b[43m(\u001b[49m\u001b[43myconv\u001b[49m\u001b[43m)\u001b[49m\u001b[38;5;241m.\u001b[39mravel()\n\u001b[1;32m    676\u001b[0m \u001b[38;5;28;01melse\u001b[39;00m:\n\u001b[1;32m    677\u001b[0m     y \u001b[38;5;241m=\u001b[39m \u001b[38;5;28mself\u001b[39m\u001b[38;5;241m.\u001b[39m_y\n",
      "File \u001b[0;32m~/.local/lib/python3.8/site-packages/matplotlib/cbook/__init__.py:1390\u001b[0m, in \u001b[0;36m_to_unmasked_float_array\u001b[0;34m(x)\u001b[0m\n\u001b[1;32m   1388\u001b[0m     \u001b[38;5;28;01mreturn\u001b[39;00m np\u001b[38;5;241m.\u001b[39mma\u001b[38;5;241m.\u001b[39masarray(x, \u001b[38;5;28mfloat\u001b[39m)\u001b[38;5;241m.\u001b[39mfilled(np\u001b[38;5;241m.\u001b[39mnan)\n\u001b[1;32m   1389\u001b[0m \u001b[38;5;28;01melse\u001b[39;00m:\n\u001b[0;32m-> 1390\u001b[0m     \u001b[38;5;28;01mreturn\u001b[39;00m \u001b[43mnp\u001b[49m\u001b[38;5;241;43m.\u001b[39;49m\u001b[43masarray\u001b[49m\u001b[43m(\u001b[49m\u001b[43mx\u001b[49m\u001b[43m,\u001b[49m\u001b[43m \u001b[49m\u001b[38;5;28;43mfloat\u001b[39;49m\u001b[43m)\u001b[49m\n",
      "\u001b[0;31mTypeError\u001b[0m: float() argument must be a string or a number, not 'Timestamp'"
     ]
    },
    {
     "data": {
      "image/png": "[encoded data removed]",
      "text/plain": [
       "<Figure size 1152x576 with 1 Axes>"
      ]
     },
     "metadata": {
      "needs_background": "light"
     },
     "output_type": "display_data"
    }
   ],
   "source": [
    "plt.figure(figsize=(16,8))\n",
    "plt.title('Price Share Value')\n",
    "plt.plot(df_petro_cls['preco_fechamento'])\n",
    "#plt.plot(df_petro['data_pregao'])\n",
    "plt.plot(df_forecast['preco_fechamento'])\n",
    "plt.legend(['Price Closed', 'Price Predicted'])\n",
    "plt.show()"
   ]
  },
  {
   "cell_type": "code",
   "execution_count": 157,
   "id": "8d88e3b0",
   "metadata": {
    "ExecuteTime": {
     "end_time": "2022-03-19T11:17:55.575483Z",
     "start_time": "2022-03-19T11:17:55.568444Z"
    }
   },
   "outputs": [
    {
     "data": {
      "text/plain": [
       "preco_fechamento    float64\n",
       "dtype: object"
      ]
     },
     "execution_count": 157,
     "metadata": {},
     "output_type": "execute_result"
    }
   ],
   "source": [
    "df_petro_cls.dtypes"
   ]
  },
  {
   "cell_type": "code",
   "execution_count": 227,
   "id": "c8712ce9",
   "metadata": {
    "ExecuteTime": {
     "end_time": "2022-03-19T11:40:29.365682Z",
     "start_time": "2022-03-19T11:40:29.002930Z"
    }
   },
   "outputs": [
    {
     "data": {
      "text/plain": [
       "<matplotlib.axes._subplots.AxesSubplot at 0x7f1cbbff80d0>"
      ]
     },
     "execution_count": 227,
     "metadata": {},
     "output_type": "execute_result"
    },
    {
     "data": {
      "image/png": "[encoded data removed]",
      "text/plain": [
       "<Figure size 432x288 with 1 Axes>"
      ]
     },
     "metadata": {
      "needs_background": "light"
     },
     "output_type": "display_data"
    }
   ],
   "source": [
    "sns.lineplot(\n",
    "    data=fmri.query(\"region == 'frontal'\"),\n",
    "    x=\"timepoint\", y=\"signal\", hue=\"event\", units=\"subject\",\n",
    "    estimator=None, lw=1,\n",
    ")"
   ]
  },
  {
   "cell_type": "code",
   "execution_count": 228,
   "id": "aa92dc5a-ff29-4c6d-afe5-5279821ee4cb",
   "metadata": {
    "ExecuteTime": {
     "end_time": "2022-03-19T11:40:34.074707Z",
     "start_time": "2022-03-19T11:40:33.786483Z"
    },
    "scrolled": true
   },
   "outputs": [
    {
     "data": {
      "image/png": "[encoded data removed]",
      "text/plain": [
       "<Figure size 1152x576 with 1 Axes>"
      ]
     },
     "metadata": {
      "needs_background": "light"
     },
     "output_type": "display_data"
    }
   ],
   "source": [
    "plt.figure(figsize=(16,8))\n",
    "plt.title('Price Share Value')\n",
    "plt.plot(df_petro_cls['preco_fechamento'], label='Real Value', color='blue', marker='|');\n",
    "plt.plot(df_forecast['preco_fechamento'], label='Predict Value', color='orange', marker='|');\n",
    "plt.xlabel('Trading Date');\n",
    "plt.ylabel('Closing Price');\n",
    "leg = plt.legend()\n"
   ]
  },
  {
   "cell_type": "code",
   "execution_count": null,
   "id": "d81995e5",
   "metadata": {},
   "outputs": [],
   "source": []
  },
  {
   "cell_type": "code",
   "execution_count": null,
   "id": "ae15b4ef",
   "metadata": {},
   "outputs": [],
   "source": []
  },
  {
   "cell_type": "code",
   "execution_count": null,
   "id": "c5b25a99",
   "metadata": {},
   "outputs": [],
   "source": []
  },
  {
   "cell_type": "code",
   "execution_count": null,
   "id": "6ec79a2b",
   "metadata": {},
   "outputs": [],
   "source": []
  },
  {
   "cell_type": "code",
   "execution_count": null,
   "id": "6211c527",
   "metadata": {},
   "outputs": [],
   "source": []
  },
  {
   "cell_type": "code",
   "execution_count": null,
   "id": "3d15ca74",
   "metadata": {},
   "outputs": [],
   "source": []
  },
  {
   "cell_type": "code",
   "execution_count": null,
   "id": "d2ef0504",
   "metadata": {},
   "outputs": [],
   "source": []
  },
  {
   "cell_type": "code",
   "execution_count": 49,
   "id": "ec531272",
   "metadata": {
    "ExecuteTime": {
     "end_time": "2022-03-17T14:11:02.089514Z",
     "start_time": "2022-03-17T14:11:01.909576Z"
    }
   },
   "outputs": [
    {
     "data": {
      "image/png": "[encoded data removed]",
      "text/plain": [
       "<Figure size 1152x576 with 1 Axes>"
      ]
     },
     "metadata": {
      "needs_background": "light"
     },
     "output_type": "display_data"
    }
   ],
   "source": [
    "plt.figure(figsize=(16,8))\n",
    "plt.title('Price Share Value')\n",
    "plt.plot(df_pred['real'], label='Real Value', color='blue', marker='o');\n",
    "plt.plot(df_pred['predict'], label='Predict Value', color='orange', marker='o');\n",
    "plt.xlabel('Trading Date');\n",
    "plt.ylabel('Closing Price');\n",
    "leg = plt.legend()\n"
   ]
  },
  {
   "cell_type": "code",
   "execution_count": 99,
   "id": "a3df0fee",
   "metadata": {
    "ExecuteTime": {
     "end_time": "2022-03-17T12:20:48.902800Z",
     "start_time": "2022-03-17T12:20:48.615888Z"
    }
   },
   "outputs": [
    {
     "data": {
      "image/png": "[encoded data removed]",
      "text/plain": [
       "<Figure size 1152x576 with 1 Axes>"
      ]
     },
     "metadata": {
      "needs_background": "light"
     },
     "output_type": "display_data"
    }
   ],
   "source": [
    "#plt.figure(figsize=(16,8))\n",
    "#plt.title('Price Share Value')\n",
    "#plt.plot(df_pred['real'], label='Real Value', color='brown', marker='o');\n",
    "#plt.plot(df_pred['predict'], label='Predict Value', color='orange', marker='o');\n",
    "#plt.xlabel('Trading Date');\n",
    "#plt.ylabel('Closing Price');\n",
    "#leg = plt.legend()\n"
   ]
  }
 ],
 "metadata": {
  "hide_input": false,
  "kernelspec": {
   "display_name": "Python 3 (ipykernel)",
   "language": "python",
   "name": "python3"
  },
  "language_info": {
   "codemirror_mode": {
    "name": "ipython",
    "version": 3
   },
   "file_extension": ".py",
   "mimetype": "text/x-python",
   "name": "python",
   "nbconvert_exporter": "python",
   "pygments_lexer": "ipython3",
   "version": "3.8.10"
  },
  "nbTranslate": {
   "displayLangs": [
    "*"
   ],
   "hotkey": "alt-t",
   "langInMainMenu": true,
   "sourceLang": "en",
   "targetLang": "fr",
   "useGoogleTranslate": true
  }
 },
 "nbformat": 4,
 "nbformat_minor": 5
}
