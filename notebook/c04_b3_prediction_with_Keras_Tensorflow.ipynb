{
 "cells": [
  {
   "cell_type": "markdown",
   "id": "abce84e2",
   "metadata": {
    "ExecuteTime": {
     "end_time": "2022-03-16T14:23:34.314779Z",
     "start_time": "2022-03-16T14:23:34.311226Z"
    }
   },
   "source": [
    "# 1.0 Import"
   ]
  },
  {
   "cell_type": "code",
   "execution_count": 1,
   "id": "412b5e43",
   "metadata": {
    "ExecuteTime": {
     "end_time": "2022-03-19T10:34:30.474661Z",
     "start_time": "2022-03-19T10:34:27.535421Z"
    }
   },
   "outputs": [],
   "source": [
    "#Load and edit dataframe\n",
    "import numpy as np\n",
    "import pandas as pd\n",
    "\n",
    "\n",
    "# Data Visualization\n",
    "import seaborn           as sns\n",
    "import matplotlib.pyplot as plt\n",
    "%matplotlib inline\n",
    "\n",
    "# Select Train and Test\n",
    "from sklearn.model_selection import train_test_split\n",
    "\n",
    "# ML - Algoritms\n",
    "from sklearn.preprocessing   import StandardScaler\n",
    "from tensorflow.keras.models import Sequential\n",
    "from tensorflow.keras.layers import Dense, LSTM, Dropout\n",
    "\n",
    "import warnings \n",
    "warnings.filterwarnings( 'ignore' ) "
   ]
  },
  {
   "cell_type": "markdown",
   "id": "9a0cbaa9",
   "metadata": {},
   "source": [
    "## Load DataSet"
   ]
  },
  {
   "cell_type": "code",
   "execution_count": 2,
   "id": "2dfb7345",
   "metadata": {
    "ExecuteTime": {
     "end_time": "2022-03-19T10:34:33.854671Z",
     "start_time": "2022-03-19T10:34:33.390990Z"
    }
   },
   "outputs": [],
   "source": [
    "df = pd.read_csv('../data/all_b3_bovespa.csv')"
   ]
  },
  {
   "cell_type": "markdown",
   "id": "fbf7e79a",
   "metadata": {
    "jp-MarkdownHeadingCollapsed": true,
    "tags": []
   },
   "source": [
    "# Data Analysis\n"
   ]
  },
  {
   "cell_type": "code",
   "execution_count": 8,
   "id": "17adf42d",
   "metadata": {
    "ExecuteTime": {
     "end_time": "2022-03-19T10:35:35.191542Z",
     "start_time": "2022-03-19T10:35:35.187500Z"
    }
   },
   "outputs": [
    {
     "name": "stdout",
     "output_type": "stream",
     "text": [
      "nº of columns: 733407, nº of rows:10\n"
     ]
    }
   ],
   "source": [
    "print(f'nº of columns: {df.shape[0]}, nº of rows:{df.shape[1]}')"
   ]
  },
  {
   "cell_type": "code",
   "execution_count": 9,
   "id": "f877b04c-d1e8-4f5e-a080-aa62d4c1fb53",
   "metadata": {
    "ExecuteTime": {
     "end_time": "2022-03-19T10:35:38.529288Z",
     "start_time": "2022-03-19T10:35:38.521792Z"
    }
   },
   "outputs": [
    {
     "data": {
      "text/plain": [
       "data_pregao          object\n",
       "codbdi              float64\n",
       "sigla_acao           object\n",
       "nome_acao            object\n",
       "preco_abertura      float64\n",
       "preco_maximo        float64\n",
       "preco_minimo        float64\n",
       "preco_fechamento    float64\n",
       "qtd_negocios          int64\n",
       "volume_negocios       int64\n",
       "dtype: object"
      ]
     },
     "execution_count": 9,
     "metadata": {},
     "output_type": "execute_result"
    }
   ],
   "source": [
    "df.dtypes"
   ]
  },
  {
   "cell_type": "code",
   "execution_count": 10,
   "id": "b68aeb10-69a2-4e4a-8983-e483661b7db5",
   "metadata": {
    "ExecuteTime": {
     "end_time": "2022-03-19T10:35:45.837321Z",
     "start_time": "2022-03-19T10:35:45.792443Z"
    }
   },
   "outputs": [
    {
     "data": {
      "text/html": [
       "<div>\n",
       "<style scoped>\n",
       "    .dataframe tbody tr th:only-of-type {\n",
       "        vertical-align: middle;\n",
       "    }\n",
       "\n",
       "    .dataframe tbody tr th {\n",
       "        vertical-align: top;\n",
       "    }\n",
       "\n",
       "    .dataframe thead th {\n",
       "        text-align: right;\n",
       "    }\n",
       "</style>\n",
       "<table border=\"1\" class=\"dataframe\">\n",
       "  <thead>\n",
       "    <tr style=\"text-align: right;\">\n",
       "      <th></th>\n",
       "      <th>data_pregao</th>\n",
       "      <th>codbdi</th>\n",
       "      <th>sigla_acao</th>\n",
       "      <th>nome_acao</th>\n",
       "      <th>preco_abertura</th>\n",
       "      <th>preco_maximo</th>\n",
       "      <th>preco_minimo</th>\n",
       "      <th>preco_fechamento</th>\n",
       "      <th>qtd_negocios</th>\n",
       "      <th>volume_negocios</th>\n",
       "    </tr>\n",
       "  </thead>\n",
       "  <tbody>\n",
       "    <tr>\n",
       "      <th>212</th>\n",
       "      <td>2015-01-02</td>\n",
       "      <td>2.0</td>\n",
       "      <td>PETR3</td>\n",
       "      <td>PETROBRAS</td>\n",
       "      <td>9.58</td>\n",
       "      <td>9.67</td>\n",
       "      <td>9.00</td>\n",
       "      <td>9.00</td>\n",
       "      <td>12710900</td>\n",
       "      <td>1</td>\n",
       "    </tr>\n",
       "    <tr>\n",
       "      <th>213</th>\n",
       "      <td>2015-01-02</td>\n",
       "      <td>2.0</td>\n",
       "      <td>PETR4</td>\n",
       "      <td>PETROBRAS</td>\n",
       "      <td>9.99</td>\n",
       "      <td>9.99</td>\n",
       "      <td>9.36</td>\n",
       "      <td>9.36</td>\n",
       "      <td>48837200</td>\n",
       "      <td>4</td>\n",
       "    </tr>\n",
       "    <tr>\n",
       "      <th>529</th>\n",
       "      <td>2015-01-05</td>\n",
       "      <td>2.0</td>\n",
       "      <td>PETR3</td>\n",
       "      <td>PETROBRAS</td>\n",
       "      <td>8.64</td>\n",
       "      <td>8.96</td>\n",
       "      <td>8.25</td>\n",
       "      <td>8.27</td>\n",
       "      <td>24992200</td>\n",
       "      <td>2</td>\n",
       "    </tr>\n",
       "    <tr>\n",
       "      <th>530</th>\n",
       "      <td>2015-01-05</td>\n",
       "      <td>2.0</td>\n",
       "      <td>PETR4</td>\n",
       "      <td>PETROBRAS</td>\n",
       "      <td>9.14</td>\n",
       "      <td>9.19</td>\n",
       "      <td>8.58</td>\n",
       "      <td>8.61</td>\n",
       "      <td>77077300</td>\n",
       "      <td>6</td>\n",
       "    </tr>\n",
       "    <tr>\n",
       "      <th>828</th>\n",
       "      <td>2015-01-06</td>\n",
       "      <td>2.0</td>\n",
       "      <td>PETR3</td>\n",
       "      <td>PETROBRAS</td>\n",
       "      <td>8.28</td>\n",
       "      <td>8.53</td>\n",
       "      <td>7.78</td>\n",
       "      <td>8.06</td>\n",
       "      <td>29572100</td>\n",
       "      <td>2</td>\n",
       "    </tr>\n",
       "    <tr>\n",
       "      <th>...</th>\n",
       "      <td>...</td>\n",
       "      <td>...</td>\n",
       "      <td>...</td>\n",
       "      <td>...</td>\n",
       "      <td>...</td>\n",
       "      <td>...</td>\n",
       "      <td>...</td>\n",
       "      <td>...</td>\n",
       "      <td>...</td>\n",
       "      <td>...</td>\n",
       "    </tr>\n",
       "    <tr>\n",
       "      <th>733144</th>\n",
       "      <td>2021-12-23</td>\n",
       "      <td>2.0</td>\n",
       "      <td>PETR3</td>\n",
       "      <td>PETROBRAS</td>\n",
       "      <td>30.35</td>\n",
       "      <td>30.68</td>\n",
       "      <td>30.18</td>\n",
       "      <td>30.44</td>\n",
       "      <td>6243500</td>\n",
       "      <td>1</td>\n",
       "    </tr>\n",
       "    <tr>\n",
       "      <th>733145</th>\n",
       "      <td>2021-12-27</td>\n",
       "      <td>2.0</td>\n",
       "      <td>PETR3</td>\n",
       "      <td>PETROBRAS</td>\n",
       "      <td>30.44</td>\n",
       "      <td>31.23</td>\n",
       "      <td>30.24</td>\n",
       "      <td>31.04</td>\n",
       "      <td>17868100</td>\n",
       "      <td>5</td>\n",
       "    </tr>\n",
       "    <tr>\n",
       "      <th>733146</th>\n",
       "      <td>2021-12-28</td>\n",
       "      <td>2.0</td>\n",
       "      <td>PETR3</td>\n",
       "      <td>PETROBRAS</td>\n",
       "      <td>31.26</td>\n",
       "      <td>31.47</td>\n",
       "      <td>31.00</td>\n",
       "      <td>31.06</td>\n",
       "      <td>8078000</td>\n",
       "      <td>2</td>\n",
       "    </tr>\n",
       "    <tr>\n",
       "      <th>733147</th>\n",
       "      <td>2021-12-29</td>\n",
       "      <td>2.0</td>\n",
       "      <td>PETR3</td>\n",
       "      <td>PETROBRAS</td>\n",
       "      <td>31.01</td>\n",
       "      <td>31.34</td>\n",
       "      <td>30.75</td>\n",
       "      <td>30.95</td>\n",
       "      <td>11460950</td>\n",
       "      <td>3</td>\n",
       "    </tr>\n",
       "    <tr>\n",
       "      <th>733148</th>\n",
       "      <td>2021-12-30</td>\n",
       "      <td>2.0</td>\n",
       "      <td>PETR3</td>\n",
       "      <td>PETROBRAS</td>\n",
       "      <td>30.95</td>\n",
       "      <td>31.13</td>\n",
       "      <td>30.55</td>\n",
       "      <td>30.70</td>\n",
       "      <td>34157000</td>\n",
       "      <td>10</td>\n",
       "    </tr>\n",
       "  </tbody>\n",
       "</table>\n",
       "<p>3460 rows × 10 columns</p>\n",
       "</div>"
      ],
      "text/plain": [
       "       data_pregao  codbdi sigla_acao  nome_acao  preco_abertura  \\\n",
       "212     2015-01-02     2.0      PETR3  PETROBRAS            9.58   \n",
       "213     2015-01-02     2.0      PETR4  PETROBRAS            9.99   \n",
       "529     2015-01-05     2.0      PETR3  PETROBRAS            8.64   \n",
       "530     2015-01-05     2.0      PETR4  PETROBRAS            9.14   \n",
       "828     2015-01-06     2.0      PETR3  PETROBRAS            8.28   \n",
       "...            ...     ...        ...        ...             ...   \n",
       "733144  2021-12-23     2.0      PETR3  PETROBRAS           30.35   \n",
       "733145  2021-12-27     2.0      PETR3  PETROBRAS           30.44   \n",
       "733146  2021-12-28     2.0      PETR3  PETROBRAS           31.26   \n",
       "733147  2021-12-29     2.0      PETR3  PETROBRAS           31.01   \n",
       "733148  2021-12-30     2.0      PETR3  PETROBRAS           30.95   \n",
       "\n",
       "        preco_maximo  preco_minimo  preco_fechamento  qtd_negocios  \\\n",
       "212             9.67          9.00              9.00      12710900   \n",
       "213             9.99          9.36              9.36      48837200   \n",
       "529             8.96          8.25              8.27      24992200   \n",
       "530             9.19          8.58              8.61      77077300   \n",
       "828             8.53          7.78              8.06      29572100   \n",
       "...              ...           ...               ...           ...   \n",
       "733144         30.68         30.18             30.44       6243500   \n",
       "733145         31.23         30.24             31.04      17868100   \n",
       "733146         31.47         31.00             31.06       8078000   \n",
       "733147         31.34         30.75             30.95      11460950   \n",
       "733148         31.13         30.55             30.70      34157000   \n",
       "\n",
       "        volume_negocios  \n",
       "212                   1  \n",
       "213                   4  \n",
       "529                   2  \n",
       "530                   6  \n",
       "828                   2  \n",
       "...                 ...  \n",
       "733144                1  \n",
       "733145                5  \n",
       "733146                2  \n",
       "733147                3  \n",
       "733148               10  \n",
       "\n",
       "[3460 rows x 10 columns]"
      ]
     },
     "execution_count": 10,
     "metadata": {},
     "output_type": "execute_result"
    }
   ],
   "source": [
    "a = df[df['nome_acao']=='PETROBRAS']\n",
    "a"
   ]
  },
  {
   "cell_type": "markdown",
   "id": "bd97ec11",
   "metadata": {
    "jp-MarkdownHeadingCollapsed": true,
    "tags": []
   },
   "source": [
    "# Data transformation"
   ]
  },
  {
   "cell_type": "code",
   "execution_count": 184,
   "id": "5eac6051",
   "metadata": {
    "ExecuteTime": {
     "end_time": "2022-03-19T11:25:21.455156Z",
     "start_time": "2022-03-19T11:25:21.424199Z"
    }
   },
   "outputs": [],
   "source": [
    "df_petro = df.copy()"
   ]
  },
  {
   "cell_type": "code",
   "execution_count": 185,
   "id": "b1cb0d01",
   "metadata": {
    "ExecuteTime": {
     "end_time": "2022-03-19T11:25:21.996584Z",
     "start_time": "2022-03-19T11:25:21.901325Z"
    }
   },
   "outputs": [],
   "source": [
    "df_petro['data_pregao'] = pd.to_datetime(df_petro['data_pregao'], format='%Y-%m-%d')"
   ]
  },
  {
   "cell_type": "code",
   "execution_count": 186,
   "id": "c580c4b7-4716-4fd7-86a5-41130eebb72f",
   "metadata": {
    "ExecuteTime": {
     "end_time": "2022-03-19T11:25:22.375960Z",
     "start_time": "2022-03-19T11:25:22.366739Z"
    }
   },
   "outputs": [
    {
     "data": {
      "text/plain": [
       "data_pregao         datetime64[ns]\n",
       "codbdi                     float64\n",
       "sigla_acao                  object\n",
       "nome_acao                   object\n",
       "preco_abertura             float64\n",
       "preco_maximo               float64\n",
       "preco_minimo               float64\n",
       "preco_fechamento           float64\n",
       "qtd_negocios                 int64\n",
       "volume_negocios              int64\n",
       "dtype: object"
      ]
     },
     "execution_count": 186,
     "metadata": {},
     "output_type": "execute_result"
    }
   ],
   "source": [
    "df_petro.dtypes"
   ]
  },
  {
   "cell_type": "markdown",
   "id": "78ae7dc2",
   "metadata": {
    "jp-MarkdownHeadingCollapsed": true,
    "tags": []
   },
   "source": [
    "# Select only one share to predict"
   ]
  },
  {
   "cell_type": "code",
   "execution_count": 187,
   "id": "c4e8480a",
   "metadata": {
    "ExecuteTime": {
     "end_time": "2022-03-19T11:25:23.740792Z",
     "start_time": "2022-03-19T11:25:23.672603Z"
    }
   },
   "outputs": [
    {
     "name": "stdout",
     "output_type": "stream",
     "text": [
      "nº of rows: 1730, nº of columns:10\n"
     ]
    }
   ],
   "source": [
    "# Filter share_data\n",
    "df_petro = df[df['sigla_acao']=='PETR4']\n",
    "print(f'nº of rows: {df_petro.shape[0]}, nº of columns:{df_petro.shape[1]}')"
   ]
  },
  {
   "cell_type": "code",
   "execution_count": 190,
   "id": "c9c37b34-94a9-491f-87b9-62b62f851a80",
   "metadata": {
    "ExecuteTime": {
     "end_time": "2022-03-19T11:25:39.023737Z",
     "start_time": "2022-03-19T11:25:39.015684Z"
    }
   },
   "outputs": [
    {
     "data": {
      "text/plain": [
       "data_pregao          object\n",
       "preco_fechamento    float64\n",
       "dtype: object"
      ]
     },
     "execution_count": 190,
     "metadata": {},
     "output_type": "execute_result"
    }
   ],
   "source": [
    "df_petro_cls = df_petro[['data_pregao', 'preco_fechamento']]\n",
    "df_petro_cls.dtypes"
   ]
  },
  {
   "cell_type": "code",
   "execution_count": 196,
   "id": "27af186a-dc48-43b0-a640-e24504f97bcb",
   "metadata": {
    "ExecuteTime": {
     "end_time": "2022-03-19T11:27:00.843543Z",
     "start_time": "2022-03-19T11:27:00.838140Z"
    }
   },
   "outputs": [],
   "source": [
    "# set to index with date\n",
    "df_petro_cls = df_petro_cls.set_index(pd.DatetimeIndex(df_petro_cls['data_pregao']))"
   ]
  },
  {
   "cell_type": "code",
   "execution_count": 197,
   "id": "b45a72c3-8da4-4839-907a-44eb454d2f28",
   "metadata": {
    "ExecuteTime": {
     "end_time": "2022-03-19T11:27:02.898825Z",
     "start_time": "2022-03-19T11:27:02.885699Z"
    }
   },
   "outputs": [
    {
     "data": {
      "text/html": [
       "<div>\n",
       "<style scoped>\n",
       "    .dataframe tbody tr th:only-of-type {\n",
       "        vertical-align: middle;\n",
       "    }\n",
       "\n",
       "    .dataframe tbody tr th {\n",
       "        vertical-align: top;\n",
       "    }\n",
       "\n",
       "    .dataframe thead th {\n",
       "        text-align: right;\n",
       "    }\n",
       "</style>\n",
       "<table border=\"1\" class=\"dataframe\">\n",
       "  <thead>\n",
       "    <tr style=\"text-align: right;\">\n",
       "      <th></th>\n",
       "      <th>data_pregao</th>\n",
       "      <th>preco_fechamento</th>\n",
       "    </tr>\n",
       "    <tr>\n",
       "      <th>data_pregao</th>\n",
       "      <th></th>\n",
       "      <th></th>\n",
       "    </tr>\n",
       "  </thead>\n",
       "  <tbody>\n",
       "    <tr>\n",
       "      <th>2021-12-23</th>\n",
       "      <td>2021-12-23</td>\n",
       "      <td>28.33</td>\n",
       "    </tr>\n",
       "    <tr>\n",
       "      <th>2021-12-27</th>\n",
       "      <td>2021-12-27</td>\n",
       "      <td>28.75</td>\n",
       "    </tr>\n",
       "    <tr>\n",
       "      <th>2021-12-28</th>\n",
       "      <td>2021-12-28</td>\n",
       "      <td>28.78</td>\n",
       "    </tr>\n",
       "    <tr>\n",
       "      <th>2021-12-29</th>\n",
       "      <td>2021-12-29</td>\n",
       "      <td>28.54</td>\n",
       "    </tr>\n",
       "    <tr>\n",
       "      <th>2021-12-30</th>\n",
       "      <td>2021-12-30</td>\n",
       "      <td>28.45</td>\n",
       "    </tr>\n",
       "  </tbody>\n",
       "</table>\n",
       "</div>"
      ],
      "text/plain": [
       "            data_pregao  preco_fechamento\n",
       "data_pregao                              \n",
       "2021-12-23   2021-12-23             28.33\n",
       "2021-12-27   2021-12-27             28.75\n",
       "2021-12-28   2021-12-28             28.78\n",
       "2021-12-29   2021-12-29             28.54\n",
       "2021-12-30   2021-12-30             28.45"
      ]
     },
     "execution_count": 197,
     "metadata": {},
     "output_type": "execute_result"
    }
   ],
   "source": [
    "df_petro_cls.tail()"
   ]
  },
  {
   "cell_type": "code",
   "execution_count": 198,
   "id": "35f98a10-3d90-432d-a72c-ba40c8b7e278",
   "metadata": {
    "ExecuteTime": {
     "end_time": "2022-03-19T11:27:10.754975Z",
     "start_time": "2022-03-19T11:27:10.749149Z"
    }
   },
   "outputs": [],
   "source": [
    "# drop column 'data_pregao'\n",
    "df_petro_cls.drop(['data_pregao'], axis=1, inplace=True)"
   ]
  },
  {
   "cell_type": "code",
   "execution_count": 199,
   "id": "d2120903-3aa5-4387-b98b-3a5fd31f829d",
   "metadata": {
    "ExecuteTime": {
     "end_time": "2022-03-19T11:27:11.614364Z",
     "start_time": "2022-03-19T11:27:11.602943Z"
    }
   },
   "outputs": [
    {
     "data": {
      "text/html": [
       "<div>\n",
       "<style scoped>\n",
       "    .dataframe tbody tr th:only-of-type {\n",
       "        vertical-align: middle;\n",
       "    }\n",
       "\n",
       "    .dataframe tbody tr th {\n",
       "        vertical-align: top;\n",
       "    }\n",
       "\n",
       "    .dataframe thead th {\n",
       "        text-align: right;\n",
       "    }\n",
       "</style>\n",
       "<table border=\"1\" class=\"dataframe\">\n",
       "  <thead>\n",
       "    <tr style=\"text-align: right;\">\n",
       "      <th></th>\n",
       "      <th>data_pregao</th>\n",
       "      <th>preco_fechamento</th>\n",
       "    </tr>\n",
       "  </thead>\n",
       "  <tbody>\n",
       "    <tr>\n",
       "      <th>0</th>\n",
       "      <td>2021-12-23</td>\n",
       "      <td>28.33</td>\n",
       "    </tr>\n",
       "    <tr>\n",
       "      <th>1</th>\n",
       "      <td>2021-12-27</td>\n",
       "      <td>28.75</td>\n",
       "    </tr>\n",
       "    <tr>\n",
       "      <th>2</th>\n",
       "      <td>2021-12-28</td>\n",
       "      <td>28.78</td>\n",
       "    </tr>\n",
       "    <tr>\n",
       "      <th>3</th>\n",
       "      <td>2021-12-29</td>\n",
       "      <td>28.54</td>\n",
       "    </tr>\n",
       "    <tr>\n",
       "      <th>4</th>\n",
       "      <td>2021-12-30</td>\n",
       "      <td>28.45</td>\n",
       "    </tr>\n",
       "  </tbody>\n",
       "</table>\n",
       "</div>"
      ],
      "text/plain": [
       "  data_pregao  preco_fechamento\n",
       "0  2021-12-23             28.33\n",
       "1  2021-12-27             28.75\n",
       "2  2021-12-28             28.78\n",
       "3  2021-12-29             28.54\n",
       "4  2021-12-30             28.45"
      ]
     },
     "execution_count": 199,
     "metadata": {},
     "output_type": "execute_result"
    }
   ],
   "source": [
    "df_petro_cls.tail().reset_index()"
   ]
  },
  {
   "cell_type": "code",
   "execution_count": 200,
   "id": "241756a9",
   "metadata": {
    "ExecuteTime": {
     "end_time": "2022-03-19T11:27:38.674539Z",
     "start_time": "2022-03-19T11:27:38.667509Z"
    }
   },
   "outputs": [
    {
     "data": {
      "text/plain": [
       "preco_fechamento    float64\n",
       "dtype: object"
      ]
     },
     "execution_count": 200,
     "metadata": {},
     "output_type": "execute_result"
    }
   ],
   "source": [
    "df_petro_cls.dtypes"
   ]
  },
  {
   "cell_type": "code",
   "execution_count": 130,
   "id": "330ff4fa-1157-40f1-8883-19d2ee707f0e",
   "metadata": {
    "ExecuteTime": {
     "end_time": "2022-03-19T11:10:30.754879Z",
     "start_time": "2022-03-19T11:10:30.480684Z"
    }
   },
   "outputs": [
    {
     "data": {
      "image/png": "[encoded data removed]",
      "text/plain": [
       "<Figure size 1152x576 with 1 Axes>"
      ]
     },
     "metadata": {
      "needs_background": "light"
     },
     "output_type": "display_data"
    }
   ],
   "source": [
    "# Plot the dataframe\n",
    "plt.figure(figsize=(16,8))\n",
    "plt.title('Price close')\n",
    "plt.plot(df_petro_cls['preco_fechamento'])\n",
    "plt.xlabel('date');\n"
   ]
  },
  {
   "cell_type": "markdown",
   "id": "e82df2b4",
   "metadata": {
    "jp-MarkdownHeadingCollapsed": true,
    "tags": []
   },
   "source": [
    "# Data Train and Test"
   ]
  },
  {
   "cell_type": "code",
   "execution_count": 131,
   "id": "44ff7037-fb28-4c0c-bd60-d7e832f55b18",
   "metadata": {
    "ExecuteTime": {
     "end_time": "2022-03-19T11:10:34.250987Z",
     "start_time": "2022-03-19T11:10:34.243714Z"
    }
   },
   "outputs": [
    {
     "data": {
      "text/plain": [
       "'Train = 0:1211 | Test = 1211:1730'"
      ]
     },
     "execution_count": 131,
     "metadata": {},
     "output_type": "execute_result"
    }
   ],
   "source": [
    "# Data analysis\n",
    "qtt_rows = len(df_petro_cls)\n",
    "\n",
    "r_train = round(.70*qtt_rows)\n",
    "\n",
    "r_test = qtt_rows - r_train\n",
    "\n",
    "info = (\n",
    "    f'Train = 0:{r_train} | '\n",
    "    f'Test = {r_train}:{r_train + r_test}'\n",
    "    )\n",
    "info"
   ]
  },
  {
   "cell_type": "markdown",
   "id": "6d8dcce3-ddea-48f6-8d1c-5c934cb64a3e",
   "metadata": {
    "jp-MarkdownHeadingCollapsed": true,
    "tags": []
   },
   "source": [
    "# Normalize and Reescale "
   ]
  },
  {
   "cell_type": "code",
   "execution_count": 132,
   "id": "63c653a3-5cf4-4e49-9b53-9620bc53eb64",
   "metadata": {
    "ExecuteTime": {
     "end_time": "2022-03-19T11:10:37.549021Z",
     "start_time": "2022-03-19T11:10:37.540175Z"
    }
   },
   "outputs": [],
   "source": [
    "# Normalizing\n",
    "std = StandardScaler()\n",
    "df_scaled = std.fit_transform(df_petro_cls)"
   ]
  },
  {
   "cell_type": "markdown",
   "id": "756bf286-d132-4f72-92a5-04531e7d2d84",
   "metadata": {
    "tags": []
   },
   "source": [
    "# Separating into Train and Test"
   ]
  },
  {
   "cell_type": "code",
   "execution_count": 133,
   "id": "d82ad1b2-1b40-43f3-9a7f-1aefb9a123da",
   "metadata": {
    "ExecuteTime": {
     "end_time": "2022-03-19T11:10:40.427714Z",
     "start_time": "2022-03-19T11:10:40.423428Z"
    }
   },
   "outputs": [
    {
     "name": "stdout",
     "output_type": "stream",
     "text": [
      "1730 519\n"
     ]
    }
   ],
   "source": [
    "train = df_scaled[:qtt_rows]\n",
    "\n",
    "test = df_scaled[r_train: r_train+r_test]\n",
    "\n",
    "print(len(train), len(test))"
   ]
  },
  {
   "cell_type": "code",
   "execution_count": null,
   "id": "1379522c-841e-4589-9b18-df4aee34b740",
   "metadata": {},
   "outputs": [],
   "source": []
  },
  {
   "cell_type": "code",
   "execution_count": 134,
   "id": "82b02e8f-3bbf-4565-b9dc-fabf0855f910",
   "metadata": {
    "ExecuteTime": {
     "end_time": "2022-03-19T11:10:45.666544Z",
     "start_time": "2022-03-19T11:10:45.661010Z"
    }
   },
   "outputs": [],
   "source": [
    "# Convert an array of values into a df matrix\n",
    "\n",
    "def create_df(df, steps=1):\n",
    "    dataX, dataY = [], []\n",
    "    for i in range(len(df)-steps-1):\n",
    "        a = df[i:(i+steps), 0]\n",
    "        dataX.append(a)\n",
    "        dataY.append(df[i+steps,0])\n",
    "    return np.array(dataX), np.array(dataY)\n",
    "\n",
    "# dexa os valores formatados no padrão que o LSTM espera para aprender"
   ]
  },
  {
   "cell_type": "code",
   "execution_count": 135,
   "id": "b1b6a5b1-b643-4957-b478-9a0325ac14d3",
   "metadata": {
    "ExecuteTime": {
     "end_time": "2022-03-19T11:10:46.558528Z",
     "start_time": "2022-03-19T11:10:46.548216Z"
    }
   },
   "outputs": [],
   "source": [
    "# gerando os dados de treino e teste\n",
    "\n",
    "steps = 15\n",
    "X_train, Y_train = create_df(train, steps)\n",
    "X_test, Y_test = create_df(test, steps)"
   ]
  },
  {
   "cell_type": "code",
   "execution_count": 136,
   "id": "f789e0e7-83a9-49ce-a037-1c49e5e360cb",
   "metadata": {
    "ExecuteTime": {
     "end_time": "2022-03-19T11:10:47.576961Z",
     "start_time": "2022-03-19T11:10:47.572386Z"
    }
   },
   "outputs": [
    {
     "name": "stdout",
     "output_type": "stream",
     "text": [
      "(1714, 15)\n",
      "(1714,)\n",
      "(503, 15)\n",
      "(503,)\n"
     ]
    }
   ],
   "source": [
    "print(X_train.shape)\n",
    "print(Y_train.shape)\n",
    "\n",
    "print(X_test.shape)\n",
    "print(Y_test.shape)\n"
   ]
  },
  {
   "cell_type": "code",
   "execution_count": 137,
   "id": "34b30629-8ade-4101-bb29-9776e29a1ff7",
   "metadata": {
    "ExecuteTime": {
     "end_time": "2022-03-19T11:10:48.184000Z",
     "start_time": "2022-03-19T11:10:48.179122Z"
    }
   },
   "outputs": [],
   "source": [
    "# Gerando os dados no formato que o modelo espera\n",
    "X_train = X_train.reshape(X_train.shape[0], X_train.shape[1], 1)\n",
    "# X_train.shape[0] → 1714 linhas de treino | X_train.shape[1] → 15 dias de treino\n",
    "X_test = X_test.reshape(X_test.shape[0], X_test.shape[1], 1)"
   ]
  },
  {
   "cell_type": "code",
   "execution_count": 138,
   "id": "a89b3173-284f-4e89-99c3-c5e3cd344bf3",
   "metadata": {
    "ExecuteTime": {
     "end_time": "2022-03-19T11:10:50.155593Z",
     "start_time": "2022-03-19T11:10:49.495188Z"
    }
   },
   "outputs": [],
   "source": [
    "# Camadas da Rede Neural\n",
    "model = Sequential()\n",
    "model.add(LSTM(35, return_sequences=True, input_shape=(steps,1))) #1ª camada\n",
    "#LSTM(35) → qtt de neuronios usados | input_shape=(steps,1) → qtt de dias a ser previsto e retornado\n",
    "model.add(LSTM(35, return_sequences=True)) #2ª camada\n",
    "model.add(LSTM(35)) #3ª camada\n",
    "model.add(Dropout(0.2)) \n",
    "#Dropout evita o overfit do treinamento\n",
    "model.add(Dense(1)) #retonrnando um unico resultado\n"
   ]
  },
  {
   "cell_type": "code",
   "execution_count": 139,
   "id": "17d07abe-97eb-4f69-b0b6-089f4dbb1203",
   "metadata": {
    "ExecuteTime": {
     "end_time": "2022-03-19T11:10:52.619609Z",
     "start_time": "2022-03-19T11:10:52.603072Z"
    }
   },
   "outputs": [
    {
     "name": "stdout",
     "output_type": "stream",
     "text": [
      "Model: \"sequential_3\"\n",
      "_________________________________________________________________\n",
      " Layer (type)                Output Shape              Param #   \n",
      "=================================================================\n",
      " lstm_9 (LSTM)               (None, 15, 35)            5180      \n",
      "                                                                 \n",
      " lstm_10 (LSTM)              (None, 15, 35)            9940      \n",
      "                                                                 \n",
      " lstm_11 (LSTM)              (None, 35)                9940      \n",
      "                                                                 \n",
      " dropout_3 (Dropout)         (None, 35)                0         \n",
      "                                                                 \n",
      " dense_3 (Dense)             (None, 1)                 36        \n",
      "                                                                 \n",
      "=================================================================\n",
      "Total params: 25,096\n",
      "Trainable params: 25,096\n",
      "Non-trainable params: 0\n",
      "_________________________________________________________________\n"
     ]
    }
   ],
   "source": [
    "model.compile(optimizer='adam', loss='mse')\n",
    "model.summary()"
   ]
  },
  {
   "cell_type": "code",
   "execution_count": 140,
   "id": "a8901871-7308-4876-87a6-55221ec2bc8f",
   "metadata": {
    "ExecuteTime": {
     "end_time": "2022-03-19T11:14:52.338598Z",
     "start_time": "2022-03-19T11:10:54.246353Z"
    },
    "scrolled": true,
    "tags": []
   },
   "outputs": [
    {
     "name": "stdout",
     "output_type": "stream",
     "text": [
      "Epoch 1/100\n",
      "115/115 - 8s - loss: 0.1398 - val_loss: 0.0819 - 8s/epoch - 70ms/step\n",
      "Epoch 2/100\n",
      "115/115 - 2s - loss: 0.0525 - val_loss: 0.0766 - 2s/epoch - 21ms/step\n",
      "Epoch 3/100\n",
      "115/115 - 2s - loss: 0.0442 - val_loss: 0.0490 - 2s/epoch - 21ms/step\n",
      "Epoch 4/100\n",
      "115/115 - 2s - loss: 0.0372 - val_loss: 0.0492 - 2s/epoch - 21ms/step\n",
      "Epoch 5/100\n",
      "115/115 - 2s - loss: 0.0349 - val_loss: 0.0509 - 2s/epoch - 20ms/step\n",
      "Epoch 6/100\n",
      "115/115 - 2s - loss: 0.0368 - val_loss: 0.0406 - 2s/epoch - 19ms/step\n",
      "Epoch 7/100\n",
      "115/115 - 2s - loss: 0.0306 - val_loss: 0.0375 - 2s/epoch - 21ms/step\n",
      "Epoch 8/100\n",
      "115/115 - 2s - loss: 0.0310 - val_loss: 0.0372 - 2s/epoch - 19ms/step\n",
      "Epoch 9/100\n",
      "115/115 - 2s - loss: 0.0283 - val_loss: 0.0369 - 2s/epoch - 20ms/step\n",
      "Epoch 10/100\n",
      "115/115 - 2s - loss: 0.0256 - val_loss: 0.0377 - 2s/epoch - 20ms/step\n",
      "Epoch 11/100\n",
      "115/115 - 2s - loss: 0.0276 - val_loss: 0.0330 - 2s/epoch - 21ms/step\n",
      "Epoch 12/100\n",
      "115/115 - 2s - loss: 0.0256 - val_loss: 0.0407 - 2s/epoch - 20ms/step\n",
      "Epoch 13/100\n",
      "115/115 - 2s - loss: 0.0253 - val_loss: 0.0327 - 2s/epoch - 21ms/step\n",
      "Epoch 14/100\n",
      "115/115 - 2s - loss: 0.0259 - val_loss: 0.0320 - 2s/epoch - 21ms/step\n",
      "Epoch 15/100\n",
      "115/115 - 2s - loss: 0.0248 - val_loss: 0.0404 - 2s/epoch - 21ms/step\n",
      "Epoch 16/100\n",
      "115/115 - 2s - loss: 0.0242 - val_loss: 0.0319 - 2s/epoch - 20ms/step\n",
      "Epoch 17/100\n",
      "115/115 - 2s - loss: 0.0231 - val_loss: 0.0345 - 2s/epoch - 20ms/step\n",
      "Epoch 18/100\n",
      "115/115 - 2s - loss: 0.0247 - val_loss: 0.0327 - 2s/epoch - 21ms/step\n",
      "Epoch 19/100\n",
      "115/115 - 2s - loss: 0.0241 - val_loss: 0.0310 - 2s/epoch - 20ms/step\n",
      "Epoch 20/100\n",
      "115/115 - 2s - loss: 0.0214 - val_loss: 0.0305 - 2s/epoch - 20ms/step\n",
      "Epoch 21/100\n",
      "115/115 - 2s - loss: 0.0230 - val_loss: 0.0307 - 2s/epoch - 20ms/step\n",
      "Epoch 22/100\n",
      "115/115 - 2s - loss: 0.0221 - val_loss: 0.0306 - 2s/epoch - 21ms/step\n",
      "Epoch 23/100\n",
      "115/115 - 2s - loss: 0.0232 - val_loss: 0.0311 - 2s/epoch - 20ms/step\n",
      "Epoch 24/100\n",
      "115/115 - 2s - loss: 0.0221 - val_loss: 0.0302 - 2s/epoch - 21ms/step\n",
      "Epoch 25/100\n",
      "115/115 - 2s - loss: 0.0217 - val_loss: 0.0300 - 2s/epoch - 21ms/step\n",
      "Epoch 26/100\n",
      "115/115 - 2s - loss: 0.0209 - val_loss: 0.0302 - 2s/epoch - 20ms/step\n",
      "Epoch 27/100\n",
      "115/115 - 2s - loss: 0.0219 - val_loss: 0.0299 - 2s/epoch - 20ms/step\n",
      "Epoch 28/100\n",
      "115/115 - 2s - loss: 0.0222 - val_loss: 0.0311 - 2s/epoch - 20ms/step\n",
      "Epoch 29/100\n",
      "115/115 - 2s - loss: 0.0206 - val_loss: 0.0322 - 2s/epoch - 20ms/step\n",
      "Epoch 30/100\n",
      "115/115 - 2s - loss: 0.0239 - val_loss: 0.0311 - 2s/epoch - 20ms/step\n",
      "Epoch 31/100\n",
      "115/115 - 2s - loss: 0.0225 - val_loss: 0.0322 - 2s/epoch - 20ms/step\n",
      "Epoch 32/100\n",
      "115/115 - 2s - loss: 0.0224 - val_loss: 0.0305 - 2s/epoch - 20ms/step\n",
      "Epoch 33/100\n",
      "115/115 - 2s - loss: 0.0221 - val_loss: 0.0309 - 2s/epoch - 20ms/step\n",
      "Epoch 34/100\n",
      "115/115 - 2s - loss: 0.0213 - val_loss: 0.0314 - 2s/epoch - 20ms/step\n",
      "Epoch 35/100\n",
      "115/115 - 2s - loss: 0.0210 - val_loss: 0.0301 - 2s/epoch - 21ms/step\n",
      "Epoch 36/100\n",
      "115/115 - 2s - loss: 0.0212 - val_loss: 0.0299 - 2s/epoch - 20ms/step\n",
      "Epoch 37/100\n",
      "115/115 - 2s - loss: 0.0218 - val_loss: 0.0298 - 2s/epoch - 20ms/step\n",
      "Epoch 38/100\n",
      "115/115 - 2s - loss: 0.0223 - val_loss: 0.0301 - 2s/epoch - 20ms/step\n",
      "Epoch 39/100\n",
      "115/115 - 2s - loss: 0.0216 - val_loss: 0.0309 - 2s/epoch - 21ms/step\n",
      "Epoch 40/100\n",
      "115/115 - 2s - loss: 0.0214 - val_loss: 0.0295 - 2s/epoch - 21ms/step\n",
      "Epoch 41/100\n",
      "115/115 - 3s - loss: 0.0214 - val_loss: 0.0349 - 3s/epoch - 23ms/step\n",
      "Epoch 42/100\n",
      "115/115 - 2s - loss: 0.0213 - val_loss: 0.0298 - 2s/epoch - 20ms/step\n",
      "Epoch 43/100\n",
      "115/115 - 2s - loss: 0.0200 - val_loss: 0.0387 - 2s/epoch - 21ms/step\n",
      "Epoch 44/100\n",
      "115/115 - 2s - loss: 0.0205 - val_loss: 0.0305 - 2s/epoch - 21ms/step\n",
      "Epoch 45/100\n",
      "115/115 - 2s - loss: 0.0204 - val_loss: 0.0294 - 2s/epoch - 20ms/step\n",
      "Epoch 46/100\n",
      "115/115 - 2s - loss: 0.0204 - val_loss: 0.0294 - 2s/epoch - 20ms/step\n",
      "Epoch 47/100\n",
      "115/115 - 2s - loss: 0.0205 - val_loss: 0.0318 - 2s/epoch - 20ms/step\n",
      "Epoch 48/100\n",
      "115/115 - 2s - loss: 0.0212 - val_loss: 0.0293 - 2s/epoch - 21ms/step\n",
      "Epoch 49/100\n",
      "115/115 - 2s - loss: 0.0201 - val_loss: 0.0294 - 2s/epoch - 20ms/step\n",
      "Epoch 50/100\n",
      "115/115 - 2s - loss: 0.0205 - val_loss: 0.0311 - 2s/epoch - 20ms/step\n",
      "Epoch 51/100\n",
      "115/115 - 2s - loss: 0.0202 - val_loss: 0.0295 - 2s/epoch - 20ms/step\n",
      "Epoch 52/100\n",
      "115/115 - 2s - loss: 0.0216 - val_loss: 0.0298 - 2s/epoch - 20ms/step\n",
      "Epoch 53/100\n",
      "115/115 - 2s - loss: 0.0217 - val_loss: 0.0307 - 2s/epoch - 20ms/step\n",
      "Epoch 54/100\n",
      "115/115 - 2s - loss: 0.0204 - val_loss: 0.0309 - 2s/epoch - 20ms/step\n",
      "Epoch 55/100\n",
      "115/115 - 2s - loss: 0.0210 - val_loss: 0.0294 - 2s/epoch - 20ms/step\n",
      "Epoch 56/100\n",
      "115/115 - 2s - loss: 0.0210 - val_loss: 0.0291 - 2s/epoch - 21ms/step\n",
      "Epoch 57/100\n",
      "115/115 - 2s - loss: 0.0208 - val_loss: 0.0298 - 2s/epoch - 20ms/step\n",
      "Epoch 58/100\n",
      "115/115 - 2s - loss: 0.0198 - val_loss: 0.0292 - 2s/epoch - 20ms/step\n",
      "Epoch 59/100\n",
      "115/115 - 2s - loss: 0.0218 - val_loss: 0.0315 - 2s/epoch - 20ms/step\n",
      "Epoch 60/100\n",
      "115/115 - 2s - loss: 0.0207 - val_loss: 0.0289 - 2s/epoch - 20ms/step\n",
      "Epoch 61/100\n",
      "115/115 - 2s - loss: 0.0204 - val_loss: 0.0318 - 2s/epoch - 20ms/step\n",
      "Epoch 62/100\n",
      "115/115 - 2s - loss: 0.0212 - val_loss: 0.0296 - 2s/epoch - 20ms/step\n",
      "Epoch 63/100\n",
      "115/115 - 2s - loss: 0.0201 - val_loss: 0.0292 - 2s/epoch - 20ms/step\n",
      "Epoch 64/100\n",
      "115/115 - 2s - loss: 0.0198 - val_loss: 0.0313 - 2s/epoch - 20ms/step\n",
      "Epoch 65/100\n",
      "115/115 - 2s - loss: 0.0206 - val_loss: 0.0293 - 2s/epoch - 20ms/step\n",
      "Epoch 66/100\n",
      "115/115 - 2s - loss: 0.0204 - val_loss: 0.0294 - 2s/epoch - 20ms/step\n",
      "Epoch 67/100\n",
      "115/115 - 2s - loss: 0.0202 - val_loss: 0.0293 - 2s/epoch - 20ms/step\n",
      "Epoch 68/100\n",
      "115/115 - 2s - loss: 0.0198 - val_loss: 0.0292 - 2s/epoch - 20ms/step\n",
      "Epoch 69/100\n",
      "115/115 - 2s - loss: 0.0199 - val_loss: 0.0314 - 2s/epoch - 21ms/step\n",
      "Epoch 70/100\n",
      "115/115 - 2s - loss: 0.0207 - val_loss: 0.0294 - 2s/epoch - 20ms/step\n",
      "Epoch 71/100\n",
      "115/115 - 2s - loss: 0.0195 - val_loss: 0.0294 - 2s/epoch - 20ms/step\n",
      "Epoch 72/100\n",
      "115/115 - 2s - loss: 0.0204 - val_loss: 0.0293 - 2s/epoch - 20ms/step\n",
      "Epoch 73/100\n",
      "115/115 - 2s - loss: 0.0198 - val_loss: 0.0295 - 2s/epoch - 20ms/step\n",
      "Epoch 74/100\n",
      "115/115 - 2s - loss: 0.0202 - val_loss: 0.0288 - 2s/epoch - 20ms/step\n",
      "Epoch 75/100\n",
      "115/115 - 2s - loss: 0.0196 - val_loss: 0.0309 - 2s/epoch - 20ms/step\n",
      "Epoch 76/100\n",
      "115/115 - 2s - loss: 0.0205 - val_loss: 0.0307 - 2s/epoch - 21ms/step\n",
      "Epoch 77/100\n",
      "115/115 - 2s - loss: 0.0204 - val_loss: 0.0297 - 2s/epoch - 20ms/step\n",
      "Epoch 78/100\n",
      "115/115 - 2s - loss: 0.0216 - val_loss: 0.0288 - 2s/epoch - 20ms/step\n",
      "Epoch 79/100\n",
      "115/115 - 2s - loss: 0.0198 - val_loss: 0.0292 - 2s/epoch - 20ms/step\n",
      "Epoch 80/100\n",
      "115/115 - 2s - loss: 0.0210 - val_loss: 0.0290 - 2s/epoch - 20ms/step\n",
      "Epoch 81/100\n",
      "115/115 - 2s - loss: 0.0190 - val_loss: 0.0291 - 2s/epoch - 20ms/step\n",
      "Epoch 82/100\n",
      "115/115 - 2s - loss: 0.0201 - val_loss: 0.0294 - 2s/epoch - 20ms/step\n",
      "Epoch 83/100\n",
      "115/115 - 2s - loss: 0.0197 - val_loss: 0.0295 - 2s/epoch - 20ms/step\n",
      "Epoch 84/100\n",
      "115/115 - 2s - loss: 0.0209 - val_loss: 0.0287 - 2s/epoch - 20ms/step\n",
      "Epoch 85/100\n",
      "115/115 - 2s - loss: 0.0204 - val_loss: 0.0293 - 2s/epoch - 20ms/step\n",
      "Epoch 86/100\n",
      "115/115 - 2s - loss: 0.0205 - val_loss: 0.0290 - 2s/epoch - 19ms/step\n",
      "Epoch 87/100\n",
      "115/115 - 2s - loss: 0.0202 - val_loss: 0.0306 - 2s/epoch - 20ms/step\n",
      "Epoch 88/100\n",
      "115/115 - 2s - loss: 0.0205 - val_loss: 0.0289 - 2s/epoch - 20ms/step\n",
      "Epoch 89/100\n",
      "115/115 - 2s - loss: 0.0208 - val_loss: 0.0287 - 2s/epoch - 20ms/step\n",
      "Epoch 90/100\n",
      "115/115 - 2s - loss: 0.0204 - val_loss: 0.0292 - 2s/epoch - 20ms/step\n",
      "Epoch 91/100\n",
      "115/115 - 2s - loss: 0.0201 - val_loss: 0.0295 - 2s/epoch - 20ms/step\n",
      "Epoch 92/100\n",
      "115/115 - 2s - loss: 0.0193 - val_loss: 0.0288 - 2s/epoch - 20ms/step\n",
      "Epoch 93/100\n",
      "115/115 - 2s - loss: 0.0205 - val_loss: 0.0298 - 2s/epoch - 20ms/step\n",
      "Epoch 94/100\n",
      "115/115 - 2s - loss: 0.0194 - val_loss: 0.0285 - 2s/epoch - 20ms/step\n",
      "Epoch 95/100\n",
      "115/115 - 2s - loss: 0.0209 - val_loss: 0.0288 - 2s/epoch - 20ms/step\n",
      "Epoch 96/100\n",
      "115/115 - 2s - loss: 0.0197 - val_loss: 0.0301 - 2s/epoch - 20ms/step\n",
      "Epoch 97/100\n",
      "115/115 - 2s - loss: 0.0206 - val_loss: 0.0284 - 2s/epoch - 20ms/step\n",
      "Epoch 98/100\n",
      "115/115 - 2s - loss: 0.0198 - val_loss: 0.0298 - 2s/epoch - 20ms/step\n",
      "Epoch 99/100\n",
      "115/115 - 2s - loss: 0.0198 - val_loss: 0.0313 - 2s/epoch - 20ms/step\n"
     ]
    },
    {
     "name": "stdout",
     "output_type": "stream",
     "text": [
      "Epoch 100/100\n",
      "115/115 - 2s - loss: 0.0200 - val_loss: 0.0304 - 2s/epoch - 20ms/step\n"
     ]
    }
   ],
   "source": [
    "# treinamento do modelo\n",
    "validation = model.fit(X_train, Y_train, validation_data=(X_test, Y_test), epochs=100, batch_size=15, verbose=2)"
   ]
  },
  {
   "cell_type": "code",
   "execution_count": 141,
   "id": "8b820885-4e80-449d-b34a-8f201ee1e24f",
   "metadata": {
    "ExecuteTime": {
     "end_time": "2022-03-19T11:16:40.981982Z",
     "start_time": "2022-03-19T11:16:40.808897Z"
    }
   },
   "outputs": [
    {
     "data": {
      "image/png": "[encoded data removed]",
      "text/plain": [
       "<Figure size 432x288 with 1 Axes>"
      ]
     },
     "metadata": {
      "needs_background": "light"
     },
     "output_type": "display_data"
    }
   ],
   "source": [
    "plt.plot(validation.history['loss'], label='Training loss')\n",
    "plt.plot(validation.history['val_loss'], label='Validation loss')\n",
    "plt.legend();"
   ]
  },
  {
   "cell_type": "code",
   "execution_count": 142,
   "id": "5d53ff12-13f8-4176-803c-cd4ca38a47b7",
   "metadata": {
    "ExecuteTime": {
     "end_time": "2022-03-19T11:16:43.297162Z",
     "start_time": "2022-03-19T11:16:42.002014Z"
    },
    "scrolled": true,
    "tags": []
   },
   "outputs": [
    {
     "data": {
      "text/plain": [
       "array([[30.298292],\n",
       "       [30.23776 ],\n",
       "       [30.326935],\n",
       "       [30.393913],\n",
       "       [30.386627],\n",
       "       [30.453667],\n",
       "       [30.58816 ],\n",
       "       [30.602224],\n",
       "       [30.552893],\n",
       "       [30.628313],\n",
       "       [30.602528],\n",
       "       [30.677021],\n",
       "       [30.693651],\n",
       "       [30.673159],\n",
       "       [30.634068],\n",
       "       [30.569801],\n",
       "       [30.533083],\n",
       "       [30.420448],\n",
       "       [30.227222],\n",
       "       [30.069946],\n",
       "       [30.028957],\n",
       "       [30.029951],\n",
       "       [29.945755],\n",
       "       [29.81689 ],\n",
       "       [29.808577],\n",
       "       [29.706549],\n",
       "       [29.271187],\n",
       "       [29.206566],\n",
       "       [29.11439 ],\n",
       "       [29.107851],\n",
       "       [28.960062],\n",
       "       [28.788708],\n",
       "       [28.81971 ],\n",
       "       [28.74508 ],\n",
       "       [28.983665],\n",
       "       [29.044863],\n",
       "       [29.186573],\n",
       "       [29.379393],\n",
       "       [29.691803],\n",
       "       [29.794312],\n",
       "       [29.807491],\n",
       "       [29.786942],\n",
       "       [29.861109],\n",
       "       [30.100931],\n",
       "       [30.099709],\n",
       "       [29.92892 ],\n",
       "       [28.871822],\n",
       "       [27.525507],\n",
       "       [26.46769 ],\n",
       "       [26.412312],\n",
       "       [26.115747],\n",
       "       [26.467335],\n",
       "       [25.967276],\n",
       "       [24.36423 ],\n",
       "       [18.596313],\n",
       "       [16.122797],\n",
       "       [14.617222],\n",
       "       [11.742727],\n",
       "       [13.869904],\n",
       "       [12.778635],\n",
       "       [12.182985],\n",
       "       [10.861905],\n",
       "       [11.599577],\n",
       "       [11.668159],\n",
       "       [11.151709],\n",
       "       [12.94912 ],\n",
       "       [14.100032],\n",
       "       [14.227476],\n",
       "       [13.135982],\n",
       "       [13.068407],\n",
       "       [13.717995],\n",
       "       [14.046054],\n",
       "       [15.294013],\n",
       "       [15.21064 ],\n",
       "       [15.615117],\n",
       "       [16.269527],\n",
       "       [17.218027],\n",
       "       [16.850697],\n",
       "       [16.874895],\n",
       "       [16.65189 ],\n",
       "       [16.251905],\n",
       "       [15.530314],\n",
       "       [15.835622],\n",
       "       [15.714599],\n",
       "       [16.493399],\n",
       "       [16.79503 ],\n",
       "       [15.906964],\n",
       "       [16.235256],\n",
       "       [17.06056 ],\n",
       "       [18.058094],\n",
       "       [18.086367],\n",
       "       [17.46967 ],\n",
       "       [17.860626],\n",
       "       [17.27249 ],\n",
       "       [17.302395],\n",
       "       [18.287237],\n",
       "       [18.140371],\n",
       "       [18.116674],\n",
       "       [17.588621],\n",
       "       [17.29223 ],\n",
       "       [16.998564],\n",
       "       [18.291182],\n",
       "       [18.59928 ],\n",
       "       [19.259466],\n",
       "       [19.28938 ],\n",
       "       [18.834963],\n",
       "       [19.447361],\n",
       "       [19.686441],\n",
       "       [19.980553],\n",
       "       [19.899641],\n",
       "       [20.364744],\n",
       "       [20.436958],\n",
       "       [21.354605],\n",
       "       [21.608036],\n",
       "       [21.696154],\n",
       "       [22.222359],\n",
       "       [22.661568],\n",
       "       [22.22047 ],\n",
       "       [21.807585],\n",
       "       [20.961527],\n",
       "       [20.756401],\n",
       "       [21.223917],\n",
       "       [21.417427],\n",
       "       [21.649256],\n",
       "       [21.635853],\n",
       "       [21.23512 ],\n",
       "       [21.6675  ],\n",
       "       [21.252901],\n",
       "       [21.5304  ],\n",
       "       [21.080214],\n",
       "       [21.626812],\n",
       "       [21.657175],\n",
       "       [21.836319],\n",
       "       [22.149775],\n",
       "       [22.192936],\n",
       "       [22.615646],\n",
       "       [22.527567],\n",
       "       [22.82644 ],\n",
       "       [22.520681],\n",
       "       [22.700918],\n",
       "       [22.459696],\n",
       "       [22.93902 ],\n",
       "       [23.367622],\n",
       "       [23.138166],\n",
       "       [23.080742],\n",
       "       [23.015923],\n",
       "       [23.431925],\n",
       "       [23.346125],\n",
       "       [23.010262],\n",
       "       [22.974945],\n",
       "       [23.266098],\n",
       "       [23.0965  ],\n",
       "       [23.320646],\n",
       "       [23.13693 ],\n",
       "       [22.642696],\n",
       "       [22.133223],\n",
       "       [21.914179],\n",
       "       [22.889631],\n",
       "       [23.21171 ],\n",
       "       [23.138308],\n",
       "       [23.571175],\n",
       "       [23.447296],\n",
       "       [23.703903],\n",
       "       [23.326618],\n",
       "       [23.067862],\n",
       "       [22.873434],\n",
       "       [23.094387],\n",
       "       [23.073038],\n",
       "       [22.982601],\n",
       "       [22.826668],\n",
       "       [23.063633],\n",
       "       [23.070112],\n",
       "       [22.635094],\n",
       "       [22.411837],\n",
       "       [22.598726],\n",
       "       [22.183435],\n",
       "       [22.798351],\n",
       "       [22.911392],\n",
       "       [23.074062],\n",
       "       [23.156822],\n",
       "       [22.722002],\n",
       "       [22.899511],\n",
       "       [22.471931],\n",
       "       [22.15602 ],\n",
       "       [21.865618],\n",
       "       [21.75974 ],\n",
       "       [21.776566],\n",
       "       [22.11996 ],\n",
       "       [21.875435],\n",
       "       [21.234528],\n",
       "       [20.922794],\n",
       "       [20.343163],\n",
       "       [20.330797],\n",
       "       [20.109135],\n",
       "       [19.655071],\n",
       "       [19.27036 ],\n",
       "       [19.455507],\n",
       "       [19.728033],\n",
       "       [19.122204],\n",
       "       [19.87624 ],\n",
       "       [19.939774],\n",
       "       [19.879337],\n",
       "       [20.414196],\n",
       "       [19.99803 ],\n",
       "       [20.18239 ],\n",
       "       [20.056942],\n",
       "       [19.841616],\n",
       "       [19.409405],\n",
       "       [19.464996],\n",
       "       [20.047592],\n",
       "       [20.177212],\n",
       "       [20.809595],\n",
       "       [20.744814],\n",
       "       [20.482277],\n",
       "       [20.064995],\n",
       "       [18.871515],\n",
       "       [19.116959],\n",
       "       [18.842554],\n",
       "       [19.447752],\n",
       "       [19.649895],\n",
       "       [19.88528 ],\n",
       "       [19.833336],\n",
       "       [21.400475],\n",
       "       [22.789331],\n",
       "       [23.16073 ],\n",
       "       [22.668781],\n",
       "       [22.970638],\n",
       "       [23.423866],\n",
       "       [23.844128],\n",
       "       [23.914043],\n",
       "       [24.126583],\n",
       "       [24.06399 ],\n",
       "       [24.964718],\n",
       "       [25.858473],\n",
       "       [26.330305],\n",
       "       [26.408846],\n",
       "       [26.272385],\n",
       "       [25.820984],\n",
       "       [25.945375],\n",
       "       [26.084558],\n",
       "       [26.545382],\n",
       "       [27.173866],\n",
       "       [27.307978],\n",
       "       [27.287718],\n",
       "       [27.370876],\n",
       "       [27.756683],\n",
       "       [27.847963],\n",
       "       [27.962053],\n",
       "       [28.099417],\n",
       "       [28.298965],\n",
       "       [28.43191 ],\n",
       "       [28.471807],\n",
       "       [28.090084],\n",
       "       [27.941254],\n",
       "       [28.057909],\n",
       "       [28.198988],\n",
       "       [28.34435 ],\n",
       "       [28.47652 ],\n",
       "       [27.96334 ],\n",
       "       [28.33879 ],\n",
       "       [28.59795 ],\n",
       "       [28.559578],\n",
       "       [28.352694],\n",
       "       [28.937702],\n",
       "       [29.325485],\n",
       "       [29.091745],\n",
       "       [29.328085],\n",
       "       [29.203964],\n",
       "       [29.58887 ],\n",
       "       [29.390213],\n",
       "       [28.861048],\n",
       "       [29.682775],\n",
       "       [29.41049 ],\n",
       "       [29.174656],\n",
       "       [29.159908],\n",
       "       [29.782246],\n",
       "       [27.305534],\n",
       "       [27.73228 ],\n",
       "       [27.930742],\n",
       "       [28.81102 ],\n",
       "       [27.522066],\n",
       "       [27.496893],\n",
       "       [27.714323],\n",
       "       [26.459879],\n",
       "       [28.332767],\n",
       "       [27.88971 ],\n",
       "       [27.949726],\n",
       "       [26.11446 ],\n",
       "       [27.757898],\n",
       "       [27.499182],\n",
       "       [27.762608],\n",
       "       [25.585806],\n",
       "       [27.716053],\n",
       "       [27.563519],\n",
       "       [27.920874],\n",
       "       [25.694895],\n",
       "       [23.448814],\n",
       "       [23.349495],\n",
       "       [23.152973],\n",
       "       [21.70249 ],\n",
       "       [23.016575],\n",
       "       [23.43559 ],\n",
       "       [23.461002],\n",
       "       [22.801275],\n",
       "       [23.72813 ],\n",
       "       [23.91469 ],\n",
       "       [24.25644 ],\n",
       "       [23.296125],\n",
       "       [24.066772],\n",
       "       [24.350412],\n",
       "       [23.881079],\n",
       "       [22.158773],\n",
       "       [23.53919 ],\n",
       "       [23.233606],\n",
       "       [23.910032],\n",
       "       [22.551727],\n",
       "       [22.982891],\n",
       "       [23.746214],\n",
       "       [23.767376],\n",
       "       [23.04858 ],\n",
       "       [23.04372 ],\n",
       "       [23.823372],\n",
       "       [24.26591 ],\n",
       "       [23.903456],\n",
       "       [23.422726],\n",
       "       [23.99221 ],\n",
       "       [24.025719],\n",
       "       [23.681185],\n",
       "       [23.884329],\n",
       "       [23.585382],\n",
       "       [23.891666],\n",
       "       [23.927155],\n",
       "       [23.939032],\n",
       "       [23.57286 ],\n",
       "       [23.826857],\n",
       "       [24.329472],\n",
       "       [25.454573],\n",
       "       [25.285967],\n",
       "       [24.839045],\n",
       "       [25.764153],\n",
       "       [27.217054],\n",
       "       [26.57129 ],\n",
       "       [25.386688],\n",
       "       [26.234688],\n",
       "       [27.223663],\n",
       "       [26.82138 ],\n",
       "       [26.11612 ],\n",
       "       [27.56466 ],\n",
       "       [27.014545],\n",
       "       [26.326653],\n",
       "       [26.490326],\n",
       "       [26.293356],\n",
       "       [27.520111],\n",
       "       [26.012533],\n",
       "       [26.807112],\n",
       "       [27.586805],\n",
       "       [27.386665],\n",
       "       [25.81775 ],\n",
       "       [27.464119],\n",
       "       [27.153591],\n",
       "       [27.022444],\n",
       "       [27.306541],\n",
       "       [28.009022],\n",
       "       [26.116945],\n",
       "       [26.417883],\n",
       "       [27.528667],\n",
       "       [27.792093],\n",
       "       [26.417055],\n",
       "       [27.933338],\n",
       "       [26.158058],\n",
       "       [27.36437 ],\n",
       "       [27.63736 ],\n",
       "       [28.252054],\n",
       "       [28.699415],\n",
       "       [29.082075],\n",
       "       [29.43667 ],\n",
       "       [29.515371],\n",
       "       [29.541245],\n",
       "       [29.5625  ],\n",
       "       [29.627058],\n",
       "       [29.54527 ],\n",
       "       [29.519419],\n",
       "       [29.391129],\n",
       "       [28.910444],\n",
       "       [28.71166 ],\n",
       "       [28.312643],\n",
       "       [28.164326],\n",
       "       [28.11366 ],\n",
       "       [28.015388],\n",
       "       [27.749546],\n",
       "       [27.41905 ],\n",
       "       [27.001091],\n",
       "       [26.90796 ],\n",
       "       [27.007566],\n",
       "       [27.061203],\n",
       "       [27.058065],\n",
       "       [27.38967 ],\n",
       "       [27.434282],\n",
       "       [27.734327],\n",
       "       [27.926239],\n",
       "       [27.709124],\n",
       "       [27.356785],\n",
       "       [27.298824],\n",
       "       [26.953857],\n",
       "       [27.710817],\n",
       "       [28.03231 ],\n",
       "       [28.268068],\n",
       "       [28.461708],\n",
       "       [28.711315],\n",
       "       [28.9962  ],\n",
       "       [29.25185 ],\n",
       "       [29.207096],\n",
       "       [28.634575],\n",
       "       [28.084326],\n",
       "       [27.564192],\n",
       "       [27.192104],\n",
       "       [27.156643],\n",
       "       [27.379686],\n",
       "       [27.605042],\n",
       "       [27.697794],\n",
       "       [28.164003],\n",
       "       [28.358622],\n",
       "       [28.124432],\n",
       "       [27.8974  ],\n",
       "       [27.503733],\n",
       "       [27.1133  ],\n",
       "       [26.912703],\n",
       "       [26.043493],\n",
       "       [25.848724],\n",
       "       [25.598873],\n",
       "       [25.994373],\n",
       "       [26.025562],\n",
       "       [26.340546],\n",
       "       [26.395939],\n",
       "       [25.869694],\n",
       "       [25.398403],\n",
       "       [25.426512],\n",
       "       [25.761028],\n",
       "       [26.437662],\n",
       "       [26.826979],\n",
       "       [27.204792],\n",
       "       [27.338541],\n",
       "       [27.606667],\n",
       "       [27.659492],\n",
       "       [28.01432 ],\n",
       "       [28.465498],\n",
       "       [28.944736],\n",
       "       [29.015768],\n",
       "       [29.075644],\n",
       "       [29.242203],\n",
       "       [29.380371],\n",
       "       [29.565012],\n",
       "       [29.69688 ],\n",
       "       [29.77011 ],\n",
       "       [29.777374],\n",
       "       [29.348763],\n",
       "       [29.163332],\n",
       "       [28.61954 ],\n",
       "       [28.153208],\n",
       "       [28.539598],\n",
       "       [28.606071],\n",
       "       [28.729513],\n",
       "       [28.914316],\n",
       "       [28.48657 ],\n",
       "       [28.47496 ],\n",
       "       [27.944983],\n",
       "       [27.241016],\n",
       "       [26.668512],\n",
       "       [26.434807],\n",
       "       [26.554653],\n",
       "       [26.55275 ],\n",
       "       [26.619991],\n",
       "       [26.923721],\n",
       "       [27.227316],\n",
       "       [27.14079 ],\n",
       "       [27.088474],\n",
       "       [26.816093],\n",
       "       [26.775799],\n",
       "       [27.380148],\n",
       "       [27.888138],\n",
       "       [28.668793],\n",
       "       [28.787737],\n",
       "       [29.23831 ],\n",
       "       [29.446274],\n",
       "       [29.651457],\n",
       "       [29.405859],\n",
       "       [29.359169],\n",
       "       [29.292442],\n",
       "       [29.387325],\n",
       "       [29.433422],\n",
       "       [29.468271],\n",
       "       [29.602509],\n",
       "       [29.64108 ],\n",
       "       [29.584946],\n",
       "       [29.59741 ],\n",
       "       [29.695236],\n",
       "       [29.559677],\n",
       "       [29.226103],\n",
       "       [28.981031],\n",
       "       [28.755154],\n",
       "       [28.661757],\n",
       "       [28.744598],\n",
       "       [28.819288]], dtype=float32)"
      ]
     },
     "execution_count": 142,
     "metadata": {},
     "output_type": "execute_result"
    }
   ],
   "source": [
    "# Prediction\n",
    "prev = model.predict(X_test)\n",
    "prev = std.inverse_transform(prev)\n",
    "prev"
   ]
  },
  {
   "cell_type": "code",
   "execution_count": 143,
   "id": "65a03d6d-52f5-4782-8179-0342e3a61f6d",
   "metadata": {
    "ExecuteTime": {
     "end_time": "2022-03-19T11:16:48.969928Z",
     "start_time": "2022-03-19T11:16:48.964581Z"
    }
   },
   "outputs": [
    {
     "data": {
      "text/plain": [
       "519"
      ]
     },
     "execution_count": 143,
     "metadata": {},
     "output_type": "execute_result"
    }
   ],
   "source": [
    "# Predict the next 10 days\n",
    "lenght_test = len(test)\n",
    "lenght_test"
   ]
  },
  {
   "cell_type": "code",
   "execution_count": 144,
   "id": "fad1bdda-522f-44a6-8b79-b13151cb055c",
   "metadata": {
    "ExecuteTime": {
     "end_time": "2022-03-19T11:16:49.897767Z",
     "start_time": "2022-03-19T11:16:49.892408Z"
    }
   },
   "outputs": [
    {
     "data": {
      "text/plain": [
       "504"
      ]
     },
     "execution_count": 144,
     "metadata": {},
     "output_type": "execute_result"
    }
   ],
   "source": [
    "# Get the last days to step\n",
    "days_input_steps =lenght_test - steps\n",
    "days_input_steps"
   ]
  },
  {
   "cell_type": "code",
   "execution_count": 145,
   "id": "be0170bc-40b7-4f05-a586-7471c1278956",
   "metadata": {
    "ExecuteTime": {
     "end_time": "2022-03-19T11:16:51.080630Z",
     "start_time": "2022-03-19T11:16:51.074038Z"
    }
   },
   "outputs": [
    {
     "data": {
      "text/plain": [
       "array([[1.41048896, 1.4595649 , 1.43502693, 1.3873142 , 1.41185218,\n",
       "        1.46501778, 1.36959234, 1.25644502, 1.2618979 , 1.25644502,\n",
       "        1.27961977, 1.33687504, 1.3409647 , 1.30824741, 1.29597842]])"
      ]
     },
     "execution_count": 145,
     "metadata": {},
     "output_type": "execute_result"
    }
   ],
   "source": [
    "# Transform in array\n",
    "input_steps = test[days_input_steps:]\n",
    "input_steps = np.array(input_steps).reshape(1, -1)\n",
    "input_steps"
   ]
  },
  {
   "cell_type": "code",
   "execution_count": 146,
   "id": "d64943bc-8518-4f26-ab1a-47a3b0544cd6",
   "metadata": {
    "ExecuteTime": {
     "end_time": "2022-03-19T11:16:53.214037Z",
     "start_time": "2022-03-19T11:16:53.208870Z"
    }
   },
   "outputs": [
    {
     "data": {
      "text/plain": [
       "[1.4104889554776525,\n",
       " 1.459564899170591,\n",
       " 1.4350269273241218,\n",
       " 1.3873142042893207,\n",
       " 1.4118521761357898,\n",
       " 1.46501778180314,\n",
       " 1.3695923357335371,\n",
       " 1.2564450211081513,\n",
       " 1.2618979037406999,\n",
       " 1.2564450211081513,\n",
       " 1.279619772296483,\n",
       " 1.336875039938245,\n",
       " 1.3409647019126567,\n",
       " 1.3082474061173641,\n",
       " 1.2959784201941293]"
      ]
     },
     "execution_count": 146,
     "metadata": {},
     "output_type": "execute_result"
    }
   ],
   "source": [
    "# Return in list\n",
    "list_output_steps = list(input_steps)\n",
    "list_output_steps = list_output_steps[0].tolist()\n",
    "list_output_steps"
   ]
  },
  {
   "cell_type": "code",
   "execution_count": 147,
   "id": "9cf6a4e6-6802-4ef7-9b8d-ac14c832d2b3",
   "metadata": {
    "ExecuteTime": {
     "end_time": "2022-03-19T11:16:56.191625Z",
     "start_time": "2022-03-19T11:16:55.604862Z"
    }
   },
   "outputs": [
    {
     "name": "stdout",
     "output_type": "stream",
     "text": [
      "[1.3452183]\n",
      "16\n",
      "Day 1. Value Entrance → [1.4595649  1.43502693 1.3873142  1.41185218 1.46501778 1.36959234\n",
      " 1.25644502 1.2618979  1.25644502 1.27961977 1.33687504 1.3409647\n",
      " 1.30824741 1.29597842 1.3452183 ]\n",
      "Day 1. Value Predict → [[1.3604507]]\n",
      "Day 2. Value Entrance → [1.43502693 1.3873142  1.41185218 1.46501778 1.36959234 1.25644502\n",
      " 1.2618979  1.25644502 1.27961977 1.33687504 1.3409647  1.30824741\n",
      " 1.29597842 1.3452183  1.36045074]\n",
      "Day 2. Value Predict → [[1.3741068]]\n",
      "Day 3. Value Entrance → [1.3873142  1.41185218 1.46501778 1.36959234 1.25644502 1.2618979\n",
      " 1.25644502 1.27961977 1.33687504 1.3409647  1.30824741 1.29597842\n",
      " 1.3452183  1.36045074 1.37410676]\n",
      "Day 3. Value Predict → [[1.388887]]\n",
      "Day 4. Value Entrance → [1.41185218 1.46501778 1.36959234 1.25644502 1.2618979  1.25644502\n",
      " 1.27961977 1.33687504 1.3409647  1.30824741 1.29597842 1.3452183\n",
      " 1.36045074 1.37410676 1.38888705]\n",
      "Day 4. Value Predict → [[1.4037375]]\n",
      "Day 5. Value Entrance → [1.46501778 1.36959234 1.25644502 1.2618979  1.25644502 1.27961977\n",
      " 1.33687504 1.3409647  1.30824741 1.29597842 1.3452183  1.36045074\n",
      " 1.37410676 1.38888705 1.40373755]\n",
      "Day 5. Value Predict → [[1.4184718]]\n",
      "Day 6. Value Entrance → [1.36959234 1.25644502 1.2618979  1.25644502 1.27961977 1.33687504\n",
      " 1.3409647  1.30824741 1.29597842 1.3452183  1.36045074 1.37410676\n",
      " 1.38888705 1.40373755 1.41847181]\n",
      "Day 6. Value Predict → [[1.4326104]]\n",
      "Day 7. Value Entrance → [1.25644502 1.2618979  1.25644502 1.27961977 1.33687504 1.3409647\n",
      " 1.30824741 1.29597842 1.3452183  1.36045074 1.37410676 1.38888705\n",
      " 1.40373755 1.41847181 1.43261039]\n",
      "Day 7. Value Predict → [[1.4459168]]\n",
      "Day 8. Value Entrance → [1.2618979  1.25644502 1.27961977 1.33687504 1.3409647  1.30824741\n",
      " 1.29597842 1.3452183  1.36045074 1.37410676 1.38888705 1.40373755\n",
      " 1.41847181 1.43261039 1.44591677]\n",
      "Day 8. Value Predict → [[1.4586047]]\n",
      "Day 9. Value Entrance → [1.25644502 1.27961977 1.33687504 1.3409647  1.30824741 1.29597842\n",
      " 1.3452183  1.36045074 1.37410676 1.38888705 1.40373755 1.41847181\n",
      " 1.43261039 1.44591677 1.45860469]\n",
      "Day 9. Value Predict → [[1.4706622]]\n",
      "[[1.345218300819397], [1.3604507446289062], [1.374106764793396], [1.3888870477676392], [1.4037375450134277], [1.4184718132019043], [1.4326103925704956], [1.445916771888733], [1.4586046934127808], [1.470662236213684]]\n"
     ]
    }
   ],
   "source": [
    "#Loop to preview the next 10 days\n",
    "pred_output = [] #→ recebe os dias a serem previstos\n",
    "i = 0\n",
    "n_future = 10\n",
    "while(i<n_future):\n",
    "    if(len(list_output_steps) > steps):\n",
    "       input_steps = np.array(list_output_steps[1:])\n",
    "       print('Day {}. Value Entrance → {}'.format(i, input_steps))\n",
    "       input_steps = input_steps.reshape(1, -1)\n",
    "       input_steps = input_steps.reshape((1, steps, 1))\n",
    "       #print(input_steps)\n",
    "       pred = model.predict(input_steps, verbose=0)\n",
    "       print('Day {}. Value Predict → {}'.format(i, pred))\n",
    "       list_output_steps.extend(pred[0].tolist())\n",
    "       list_output_steps = list_output_steps[1:]\n",
    "       #print(list_output_steps)\n",
    "       pred_output.extend(pred.tolist())\n",
    "       i = i+1\n",
    "       \n",
    "    else:\n",
    "       input_steps = input_steps.reshape((1, steps, 1))\n",
    "       pred= model.predict(input_steps, verbose=0)\n",
    "       print(pred[0])\n",
    "       list_output_steps.extend(pred[0].tolist())\n",
    "       print(len(list_output_steps))\n",
    "       pred_output.extend(pred.tolist())\n",
    "       i = i+1\n",
    "       \n",
    "print(pred_output)\n",
    "       \n",
    "       "
   ]
  },
  {
   "cell_type": "code",
   "execution_count": 148,
   "id": "e9a09e87-5461-467a-829c-3f89e35580ad",
   "metadata": {
    "ExecuteTime": {
     "end_time": "2022-03-19T11:16:59.490126Z",
     "start_time": "2022-03-19T11:16:59.483483Z"
    }
   },
   "outputs": [
    {
     "data": {
      "text/plain": [
       "[28.811202570774952,\n",
       " 28.922941222317426,\n",
       " 29.023115908513503,\n",
       " 29.131537702784435,\n",
       " 29.240474558730277,\n",
       " 29.34855880833819,\n",
       " 29.452273341155728,\n",
       " 29.549883212593713,\n",
       " 29.642956343845885,\n",
       " 29.731405288108363]"
      ]
     },
     "execution_count": 148,
     "metadata": {},
     "output_type": "execute_result"
    }
   ],
   "source": [
    "# transform exit\n",
    "prev = std.inverse_transform(pred_output)\n",
    "prev = np.array(prev).reshape(1, -1)\n",
    "list_output_prev = list(prev)\n",
    "list_output_prev = prev[0].tolist()\n",
    "list_output_prev"
   ]
  },
  {
   "cell_type": "code",
   "execution_count": 232,
   "id": "60dfd2ef-0c94-4542-8dac-8fad135df356",
   "metadata": {
    "ExecuteTime": {
     "end_time": "2022-03-19T11:42:00.634197Z",
     "start_time": "2022-03-19T11:42:00.612976Z"
    }
   },
   "outputs": [
    {
     "ename": "IndexError",
     "evalue": "list index out of range",
     "output_type": "error",
     "traceback": [
      "\u001b[0;31m---------------------------------------------------------------------------\u001b[0m",
      "\u001b[0;31mIndexError\u001b[0m                                Traceback (most recent call last)",
      "Input \u001b[0;32mIn [232]\u001b[0m, in \u001b[0;36m<module>\u001b[0;34m\u001b[0m\n\u001b[1;32m      1\u001b[0m \u001b[38;5;66m# format exit (date to predict)\u001b[39m\n\u001b[1;32m      2\u001b[0m dates \u001b[38;5;241m=\u001b[39m pd\u001b[38;5;241m.\u001b[39mto_datetime(df_petro[\u001b[38;5;124m'\u001b[39m\u001b[38;5;124mdata_pregao\u001b[39m\u001b[38;5;124m'\u001b[39m])\n\u001b[0;32m----> 3\u001b[0m predict_dates \u001b[38;5;241m=\u001b[39m pd\u001b[38;5;241m.\u001b[39mdate_range(\u001b[38;5;28;43mlist\u001b[39;49m\u001b[43m(\u001b[49m\u001b[43mdates\u001b[49m\u001b[43m)\u001b[49m\u001b[43m[\u001b[49m\u001b[38;5;241;43m-\u001b[39;49m\u001b[38;5;241;43m1\u001b[39;49m\u001b[43m]\u001b[49m \u001b[38;5;241m+\u001b[39m pd\u001b[38;5;241m.\u001b[39mDateOffset(\u001b[38;5;241m1\u001b[39m), periods\u001b[38;5;241m=\u001b[39m\u001b[38;5;241m10\u001b[39m, freq\u001b[38;5;241m=\u001b[39m\u001b[38;5;124m'\u001b[39m\u001b[38;5;124mb\u001b[39m\u001b[38;5;124m'\u001b[39m)\u001b[38;5;241m.\u001b[39mto_list()\n\u001b[1;32m      4\u001b[0m predict_dates\n",
      "\u001b[0;31mIndexError\u001b[0m: list index out of range"
     ]
    }
   ],
   "source": [
    "# format exit (date to predict)\n",
    "dates = pd.to_datetime(df_petro['data_pregao'])\n",
    "predict_dates = pd.date_range(list(dates)[-1] + pd.DateOffset(1), periods=10, freq='b').to_list()\n",
    "predict_dates"
   ]
  },
  {
   "cell_type": "code",
   "execution_count": 233,
   "id": "adcef319-aafa-4ca0-a982-4906ce74e459",
   "metadata": {
    "ExecuteTime": {
     "end_time": "2022-03-19T11:42:04.816773Z",
     "start_time": "2022-03-19T11:42:04.809867Z"
    }
   },
   "outputs": [],
   "source": [
    "# New DataFrame \n",
    "forecast_dates = []\n",
    "for i in predict_dates:\n",
    "    forecast_dates.append(i.date())\n",
    "    \n",
    "df_forecast = pd.DataFrame({'data_pregao':np.array(forecast_dates), 'preco_fechamento':list_output_prev})\n",
    "df_forecast['data_pregao'] = pd.to_datetime(df_forecast['data_pregao'])"
   ]
  },
  {
   "cell_type": "code",
   "execution_count": 234,
   "id": "48fe5cea-2dc8-429a-b897-68a9e182ef1c",
   "metadata": {
    "ExecuteTime": {
     "end_time": "2022-03-19T11:42:06.898819Z",
     "start_time": "2022-03-19T11:42:06.885301Z"
    }
   },
   "outputs": [
    {
     "data": {
      "text/html": [
       "<div>\n",
       "<style scoped>\n",
       "    .dataframe tbody tr th:only-of-type {\n",
       "        vertical-align: middle;\n",
       "    }\n",
       "\n",
       "    .dataframe tbody tr th {\n",
       "        vertical-align: top;\n",
       "    }\n",
       "\n",
       "    .dataframe thead th {\n",
       "        text-align: right;\n",
       "    }\n",
       "</style>\n",
       "<table border=\"1\" class=\"dataframe\">\n",
       "  <thead>\n",
       "    <tr style=\"text-align: right;\">\n",
       "      <th></th>\n",
       "      <th>data_pregao</th>\n",
       "      <th>preco_fechamento</th>\n",
       "    </tr>\n",
       "  </thead>\n",
       "  <tbody>\n",
       "    <tr>\n",
       "      <th>2021-12-31</th>\n",
       "      <td>2021-12-31</td>\n",
       "      <td>28.811203</td>\n",
       "    </tr>\n",
       "    <tr>\n",
       "      <th>2022-01-03</th>\n",
       "      <td>2022-01-03</td>\n",
       "      <td>28.922941</td>\n",
       "    </tr>\n",
       "    <tr>\n",
       "      <th>2022-01-04</th>\n",
       "      <td>2022-01-04</td>\n",
       "      <td>29.023116</td>\n",
       "    </tr>\n",
       "    <tr>\n",
       "      <th>2022-01-05</th>\n",
       "      <td>2022-01-05</td>\n",
       "      <td>29.131538</td>\n",
       "    </tr>\n",
       "    <tr>\n",
       "      <th>2022-01-06</th>\n",
       "      <td>2022-01-06</td>\n",
       "      <td>29.240475</td>\n",
       "    </tr>\n",
       "    <tr>\n",
       "      <th>2022-01-07</th>\n",
       "      <td>2022-01-07</td>\n",
       "      <td>29.348559</td>\n",
       "    </tr>\n",
       "    <tr>\n",
       "      <th>2022-01-10</th>\n",
       "      <td>2022-01-10</td>\n",
       "      <td>29.452273</td>\n",
       "    </tr>\n",
       "    <tr>\n",
       "      <th>2022-01-11</th>\n",
       "      <td>2022-01-11</td>\n",
       "      <td>29.549883</td>\n",
       "    </tr>\n",
       "    <tr>\n",
       "      <th>2022-01-12</th>\n",
       "      <td>2022-01-12</td>\n",
       "      <td>29.642956</td>\n",
       "    </tr>\n",
       "    <tr>\n",
       "      <th>2022-01-13</th>\n",
       "      <td>2022-01-13</td>\n",
       "      <td>29.731405</td>\n",
       "    </tr>\n",
       "  </tbody>\n",
       "</table>\n",
       "</div>"
      ],
      "text/plain": [
       "           data_pregao  preco_fechamento\n",
       "2021-12-31  2021-12-31         28.811203\n",
       "2022-01-03  2022-01-03         28.922941\n",
       "2022-01-04  2022-01-04         29.023116\n",
       "2022-01-05  2022-01-05         29.131538\n",
       "2022-01-06  2022-01-06         29.240475\n",
       "2022-01-07  2022-01-07         29.348559\n",
       "2022-01-10  2022-01-10         29.452273\n",
       "2022-01-11  2022-01-11         29.549883\n",
       "2022-01-12  2022-01-12         29.642956\n",
       "2022-01-13  2022-01-13         29.731405"
      ]
     },
     "execution_count": 234,
     "metadata": {},
     "output_type": "execute_result"
    }
   ],
   "source": [
    "df_forecast = df_forecast[df_forecast['data_pregao'] > '2020-01-01']\n",
    "df_forecast = df_forecast.set_index(pd.DatetimeIndex(df_forecast['data_pregao'].values))\n",
    "#df_forecast.drop('data_pregao', axis=1, inplace=True)\n",
    "df_forecast    "
   ]
  },
  {
   "cell_type": "code",
   "execution_count": 223,
   "id": "4f3ca8d0",
   "metadata": {
    "ExecuteTime": {
     "end_time": "2022-03-19T11:39:23.752064Z",
     "start_time": "2022-03-19T11:39:23.746526Z"
    }
   },
   "outputs": [],
   "source": [
    "df_forecast = df_forecast[df_forecast['data_pregao'] > '2021']"
   ]
  },
  {
   "cell_type": "code",
   "execution_count": null,
   "id": "12abf7b5",
   "metadata": {},
   "outputs": [],
   "source": []
  },
  {
   "cell_type": "code",
   "execution_count": null,
   "id": "4318b432",
   "metadata": {},
   "outputs": [],
   "source": []
  },
  {
   "cell_type": "code",
   "execution_count": null,
   "id": "0bdfacae",
   "metadata": {},
   "outputs": [],
   "source": []
  },
  {
   "cell_type": "code",
   "execution_count": 226,
   "id": "d79a2fd5-efae-4dd9-ad62-e63b74529a45",
   "metadata": {
    "ExecuteTime": {
     "end_time": "2022-03-19T11:40:14.858673Z",
     "start_time": "2022-03-19T11:40:14.361852Z"
    }
   },
   "outputs": [
    {
     "ename": "TypeError",
     "evalue": "float() argument must be a string or a number, not 'Timestamp'",
     "output_type": "error",
     "traceback": [
      "\u001b[0;31m---------------------------------------------------------------------------\u001b[0m",
      "\u001b[0;31mTypeError\u001b[0m                                 Traceback (most recent call last)",
      "Input \u001b[0;32mIn [226]\u001b[0m, in \u001b[0;36m<module>\u001b[0;34m\u001b[0m\n\u001b[1;32m      3\u001b[0m plt\u001b[38;5;241m.\u001b[39mplot(df_petro_cls[\u001b[38;5;124m'\u001b[39m\u001b[38;5;124mpreco_fechamento\u001b[39m\u001b[38;5;124m'\u001b[39m])\n\u001b[1;32m      4\u001b[0m \u001b[38;5;66m#plt.plot(df_petro['data_pregao'])\u001b[39m\n\u001b[0;32m----> 5\u001b[0m \u001b[43mplt\u001b[49m\u001b[38;5;241;43m.\u001b[39;49m\u001b[43mplot\u001b[49m\u001b[43m(\u001b[49m\u001b[43mdf_forecast\u001b[49m\u001b[43m[\u001b[49m\u001b[43m[\u001b[49m\u001b[38;5;124;43m'\u001b[39;49m\u001b[38;5;124;43mdata_pregao\u001b[39;49m\u001b[38;5;124;43m'\u001b[39;49m\u001b[43m,\u001b[49m\u001b[38;5;124;43m'\u001b[39;49m\u001b[38;5;124;43mpreco_fechamento\u001b[39;49m\u001b[38;5;124;43m'\u001b[39;49m\u001b[43m]\u001b[49m\u001b[43m]\u001b[49m\u001b[43m)\u001b[49m\n\u001b[1;32m      6\u001b[0m plt\u001b[38;5;241m.\u001b[39mlegend([\u001b[38;5;124m'\u001b[39m\u001b[38;5;124mPrice Closed\u001b[39m\u001b[38;5;124m'\u001b[39m, \u001b[38;5;124m'\u001b[39m\u001b[38;5;124mPrice Predicted\u001b[39m\u001b[38;5;124m'\u001b[39m])\n\u001b[1;32m      7\u001b[0m plt\u001b[38;5;241m.\u001b[39mshow()\n",
      "File \u001b[0;32m~/.local/lib/python3.8/site-packages/matplotlib/pyplot.py:2787\u001b[0m, in \u001b[0;36mplot\u001b[0;34m(scalex, scaley, data, *args, **kwargs)\u001b[0m\n\u001b[1;32m   2785\u001b[0m \u001b[38;5;129m@docstring\u001b[39m\u001b[38;5;241m.\u001b[39mcopy(Axes\u001b[38;5;241m.\u001b[39mplot)\n\u001b[1;32m   2786\u001b[0m \u001b[38;5;28;01mdef\u001b[39;00m \u001b[38;5;21mplot\u001b[39m(\u001b[38;5;241m*\u001b[39margs, scalex\u001b[38;5;241m=\u001b[39m\u001b[38;5;28;01mTrue\u001b[39;00m, scaley\u001b[38;5;241m=\u001b[39m\u001b[38;5;28;01mTrue\u001b[39;00m, data\u001b[38;5;241m=\u001b[39m\u001b[38;5;28;01mNone\u001b[39;00m, \u001b[38;5;241m*\u001b[39m\u001b[38;5;241m*\u001b[39mkwargs):\n\u001b[0;32m-> 2787\u001b[0m     \u001b[38;5;28;01mreturn\u001b[39;00m \u001b[43mgca\u001b[49m\u001b[43m(\u001b[49m\u001b[43m)\u001b[49m\u001b[38;5;241;43m.\u001b[39;49m\u001b[43mplot\u001b[49m\u001b[43m(\u001b[49m\n\u001b[1;32m   2788\u001b[0m \u001b[43m        \u001b[49m\u001b[38;5;241;43m*\u001b[39;49m\u001b[43margs\u001b[49m\u001b[43m,\u001b[49m\u001b[43m \u001b[49m\u001b[43mscalex\u001b[49m\u001b[38;5;241;43m=\u001b[39;49m\u001b[43mscalex\u001b[49m\u001b[43m,\u001b[49m\u001b[43m \u001b[49m\u001b[43mscaley\u001b[49m\u001b[38;5;241;43m=\u001b[39;49m\u001b[43mscaley\u001b[49m\u001b[43m,\u001b[49m\u001b[43m \u001b[49m\u001b[38;5;241;43m*\u001b[39;49m\u001b[38;5;241;43m*\u001b[39;49m\u001b[43m(\u001b[49m\u001b[43m{\u001b[49m\u001b[38;5;124;43m\"\u001b[39;49m\u001b[38;5;124;43mdata\u001b[39;49m\u001b[38;5;124;43m\"\u001b[39;49m\u001b[43m:\u001b[49m\u001b[43m \u001b[49m\u001b[43mdata\u001b[49m\u001b[43m}\u001b[49m\u001b[43m \u001b[49m\u001b[38;5;28;43;01mif\u001b[39;49;00m\u001b[43m \u001b[49m\u001b[43mdata\u001b[49m\n\u001b[1;32m   2789\u001b[0m \u001b[43m        \u001b[49m\u001b[38;5;129;43;01mis\u001b[39;49;00m\u001b[43m \u001b[49m\u001b[38;5;129;43;01mnot\u001b[39;49;00m\u001b[43m \u001b[49m\u001b[38;5;28;43;01mNone\u001b[39;49;00m\u001b[43m \u001b[49m\u001b[38;5;28;43;01melse\u001b[39;49;00m\u001b[43m \u001b[49m\u001b[43m{\u001b[49m\u001b[43m}\u001b[49m\u001b[43m)\u001b[49m\u001b[43m,\u001b[49m\u001b[43m \u001b[49m\u001b[38;5;241;43m*\u001b[39;49m\u001b[38;5;241;43m*\u001b[39;49m\u001b[43mkwargs\u001b[49m\u001b[43m)\u001b[49m\n",
      "File \u001b[0;32m~/.local/lib/python3.8/site-packages/matplotlib/axes/_axes.py:1667\u001b[0m, in \u001b[0;36mAxes.plot\u001b[0;34m(self, scalex, scaley, data, *args, **kwargs)\u001b[0m\n\u001b[1;32m   1665\u001b[0m lines \u001b[38;5;241m=\u001b[39m [\u001b[38;5;241m*\u001b[39m\u001b[38;5;28mself\u001b[39m\u001b[38;5;241m.\u001b[39m_get_lines(\u001b[38;5;241m*\u001b[39margs, data\u001b[38;5;241m=\u001b[39mdata, \u001b[38;5;241m*\u001b[39m\u001b[38;5;241m*\u001b[39mkwargs)]\n\u001b[1;32m   1666\u001b[0m \u001b[38;5;28;01mfor\u001b[39;00m line \u001b[38;5;129;01min\u001b[39;00m lines:\n\u001b[0;32m-> 1667\u001b[0m     \u001b[38;5;28;43mself\u001b[39;49m\u001b[38;5;241;43m.\u001b[39;49m\u001b[43madd_line\u001b[49m\u001b[43m(\u001b[49m\u001b[43mline\u001b[49m\u001b[43m)\u001b[49m\n\u001b[1;32m   1668\u001b[0m \u001b[38;5;28mself\u001b[39m\u001b[38;5;241m.\u001b[39mautoscale_view(scalex\u001b[38;5;241m=\u001b[39mscalex, scaley\u001b[38;5;241m=\u001b[39mscaley)\n\u001b[1;32m   1669\u001b[0m \u001b[38;5;28;01mreturn\u001b[39;00m lines\n",
      "File \u001b[0;32m~/.local/lib/python3.8/site-packages/matplotlib/axes/_base.py:1902\u001b[0m, in \u001b[0;36m_AxesBase.add_line\u001b[0;34m(self, line)\u001b[0m\n\u001b[1;32m   1899\u001b[0m \u001b[38;5;28;01mif\u001b[39;00m line\u001b[38;5;241m.\u001b[39mget_clip_path() \u001b[38;5;129;01mis\u001b[39;00m \u001b[38;5;28;01mNone\u001b[39;00m:\n\u001b[1;32m   1900\u001b[0m     line\u001b[38;5;241m.\u001b[39mset_clip_path(\u001b[38;5;28mself\u001b[39m\u001b[38;5;241m.\u001b[39mpatch)\n\u001b[0;32m-> 1902\u001b[0m \u001b[38;5;28;43mself\u001b[39;49m\u001b[38;5;241;43m.\u001b[39;49m\u001b[43m_update_line_limits\u001b[49m\u001b[43m(\u001b[49m\u001b[43mline\u001b[49m\u001b[43m)\u001b[49m\n\u001b[1;32m   1903\u001b[0m \u001b[38;5;28;01mif\u001b[39;00m \u001b[38;5;129;01mnot\u001b[39;00m line\u001b[38;5;241m.\u001b[39mget_label():\n\u001b[1;32m   1904\u001b[0m     line\u001b[38;5;241m.\u001b[39mset_label(\u001b[38;5;124m'\u001b[39m\u001b[38;5;124m_line\u001b[39m\u001b[38;5;132;01m%d\u001b[39;00m\u001b[38;5;124m'\u001b[39m \u001b[38;5;241m%\u001b[39m \u001b[38;5;28mlen\u001b[39m(\u001b[38;5;28mself\u001b[39m\u001b[38;5;241m.\u001b[39mlines))\n",
      "File \u001b[0;32m~/.local/lib/python3.8/site-packages/matplotlib/axes/_base.py:1924\u001b[0m, in \u001b[0;36m_AxesBase._update_line_limits\u001b[0;34m(self, line)\u001b[0m\n\u001b[1;32m   1920\u001b[0m \u001b[38;5;28;01mdef\u001b[39;00m \u001b[38;5;21m_update_line_limits\u001b[39m(\u001b[38;5;28mself\u001b[39m, line):\n\u001b[1;32m   1921\u001b[0m     \u001b[38;5;124m\"\"\"\u001b[39m\n\u001b[1;32m   1922\u001b[0m \u001b[38;5;124m    Figures out the data limit of the given line, updating self.dataLim.\u001b[39m\n\u001b[1;32m   1923\u001b[0m \u001b[38;5;124m    \"\"\"\u001b[39m\n\u001b[0;32m-> 1924\u001b[0m     path \u001b[38;5;241m=\u001b[39m \u001b[43mline\u001b[49m\u001b[38;5;241;43m.\u001b[39;49m\u001b[43mget_path\u001b[49m\u001b[43m(\u001b[49m\u001b[43m)\u001b[49m\n\u001b[1;32m   1925\u001b[0m     \u001b[38;5;28;01mif\u001b[39;00m path\u001b[38;5;241m.\u001b[39mvertices\u001b[38;5;241m.\u001b[39msize \u001b[38;5;241m==\u001b[39m \u001b[38;5;241m0\u001b[39m:\n\u001b[1;32m   1926\u001b[0m         \u001b[38;5;28;01mreturn\u001b[39;00m\n",
      "File \u001b[0;32m~/.local/lib/python3.8/site-packages/matplotlib/lines.py:1027\u001b[0m, in \u001b[0;36mLine2D.get_path\u001b[0;34m(self)\u001b[0m\n\u001b[1;32m   1022\u001b[0m \u001b[38;5;124m\"\"\"\u001b[39m\n\u001b[1;32m   1023\u001b[0m \u001b[38;5;124mReturn the :class:`~matplotlib.path.Path` object associated\u001b[39m\n\u001b[1;32m   1024\u001b[0m \u001b[38;5;124mwith this line.\u001b[39m\n\u001b[1;32m   1025\u001b[0m \u001b[38;5;124m\"\"\"\u001b[39m\n\u001b[1;32m   1026\u001b[0m \u001b[38;5;28;01mif\u001b[39;00m \u001b[38;5;28mself\u001b[39m\u001b[38;5;241m.\u001b[39m_invalidy \u001b[38;5;129;01mor\u001b[39;00m \u001b[38;5;28mself\u001b[39m\u001b[38;5;241m.\u001b[39m_invalidx:\n\u001b[0;32m-> 1027\u001b[0m     \u001b[38;5;28;43mself\u001b[39;49m\u001b[38;5;241;43m.\u001b[39;49m\u001b[43mrecache\u001b[49m\u001b[43m(\u001b[49m\u001b[43m)\u001b[49m\n\u001b[1;32m   1028\u001b[0m \u001b[38;5;28;01mreturn\u001b[39;00m \u001b[38;5;28mself\u001b[39m\u001b[38;5;241m.\u001b[39m_path\n",
      "File \u001b[0;32m~/.local/lib/python3.8/site-packages/matplotlib/lines.py:675\u001b[0m, in \u001b[0;36mLine2D.recache\u001b[0;34m(self, always)\u001b[0m\n\u001b[1;32m    673\u001b[0m \u001b[38;5;28;01mif\u001b[39;00m always \u001b[38;5;129;01mor\u001b[39;00m \u001b[38;5;28mself\u001b[39m\u001b[38;5;241m.\u001b[39m_invalidy:\n\u001b[1;32m    674\u001b[0m     yconv \u001b[38;5;241m=\u001b[39m \u001b[38;5;28mself\u001b[39m\u001b[38;5;241m.\u001b[39mconvert_yunits(\u001b[38;5;28mself\u001b[39m\u001b[38;5;241m.\u001b[39m_yorig)\n\u001b[0;32m--> 675\u001b[0m     y \u001b[38;5;241m=\u001b[39m \u001b[43m_to_unmasked_float_array\u001b[49m\u001b[43m(\u001b[49m\u001b[43myconv\u001b[49m\u001b[43m)\u001b[49m\u001b[38;5;241m.\u001b[39mravel()\n\u001b[1;32m    676\u001b[0m \u001b[38;5;28;01melse\u001b[39;00m:\n\u001b[1;32m    677\u001b[0m     y \u001b[38;5;241m=\u001b[39m \u001b[38;5;28mself\u001b[39m\u001b[38;5;241m.\u001b[39m_y\n",
      "File \u001b[0;32m~/.local/lib/python3.8/site-packages/matplotlib/cbook/__init__.py:1390\u001b[0m, in \u001b[0;36m_to_unmasked_float_array\u001b[0;34m(x)\u001b[0m\n\u001b[1;32m   1388\u001b[0m     \u001b[38;5;28;01mreturn\u001b[39;00m np\u001b[38;5;241m.\u001b[39mma\u001b[38;5;241m.\u001b[39masarray(x, \u001b[38;5;28mfloat\u001b[39m)\u001b[38;5;241m.\u001b[39mfilled(np\u001b[38;5;241m.\u001b[39mnan)\n\u001b[1;32m   1389\u001b[0m \u001b[38;5;28;01melse\u001b[39;00m:\n\u001b[0;32m-> 1390\u001b[0m     \u001b[38;5;28;01mreturn\u001b[39;00m \u001b[43mnp\u001b[49m\u001b[38;5;241;43m.\u001b[39;49m\u001b[43masarray\u001b[49m\u001b[43m(\u001b[49m\u001b[43mx\u001b[49m\u001b[43m,\u001b[49m\u001b[43m \u001b[49m\u001b[38;5;28;43mfloat\u001b[39;49m\u001b[43m)\u001b[49m\n",
      "\u001b[0;31mTypeError\u001b[0m: float() argument must be a string or a number, not 'Timestamp'"
     ]
    },
    {
     "data": {
      "image/png": "[encoded data removed]",
      "text/plain": [
       "<Figure size 1152x576 with 1 Axes>"
      ]
     },
     "metadata": {
      "needs_background": "light"
     },
     "output_type": "display_data"
    }
   ],
   "source": [
    "plt.figure(figsize=(16,8))\n",
    "plt.title('Price Share Value')\n",
    "plt.plot(df_petro_cls['preco_fechamento'])\n",
    "#plt.plot(df_petro['data_pregao'])\n",
    "plt.plot(df_forecast['preco_fechamento'])\n",
    "plt.legend(['Price Closed', 'Price Predicted'])\n",
    "plt.show()"
   ]
  },
  {
   "cell_type": "code",
   "execution_count": 157,
   "id": "bcfbfedd",
   "metadata": {
    "ExecuteTime": {
     "end_time": "2022-03-19T11:17:55.575483Z",
     "start_time": "2022-03-19T11:17:55.568444Z"
    }
   },
   "outputs": [
    {
     "data": {
      "text/plain": [
       "preco_fechamento    float64\n",
       "dtype: object"
      ]
     },
     "execution_count": 157,
     "metadata": {},
     "output_type": "execute_result"
    }
   ],
   "source": [
    "df_petro_cls.dtypes"
   ]
  },
  {
   "cell_type": "code",
   "execution_count": null,
   "id": "711f0001",
   "metadata": {},
   "outputs": [],
   "source": [
    "sns.lineplot(data=flights, x=\"year\", y=\"passengers\", hue=\"month\")"
   ]
  },
  {
   "cell_type": "code",
   "execution_count": 227,
   "id": "695147b2",
   "metadata": {
    "ExecuteTime": {
     "end_time": "2022-03-19T11:40:29.365682Z",
     "start_time": "2022-03-19T11:40:29.002930Z"
    }
   },
   "outputs": [
    {
     "data": {
      "text/plain": [
       "<matplotlib.axes._subplots.AxesSubplot at 0x7f1cbbff80d0>"
      ]
     },
     "execution_count": 227,
     "metadata": {},
     "output_type": "execute_result"
    },
    {
     "data": {
      "image/png": "[encoded data removed]",
      "text/plain": [
       "<Figure size 432x288 with 1 Axes>"
      ]
     },
     "metadata": {
      "needs_background": "light"
     },
     "output_type": "display_data"
    }
   ],
   "source": [
    "sns.lineplot(data=df_forecast[df_forecast['data_pregao'] > '2021-01-01'], x=\"data_pregao\", y=\"preco_fechamento\", hue=\"data_pregao\")"
   ]
  },
  {
   "cell_type": "code",
   "execution_count": 228,
   "id": "aa92dc5a-ff29-4c6d-afe5-5279821ee4cb",
   "metadata": {
    "ExecuteTime": {
     "end_time": "2022-03-19T11:40:34.074707Z",
     "start_time": "2022-03-19T11:40:33.786483Z"
    },
    "scrolled": true
   },
   "outputs": [
    {
     "data": {
      "image/png": "[encoded data removed]",
      "text/plain": [
       "<Figure size 1152x576 with 1 Axes>"
      ]
     },
     "metadata": {
      "needs_background": "light"
     },
     "output_type": "display_data"
    }
   ],
   "source": [
    "plt.figure(figsize=(16,8))\n",
    "plt.title('Price Share Value')\n",
    "plt.plot(df_petro_cls['preco_fechamento'], label='Real Value', color='blue', marker='|');\n",
    "plt.plot(df_forecast['preco_fechamento'], label='Predict Value', color='orange', marker='|');\n",
    "plt.xlabel('Trading Date');\n",
    "plt.ylabel('Closing Price');\n",
    "leg = plt.legend()\n"
   ]
  },
  {
   "cell_type": "code",
   "execution_count": null,
   "id": "ca3fce05",
   "metadata": {},
   "outputs": [],
   "source": []
  },
  {
   "cell_type": "code",
   "execution_count": null,
   "id": "d95a55a3",
   "metadata": {},
   "outputs": [],
   "source": []
  },
  {
   "cell_type": "code",
   "execution_count": null,
   "id": "dee92fec",
   "metadata": {},
   "outputs": [],
   "source": []
  },
  {
   "cell_type": "code",
   "execution_count": null,
   "id": "07fc7f21",
   "metadata": {},
   "outputs": [],
   "source": []
  },
  {
   "cell_type": "code",
   "execution_count": null,
   "id": "5e692f83",
   "metadata": {},
   "outputs": [],
   "source": []
  },
  {
   "cell_type": "code",
   "execution_count": null,
   "id": "e7697806",
   "metadata": {},
   "outputs": [],
   "source": []
  },
  {
   "cell_type": "code",
   "execution_count": null,
   "id": "e9f85f86",
   "metadata": {},
   "outputs": [],
   "source": []
  },
  {
   "cell_type": "code",
   "execution_count": 49,
   "id": "ec531272",
   "metadata": {
    "ExecuteTime": {
     "end_time": "2022-03-17T14:11:02.089514Z",
     "start_time": "2022-03-17T14:11:01.909576Z"
    }
   },
   "outputs": [
    {
     "data": {
      "image/png": "[encoded data removed]",
      "text/plain": [
       "<Figure size 1152x576 with 1 Axes>"
      ]
     },
     "metadata": {
      "needs_background": "light"
     },
     "output_type": "display_data"
    }
   ],
   "source": [
    "plt.figure(figsize=(16,8))\n",
    "plt.title('Price Share Value')\n",
    "plt.plot(df_pred['real'], label='Real Value', color='blue', marker='o');\n",
    "plt.plot(df_pred['predict'], label='Predict Value', color='orange', marker='o');\n",
    "plt.xlabel('Trading Date');\n",
    "plt.ylabel('Closing Price');\n",
    "leg = plt.legend()\n"
   ]
  },
  {
   "cell_type": "code",
   "execution_count": 99,
   "id": "a3df0fee",
   "metadata": {
    "ExecuteTime": {
     "end_time": "2022-03-17T12:20:48.902800Z",
     "start_time": "2022-03-17T12:20:48.615888Z"
    }
   },
   "outputs": [
    {
     "data": {
      "image/png": "[encoded data removed]",
      "text/plain": [
       "<Figure size 1152x576 with 1 Axes>"
      ]
     },
     "metadata": {
      "needs_background": "light"
     },
     "output_type": "display_data"
    }
   ],
   "source": [
    "#plt.figure(figsize=(16,8))\n",
    "#plt.title('Price Share Value')\n",
    "#plt.plot(df_pred['real'], label='Real Value', color='brown', marker='o');\n",
    "#plt.plot(df_pred['predict'], label='Predict Value', color='orange', marker='o');\n",
    "#plt.xlabel('Trading Date');\n",
    "#plt.ylabel('Closing Price');\n",
    "#leg = plt.legend()\n"
   ]
  }
 ],
 "metadata": {
  "hide_input": false,
  "kernelspec": {
   "display_name": "Python 3 (ipykernel)",
   "language": "python",
   "name": "python3"
  },
  "language_info": {
   "codemirror_mode": {
    "name": "ipython",
    "version": 3
   },
   "file_extension": ".py",
   "mimetype": "text/x-python",
   "name": "python",
   "nbconvert_exporter": "python",
   "pygments_lexer": "ipython3",
   "version": "3.8.10"
  },
  "nbTranslate": {
   "displayLangs": [
    "*"
   ],
   "hotkey": "alt-t",
   "langInMainMenu": true,
   "sourceLang": "en",
   "targetLang": "fr",
   "useGoogleTranslate": true
  }
 },
 "nbformat": 4,
 "nbformat_minor": 5
}
