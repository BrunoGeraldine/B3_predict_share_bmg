{
 "cells": [
  {
   "cell_type": "markdown",
   "id": "7d318df6",
   "metadata": {},
   "source": [
    "# Imports"
   ]
  },
  {
   "cell_type": "code",
   "execution_count": 1,
   "id": "d020cd7a",
   "metadata": {
    "ExecuteTime": {
     "end_time": "2022-03-16T15:25:49.568550Z",
     "start_time": "2022-03-16T15:25:48.931281Z"
    }
   },
   "outputs": [],
   "source": [
    "import pandas as pd"
   ]
  },
  {
   "cell_type": "markdown",
   "id": "2c8122c3",
   "metadata": {},
   "source": [
    "## Load files"
   ]
  },
  {
   "cell_type": "code",
   "execution_count": 3,
   "id": "75cd5c6f",
   "metadata": {
    "ExecuteTime": {
     "end_time": "2022-03-16T15:26:23.746959Z",
     "start_time": "2022-03-16T15:26:13.662615Z"
    }
   },
   "outputs": [],
   "source": [
    "cols_position = [(2,10),\n",
    "            (10,12),\n",
    "            (12,24),\n",
    "            (27,39),\n",
    "            (56,69),\n",
    "            (69,82),\n",
    "            (82,95),\n",
    "            (108,121),\n",
    "            (152,170),\n",
    "            (170, 178)]\n",
    "\n",
    "cols_name = ['data_pregao', 'codbdi', 'sigla_acao',\n",
    "             'nome_acao', 'preco_abertura', 'preco_maximo',\n",
    "             'preco_minimo', 'preco_fechamento', 'qtd_negocios',\n",
    "             'volume_negocios']\n",
    "\n",
    "df = pd.read_fwf('../COTAHIST_A2019.TXT', colspecs=cols_position, names=cols_name, skiprows=1)"
   ]
  },
  {
   "cell_type": "code",
   "execution_count": 4,
   "id": "c9a34ac0",
   "metadata": {
    "ExecuteTime": {
     "end_time": "2022-03-16T15:26:26.550671Z",
     "start_time": "2022-03-16T15:26:26.449518Z"
    }
   },
   "outputs": [],
   "source": [
    "# Filtering data to codbdi == 2 and drop column\n",
    "df = df[df['codbdi']==2]\n",
    "df = df.drop(['codbdi'], axis=1)"
   ]
  },
  {
   "cell_type": "code",
   "execution_count": 7,
   "id": "ae5ec74d",
   "metadata": {
    "ExecuteTime": {
     "end_time": "2022-03-16T15:26:47.035191Z",
     "start_time": "2022-03-16T15:26:46.999060Z"
    }
   },
   "outputs": [],
   "source": [
    "# Ajusta datetime\n",
    "df['data_pregao'] = pd.to_datetime(df['data_pregao'], format='%Y%m%d')\n",
    "\n",
    "# Ajuste Campo Numericos\n",
    "df['qtd_negocios'] = df['qtd_negocios'].astype(int)\n",
    "df['volume_negocios'] = df['volume_negocios'].astype(int)\n",
    "df['preco_abertura'] = (df['preco_abertura']/100).astype(float)\n",
    "df['preco_maximo'] = (df['preco_maximo']/100).astype(float)\n",
    "df['preco_minimo'] = (df['preco_minimo']/100).astype(float)\n",
    "df['preco_fechamento'] = (df['preco_fechamento']/100).astype(float)\n"
   ]
  },
  {
   "cell_type": "code",
   "execution_count": 9,
   "id": "fa03f545",
   "metadata": {
    "ExecuteTime": {
     "end_time": "2022-03-16T15:27:36.396020Z",
     "start_time": "2022-03-16T15:27:36.378154Z"
    }
   },
   "outputs": [],
   "source": [
    "df_itau = df[df['sigla_acao']=='ITUB4']"
   ]
  },
  {
   "cell_type": "code",
   "execution_count": 10,
   "id": "198191f6",
   "metadata": {
    "ExecuteTime": {
     "end_time": "2022-03-16T15:27:47.070026Z",
     "start_time": "2022-03-16T15:27:47.047686Z"
    }
   },
   "outputs": [
    {
     "data": {
      "text/html": [
       "<div>\n",
       "<style scoped>\n",
       "    .dataframe tbody tr th:only-of-type {\n",
       "        vertical-align: middle;\n",
       "    }\n",
       "\n",
       "    .dataframe tbody tr th {\n",
       "        vertical-align: top;\n",
       "    }\n",
       "\n",
       "    .dataframe thead th {\n",
       "        text-align: right;\n",
       "    }\n",
       "</style>\n",
       "<table border=\"1\" class=\"dataframe\">\n",
       "  <thead>\n",
       "    <tr style=\"text-align: right;\">\n",
       "      <th></th>\n",
       "      <th>data_pregao</th>\n",
       "      <th>sigla_acao</th>\n",
       "      <th>nome_acao</th>\n",
       "      <th>preco_abertura</th>\n",
       "      <th>preco_maximo</th>\n",
       "      <th>preco_minimo</th>\n",
       "      <th>preco_fechamento</th>\n",
       "      <th>qtd_negocios</th>\n",
       "      <th>volume_negocios</th>\n",
       "    </tr>\n",
       "  </thead>\n",
       "  <tbody>\n",
       "    <tr>\n",
       "      <th>197</th>\n",
       "      <td>2019-01-02</td>\n",
       "      <td>ITUB4</td>\n",
       "      <td>ITAUUNIBANCO</td>\n",
       "      <td>35.44</td>\n",
       "      <td>37.14</td>\n",
       "      <td>35.35</td>\n",
       "      <td>37.00</td>\n",
       "      <td>25581700</td>\n",
       "      <td>9</td>\n",
       "    </tr>\n",
       "    <tr>\n",
       "      <th>1106</th>\n",
       "      <td>2019-01-03</td>\n",
       "      <td>ITUB4</td>\n",
       "      <td>ITAUUNIBANCO</td>\n",
       "      <td>36.75</td>\n",
       "      <td>37.61</td>\n",
       "      <td>36.45</td>\n",
       "      <td>37.61</td>\n",
       "      <td>21938600</td>\n",
       "      <td>8</td>\n",
       "    </tr>\n",
       "    <tr>\n",
       "      <th>1969</th>\n",
       "      <td>2019-01-04</td>\n",
       "      <td>ITUB4</td>\n",
       "      <td>ITAUUNIBANCO</td>\n",
       "      <td>37.22</td>\n",
       "      <td>37.71</td>\n",
       "      <td>36.75</td>\n",
       "      <td>36.98</td>\n",
       "      <td>24873500</td>\n",
       "      <td>9</td>\n",
       "    </tr>\n",
       "    <tr>\n",
       "      <th>2824</th>\n",
       "      <td>2019-01-07</td>\n",
       "      <td>ITUB4</td>\n",
       "      <td>ITAUUNIBANCO</td>\n",
       "      <td>36.80</td>\n",
       "      <td>37.50</td>\n",
       "      <td>36.75</td>\n",
       "      <td>37.05</td>\n",
       "      <td>16901100</td>\n",
       "      <td>6</td>\n",
       "    </tr>\n",
       "    <tr>\n",
       "      <th>3749</th>\n",
       "      <td>2019-01-08</td>\n",
       "      <td>ITUB4</td>\n",
       "      <td>ITAUUNIBANCO</td>\n",
       "      <td>37.18</td>\n",
       "      <td>37.57</td>\n",
       "      <td>36.56</td>\n",
       "      <td>37.52</td>\n",
       "      <td>19556300</td>\n",
       "      <td>7</td>\n",
       "    </tr>\n",
       "    <tr>\n",
       "      <th>...</th>\n",
       "      <td>...</td>\n",
       "      <td>...</td>\n",
       "      <td>...</td>\n",
       "      <td>...</td>\n",
       "      <td>...</td>\n",
       "      <td>...</td>\n",
       "      <td>...</td>\n",
       "      <td>...</td>\n",
       "      <td>...</td>\n",
       "    </tr>\n",
       "    <tr>\n",
       "      <th>226725</th>\n",
       "      <td>2019-12-20</td>\n",
       "      <td>ITUB4</td>\n",
       "      <td>ITAUUNIBANCO</td>\n",
       "      <td>36.63</td>\n",
       "      <td>36.70</td>\n",
       "      <td>36.30</td>\n",
       "      <td>36.50</td>\n",
       "      <td>24863500</td>\n",
       "      <td>9</td>\n",
       "    </tr>\n",
       "    <tr>\n",
       "      <th>227758</th>\n",
       "      <td>2019-12-23</td>\n",
       "      <td>ITUB4</td>\n",
       "      <td>ITAUUNIBANCO</td>\n",
       "      <td>36.50</td>\n",
       "      <td>36.84</td>\n",
       "      <td>36.31</td>\n",
       "      <td>36.84</td>\n",
       "      <td>11691500</td>\n",
       "      <td>4</td>\n",
       "    </tr>\n",
       "    <tr>\n",
       "      <th>228799</th>\n",
       "      <td>2019-12-26</td>\n",
       "      <td>ITUB4</td>\n",
       "      <td>ITAUUNIBANCO</td>\n",
       "      <td>36.80</td>\n",
       "      <td>37.40</td>\n",
       "      <td>36.65</td>\n",
       "      <td>37.40</td>\n",
       "      <td>16333100</td>\n",
       "      <td>6</td>\n",
       "    </tr>\n",
       "    <tr>\n",
       "      <th>229852</th>\n",
       "      <td>2019-12-27</td>\n",
       "      <td>ITUB4</td>\n",
       "      <td>ITAUUNIBANCO</td>\n",
       "      <td>37.50</td>\n",
       "      <td>37.69</td>\n",
       "      <td>36.91</td>\n",
       "      <td>37.30</td>\n",
       "      <td>13455300</td>\n",
       "      <td>5</td>\n",
       "    </tr>\n",
       "    <tr>\n",
       "      <th>231049</th>\n",
       "      <td>2019-12-30</td>\n",
       "      <td>ITUB4</td>\n",
       "      <td>ITAUUNIBANCO</td>\n",
       "      <td>37.34</td>\n",
       "      <td>37.59</td>\n",
       "      <td>36.86</td>\n",
       "      <td>37.10</td>\n",
       "      <td>9225800</td>\n",
       "      <td>3</td>\n",
       "    </tr>\n",
       "  </tbody>\n",
       "</table>\n",
       "<p>248 rows × 9 columns</p>\n",
       "</div>"
      ],
      "text/plain": [
       "       data_pregao sigla_acao     nome_acao  preco_abertura  preco_maximo  \\\n",
       "197     2019-01-02      ITUB4  ITAUUNIBANCO           35.44         37.14   \n",
       "1106    2019-01-03      ITUB4  ITAUUNIBANCO           36.75         37.61   \n",
       "1969    2019-01-04      ITUB4  ITAUUNIBANCO           37.22         37.71   \n",
       "2824    2019-01-07      ITUB4  ITAUUNIBANCO           36.80         37.50   \n",
       "3749    2019-01-08      ITUB4  ITAUUNIBANCO           37.18         37.57   \n",
       "...            ...        ...           ...             ...           ...   \n",
       "226725  2019-12-20      ITUB4  ITAUUNIBANCO           36.63         36.70   \n",
       "227758  2019-12-23      ITUB4  ITAUUNIBANCO           36.50         36.84   \n",
       "228799  2019-12-26      ITUB4  ITAUUNIBANCO           36.80         37.40   \n",
       "229852  2019-12-27      ITUB4  ITAUUNIBANCO           37.50         37.69   \n",
       "231049  2019-12-30      ITUB4  ITAUUNIBANCO           37.34         37.59   \n",
       "\n",
       "        preco_minimo  preco_fechamento  qtd_negocios  volume_negocios  \n",
       "197            35.35             37.00      25581700                9  \n",
       "1106           36.45             37.61      21938600                8  \n",
       "1969           36.75             36.98      24873500                9  \n",
       "2824           36.75             37.05      16901100                6  \n",
       "3749           36.56             37.52      19556300                7  \n",
       "...              ...               ...           ...              ...  \n",
       "226725         36.30             36.50      24863500                9  \n",
       "227758         36.31             36.84      11691500                4  \n",
       "228799         36.65             37.40      16333100                6  \n",
       "229852         36.91             37.30      13455300                5  \n",
       "231049         36.86             37.10       9225800                3  \n",
       "\n",
       "[248 rows x 9 columns]"
      ]
     },
     "execution_count": 10,
     "metadata": {},
     "output_type": "execute_result"
    }
   ],
   "source": [
    "df_itau"
   ]
  },
  {
   "cell_type": "code",
   "execution_count": null,
   "id": "4d0b59f4",
   "metadata": {},
   "outputs": [],
   "source": []
  }
 ],
 "metadata": {
  "hide_input": false,
  "kernelspec": {
   "display_name": "Python 3 (ipykernel)",
   "language": "python",
   "name": "python3"
  },
  "language_info": {
   "codemirror_mode": {
    "name": "ipython",
    "version": 3
   },
   "file_extension": ".py",
   "mimetype": "text/x-python",
   "name": "python",
   "nbconvert_exporter": "python",
   "pygments_lexer": "ipython3",
   "version": "3.8.10"
  },
  "nbTranslate": {
   "displayLangs": [
    "*"
   ],
   "hotkey": "alt-t",
   "langInMainMenu": true,
   "sourceLang": "en",
   "targetLang": "fr",
   "useGoogleTranslate": true
  }
 },
 "nbformat": 4,
 "nbformat_minor": 5
}
