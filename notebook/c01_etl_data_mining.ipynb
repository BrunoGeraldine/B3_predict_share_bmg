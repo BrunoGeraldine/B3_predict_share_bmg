{
 "cells": [
  {
   "cell_type": "markdown",
   "id": "7d318df6",
   "metadata": {},
   "source": [
    "# Imports"
   ]
  },
  {
   "cell_type": "code",
   "execution_count": 1,
   "id": "d020cd7a",
   "metadata": {
    "ExecuteTime": {
     "end_time": "2022-03-15T17:49:57.820562Z",
     "start_time": "2022-03-15T17:49:57.433992Z"
    }
   },
   "outputs": [],
   "source": [
    "import pandas as pd"
   ]
  },
  {
   "cell_type": "markdown",
   "id": "2c8122c3",
   "metadata": {},
   "source": [
    "## Load files"
   ]
  },
  {
   "cell_type": "code",
   "execution_count": null,
   "id": "75cd5c6f",
   "metadata": {},
   "outputs": [],
   "source": [
    "antes da construção da função\n",
    "cols_position = [(2,10),\n",
    "            (10,12),\n",
    "            (12,24),\n",
    "            (27,39),\n",
    "            (56,69),\n",
    "            (69,82),\n",
    "            (82,95),\n",
    "            (108,121),\n",
    "            (152,170),\n",
    "            (170, 178)]\n",
    "\n",
    "cols_name = ['data_pregao', 'codbdi', 'sigla_acao',\n",
    "             'nome_acao', 'preco_abertura', 'preco maximo',\n",
    "             'preco_minimo', 'preco_fechamento', 'qtd_negocios',\n",
    "             'volume_negocios']\n",
    "\n",
    "df = pd.read_fwf('../data/external/COTAHIST_A2019.TXT', colspecs=cols_position, names=cols_name, skiprows=1)"
   ]
  },
  {
   "cell_type": "code",
   "execution_count": 37,
   "id": "c9a34ac0",
   "metadata": {
    "ExecuteTime": {
     "end_time": "2022-03-15T19:03:52.671456Z",
     "start_time": "2022-03-15T19:03:52.665425Z"
    }
   },
   "outputs": [],
   "source": [
    "# Filtering data to codbdi == 2 and drop column\n",
    "df = df[df['codbdi']==2]\n",
    "df = df.drop(['codbdi'], axis=1)"
   ]
  },
  {
   "cell_type": "code",
   "execution_count": 38,
   "id": "ae5ec74d",
   "metadata": {
    "ExecuteTime": {
     "end_time": "2022-03-15T19:03:53.874298Z",
     "start_time": "2022-03-15T19:03:53.866635Z"
    }
   },
   "outputs": [],
   "source": [
    "# Ajusta datetime\n",
    "df1['data_pregao'] = pd.to_datetime(df1['data_pregao'], format='%Y%m%d')\n",
    "\n",
    "# Ajuste Campo Numericos\n",
    "df1['qtd_negocios'] = df1['qtd_negocios'].astype(int)\n",
    "df1['volume_negocios'] = df1['volume_negocios'].astype(int)\n",
    "    "
   ]
  },
  {
   "cell_type": "code",
   "execution_count": null,
   "id": "fa03f545",
   "metadata": {},
   "outputs": [],
   "source": []
  }
 ],
 "metadata": {
  "hide_input": false,
  "kernelspec": {
   "display_name": "Python 3 (ipykernel)",
   "language": "python",
   "name": "python3"
  },
  "language_info": {
   "codemirror_mode": {
    "name": "ipython",
    "version": 3
   },
   "file_extension": ".py",
   "mimetype": "text/x-python",
   "name": "python",
   "nbconvert_exporter": "python",
   "pygments_lexer": "ipython3",
   "version": "3.8.10"
  },
  "nbTranslate": {
   "displayLangs": [
    "*"
   ],
   "hotkey": "alt-t",
   "langInMainMenu": true,
   "sourceLang": "en",
   "targetLang": "fr",
   "useGoogleTranslate": true
  }
 },
 "nbformat": 4,
 "nbformat_minor": 5
}
