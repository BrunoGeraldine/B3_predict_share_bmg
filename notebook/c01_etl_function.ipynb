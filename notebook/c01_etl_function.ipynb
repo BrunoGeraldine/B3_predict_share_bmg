{
 "cells": [
  {
   "cell_type": "markdown",
   "id": "7d318df6",
   "metadata": {},
   "source": [
    "# Imports"
   ]
  },
  {
   "cell_type": "code",
   "execution_count": 1,
   "id": "d020cd7a",
   "metadata": {
    "ExecuteTime": {
     "end_time": "2022-03-16T18:50:05.733037Z",
     "start_time": "2022-03-16T18:50:05.501135Z"
    }
   },
   "outputs": [],
   "source": [
    "import pandas as pd"
   ]
  },
  {
   "cell_type": "markdown",
   "id": "2c8122c3",
   "metadata": {},
   "source": [
    "## Load files"
   ]
  },
  {
   "cell_type": "code",
   "execution_count": 2,
   "id": "35af5627",
   "metadata": {
    "ExecuteTime": {
     "end_time": "2022-03-16T18:50:07.102116Z",
     "start_time": "2022-03-16T18:50:07.095121Z"
    }
   },
   "outputs": [],
   "source": [
    "\n",
    "def read_files(path, name_file, year_date, type_file):\n",
    "    \n",
    "    _file = f'{path}{name_file}{year_date}.{type_file}'\n",
    "    \n",
    "    cols_position = [(2,10),\n",
    "                (10,12),\n",
    "                (12,24),\n",
    "                (27,39),\n",
    "                (56,69),\n",
    "                (69,82),\n",
    "                (82,95),\n",
    "                (108,121),\n",
    "                (152,170),\n",
    "                (170, 178)]\n",
    "    \n",
    "    cols_name = ['data_pregao', 'codbdi', 'sigla_acao',\n",
    "                 'nome_acao', 'preco_abertura', 'preco_maximo',\n",
    "                 'preco_minimo', 'preco_fechamento', 'qtd_negocios',\n",
    "                 'volume_negocios']\n",
    "    \n",
    "    df = pd.read_fwf(_file , colspecs=cols_position, names=cols_name, skiprows=1)\n",
    "    \n",
    "    return df"
   ]
  },
  {
   "cell_type": "code",
   "execution_count": 3,
   "id": "c9a34ac0",
   "metadata": {
    "ExecuteTime": {
     "end_time": "2022-03-16T18:50:15.177419Z",
     "start_time": "2022-03-16T18:50:15.173952Z"
    }
   },
   "outputs": [],
   "source": [
    "# Filtering data to codbdi == 2 and drop column\n",
    "def filter_shares(df):\n",
    "    df = df[df['codbdi']==2]\n",
    "    #df = df.drop(['codbdi'], axis=1)\n",
    "    \n",
    "    return df"
   ]
  },
  {
   "cell_type": "code",
   "execution_count": 4,
   "id": "ae5ec74d",
   "metadata": {
    "ExecuteTime": {
     "end_time": "2022-03-16T18:50:17.779099Z",
     "start_time": "2022-03-16T18:50:17.772748Z"
    }
   },
   "outputs": [],
   "source": [
    "# Adjust the datetime\n",
    "def parse_date(df):\n",
    "    df['data_pregao'] = pd.to_datetime(df['data_pregao'], format='%Y%m%d')\n",
    "    \n",
    "    return df\n",
    "\n",
    "# Adjust the numerical variable\n",
    "def parse_numerical(df):\n",
    "    df['qtd_negocios'] = df['qtd_negocios'].astype(int)\n",
    "    df['volume_negocios'] = df['volume_negocios'].astype(int)\n",
    "    df['preco_abertura'] = (df['preco_abertura']/100).astype(float)\n",
    "    df['preco_maximo'] = (df['preco_maximo']/100).astype(float)\n",
    "    df['preco_minimo'] = (df['preco_minimo']/100).astype(float)\n",
    "    df['preco_fechamento'] = (df['preco_fechamento']/100).astype(float)\n",
    "       \n",
    "    return df"
   ]
  },
  {
   "cell_type": "code",
   "execution_count": 5,
   "id": "b21f31cd",
   "metadata": {
    "ExecuteTime": {
     "end_time": "2022-03-16T18:50:19.581443Z",
     "start_time": "2022-03-16T18:50:19.575708Z"
    }
   },
   "outputs": [],
   "source": [
    "# data concat\n",
    "def concat_files(path, name_file, year_date, type_file, final_file):\n",
    "    \n",
    "    for i, y in enumerate(year_date):\n",
    "        df = read_files(path, name_file, y, type_file)\n",
    "        df = filter_shares(df)\n",
    "        df = parse_date(df)\n",
    "        df = parse_numerical(df)\n",
    "        \n",
    "        if i==0:\n",
    "            df_final = df\n",
    "        else:\n",
    "            df_final = pd.concat([df_final, df])\n",
    "    \n",
    "    df_final.to_csv(f'{path}/{final_file}', index=False)"
   ]
  },
  {
   "cell_type": "code",
   "execution_count": 6,
   "id": "fa03f545",
   "metadata": {
    "ExecuteTime": {
     "end_time": "2022-03-16T18:51:00.384339Z",
     "start_time": "2022-03-16T18:50:21.900126Z"
    }
   },
   "outputs": [],
   "source": [
    "# Script Execution:\n",
    "year_date = ['2019', '2020', '2021']\n",
    "\n",
    "path = f'../data/'\n",
    "\n",
    "name_file = 'COTAHIST_A'\n",
    "\n",
    "type_file = 'TXT'\n",
    "\n",
    "final_file = '../data/b3_bovespa.csv'\n",
    "\n",
    "concat_files(path,name_file,year_date,type_file,final_file)"
   ]
  },
  {
   "cell_type": "code",
   "execution_count": null,
   "id": "33491add",
   "metadata": {},
   "outputs": [],
   "source": []
  }
 ],
 "metadata": {
  "hide_input": false,
  "kernelspec": {
   "display_name": "Python 3 (ipykernel)",
   "language": "python",
   "name": "python3"
  },
  "language_info": {
   "codemirror_mode": {
    "name": "ipython",
    "version": 3
   },
   "file_extension": ".py",
   "mimetype": "text/x-python",
   "name": "python",
   "nbconvert_exporter": "python",
   "pygments_lexer": "ipython3",
   "version": "3.8.10"
  },
  "nbTranslate": {
   "displayLangs": [
    "*"
   ],
   "hotkey": "alt-t",
   "langInMainMenu": true,
   "sourceLang": "en",
   "targetLang": "fr",
   "useGoogleTranslate": true
  }
 },
 "nbformat": 4,
 "nbformat_minor": 5
}
