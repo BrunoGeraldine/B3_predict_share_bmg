{
 "cells": [
  {
   "cell_type": "markdown",
   "id": "abce84e2",
   "metadata": {
    "ExecuteTime": {
     "end_time": "2022-03-16T14:23:34.314779Z",
     "start_time": "2022-03-16T14:23:34.311226Z"
    }
   },
   "source": [
    "# 1.0 Import"
   ]
  },
  {
   "cell_type": "code",
   "execution_count": 10,
   "id": "412b5e43",
   "metadata": {
    "ExecuteTime": {
     "end_time": "2022-03-18T15:05:07.674854Z",
     "start_time": "2022-03-18T15:05:06.752862Z"
    }
   },
   "outputs": [],
   "source": [
    "#Load and edit dataframe\n",
    "import numpy as np\n",
    "import pandas as pd\n",
    "\n",
    "\n",
    "# Data Visualization\n",
    "import seaborn           as sns\n",
    "import matplotlib.pyplot as plt\n",
    "%matplotlib inline\n",
    "\n",
    "# Select Train and Test\n",
    "from sklearn.model_selection import train_test_split\n",
    "\n",
    "# ML - Algoritms\n",
    "from sklearn.preprocessing   import StandardScaler\n",
    "from tensorflow.keras.models import Sequential\n",
    "from tensorflow.keras.layers import Dense, LSTM, Dropout\n",
    "\n",
    "import warnings \n",
    "warnings.filterwarnings( 'ignore' ) "
   ]
  },
  {
   "cell_type": "markdown",
   "id": "9a0cbaa9",
   "metadata": {},
   "source": [
    "## Load DataSet"
   ]
  },
  {
   "cell_type": "code",
   "execution_count": 11,
   "id": "2dfb7345",
   "metadata": {
    "ExecuteTime": {
     "end_time": "2022-03-18T15:05:10.319652Z",
     "start_time": "2022-03-18T15:05:09.556385Z"
    }
   },
   "outputs": [],
   "source": [
    "df = pd.read_csv('../data/all_b3_bovespa.csv')"
   ]
  },
  {
   "cell_type": "code",
   "execution_count": 42,
   "id": "047ffb4a",
   "metadata": {
    "ExecuteTime": {
     "end_time": "2022-03-18T15:05:10.347541Z",
     "start_time": "2022-03-18T15:05:10.321989Z"
    }
   },
   "outputs": [],
   "source": [
    "df1 = df.copy()"
   ]
  },
  {
   "cell_type": "markdown",
   "id": "fbf7e79a",
   "metadata": {
    "jp-MarkdownHeadingCollapsed": true,
    "tags": []
   },
   "source": [
    "# Data Analysis\n"
   ]
  },
  {
   "cell_type": "code",
   "execution_count": 43,
   "id": "17adf42d",
   "metadata": {
    "ExecuteTime": {
     "end_time": "2022-03-18T15:05:11.423270Z",
     "start_time": "2022-03-18T15:05:11.418441Z"
    }
   },
   "outputs": [
    {
     "name": "stdout",
     "output_type": "stream",
     "text": [
      "nº of columns: 733407, nº of rows:10\n"
     ]
    }
   ],
   "source": [
    "print(f'nº of columns: {df1.shape[0]}, nº of rows:{df1.shape[1]}')"
   ]
  },
  {
   "cell_type": "code",
   "execution_count": 44,
   "id": "f877b04c-d1e8-4f5e-a080-aa62d4c1fb53",
   "metadata": {},
   "outputs": [
    {
     "data": {
      "text/plain": [
       "data_pregao          object\n",
       "codbdi              float64\n",
       "sigla_acao           object\n",
       "nome_acao            object\n",
       "preco_abertura      float64\n",
       "preco_maximo        float64\n",
       "preco_minimo        float64\n",
       "preco_fechamento    float64\n",
       "qtd_negocios          int64\n",
       "volume_negocios       int64\n",
       "dtype: object"
      ]
     },
     "execution_count": 44,
     "metadata": {},
     "output_type": "execute_result"
    }
   ],
   "source": [
    "df1.dtypes"
   ]
  },
  {
   "cell_type": "code",
   "execution_count": 45,
   "id": "b68aeb10-69a2-4e4a-8983-e483661b7db5",
   "metadata": {},
   "outputs": [
    {
     "data": {
      "text/html": [
       "<div>\n",
       "<style scoped>\n",
       "    .dataframe tbody tr th:only-of-type {\n",
       "        vertical-align: middle;\n",
       "    }\n",
       "\n",
       "    .dataframe tbody tr th {\n",
       "        vertical-align: top;\n",
       "    }\n",
       "\n",
       "    .dataframe thead th {\n",
       "        text-align: right;\n",
       "    }\n",
       "</style>\n",
       "<table border=\"1\" class=\"dataframe\">\n",
       "  <thead>\n",
       "    <tr style=\"text-align: right;\">\n",
       "      <th></th>\n",
       "      <th>data_pregao</th>\n",
       "      <th>codbdi</th>\n",
       "      <th>sigla_acao</th>\n",
       "      <th>nome_acao</th>\n",
       "      <th>preco_abertura</th>\n",
       "      <th>preco_maximo</th>\n",
       "      <th>preco_minimo</th>\n",
       "      <th>preco_fechamento</th>\n",
       "      <th>qtd_negocios</th>\n",
       "      <th>volume_negocios</th>\n",
       "    </tr>\n",
       "  </thead>\n",
       "  <tbody>\n",
       "    <tr>\n",
       "      <th>212</th>\n",
       "      <td>2015-01-02</td>\n",
       "      <td>2.0</td>\n",
       "      <td>PETR3</td>\n",
       "      <td>PETROBRAS</td>\n",
       "      <td>9.58</td>\n",
       "      <td>9.67</td>\n",
       "      <td>9.00</td>\n",
       "      <td>9.00</td>\n",
       "      <td>12710900</td>\n",
       "      <td>1</td>\n",
       "    </tr>\n",
       "    <tr>\n",
       "      <th>213</th>\n",
       "      <td>2015-01-02</td>\n",
       "      <td>2.0</td>\n",
       "      <td>PETR4</td>\n",
       "      <td>PETROBRAS</td>\n",
       "      <td>9.99</td>\n",
       "      <td>9.99</td>\n",
       "      <td>9.36</td>\n",
       "      <td>9.36</td>\n",
       "      <td>48837200</td>\n",
       "      <td>4</td>\n",
       "    </tr>\n",
       "    <tr>\n",
       "      <th>529</th>\n",
       "      <td>2015-01-05</td>\n",
       "      <td>2.0</td>\n",
       "      <td>PETR3</td>\n",
       "      <td>PETROBRAS</td>\n",
       "      <td>8.64</td>\n",
       "      <td>8.96</td>\n",
       "      <td>8.25</td>\n",
       "      <td>8.27</td>\n",
       "      <td>24992200</td>\n",
       "      <td>2</td>\n",
       "    </tr>\n",
       "    <tr>\n",
       "      <th>530</th>\n",
       "      <td>2015-01-05</td>\n",
       "      <td>2.0</td>\n",
       "      <td>PETR4</td>\n",
       "      <td>PETROBRAS</td>\n",
       "      <td>9.14</td>\n",
       "      <td>9.19</td>\n",
       "      <td>8.58</td>\n",
       "      <td>8.61</td>\n",
       "      <td>77077300</td>\n",
       "      <td>6</td>\n",
       "    </tr>\n",
       "    <tr>\n",
       "      <th>828</th>\n",
       "      <td>2015-01-06</td>\n",
       "      <td>2.0</td>\n",
       "      <td>PETR3</td>\n",
       "      <td>PETROBRAS</td>\n",
       "      <td>8.28</td>\n",
       "      <td>8.53</td>\n",
       "      <td>7.78</td>\n",
       "      <td>8.06</td>\n",
       "      <td>29572100</td>\n",
       "      <td>2</td>\n",
       "    </tr>\n",
       "    <tr>\n",
       "      <th>...</th>\n",
       "      <td>...</td>\n",
       "      <td>...</td>\n",
       "      <td>...</td>\n",
       "      <td>...</td>\n",
       "      <td>...</td>\n",
       "      <td>...</td>\n",
       "      <td>...</td>\n",
       "      <td>...</td>\n",
       "      <td>...</td>\n",
       "      <td>...</td>\n",
       "    </tr>\n",
       "    <tr>\n",
       "      <th>733144</th>\n",
       "      <td>2021-12-23</td>\n",
       "      <td>2.0</td>\n",
       "      <td>PETR3</td>\n",
       "      <td>PETROBRAS</td>\n",
       "      <td>30.35</td>\n",
       "      <td>30.68</td>\n",
       "      <td>30.18</td>\n",
       "      <td>30.44</td>\n",
       "      <td>6243500</td>\n",
       "      <td>1</td>\n",
       "    </tr>\n",
       "    <tr>\n",
       "      <th>733145</th>\n",
       "      <td>2021-12-27</td>\n",
       "      <td>2.0</td>\n",
       "      <td>PETR3</td>\n",
       "      <td>PETROBRAS</td>\n",
       "      <td>30.44</td>\n",
       "      <td>31.23</td>\n",
       "      <td>30.24</td>\n",
       "      <td>31.04</td>\n",
       "      <td>17868100</td>\n",
       "      <td>5</td>\n",
       "    </tr>\n",
       "    <tr>\n",
       "      <th>733146</th>\n",
       "      <td>2021-12-28</td>\n",
       "      <td>2.0</td>\n",
       "      <td>PETR3</td>\n",
       "      <td>PETROBRAS</td>\n",
       "      <td>31.26</td>\n",
       "      <td>31.47</td>\n",
       "      <td>31.00</td>\n",
       "      <td>31.06</td>\n",
       "      <td>8078000</td>\n",
       "      <td>2</td>\n",
       "    </tr>\n",
       "    <tr>\n",
       "      <th>733147</th>\n",
       "      <td>2021-12-29</td>\n",
       "      <td>2.0</td>\n",
       "      <td>PETR3</td>\n",
       "      <td>PETROBRAS</td>\n",
       "      <td>31.01</td>\n",
       "      <td>31.34</td>\n",
       "      <td>30.75</td>\n",
       "      <td>30.95</td>\n",
       "      <td>11460950</td>\n",
       "      <td>3</td>\n",
       "    </tr>\n",
       "    <tr>\n",
       "      <th>733148</th>\n",
       "      <td>2021-12-30</td>\n",
       "      <td>2.0</td>\n",
       "      <td>PETR3</td>\n",
       "      <td>PETROBRAS</td>\n",
       "      <td>30.95</td>\n",
       "      <td>31.13</td>\n",
       "      <td>30.55</td>\n",
       "      <td>30.70</td>\n",
       "      <td>34157000</td>\n",
       "      <td>10</td>\n",
       "    </tr>\n",
       "  </tbody>\n",
       "</table>\n",
       "<p>3460 rows × 10 columns</p>\n",
       "</div>"
      ],
      "text/plain": [
       "       data_pregao  codbdi sigla_acao  nome_acao  preco_abertura  \\\n",
       "212     2015-01-02     2.0      PETR3  PETROBRAS            9.58   \n",
       "213     2015-01-02     2.0      PETR4  PETROBRAS            9.99   \n",
       "529     2015-01-05     2.0      PETR3  PETROBRAS            8.64   \n",
       "530     2015-01-05     2.0      PETR4  PETROBRAS            9.14   \n",
       "828     2015-01-06     2.0      PETR3  PETROBRAS            8.28   \n",
       "...            ...     ...        ...        ...             ...   \n",
       "733144  2021-12-23     2.0      PETR3  PETROBRAS           30.35   \n",
       "733145  2021-12-27     2.0      PETR3  PETROBRAS           30.44   \n",
       "733146  2021-12-28     2.0      PETR3  PETROBRAS           31.26   \n",
       "733147  2021-12-29     2.0      PETR3  PETROBRAS           31.01   \n",
       "733148  2021-12-30     2.0      PETR3  PETROBRAS           30.95   \n",
       "\n",
       "        preco_maximo  preco_minimo  preco_fechamento  qtd_negocios  \\\n",
       "212             9.67          9.00              9.00      12710900   \n",
       "213             9.99          9.36              9.36      48837200   \n",
       "529             8.96          8.25              8.27      24992200   \n",
       "530             9.19          8.58              8.61      77077300   \n",
       "828             8.53          7.78              8.06      29572100   \n",
       "...              ...           ...               ...           ...   \n",
       "733144         30.68         30.18             30.44       6243500   \n",
       "733145         31.23         30.24             31.04      17868100   \n",
       "733146         31.47         31.00             31.06       8078000   \n",
       "733147         31.34         30.75             30.95      11460950   \n",
       "733148         31.13         30.55             30.70      34157000   \n",
       "\n",
       "        volume_negocios  \n",
       "212                   1  \n",
       "213                   4  \n",
       "529                   2  \n",
       "530                   6  \n",
       "828                   2  \n",
       "...                 ...  \n",
       "733144                1  \n",
       "733145                5  \n",
       "733146                2  \n",
       "733147                3  \n",
       "733148               10  \n",
       "\n",
       "[3460 rows x 10 columns]"
      ]
     },
     "execution_count": 45,
     "metadata": {},
     "output_type": "execute_result"
    }
   ],
   "source": [
    "a = df1[df1['nome_acao']=='PETROBRAS']\n",
    "a"
   ]
  },
  {
   "cell_type": "markdown",
   "id": "bd97ec11",
   "metadata": {
    "jp-MarkdownHeadingCollapsed": true,
    "tags": []
   },
   "source": [
    "# Data transformation"
   ]
  },
  {
   "cell_type": "code",
   "execution_count": 86,
   "id": "b1cb0d01",
   "metadata": {
    "ExecuteTime": {
     "end_time": "2022-03-18T15:05:16.616406Z",
     "start_time": "2022-03-18T15:05:16.492379Z"
    }
   },
   "outputs": [],
   "source": [
    "df_petro['data_pregao'] = pd.to_datetime(df_petro['data_pregao'], format='%Y-%m-%d')"
   ]
  },
  {
   "cell_type": "code",
   "execution_count": 87,
   "id": "c580c4b7-4716-4fd7-86a5-41130eebb72f",
   "metadata": {},
   "outputs": [
    {
     "data": {
      "text/plain": [
       "data_pregao         datetime64[ns]\n",
       "codbdi                     float64\n",
       "sigla_acao                  object\n",
       "nome_acao                   object\n",
       "preco_abertura             float64\n",
       "preco_maximo               float64\n",
       "preco_minimo               float64\n",
       "preco_fechamento           float64\n",
       "qtd_negocios                 int64\n",
       "volume_negocios              int64\n",
       "dtype: object"
      ]
     },
     "execution_count": 87,
     "metadata": {},
     "output_type": "execute_result"
    }
   ],
   "source": [
    "df_petro.dtypes"
   ]
  },
  {
   "cell_type": "markdown",
   "id": "78ae7dc2",
   "metadata": {
    "jp-MarkdownHeadingCollapsed": true,
    "tags": []
   },
   "source": [
    "# Select only one share to predict"
   ]
  },
  {
   "cell_type": "code",
   "execution_count": 47,
   "id": "c4e8480a",
   "metadata": {
    "ExecuteTime": {
     "end_time": "2022-03-18T15:05:15.547947Z",
     "start_time": "2022-03-18T15:05:15.482614Z"
    }
   },
   "outputs": [
    {
     "name": "stdout",
     "output_type": "stream",
     "text": [
      "nº of rows: 1730, nº of columns:10\n"
     ]
    }
   ],
   "source": [
    "# Filter share_data\n",
    "df_petro = df1[df1['sigla_acao']=='PETR4']\n",
    "print(f'nº of rows: {df_petro.shape[0]}, nº of columns:{df_petro.shape[1]}')"
   ]
  },
  {
   "cell_type": "code",
   "execution_count": 48,
   "id": "c9c37b34-94a9-491f-87b9-62b62f851a80",
   "metadata": {},
   "outputs": [
    {
     "data": {
      "text/html": [
       "<div>\n",
       "<style scoped>\n",
       "    .dataframe tbody tr th:only-of-type {\n",
       "        vertical-align: middle;\n",
       "    }\n",
       "\n",
       "    .dataframe tbody tr th {\n",
       "        vertical-align: top;\n",
       "    }\n",
       "\n",
       "    .dataframe thead th {\n",
       "        text-align: right;\n",
       "    }\n",
       "</style>\n",
       "<table border=\"1\" class=\"dataframe\">\n",
       "  <thead>\n",
       "    <tr style=\"text-align: right;\">\n",
       "      <th></th>\n",
       "      <th>data_pregao</th>\n",
       "      <th>preco_fechamento</th>\n",
       "    </tr>\n",
       "  </thead>\n",
       "  <tbody>\n",
       "    <tr>\n",
       "      <th>704613</th>\n",
       "      <td>2021-12-23</td>\n",
       "      <td>28.33</td>\n",
       "    </tr>\n",
       "    <tr>\n",
       "      <th>704614</th>\n",
       "      <td>2021-12-27</td>\n",
       "      <td>28.75</td>\n",
       "    </tr>\n",
       "    <tr>\n",
       "      <th>704615</th>\n",
       "      <td>2021-12-28</td>\n",
       "      <td>28.78</td>\n",
       "    </tr>\n",
       "    <tr>\n",
       "      <th>704616</th>\n",
       "      <td>2021-12-29</td>\n",
       "      <td>28.54</td>\n",
       "    </tr>\n",
       "    <tr>\n",
       "      <th>704617</th>\n",
       "      <td>2021-12-30</td>\n",
       "      <td>28.45</td>\n",
       "    </tr>\n",
       "  </tbody>\n",
       "</table>\n",
       "</div>"
      ],
      "text/plain": [
       "       data_pregao  preco_fechamento\n",
       "704613  2021-12-23             28.33\n",
       "704614  2021-12-27             28.75\n",
       "704615  2021-12-28             28.78\n",
       "704616  2021-12-29             28.54\n",
       "704617  2021-12-30             28.45"
      ]
     },
     "execution_count": 48,
     "metadata": {},
     "output_type": "execute_result"
    }
   ],
   "source": [
    "df_petro_cls = df_petro[['data_pregao', 'preco_fechamento']]\n",
    "df_petro_cls.tail()"
   ]
  },
  {
   "cell_type": "code",
   "execution_count": 49,
   "id": "27af186a-dc48-43b0-a640-e24504f97bcb",
   "metadata": {},
   "outputs": [],
   "source": [
    "# set to index with date\n",
    "df_petro_cls = df_petro_cls.set_index(pd.DatetimeIndex(df_petro_cls['data_pregao'].values))"
   ]
  },
  {
   "cell_type": "code",
   "execution_count": 50,
   "id": "b45a72c3-8da4-4839-907a-44eb454d2f28",
   "metadata": {},
   "outputs": [
    {
     "data": {
      "text/html": [
       "<div>\n",
       "<style scoped>\n",
       "    .dataframe tbody tr th:only-of-type {\n",
       "        vertical-align: middle;\n",
       "    }\n",
       "\n",
       "    .dataframe tbody tr th {\n",
       "        vertical-align: top;\n",
       "    }\n",
       "\n",
       "    .dataframe thead th {\n",
       "        text-align: right;\n",
       "    }\n",
       "</style>\n",
       "<table border=\"1\" class=\"dataframe\">\n",
       "  <thead>\n",
       "    <tr style=\"text-align: right;\">\n",
       "      <th></th>\n",
       "      <th>data_pregao</th>\n",
       "      <th>preco_fechamento</th>\n",
       "    </tr>\n",
       "  </thead>\n",
       "  <tbody>\n",
       "    <tr>\n",
       "      <th>2021-12-23</th>\n",
       "      <td>2021-12-23</td>\n",
       "      <td>28.33</td>\n",
       "    </tr>\n",
       "    <tr>\n",
       "      <th>2021-12-27</th>\n",
       "      <td>2021-12-27</td>\n",
       "      <td>28.75</td>\n",
       "    </tr>\n",
       "    <tr>\n",
       "      <th>2021-12-28</th>\n",
       "      <td>2021-12-28</td>\n",
       "      <td>28.78</td>\n",
       "    </tr>\n",
       "    <tr>\n",
       "      <th>2021-12-29</th>\n",
       "      <td>2021-12-29</td>\n",
       "      <td>28.54</td>\n",
       "    </tr>\n",
       "    <tr>\n",
       "      <th>2021-12-30</th>\n",
       "      <td>2021-12-30</td>\n",
       "      <td>28.45</td>\n",
       "    </tr>\n",
       "  </tbody>\n",
       "</table>\n",
       "</div>"
      ],
      "text/plain": [
       "           data_pregao  preco_fechamento\n",
       "2021-12-23  2021-12-23             28.33\n",
       "2021-12-27  2021-12-27             28.75\n",
       "2021-12-28  2021-12-28             28.78\n",
       "2021-12-29  2021-12-29             28.54\n",
       "2021-12-30  2021-12-30             28.45"
      ]
     },
     "execution_count": 50,
     "metadata": {},
     "output_type": "execute_result"
    }
   ],
   "source": [
    "df_petro_cls.tail()"
   ]
  },
  {
   "cell_type": "code",
   "execution_count": 51,
   "id": "35f98a10-3d90-432d-a72c-ba40c8b7e278",
   "metadata": {},
   "outputs": [],
   "source": [
    "# drop column 'data_pregao'\n",
    "df_petro_cls.drop(['data_pregao'], axis=1, inplace=True)"
   ]
  },
  {
   "cell_type": "code",
   "execution_count": null,
   "id": "d2120903-3aa5-4387-b98b-3a5fd31f829d",
   "metadata": {},
   "outputs": [],
   "source": []
  },
  {
   "cell_type": "code",
   "execution_count": 54,
   "id": "330ff4fa-1157-40f1-8883-19d2ee707f0e",
   "metadata": {},
   "outputs": [
    {
     "data": {
      "image/png": "[encoded data removed]",
      "text/plain": [
       "<Figure size 1152x576 with 1 Axes>"
      ]
     },
     "metadata": {
      "needs_background": "light"
     },
     "output_type": "display_data"
    }
   ],
   "source": [
    "# Plot the dataframe\n",
    "plt.figure(figsize=(16,8))\n",
    "plt.title('Price close')\n",
    "plt.plot(df_petro_cls['preco_fechamento'])\n",
    "plt.xlabel('date');\n"
   ]
  },
  {
   "cell_type": "markdown",
   "id": "e82df2b4",
   "metadata": {
    "jp-MarkdownHeadingCollapsed": true,
    "tags": []
   },
   "source": [
    "# Data Train and Test"
   ]
  },
  {
   "cell_type": "code",
   "execution_count": 55,
   "id": "44ff7037-fb28-4c0c-bd60-d7e832f55b18",
   "metadata": {},
   "outputs": [
    {
     "data": {
      "text/plain": [
       "'Train = 0:1211 | Test = 1211:1730'"
      ]
     },
     "execution_count": 55,
     "metadata": {},
     "output_type": "execute_result"
    }
   ],
   "source": [
    "# Data analysis\n",
    "qtt_rows = len(df_petro_cls)\n",
    "\n",
    "r_train = round(.70*qtt_rows)\n",
    "\n",
    "r_test = qtt_rows - r_train\n",
    "\n",
    "info = (\n",
    "    f'Train = 0:{r_train} | '\n",
    "    f'Test = {r_train}:{r_train + r_test}'\n",
    "    )\n",
    "info"
   ]
  },
  {
   "cell_type": "markdown",
   "id": "6d8dcce3-ddea-48f6-8d1c-5c934cb64a3e",
   "metadata": {
    "jp-MarkdownHeadingCollapsed": true,
    "tags": []
   },
   "source": [
    "# Normalize and Reescale "
   ]
  },
  {
   "cell_type": "code",
   "execution_count": 56,
   "id": "63c653a3-5cf4-4e49-9b53-9620bc53eb64",
   "metadata": {},
   "outputs": [],
   "source": [
    "# Normalizing\n",
    "std = StandardScaler()\n",
    "df_scaled = std.fit_transform(df_petro_cls)"
   ]
  },
  {
   "cell_type": "markdown",
   "id": "756bf286-d132-4f72-92a5-04531e7d2d84",
   "metadata": {
    "tags": []
   },
   "source": [
    "# Separating into Train and Test"
   ]
  },
  {
   "cell_type": "code",
   "execution_count": 57,
   "id": "d82ad1b2-1b40-43f3-9a7f-1aefb9a123da",
   "metadata": {},
   "outputs": [
    {
     "name": "stdout",
     "output_type": "stream",
     "text": [
      "1730 519\n"
     ]
    }
   ],
   "source": [
    "train = df_scaled[:qtt_rows]\n",
    "\n",
    "test = df_scaled[r_train: r_train+r_test]\n",
    "\n",
    "print(len(train), len(test))"
   ]
  },
  {
   "cell_type": "code",
   "execution_count": null,
   "id": "1379522c-841e-4589-9b18-df4aee34b740",
   "metadata": {},
   "outputs": [],
   "source": []
  },
  {
   "cell_type": "code",
   "execution_count": 58,
   "id": "82b02e8f-3bbf-4565-b9dc-fabf0855f910",
   "metadata": {},
   "outputs": [],
   "source": [
    "# Convert an array of values into a df matrix\n",
    "\n",
    "def create_df(df, steps=1):\n",
    "    dataX, dataY = [], []\n",
    "    for i in range(len(df)-steps-1):\n",
    "        a = df[i:(i+steps), 0]\n",
    "        dataX.append(a)\n",
    "        dataY.append(df[i+steps,0])\n",
    "    return np.array(dataX), np.array(dataY)\n",
    "\n",
    "# dexa os valores formatados no padrão que o LSTM espera para aprender"
   ]
  },
  {
   "cell_type": "code",
   "execution_count": 59,
   "id": "b1b6a5b1-b643-4957-b478-9a0325ac14d3",
   "metadata": {},
   "outputs": [],
   "source": [
    "# gerando os dados de treino e teste\n",
    "\n",
    "steps = 15\n",
    "X_train, Y_train = create_df(train, steps)\n",
    "X_test, Y_test = create_df(test, steps)"
   ]
  },
  {
   "cell_type": "code",
   "execution_count": 60,
   "id": "f789e0e7-83a9-49ce-a037-1c49e5e360cb",
   "metadata": {},
   "outputs": [
    {
     "name": "stdout",
     "output_type": "stream",
     "text": [
      "(1714, 15)\n",
      "(1714,)\n",
      "(503, 15)\n",
      "(503,)\n"
     ]
    }
   ],
   "source": [
    "print(X_train.shape)\n",
    "print(Y_train.shape)\n",
    "\n",
    "print(X_test.shape)\n",
    "print(Y_test.shape)\n"
   ]
  },
  {
   "cell_type": "code",
   "execution_count": 61,
   "id": "34b30629-8ade-4101-bb29-9776e29a1ff7",
   "metadata": {},
   "outputs": [],
   "source": [
    "# Gerando os dados no formato que o modelo espera\n",
    "X_train = X_train.reshape(X_train.shape[0], X_train.shape[1], 1)\n",
    "# X_train.shape[0] → 1714 linhas de treino | X_train.shape[1] → 15 dias de treino\n",
    "X_test = X_test.reshape(X_test.shape[0], X_test.shape[1], 1)"
   ]
  },
  {
   "cell_type": "code",
   "execution_count": 68,
   "id": "a89b3173-284f-4e89-99c3-c5e3cd344bf3",
   "metadata": {},
   "outputs": [],
   "source": [
    "# Camadas da Rede Neural\n",
    "model = Sequential()\n",
    "model.add(LSTM(35, return_sequences=True, input_shape=(steps,1))) #1ª camada\n",
    "#LSTM(35) → qtt de neuronios usados | input_shape=(steps,1) → qtt de dias a ser previsto e retornado\n",
    "model.add(LSTM(35, return_sequences=True)) #2ª camada\n",
    "model.add(LSTM(35)) #3ª camada\n",
    "model.add(Dropout(0.2)) \n",
    "#Dropout evita o overfit do treinamento\n",
    "model.add(Dense(1)) #retonrnando um unico resultado\n"
   ]
  },
  {
   "cell_type": "code",
   "execution_count": 70,
   "id": "17d07abe-97eb-4f69-b0b6-089f4dbb1203",
   "metadata": {},
   "outputs": [
    {
     "name": "stdout",
     "output_type": "stream",
     "text": [
      "Model: \"sequential_1\"\n",
      "_________________________________________________________________\n",
      " Layer (type)                Output Shape              Param #   \n",
      "=================================================================\n",
      " lstm_3 (LSTM)               (None, 15, 35)            5180      \n",
      "                                                                 \n",
      " lstm_4 (LSTM)               (None, 15, 35)            9940      \n",
      "                                                                 \n",
      " lstm_5 (LSTM)               (None, 35)                9940      \n",
      "                                                                 \n",
      " dropout_1 (Dropout)         (None, 35)                0         \n",
      "                                                                 \n",
      " dense_1 (Dense)             (None, 1)                 36        \n",
      "                                                                 \n",
      "=================================================================\n",
      "Total params: 25,096\n",
      "Trainable params: 25,096\n",
      "Non-trainable params: 0\n",
      "_________________________________________________________________\n"
     ]
    }
   ],
   "source": [
    "model.compile(optimizer='adam', loss='mse')\n",
    "model.summary()"
   ]
  },
  {
   "cell_type": "code",
   "execution_count": 72,
   "id": "a8901871-7308-4876-87a6-55221ec2bc8f",
   "metadata": {
    "scrolled": true,
    "tags": []
   },
   "outputs": [
    {
     "name": "stdout",
     "output_type": "stream",
     "text": [
      "Epoch 1/100\n",
      "115/115 - 11s - loss: 0.1612 - val_loss: 0.0976 - 11s/epoch - 96ms/step\n",
      "Epoch 2/100\n",
      "115/115 - 4s - loss: 0.0556 - val_loss: 0.0657 - 4s/epoch - 35ms/step\n",
      "Epoch 3/100\n",
      "115/115 - 4s - loss: 0.0467 - val_loss: 0.0519 - 4s/epoch - 32ms/step\n",
      "Epoch 4/100\n",
      "115/115 - 3s - loss: 0.0360 - val_loss: 0.0459 - 3s/epoch - 29ms/step\n",
      "Epoch 5/100\n",
      "115/115 - 3s - loss: 0.0388 - val_loss: 0.0412 - 3s/epoch - 29ms/step\n",
      "Epoch 6/100\n",
      "115/115 - 3s - loss: 0.0341 - val_loss: 0.0414 - 3s/epoch - 29ms/step\n",
      "Epoch 7/100\n",
      "115/115 - 4s - loss: 0.0316 - val_loss: 0.0359 - 4s/epoch - 32ms/step\n",
      "Epoch 8/100\n",
      "115/115 - 4s - loss: 0.0302 - val_loss: 0.0373 - 4s/epoch - 33ms/step\n",
      "Epoch 9/100\n",
      "115/115 - 3s - loss: 0.0329 - val_loss: 0.0376 - 3s/epoch - 29ms/step\n",
      "Epoch 10/100\n",
      "115/115 - 3s - loss: 0.0295 - val_loss: 0.0341 - 3s/epoch - 30ms/step\n",
      "Epoch 11/100\n",
      "115/115 - 4s - loss: 0.0281 - val_loss: 0.0358 - 4s/epoch - 30ms/step\n",
      "Epoch 12/100\n",
      "115/115 - 3s - loss: 0.0277 - val_loss: 0.0341 - 3s/epoch - 30ms/step\n",
      "Epoch 13/100\n",
      "115/115 - 3s - loss: 0.0277 - val_loss: 0.0334 - 3s/epoch - 29ms/step\n",
      "Epoch 14/100\n",
      "115/115 - 3s - loss: 0.0271 - val_loss: 0.0345 - 3s/epoch - 29ms/step\n",
      "Epoch 15/100\n",
      "115/115 - 3s - loss: 0.0255 - val_loss: 0.0351 - 3s/epoch - 29ms/step\n",
      "Epoch 16/100\n",
      "115/115 - 3s - loss: 0.0234 - val_loss: 0.0319 - 3s/epoch - 29ms/step\n",
      "Epoch 17/100\n",
      "115/115 - 3s - loss: 0.0247 - val_loss: 0.0395 - 3s/epoch - 30ms/step\n",
      "Epoch 18/100\n",
      "115/115 - 3s - loss: 0.0251 - val_loss: 0.0309 - 3s/epoch - 29ms/step\n",
      "Epoch 19/100\n",
      "115/115 - 3s - loss: 0.0231 - val_loss: 0.0311 - 3s/epoch - 30ms/step\n",
      "Epoch 20/100\n",
      "115/115 - 4s - loss: 0.0251 - val_loss: 0.0321 - 4s/epoch - 35ms/step\n",
      "Epoch 21/100\n",
      "115/115 - 4s - loss: 0.0228 - val_loss: 0.0311 - 4s/epoch - 34ms/step\n",
      "Epoch 22/100\n",
      "115/115 - 4s - loss: 0.0216 - val_loss: 0.0303 - 4s/epoch - 35ms/step\n",
      "Epoch 23/100\n",
      "115/115 - 4s - loss: 0.0235 - val_loss: 0.0323 - 4s/epoch - 31ms/step\n",
      "Epoch 24/100\n",
      "115/115 - 3s - loss: 0.0216 - val_loss: 0.0344 - 3s/epoch - 29ms/step\n",
      "Epoch 25/100\n",
      "115/115 - 3s - loss: 0.0224 - val_loss: 0.0302 - 3s/epoch - 30ms/step\n",
      "Epoch 26/100\n",
      "115/115 - 4s - loss: 0.0218 - val_loss: 0.0298 - 4s/epoch - 32ms/step\n",
      "Epoch 27/100\n",
      "115/115 - 3s - loss: 0.0227 - val_loss: 0.0390 - 3s/epoch - 29ms/step\n",
      "Epoch 28/100\n",
      "115/115 - 4s - loss: 0.0217 - val_loss: 0.0301 - 4s/epoch - 35ms/step\n",
      "Epoch 29/100\n",
      "115/115 - 3s - loss: 0.0221 - val_loss: 0.0296 - 3s/epoch - 29ms/step\n",
      "Epoch 30/100\n",
      "115/115 - 3s - loss: 0.0225 - val_loss: 0.0510 - 3s/epoch - 29ms/step\n",
      "Epoch 31/100\n",
      "115/115 - 3s - loss: 0.0212 - val_loss: 0.0297 - 3s/epoch - 30ms/step\n",
      "Epoch 32/100\n",
      "115/115 - 3s - loss: 0.0230 - val_loss: 0.0302 - 3s/epoch - 29ms/step\n",
      "Epoch 33/100\n",
      "115/115 - 3s - loss: 0.0208 - val_loss: 0.0299 - 3s/epoch - 29ms/step\n",
      "Epoch 34/100\n",
      "115/115 - 3s - loss: 0.0233 - val_loss: 0.0368 - 3s/epoch - 30ms/step\n",
      "Epoch 35/100\n",
      "115/115 - 3s - loss: 0.0221 - val_loss: 0.0293 - 3s/epoch - 29ms/step\n",
      "Epoch 36/100\n",
      "115/115 - 4s - loss: 0.0221 - val_loss: 0.0351 - 4s/epoch - 31ms/step\n",
      "Epoch 37/100\n",
      "115/115 - 4s - loss: 0.0202 - val_loss: 0.0303 - 4s/epoch - 37ms/step\n",
      "Epoch 38/100\n",
      "115/115 - 3s - loss: 0.0221 - val_loss: 0.0294 - 3s/epoch - 30ms/step\n",
      "Epoch 39/100\n",
      "115/115 - 3s - loss: 0.0222 - val_loss: 0.0313 - 3s/epoch - 30ms/step\n",
      "Epoch 40/100\n",
      "115/115 - 3s - loss: 0.0197 - val_loss: 0.0294 - 3s/epoch - 29ms/step\n",
      "Epoch 41/100\n",
      "115/115 - 3s - loss: 0.0217 - val_loss: 0.0291 - 3s/epoch - 29ms/step\n",
      "Epoch 42/100\n",
      "115/115 - 3s - loss: 0.0196 - val_loss: 0.0297 - 3s/epoch - 29ms/step\n",
      "Epoch 43/100\n",
      "115/115 - 3s - loss: 0.0210 - val_loss: 0.0293 - 3s/epoch - 29ms/step\n",
      "Epoch 44/100\n",
      "115/115 - 3s - loss: 0.0210 - val_loss: 0.0305 - 3s/epoch - 29ms/step\n",
      "Epoch 45/100\n",
      "115/115 - 3s - loss: 0.0205 - val_loss: 0.0291 - 3s/epoch - 29ms/step\n",
      "Epoch 46/100\n",
      "115/115 - 3s - loss: 0.0198 - val_loss: 0.0292 - 3s/epoch - 29ms/step\n",
      "Epoch 47/100\n",
      "115/115 - 3s - loss: 0.0209 - val_loss: 0.0292 - 3s/epoch - 30ms/step\n",
      "Epoch 48/100\n",
      "115/115 - 3s - loss: 0.0199 - val_loss: 0.0293 - 3s/epoch - 29ms/step\n",
      "Epoch 49/100\n",
      "115/115 - 3s - loss: 0.0209 - val_loss: 0.0353 - 3s/epoch - 29ms/step\n",
      "Epoch 50/100\n",
      "115/115 - 3s - loss: 0.0213 - val_loss: 0.0294 - 3s/epoch - 29ms/step\n",
      "Epoch 51/100\n",
      "115/115 - 3s - loss: 0.0205 - val_loss: 0.0322 - 3s/epoch - 29ms/step\n",
      "Epoch 52/100\n",
      "115/115 - 3s - loss: 0.0212 - val_loss: 0.0295 - 3s/epoch - 30ms/step\n",
      "Epoch 53/100\n",
      "115/115 - 3s - loss: 0.0201 - val_loss: 0.0309 - 3s/epoch - 29ms/step\n",
      "Epoch 54/100\n",
      "115/115 - 4s - loss: 0.0201 - val_loss: 0.0293 - 4s/epoch - 36ms/step\n",
      "Epoch 55/100\n",
      "115/115 - 4s - loss: 0.0211 - val_loss: 0.0303 - 4s/epoch - 36ms/step\n",
      "Epoch 56/100\n",
      "115/115 - 4s - loss: 0.0219 - val_loss: 0.0312 - 4s/epoch - 31ms/step\n",
      "Epoch 57/100\n",
      "115/115 - 3s - loss: 0.0198 - val_loss: 0.0289 - 3s/epoch - 29ms/step\n",
      "Epoch 58/100\n",
      "115/115 - 3s - loss: 0.0206 - val_loss: 0.0290 - 3s/epoch - 30ms/step\n",
      "Epoch 59/100\n",
      "115/115 - 3s - loss: 0.0202 - val_loss: 0.0297 - 3s/epoch - 29ms/step\n",
      "Epoch 60/100\n",
      "115/115 - 3s - loss: 0.0216 - val_loss: 0.0296 - 3s/epoch - 29ms/step\n",
      "Epoch 61/100\n",
      "115/115 - 3s - loss: 0.0205 - val_loss: 0.0296 - 3s/epoch - 29ms/step\n",
      "Epoch 62/100\n",
      "115/115 - 3s - loss: 0.0196 - val_loss: 0.0313 - 3s/epoch - 30ms/step\n",
      "Epoch 63/100\n",
      "115/115 - 3s - loss: 0.0203 - val_loss: 0.0294 - 3s/epoch - 30ms/step\n",
      "Epoch 64/100\n",
      "115/115 - 3s - loss: 0.0202 - val_loss: 0.0307 - 3s/epoch - 30ms/step\n",
      "Epoch 65/100\n",
      "115/115 - 3s - loss: 0.0198 - val_loss: 0.0302 - 3s/epoch - 29ms/step\n",
      "Epoch 66/100\n",
      "115/115 - 3s - loss: 0.0203 - val_loss: 0.0308 - 3s/epoch - 29ms/step\n",
      "Epoch 67/100\n",
      "115/115 - 3s - loss: 0.0207 - val_loss: 0.0297 - 3s/epoch - 29ms/step\n",
      "Epoch 68/100\n",
      "115/115 - 3s - loss: 0.0210 - val_loss: 0.0292 - 3s/epoch - 29ms/step\n",
      "Epoch 69/100\n",
      "115/115 - 3s - loss: 0.0211 - val_loss: 0.0291 - 3s/epoch - 30ms/step\n",
      "Epoch 70/100\n",
      "115/115 - 3s - loss: 0.0208 - val_loss: 0.0293 - 3s/epoch - 29ms/step\n",
      "Epoch 71/100\n",
      "115/115 - 3s - loss: 0.0202 - val_loss: 0.0312 - 3s/epoch - 30ms/step\n",
      "Epoch 72/100\n",
      "115/115 - 4s - loss: 0.0200 - val_loss: 0.0290 - 4s/epoch - 31ms/step\n",
      "Epoch 73/100\n",
      "115/115 - 3s - loss: 0.0203 - val_loss: 0.0319 - 3s/epoch - 25ms/step\n",
      "Epoch 74/100\n",
      "115/115 - 3s - loss: 0.0208 - val_loss: 0.0326 - 3s/epoch - 26ms/step\n",
      "Epoch 75/100\n",
      "115/115 - 3s - loss: 0.0219 - val_loss: 0.0306 - 3s/epoch - 24ms/step\n",
      "Epoch 76/100\n",
      "115/115 - 3s - loss: 0.0203 - val_loss: 0.0299 - 3s/epoch - 24ms/step\n",
      "Epoch 77/100\n",
      "115/115 - 3s - loss: 0.0203 - val_loss: 0.0294 - 3s/epoch - 25ms/step\n",
      "Epoch 78/100\n",
      "115/115 - 3s - loss: 0.0204 - val_loss: 0.0289 - 3s/epoch - 25ms/step\n",
      "Epoch 79/100\n",
      "115/115 - 3s - loss: 0.0202 - val_loss: 0.0290 - 3s/epoch - 24ms/step\n",
      "Epoch 80/100\n",
      "115/115 - 3s - loss: 0.0206 - val_loss: 0.0288 - 3s/epoch - 24ms/step\n",
      "Epoch 81/100\n",
      "115/115 - 3s - loss: 0.0215 - val_loss: 0.0287 - 3s/epoch - 24ms/step\n",
      "Epoch 82/100\n",
      "115/115 - 3s - loss: 0.0203 - val_loss: 0.0294 - 3s/epoch - 25ms/step\n",
      "Epoch 83/100\n",
      "115/115 - 3s - loss: 0.0197 - val_loss: 0.0291 - 3s/epoch - 24ms/step\n",
      "Epoch 84/100\n",
      "115/115 - 3s - loss: 0.0211 - val_loss: 0.0289 - 3s/epoch - 25ms/step\n",
      "Epoch 85/100\n",
      "115/115 - 3s - loss: 0.0205 - val_loss: 0.0292 - 3s/epoch - 24ms/step\n",
      "Epoch 86/100\n",
      "115/115 - 3s - loss: 0.0203 - val_loss: 0.0314 - 3s/epoch - 25ms/step\n",
      "Epoch 87/100\n",
      "115/115 - 3s - loss: 0.0199 - val_loss: 0.0289 - 3s/epoch - 25ms/step\n",
      "Epoch 88/100\n",
      "115/115 - 3s - loss: 0.0200 - val_loss: 0.0296 - 3s/epoch - 25ms/step\n",
      "Epoch 89/100\n",
      "115/115 - 3s - loss: 0.0202 - val_loss: 0.0298 - 3s/epoch - 25ms/step\n",
      "Epoch 90/100\n",
      "115/115 - 3s - loss: 0.0212 - val_loss: 0.0302 - 3s/epoch - 28ms/step\n",
      "Epoch 91/100\n",
      "115/115 - 3s - loss: 0.0212 - val_loss: 0.0299 - 3s/epoch - 25ms/step\n",
      "Epoch 92/100\n",
      "115/115 - 3s - loss: 0.0211 - val_loss: 0.0286 - 3s/epoch - 27ms/step\n",
      "Epoch 93/100\n",
      "115/115 - 3s - loss: 0.0211 - val_loss: 0.0317 - 3s/epoch - 25ms/step\n",
      "Epoch 94/100\n",
      "115/115 - 3s - loss: 0.0203 - val_loss: 0.0290 - 3s/epoch - 25ms/step\n",
      "Epoch 95/100\n",
      "115/115 - 3s - loss: 0.0214 - val_loss: 0.0290 - 3s/epoch - 25ms/step\n",
      "Epoch 96/100\n",
      "115/115 - 3s - loss: 0.0206 - val_loss: 0.0290 - 3s/epoch - 25ms/step\n",
      "Epoch 97/100\n",
      "115/115 - 3s - loss: 0.0201 - val_loss: 0.0291 - 3s/epoch - 25ms/step\n",
      "Epoch 98/100\n",
      "115/115 - 3s - loss: 0.0206 - val_loss: 0.0295 - 3s/epoch - 25ms/step\n",
      "Epoch 99/100\n",
      "115/115 - 3s - loss: 0.0206 - val_loss: 0.0296 - 3s/epoch - 24ms/step\n",
      "Epoch 100/100\n",
      "115/115 - 3s - loss: 0.0206 - val_loss: 0.0288 - 3s/epoch - 26ms/step\n"
     ]
    }
   ],
   "source": [
    "# treinamento do modelo\n",
    "validation = model.fit(X_train, Y_train, validation_data=(X_test, Y_test), epochs=100, batch_size=15, verbose=2)"
   ]
  },
  {
   "cell_type": "code",
   "execution_count": 74,
   "id": "8b820885-4e80-449d-b34a-8f201ee1e24f",
   "metadata": {},
   "outputs": [
    {
     "data": {
      "image/png": "[encoded data removed]",
      "text/plain": [
       "<Figure size 432x288 with 1 Axes>"
      ]
     },
     "metadata": {
      "needs_background": "light"
     },
     "output_type": "display_data"
    }
   ],
   "source": [
    "plt.plot(validation.history['loss'], label='Training loss')\n",
    "plt.plot(validation.history['val_loss'], label='Validation loss')\n",
    "plt.legend();"
   ]
  },
  {
   "cell_type": "code",
   "execution_count": 76,
   "id": "5d53ff12-13f8-4176-803c-cd4ca38a47b7",
   "metadata": {
    "scrolled": true,
    "tags": []
   },
   "outputs": [
    {
     "data": {
      "text/plain": [
       "array([[29.852911 ],\n",
       "       [29.814611 ],\n",
       "       [29.971415 ],\n",
       "       [30.068686 ],\n",
       "       [30.047052 ],\n",
       "       [30.127733 ],\n",
       "       [30.284487 ],\n",
       "       [30.262522 ],\n",
       "       [30.174652 ],\n",
       "       [30.277582 ],\n",
       "       [30.22773  ],\n",
       "       [30.338327 ],\n",
       "       [30.343401 ],\n",
       "       [30.308922 ],\n",
       "       [30.252783 ],\n",
       "       [30.173061 ],\n",
       "       [30.14263  ],\n",
       "       [30.006365 ],\n",
       "       [29.77998  ],\n",
       "       [29.627266 ],\n",
       "       [29.631752 ],\n",
       "       [29.668116 ],\n",
       "       [29.56946  ],\n",
       "       [29.418615 ],\n",
       "       [29.437923 ],\n",
       "       [29.314821 ],\n",
       "       [28.777895 ],\n",
       "       [28.804127 ],\n",
       "       [28.72775  ],\n",
       "       [28.767729 ],\n",
       "       [28.589954 ],\n",
       "       [28.408293 ],\n",
       "       [28.484655 ],\n",
       "       [28.395258 ],\n",
       "       [28.712706 ],\n",
       "       [28.740217 ],\n",
       "       [28.898619 ],\n",
       "       [29.095642 ],\n",
       "       [29.44444  ],\n",
       "       [29.495327 ],\n",
       "       [29.464912 ],\n",
       "       [29.415253 ],\n",
       "       [29.512442 ],\n",
       "       [29.814938 ],\n",
       "       [29.765854 ],\n",
       "       [29.523407 ],\n",
       "       [28.174068 ],\n",
       "       [26.782845 ],\n",
       "       [25.907242 ],\n",
       "       [26.112453 ],\n",
       "       [25.862534 ],\n",
       "       [26.33828  ],\n",
       "       [25.707125 ],\n",
       "       [24.005783 ],\n",
       "       [18.497307 ],\n",
       "       [16.624313 ],\n",
       "       [14.963751 ],\n",
       "       [12.156534 ],\n",
       "       [14.13295  ],\n",
       "       [13.168152 ],\n",
       "       [12.4963455],\n",
       "       [11.279938 ],\n",
       "       [11.875544 ],\n",
       "       [12.00375  ],\n",
       "       [11.551849 ],\n",
       "       [13.166777 ],\n",
       "       [14.307848 ],\n",
       "       [14.478152 ],\n",
       "       [13.504578 ],\n",
       "       [13.395966 ],\n",
       "       [13.998491 ],\n",
       "       [14.323471 ],\n",
       "       [15.502715 ],\n",
       "       [15.443884 ],\n",
       "       [15.833919 ],\n",
       "       [16.461193 ],\n",
       "       [17.368486 ],\n",
       "       [17.027443 ],\n",
       "       [17.07548  ],\n",
       "       [16.86273  ],\n",
       "       [16.486338 ],\n",
       "       [15.798648 ],\n",
       "       [16.090399 ],\n",
       "       [15.942155 ],\n",
       "       [16.689508 ],\n",
       "       [16.952635 ],\n",
       "       [16.122202 ],\n",
       "       [16.453726 ],\n",
       "       [17.217667 ],\n",
       "       [18.163422 ],\n",
       "       [18.18325  ],\n",
       "       [17.621075 ],\n",
       "       [18.027882 ],\n",
       "       [17.445448 ],\n",
       "       [17.495768 ],\n",
       "       [18.431227 ],\n",
       "       [18.248335 ],\n",
       "       [18.246185 ],\n",
       "       [17.742601 ],\n",
       "       [17.477226 ],\n",
       "       [17.191767 ],\n",
       "       [18.443666 ],\n",
       "       [18.674475 ],\n",
       "       [19.323341 ],\n",
       "       [19.337137 ],\n",
       "       [18.92176  ],\n",
       "       [19.551348 ],\n",
       "       [19.744816 ],\n",
       "       [20.034298 ],\n",
       "       [19.946468 ],\n",
       "       [20.420246 ],\n",
       "       [20.460442 ],\n",
       "       [21.378754 ],\n",
       "       [21.56318  ],\n",
       "       [21.653793 ],\n",
       "       [22.187088 ],\n",
       "       [22.593899 ],\n",
       "       [22.128817 ],\n",
       "       [21.769758 ],\n",
       "       [20.962017 ],\n",
       "       [20.818264 ],\n",
       "       [21.267206 ],\n",
       "       [21.406199 ],\n",
       "       [21.621872 ],\n",
       "       [21.589619 ],\n",
       "       [21.19987  ],\n",
       "       [21.665483 ],\n",
       "       [21.216827 ],\n",
       "       [21.531345 ],\n",
       "       [21.055304 ],\n",
       "       [21.63996  ],\n",
       "       [21.612526 ],\n",
       "       [21.799257 ],\n",
       "       [22.099178 ],\n",
       "       [22.124039 ],\n",
       "       [22.556046 ],\n",
       "       [22.436079 ],\n",
       "       [22.759045 ],\n",
       "       [22.425335 ],\n",
       "       [22.645794 ],\n",
       "       [22.37964  ],\n",
       "       [22.894068 ],\n",
       "       [23.27452  ],\n",
       "       [23.006014 ],\n",
       "       [22.977575 ],\n",
       "       [22.917952 ],\n",
       "       [23.352226 ],\n",
       "       [23.222061 ],\n",
       "       [22.892931 ],\n",
       "       [22.891846 ],\n",
       "       [23.18668  ],\n",
       "       [22.983612 ],\n",
       "       [23.232454 ],\n",
       "       [23.016972 ],\n",
       "       [22.536339 ],\n",
       "       [22.068426 ],\n",
       "       [21.886457 ],\n",
       "       [22.876339 ],\n",
       "       [23.104286 ],\n",
       "       [23.006603 ],\n",
       "       [23.462715 ],\n",
       "       [23.299662 ],\n",
       "       [23.58846  ],\n",
       "       [23.181028 ],\n",
       "       [22.9651   ],\n",
       "       [22.789717 ],\n",
       "       [23.030668 ],\n",
       "       [22.97882  ],\n",
       "       [22.886925 ],\n",
       "       [22.732637 ],\n",
       "       [22.986446 ],\n",
       "       [22.965961 ],\n",
       "       [22.527796 ],\n",
       "       [22.344208 ],\n",
       "       [22.545868 ],\n",
       "       [22.105988 ],\n",
       "       [22.767239 ],\n",
       "       [22.809895 ],\n",
       "       [22.973488 ],\n",
       "       [23.043203 ],\n",
       "       [22.603777 ],\n",
       "       [22.832699 ],\n",
       "       [22.379738 ],\n",
       "       [22.102673 ],\n",
       "       [21.82926  ],\n",
       "       [21.738848 ],\n",
       "       [21.751957 ],\n",
       "       [22.086739 ],\n",
       "       [21.809237 ],\n",
       "       [21.194223 ],\n",
       "       [20.93379  ],\n",
       "       [20.37178  ],\n",
       "       [20.386745 ],\n",
       "       [20.148693 ],\n",
       "       [19.70963  ],\n",
       "       [19.351297 ],\n",
       "       [19.538227 ],\n",
       "       [19.779728 ],\n",
       "       [19.181072 ],\n",
       "       [19.953264 ],\n",
       "       [19.959166 ],\n",
       "       [19.912506 ],\n",
       "       [20.446821 ],\n",
       "       [20.017405 ],\n",
       "       [20.236094 ],\n",
       "       [20.09641  ],\n",
       "       [19.898844 ],\n",
       "       [19.487709 ],\n",
       "       [19.560932 ],\n",
       "       [20.112658 ],\n",
       "       [20.201075 ],\n",
       "       [20.826824 ],\n",
       "       [20.72721  ],\n",
       "       [20.491444 ],\n",
       "       [20.108292 ],\n",
       "       [18.974169 ],\n",
       "       [19.269688 ],\n",
       "       [18.942566 ],\n",
       "       [19.54445  ],\n",
       "       [19.691658 ],\n",
       "       [19.921547 ],\n",
       "       [19.866228 ],\n",
       "       [21.422167 ],\n",
       "       [22.697227 ],\n",
       "       [23.005636 ],\n",
       "       [22.513065 ],\n",
       "       [22.900919 ],\n",
       "       [23.340715 ],\n",
       "       [23.747532 ],\n",
       "       [23.784796 ],\n",
       "       [24.00768  ],\n",
       "       [23.920517 ],\n",
       "       [24.88032  ],\n",
       "       [25.71905  ],\n",
       "       [26.127302 ],\n",
       "       [26.14089  ],\n",
       "       [25.98214  ],\n",
       "       [25.524231 ],\n",
       "       [25.740828 ],\n",
       "       [25.880161 ],\n",
       "       [26.375717 ],\n",
       "       [27.005901 ],\n",
       "       [27.052774 ],\n",
       "       [26.989716 ],\n",
       "       [27.078434 ],\n",
       "       [27.509872 ],\n",
       "       [27.56017  ],\n",
       "       [27.677563 ],\n",
       "       [27.813292 ],\n",
       "       [28.025007 ],\n",
       "       [28.144392 ],\n",
       "       [28.160013 ],\n",
       "       [27.684965 ],\n",
       "       [27.581896 ],\n",
       "       [27.755863 ],\n",
       "       [27.923763 ],\n",
       "       [28.075823 ],\n",
       "       [28.19845  ],\n",
       "       [27.539991 ],\n",
       "       [28.083784 ],\n",
       "       [28.328772 ],\n",
       "       [28.24542  ],\n",
       "       [27.979298 ],\n",
       "       [28.722765 ],\n",
       "       [29.103453 ],\n",
       "       [28.720926 ],\n",
       "       [29.035177 ],\n",
       "       [28.819427 ],\n",
       "       [29.335115 ],\n",
       "       [29.00525  ],\n",
       "       [28.3652   ],\n",
       "       [29.488625 ],\n",
       "       [29.044775 ],\n",
       "       [28.78273  ],\n",
       "       [28.783855 ],\n",
       "       [29.585245 ],\n",
       "       [26.543926 ],\n",
       "       [27.422813 ],\n",
       "       [27.61394  ],\n",
       "       [28.743021 ],\n",
       "       [27.026628 ],\n",
       "       [27.17874  ],\n",
       "       [27.409634 ],\n",
       "       [25.982536 ],\n",
       "       [28.295261 ],\n",
       "       [27.617498 ],\n",
       "       [27.714487 ],\n",
       "       [25.55534  ],\n",
       "       [27.65376  ],\n",
       "       [27.21989  ],\n",
       "       [27.546816 ],\n",
       "       [25.043285 ],\n",
       "       [27.640985 ],\n",
       "       [27.306652 ],\n",
       "       [27.725307 ],\n",
       "       [25.133333 ],\n",
       "       [23.023684 ],\n",
       "       [23.195446 ],\n",
       "       [23.052877 ],\n",
       "       [21.634655 ],\n",
       "       [23.115276 ],\n",
       "       [23.376154 ],\n",
       "       [23.373415 ],\n",
       "       [22.685122 ],\n",
       "       [23.699154 ],\n",
       "       [23.779093 ],\n",
       "       [24.130981 ],\n",
       "       [23.11245  ],\n",
       "       [24.024818 ],\n",
       "       [24.201706 ],\n",
       "       [23.694996 ],\n",
       "       [21.992125 ],\n",
       "       [23.585306 ],\n",
       "       [23.098188 ],\n",
       "       [23.82964  ],\n",
       "       [22.375887 ],\n",
       "       [22.9488   ],\n",
       "       [23.640522 ],\n",
       "       [23.613262 ],\n",
       "       [22.883198 ],\n",
       "       [22.964834 ],\n",
       "       [23.749401 ],\n",
       "       [24.136572 ],\n",
       "       [23.72208  ],\n",
       "       [23.272066 ],\n",
       "       [23.911234 ],\n",
       "       [23.880573 ],\n",
       "       [23.526579 ],\n",
       "       [23.776281 ],\n",
       "       [23.440096 ],\n",
       "       [23.792263 ],\n",
       "       [23.787794 ],\n",
       "       [23.800941 ],\n",
       "       [23.418985 ],\n",
       "       [23.723625 ],\n",
       "       [24.209257 ],\n",
       "       [25.346315 ],\n",
       "       [25.0394   ],\n",
       "       [24.58205  ],\n",
       "       [25.627747 ],\n",
       "       [27.098494 ],\n",
       "       [26.220486 ],\n",
       "       [24.972715 ],\n",
       "       [26.080965 ],\n",
       "       [27.060278 ],\n",
       "       [26.50643  ],\n",
       "       [25.746244 ],\n",
       "       [27.465353 ],\n",
       "       [26.687765 ],\n",
       "       [25.957903 ],\n",
       "       [26.239712 ],\n",
       "       [26.013197 ],\n",
       "       [27.432327 ],\n",
       "       [25.624605 ],\n",
       "       [26.6851   ],\n",
       "       [27.396322 ],\n",
       "       [27.073278 ],\n",
       "       [25.294954 ],\n",
       "       [27.365335 ],\n",
       "       [26.85597  ],\n",
       "       [26.734406 ],\n",
       "       [27.049932 ],\n",
       "       [27.823406 ],\n",
       "       [25.605114 ],\n",
       "       [26.216341 ],\n",
       "       [27.362478 ],\n",
       "       [27.587093 ],\n",
       "       [25.913157 ],\n",
       "       [27.84106  ],\n",
       "       [25.799913 ],\n",
       "       [27.26644  ],\n",
       "       [27.390806 ],\n",
       "       [28.08384  ],\n",
       "       [28.472023 ],\n",
       "       [28.840387 ],\n",
       "       [29.179626 ],\n",
       "       [29.194815 ],\n",
       "       [29.190304 ],\n",
       "       [29.205357 ],\n",
       "       [29.292946 ],\n",
       "       [29.18565  ],\n",
       "       [29.170292 ],\n",
       "       [29.013876 ],\n",
       "       [28.43003  ],\n",
       "       [28.293425 ],\n",
       "       [27.869228 ],\n",
       "       [27.799318 ],\n",
       "       [27.787928 ],\n",
       "       [27.697084 ],\n",
       "       [27.400133 ],\n",
       "       [27.059263 ],\n",
       "       [26.640648 ],\n",
       "       [26.620272 ],\n",
       "       [26.761786 ],\n",
       "       [26.815311 ],\n",
       "       [26.798864 ],\n",
       "       [27.173101 ],\n",
       "       [27.160114 ],\n",
       "       [27.496061 ],\n",
       "       [27.656673 ],\n",
       "       [27.363955 ],\n",
       "       [26.986452 ],\n",
       "       [26.988274 ],\n",
       "       [26.619844 ],\n",
       "       [27.556448 ],\n",
       "       [27.813717 ],\n",
       "       [28.031387 ],\n",
       "       [28.18494  ],\n",
       "       [28.432922 ],\n",
       "       [28.721224 ],\n",
       "       [28.976002 ],\n",
       "       [28.85639  ],\n",
       "       [28.139727 ],\n",
       "       [27.598045 ],\n",
       "       [27.120811 ],\n",
       "       [26.824085 ],\n",
       "       [26.880072 ],\n",
       "       [27.161787 ],\n",
       "       [27.390936 ],\n",
       "       [27.445587 ],\n",
       "       [27.960705 ],\n",
       "       [28.091763 ],\n",
       "       [27.758457 ],\n",
       "       [27.519882 ],\n",
       "       [27.11018  ],\n",
       "       [26.751213 ],\n",
       "       [26.606943 ],\n",
       "       [25.678476 ],\n",
       "       [25.61494  ],\n",
       "       [25.3664   ],\n",
       "       [25.846205 ],\n",
       "       [25.814903 ],\n",
       "       [26.15498  ],\n",
       "       [26.153093 ],\n",
       "       [25.562815 ],\n",
       "       [25.129112 ],\n",
       "       [25.227966 ],\n",
       "       [25.591208 ],\n",
       "       [26.292923 ],\n",
       "       [26.626083 ],\n",
       "       [26.983917 ],\n",
       "       [27.05862  ],\n",
       "       [27.338924 ],\n",
       "       [27.354052 ],\n",
       "       [27.762018 ],\n",
       "       [28.234524 ],\n",
       "       [28.735195 ],\n",
       "       [28.715363 ],\n",
       "       [28.749203 ],\n",
       "       [28.925959 ],\n",
       "       [29.066101 ],\n",
       "       [29.269905 ],\n",
       "       [29.394041 ],\n",
       "       [29.449615 ],\n",
       "       [29.42979  ],\n",
       "       [28.864164 ],\n",
       "       [28.72733  ],\n",
       "       [28.111956 ],\n",
       "       [27.68757  ],\n",
       "       [28.2761   ],\n",
       "       [28.330326 ],\n",
       "       [28.473625 ],\n",
       "       [28.650164 ],\n",
       "       [28.060698 ],\n",
       "       [28.123655 ],\n",
       "       [27.495453 ],\n",
       "       [26.786682 ],\n",
       "       [26.280972 ],\n",
       "       [26.147373 ],\n",
       "       [26.341684 ],\n",
       "       [26.331247 ],\n",
       "       [26.40086  ],\n",
       "       [26.718925 ],\n",
       "       [27.009018 ],\n",
       "       [26.850431 ],\n",
       "       [26.794775 ],\n",
       "       [26.496107 ],\n",
       "       [26.500154 ],\n",
       "       [27.196651 ],\n",
       "       [27.697794 ],\n",
       "       [28.534079 ],\n",
       "       [28.50707  ],\n",
       "       [29.005976 ],\n",
       "       [29.145557 ],\n",
       "       [29.351425 ],\n",
       "       [28.97919  ],\n",
       "       [28.969463 ],\n",
       "       [28.907001 ],\n",
       "       [29.063951 ],\n",
       "       [29.114578 ],\n",
       "       [29.149296 ],\n",
       "       [29.302853 ],\n",
       "       [29.314423 ],\n",
       "       [29.220469 ],\n",
       "       [29.240269 ],\n",
       "       [29.36278  ],\n",
       "       [29.172642 ],\n",
       "       [28.770456 ],\n",
       "       [28.540855 ],\n",
       "       [28.333813 ],\n",
       "       [28.294367 ],\n",
       "       [28.43716  ],\n",
       "       [28.525612 ]], dtype=float32)"
      ]
     },
     "execution_count": 76,
     "metadata": {},
     "output_type": "execute_result"
    }
   ],
   "source": [
    "# Prediction\n",
    "prev = model.predict(X_test)\n",
    "prev = std.inverse_transform(prev)\n",
    "prev"
   ]
  },
  {
   "cell_type": "code",
   "execution_count": 77,
   "id": "65a03d6d-52f5-4782-8179-0342e3a61f6d",
   "metadata": {},
   "outputs": [
    {
     "data": {
      "text/plain": [
       "519"
      ]
     },
     "execution_count": 77,
     "metadata": {},
     "output_type": "execute_result"
    }
   ],
   "source": [
    "# Predict the next 10 days\n",
    "lenght_test = len(test)\n",
    "lenght_test"
   ]
  },
  {
   "cell_type": "code",
   "execution_count": 78,
   "id": "fad1bdda-522f-44a6-8b79-b13151cb055c",
   "metadata": {},
   "outputs": [
    {
     "data": {
      "text/plain": [
       "504"
      ]
     },
     "execution_count": 78,
     "metadata": {},
     "output_type": "execute_result"
    }
   ],
   "source": [
    "# Get the last days to step\n",
    "days_input_steps =lenght_test - steps\n",
    "days_input_steps"
   ]
  },
  {
   "cell_type": "code",
   "execution_count": 79,
   "id": "be0170bc-40b7-4f05-a586-7471c1278956",
   "metadata": {},
   "outputs": [
    {
     "data": {
      "text/plain": [
       "array([[1.41048896, 1.4595649 , 1.43502693, 1.3873142 , 1.41185218,\n",
       "        1.46501778, 1.36959234, 1.25644502, 1.2618979 , 1.25644502,\n",
       "        1.27961977, 1.33687504, 1.3409647 , 1.30824741, 1.29597842]])"
      ]
     },
     "execution_count": 79,
     "metadata": {},
     "output_type": "execute_result"
    }
   ],
   "source": [
    "# Transform in array\n",
    "input_steps = test[days_input_steps:]\n",
    "input_steps = np.array(input_steps).reshape(1, -1)\n",
    "input_steps"
   ]
  },
  {
   "cell_type": "code",
   "execution_count": 80,
   "id": "d64943bc-8518-4f26-ab1a-47a3b0544cd6",
   "metadata": {},
   "outputs": [
    {
     "data": {
      "text/plain": [
       "[1.4104889554776525,\n",
       " 1.459564899170591,\n",
       " 1.4350269273241218,\n",
       " 1.3873142042893207,\n",
       " 1.4118521761357898,\n",
       " 1.46501778180314,\n",
       " 1.3695923357335371,\n",
       " 1.2564450211081513,\n",
       " 1.2618979037406999,\n",
       " 1.2564450211081513,\n",
       " 1.279619772296483,\n",
       " 1.336875039938245,\n",
       " 1.3409647019126567,\n",
       " 1.3082474061173641,\n",
       " 1.2959784201941293]"
      ]
     },
     "execution_count": 80,
     "metadata": {},
     "output_type": "execute_result"
    }
   ],
   "source": [
    "# Return in list\n",
    "list_output_steps = list(input_steps)\n",
    "list_output_steps = list_output_steps[0].tolist()\n",
    "list_output_steps"
   ]
  },
  {
   "cell_type": "code",
   "execution_count": 82,
   "id": "9cf6a4e6-6802-4ef7-9b8d-ac14c832d2b3",
   "metadata": {},
   "outputs": [
    {
     "name": "stdout",
     "output_type": "stream",
     "text": [
      "[1.3004092]\n",
      "16\n",
      "Day 1. Value Entrance → [1.4595649  1.43502693 1.3873142  1.41185218 1.46501778 1.36959234\n",
      " 1.25644502 1.2618979  1.25644502 1.27961977 1.33687504 1.3409647\n",
      " 1.30824741 1.29597842 1.3004092 ]\n",
      "Day 1. Value Predict → [[1.3000023]]\n",
      "Day 2. Value Entrance → [1.43502693 1.3873142  1.41185218 1.46501778 1.36959234 1.25644502\n",
      " 1.2618979  1.25644502 1.27961977 1.33687504 1.3409647  1.30824741\n",
      " 1.29597842 1.3004092  1.30000234]\n",
      "Day 2. Value Predict → [[1.2990648]]\n",
      "Day 3. Value Entrance → [1.3873142  1.41185218 1.46501778 1.36959234 1.25644502 1.2618979\n",
      " 1.25644502 1.27961977 1.33687504 1.3409647  1.30824741 1.29597842\n",
      " 1.3004092  1.30000234 1.29906476]\n",
      "Day 3. Value Predict → [[1.2982816]]\n",
      "Day 4. Value Entrance → [1.41185218 1.46501778 1.36959234 1.25644502 1.2618979  1.25644502\n",
      " 1.27961977 1.33687504 1.3409647  1.30824741 1.29597842 1.3004092\n",
      " 1.30000234 1.29906476 1.29828155]\n",
      "Day 4. Value Predict → [[1.2975214]]\n",
      "Day 5. Value Entrance → [1.46501778 1.36959234 1.25644502 1.2618979  1.25644502 1.27961977\n",
      " 1.33687504 1.3409647  1.30824741 1.29597842 1.3004092  1.30000234\n",
      " 1.29906476 1.29828155 1.29752135]\n",
      "Day 5. Value Predict → [[1.296998]]\n",
      "Day 6. Value Entrance → [1.36959234 1.25644502 1.2618979  1.25644502 1.27961977 1.33687504\n",
      " 1.3409647  1.30824741 1.29597842 1.3004092  1.30000234 1.29906476\n",
      " 1.29828155 1.29752135 1.29699802]\n",
      "Day 6. Value Predict → [[1.2961363]]\n",
      "Day 7. Value Entrance → [1.25644502 1.2618979  1.25644502 1.27961977 1.33687504 1.3409647\n",
      " 1.30824741 1.29597842 1.3004092  1.30000234 1.29906476 1.29828155\n",
      " 1.29752135 1.29699802 1.29613626]\n",
      "Day 7. Value Predict → [[1.2948674]]\n",
      "Day 8. Value Entrance → [1.2618979  1.25644502 1.27961977 1.33687504 1.3409647  1.30824741\n",
      " 1.29597842 1.3004092  1.30000234 1.29906476 1.29828155 1.29752135\n",
      " 1.29699802 1.29613626 1.2948674 ]\n",
      "Day 8. Value Predict → [[1.293743]]\n",
      "Day 9. Value Entrance → [1.25644502 1.27961977 1.33687504 1.3409647  1.30824741 1.29597842\n",
      " 1.3004092  1.30000234 1.29906476 1.29828155 1.29752135 1.29699802\n",
      " 1.29613626 1.2948674  1.29374301]\n",
      "Day 9. Value Predict → [[1.2926848]]\n",
      "[[1.300409197807312], [1.3000023365020752], [1.2990647554397583], [1.2982815504074097], [1.2975213527679443], [1.2969980239868164], [1.2961362600326538], [1.2948673963546753], [1.2937430143356323], [1.29268479347229]]\n"
     ]
    }
   ],
   "source": [
    "#Loop to preview the next 10 days\n",
    "pred_output = [] #→ recebe os dias a serem previstos\n",
    "i = 0\n",
    "n_future = 10\n",
    "while(i<n_future):\n",
    "    if(len(list_output_steps) > steps):\n",
    "       input_steps = np.array(list_output_steps[1:])\n",
    "       print('Day {}. Value Entrance → {}'.format(i, input_steps))\n",
    "       input_steps = input_steps.reshape(1, -1)\n",
    "       input_steps = input_steps.reshape((1, steps, 1))\n",
    "       #print(input_steps)\n",
    "       pred = model.predict(input_steps, verbose=0)\n",
    "       print('Day {}. Value Predict → {}'.format(i, pred))\n",
    "       list_output_steps.extend(pred[0].tolist())\n",
    "       list_output_steps = list_output_steps[1:]\n",
    "       #print(list_output_steps)\n",
    "       pred_output.extend(pred.tolist())\n",
    "       i = i+1\n",
    "       \n",
    "    else:\n",
    "       input_steps = input_steps.reshape((1, steps, 1))\n",
    "       pred= model.predict(input_steps, verbose=0)\n",
    "       print(pred[0])\n",
    "       list_output_steps.extend(pred[0].tolist())\n",
    "       print(len(list_output_steps))\n",
    "       pred_output.extend(pred.tolist())\n",
    "       i = i+1\n",
    "       \n",
    "print(pred_output)\n",
    "       \n",
    "       "
   ]
  },
  {
   "cell_type": "code",
   "execution_count": 83,
   "id": "e9a09e87-5461-467a-829c-3f89e35580ad",
   "metadata": {},
   "outputs": [
    {
     "data": {
      "text/plain": [
       "[28.48250227750537,\n",
       " 28.479517718088605,\n",
       " 28.472640026962665,\n",
       " 28.466894771947096,\n",
       " 28.46131828926304,\n",
       " 28.457479374572273,\n",
       " 28.45115784511907,\n",
       " 28.441850007313032,\n",
       " 28.43360202477014,\n",
       " 28.42583937198883]"
      ]
     },
     "execution_count": 83,
     "metadata": {},
     "output_type": "execute_result"
    }
   ],
   "source": [
    "# transform exit\n",
    "prev = std.inverse_transform(pred_output)\n",
    "prev = np.array(prev).reshape(1, -1)\n",
    "list_output_prev = list(prev)\n",
    "list_output_prev = prev[0].tolist()\n",
    "list_output_prev"
   ]
  },
  {
   "cell_type": "code",
   "execution_count": 90,
   "id": "60dfd2ef-0c94-4542-8dac-8fad135df356",
   "metadata": {},
   "outputs": [
    {
     "data": {
      "text/plain": [
       "[Timestamp('2021-12-31 00:00:00', freq='B'),\n",
       " Timestamp('2022-01-03 00:00:00', freq='B'),\n",
       " Timestamp('2022-01-04 00:00:00', freq='B'),\n",
       " Timestamp('2022-01-05 00:00:00', freq='B'),\n",
       " Timestamp('2022-01-06 00:00:00', freq='B'),\n",
       " Timestamp('2022-01-07 00:00:00', freq='B'),\n",
       " Timestamp('2022-01-10 00:00:00', freq='B'),\n",
       " Timestamp('2022-01-11 00:00:00', freq='B'),\n",
       " Timestamp('2022-01-12 00:00:00', freq='B'),\n",
       " Timestamp('2022-01-13 00:00:00', freq='B')]"
      ]
     },
     "execution_count": 90,
     "metadata": {},
     "output_type": "execute_result"
    }
   ],
   "source": [
    "# format exit (date to predict)\n",
    "dates = pd.to_datetime(df_petro['data_pregao'])\n",
    "predict_dates = pd.date_range(list(dates)[-1] + pd.DateOffset(1), periods=10, freq='b').to_list()\n",
    "predict_dates"
   ]
  },
  {
   "cell_type": "code",
   "execution_count": 111,
   "id": "adcef319-aafa-4ca0-a982-4906ce74e459",
   "metadata": {},
   "outputs": [],
   "source": [
    "# New DataFrame \n",
    "forecast_dates = []\n",
    "for i in predict_dates:\n",
    "    forecast_dates.append(i.date())\n",
    "    \n",
    "df_forecast = pd.DataFrame({'data_pregao':np.array(forecast_dates), 'preco_fechamento':list_output_prev})\n",
    "df_forecast['data_pregao'] = pd.to_datetime(df_forecast['data_pregao'])"
   ]
  },
  {
   "cell_type": "code",
   "execution_count": 112,
   "id": "48fe5cea-2dc8-429a-b897-68a9e182ef1c",
   "metadata": {},
   "outputs": [
    {
     "data": {
      "text/html": [
       "<div>\n",
       "<style scoped>\n",
       "    .dataframe tbody tr th:only-of-type {\n",
       "        vertical-align: middle;\n",
       "    }\n",
       "\n",
       "    .dataframe tbody tr th {\n",
       "        vertical-align: top;\n",
       "    }\n",
       "\n",
       "    .dataframe thead th {\n",
       "        text-align: right;\n",
       "    }\n",
       "</style>\n",
       "<table border=\"1\" class=\"dataframe\">\n",
       "  <thead>\n",
       "    <tr style=\"text-align: right;\">\n",
       "      <th></th>\n",
       "      <th>preco_fechamento</th>\n",
       "    </tr>\n",
       "  </thead>\n",
       "  <tbody>\n",
       "    <tr>\n",
       "      <th>2021-12-31</th>\n",
       "      <td>28.482502</td>\n",
       "    </tr>\n",
       "    <tr>\n",
       "      <th>2022-01-03</th>\n",
       "      <td>28.479518</td>\n",
       "    </tr>\n",
       "    <tr>\n",
       "      <th>2022-01-04</th>\n",
       "      <td>28.472640</td>\n",
       "    </tr>\n",
       "    <tr>\n",
       "      <th>2022-01-05</th>\n",
       "      <td>28.466895</td>\n",
       "    </tr>\n",
       "    <tr>\n",
       "      <th>2022-01-06</th>\n",
       "      <td>28.461318</td>\n",
       "    </tr>\n",
       "    <tr>\n",
       "      <th>2022-01-07</th>\n",
       "      <td>28.457479</td>\n",
       "    </tr>\n",
       "    <tr>\n",
       "      <th>2022-01-10</th>\n",
       "      <td>28.451158</td>\n",
       "    </tr>\n",
       "    <tr>\n",
       "      <th>2022-01-11</th>\n",
       "      <td>28.441850</td>\n",
       "    </tr>\n",
       "    <tr>\n",
       "      <th>2022-01-12</th>\n",
       "      <td>28.433602</td>\n",
       "    </tr>\n",
       "    <tr>\n",
       "      <th>2022-01-13</th>\n",
       "      <td>28.425839</td>\n",
       "    </tr>\n",
       "  </tbody>\n",
       "</table>\n",
       "</div>"
      ],
      "text/plain": [
       "            preco_fechamento\n",
       "2021-12-31         28.482502\n",
       "2022-01-03         28.479518\n",
       "2022-01-04         28.472640\n",
       "2022-01-05         28.466895\n",
       "2022-01-06         28.461318\n",
       "2022-01-07         28.457479\n",
       "2022-01-10         28.451158\n",
       "2022-01-11         28.441850\n",
       "2022-01-12         28.433602\n",
       "2022-01-13         28.425839"
      ]
     },
     "execution_count": 112,
     "metadata": {},
     "output_type": "execute_result"
    }
   ],
   "source": [
    "df_forecast = df_forecast.set_index(pd.DatetimeIndex(df_forecast['data_pregao'].values))\n",
    "df_forecast.drop('data_pregao', axis=1, inplace=True)\n",
    "df_forecast\n",
    "\n",
    "    "
   ]
  },
  {
   "cell_type": "code",
   "execution_count": 113,
   "id": "d79a2fd5-efae-4dd9-ad62-e63b74529a45",
   "metadata": {},
   "outputs": [
    {
     "data": {
      "image/png": "[encoded data removed]",
      "text/plain": [
       "<Figure size 1152x576 with 1 Axes>"
      ]
     },
     "metadata": {
      "needs_background": "light"
     },
     "output_type": "display_data"
    }
   ],
   "source": [
    "plt.figure(figsize=(16,8))\n",
    "plt.title('Price Share Value')\n",
    "plt.plot(df_petro['preco_fechamento'])\n",
    "plt.plot(df_forecast['preco_fechamento'])\n",
    "plt.legend(['Price Closed', 'Price Predicted'])\n",
    "plt.show();\n"
   ]
  },
  {
   "cell_type": "code",
   "execution_count": null,
   "id": "aa92dc5a-ff29-4c6d-afe5-5279821ee4cb",
   "metadata": {},
   "outputs": [],
   "source": []
  },
  {
   "cell_type": "code",
   "execution_count": 49,
   "id": "ec531272",
   "metadata": {
    "ExecuteTime": {
     "end_time": "2022-03-17T14:11:02.089514Z",
     "start_time": "2022-03-17T14:11:01.909576Z"
    }
   },
   "outputs": [
    {
     "data": {
      "image/png": "[encoded data removed]",
      "text/plain": [
       "<Figure size 1152x576 with 1 Axes>"
      ]
     },
     "metadata": {
      "needs_background": "light"
     },
     "output_type": "display_data"
    }
   ],
   "source": [
    "plt.figure(figsize=(16,8))\n",
    "plt.title('Price Share Value')\n",
    "plt.plot(df_pred['real'], label='Real Value', color='blue', marker='o');\n",
    "plt.plot(df_pred['predict'], label='Predict Value', color='orange', marker='o');\n",
    "plt.xlabel('Trading Date');\n",
    "plt.ylabel('Closing Price');\n",
    "leg = plt.legend()\n"
   ]
  },
  {
   "cell_type": "code",
   "execution_count": 99,
   "id": "a3df0fee",
   "metadata": {
    "ExecuteTime": {
     "end_time": "2022-03-17T12:20:48.902800Z",
     "start_time": "2022-03-17T12:20:48.615888Z"
    }
   },
   "outputs": [
    {
     "data": {
      "image/png": "[encoded data removed]",
      "text/plain": [
       "<Figure size 1152x576 with 1 Axes>"
      ]
     },
     "metadata": {
      "needs_background": "light"
     },
     "output_type": "display_data"
    }
   ],
   "source": [
    "#plt.figure(figsize=(16,8))\n",
    "#plt.title('Price Share Value')\n",
    "#plt.plot(df_pred['real'], label='Real Value', color='brown', marker='o');\n",
    "#plt.plot(df_pred['predict'], label='Predict Value', color='orange', marker='o');\n",
    "#plt.xlabel('Trading Date');\n",
    "#plt.ylabel('Closing Price');\n",
    "#leg = plt.legend()\n"
   ]
  }
 ],
 "metadata": {
  "hide_input": false,
  "kernelspec": {
   "display_name": "Python 3 (ipykernel)",
   "language": "python",
   "name": "python3"
  },
  "language_info": {
   "codemirror_mode": {
    "name": "ipython",
    "version": 3
   },
   "file_extension": ".py",
   "mimetype": "text/x-python",
   "name": "python",
   "nbconvert_exporter": "python",
   "pygments_lexer": "ipython3",
   "version": "3.8.10"
  },
  "nbTranslate": {
   "displayLangs": [
    "*"
   ],
   "hotkey": "alt-t",
   "langInMainMenu": true,
   "sourceLang": "en",
   "targetLang": "fr",
   "useGoogleTranslate": true
  }
 },
 "nbformat": 4,
 "nbformat_minor": 5
}
